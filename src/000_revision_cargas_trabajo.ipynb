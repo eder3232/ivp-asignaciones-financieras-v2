{
 "cells": [
  {
   "cell_type": "markdown",
   "id": "27faf011",
   "metadata": {},
   "source": [
    "# Asignaciones financieras\n"
   ]
  },
  {
   "cell_type": "markdown",
   "id": "ceeafbfb",
   "metadata": {},
   "source": [
    "## Datos de proyecto en análisis\n"
   ]
  },
  {
   "cell_type": "code",
   "execution_count": 156,
   "id": "71833bfa",
   "metadata": {},
   "outputs": [],
   "source": [
    "proyecto = \"cabanaconde\"\n",
    "mes = 5\n",
    "anio = 2025"
   ]
  },
  {
   "cell_type": "markdown",
   "id": "0414ab72",
   "metadata": {},
   "source": [
    "## Librerias necesarias\n"
   ]
  },
  {
   "cell_type": "code",
   "execution_count": 157,
   "id": "932ebbf3",
   "metadata": {},
   "outputs": [],
   "source": [
    "import pandas as pd\n",
    "import os\n",
    "import pprint\n",
    "import pickle\n",
    "import json\n",
    "import xlsxwriter\n",
    "from xlsxwriter.utility import xl_range, xl_rowcol_to_cell\n",
    "import re\n",
    "from typing import Dict, List, Any\n",
    "import itertools\n",
    "from pathlib import Path\n",
    "from dotenv import load_dotenv, find_dotenv\n",
    "from google.oauth2 import service_account\n",
    "from google.cloud import firestore\n",
    "import excel2img\n",
    "from dotenv import load_dotenv, find_dotenv\n",
    "from openpyxl import load_workbook\n",
    "from openpyxl.utils import get_column_letter\n",
    "import win32com.client as win32"
   ]
  },
  {
   "cell_type": "markdown",
   "id": "98e69374",
   "metadata": {},
   "source": [
    "## Funciones utiles\n"
   ]
  },
  {
   "cell_type": "markdown",
   "id": "83ea5090",
   "metadata": {},
   "source": [
    "### Calculadora de costo total\n"
   ]
  },
  {
   "cell_type": "code",
   "execution_count": 158,
   "id": "04246cf4",
   "metadata": {},
   "outputs": [],
   "source": [
    "from typing import TypedDict\n",
    "\n",
    "\n",
    "class CostoIngenieriaResult(TypedDict):\n",
    "    costo_directo: float\n",
    "    gastos_generales: float\n",
    "    utilidad: float\n",
    "    subtotal: float\n",
    "    igv: float\n",
    "    total: float\n",
    "\n",
    "\n",
    "def calculadora_costo_total(costo_directo: float) -> CostoIngenieriaResult:\n",
    "    \"\"\"\n",
    "    Calcula el costo total de un proyecto de ingeniería civil en soles peruanos.\n",
    "\n",
    "    Args:\n",
    "        costo_directo (float): Costo directo del proyecto\n",
    "\n",
    "    Returns:\n",
    "        CostoIngenieriaResult: Diccionario con todos los valores calculados\n",
    "    \"\"\"\n",
    "    # Calcular gastos generales (10% del costo directo)\n",
    "    gastos_generales = round(costo_directo * 0.10, 2)\n",
    "\n",
    "    # Calcular utilidad (5% del costo directo)\n",
    "    utilidad = round(costo_directo * 0.05, 2)\n",
    "\n",
    "    # Calcular subtotal\n",
    "    subtotal = round(costo_directo + gastos_generales + utilidad, 2)\n",
    "\n",
    "    # Calcular IGV (18% del subtotal)\n",
    "    igv = round(subtotal * 0.18, 2)\n",
    "\n",
    "    # Calcular total\n",
    "    total = round(subtotal + igv, 2)\n",
    "\n",
    "    return {\n",
    "        \"costo_directo\": round(costo_directo, 2),\n",
    "        \"gastos_generales\": gastos_generales,\n",
    "        \"utilidad\": utilidad,\n",
    "        \"subtotal\": subtotal,\n",
    "        \"igv\": igv,\n",
    "        \"total\": total,\n",
    "    }"
   ]
  },
  {
   "cell_type": "markdown",
   "id": "0d58834a",
   "metadata": {},
   "source": [
    "### Multiplicar el precio unitario actualizado por la carga trabajo\n"
   ]
  },
  {
   "cell_type": "code",
   "execution_count": null,
   "id": "96831b53",
   "metadata": {},
   "outputs": [],
   "source": [
    "def calcular_costos_unitarios(\n",
    "    dict_precios_unitarios_actualizados, cargas_trabajo\n",
    "):\n",
    "    \"\"\"\n",
    "    Multiplica cada carga de trabajo del contratista por su precio unitario\n",
    "    correspondiente.\n",
    "\n",
    "    Si alguna clave en cargas_trabajo tiene carga > 0 y no existe\n",
    "    en dict_precios_unitarios_actualizados, levanta KeyError.\n",
    "    Claves con carga = 0 se ignoran (no dan error), y claves en precios que noprecios_uninatrios_expediente\n",
    "    están en cargas se tratan con carga = 0.\n",
    "\n",
    "    Args:\n",
    "        dict_precios_unitarios_actualizados (dict): código → precio unitario.\n",
    "        cargas_trabajo (dict): código → carga de trabajo.\n",
    "\n",
    "    Returns:\n",
    "        dict: código → precio total (precio_unitario * carga).\n",
    "\n",
    "    Raises:\n",
    "        KeyError: si alguna clave con carga > 0 en cargas_trabajo\n",
    "                  no existe en dict_precios_unitarios_actualizados.\n",
    "    \"\"\"\n",
    "    # Detectar faltantes solo para cargas > 0\n",
    "    faltantes = {\n",
    "        codigo\n",
    "        for codigo, carga in cargas_trabajo.items()\n",
    "        if carga != 0 and codigo not in dict_precios_unitarios_actualizados\n",
    "    }\n",
    "    if faltantes:\n",
    "        raise KeyError(f\"Faltan precios unitarios para las claves: {faltantes}\")\n",
    "\n",
    "    # Construir resultado: para cada precio, multiplicar por carga (0 si no hay)\n",
    "    resultado = {}\n",
    "    for codigo, precio_unitario in dict_precios_unitarios_actualizados.items():\n",
    "        carga = cargas_trabajo.get(codigo, 0)\n",
    "        resultado[codigo] = precio_unitario * carga\n",
    "\n",
    "    return resultado"
   ]
  },
  {
   "cell_type": "markdown",
   "id": "dd9e91b4",
   "metadata": {},
   "source": [
    "### Fusionar diccionarios"
   ]
  },
  {
   "cell_type": "code",
   "execution_count": 160,
   "id": "1b1689ee",
   "metadata": {},
   "outputs": [],
   "source": [
    "def fusionar_diccionarios(diccionario_de_diccionarios):\n",
    "    \"\"\"\n",
    "    Fusiona diccionarios separados en un diccionario unificado.\n",
    "    Solo incluye claves donde ambos valores sean diferentes de cero.\n",
    "    Usa dinámicamente las claves del diccionario de entrada.\n",
    "    \n",
    "    Args:\n",
    "        diccionario_de_diccionarios (dict): Diccionario con estructura:\n",
    "            {\n",
    "                \"nombre_campo1\": {clave: valor, ...},\n",
    "                \"nombre_campo2\": {clave: valor, ...}\n",
    "            }\n",
    "    \n",
    "    Returns:\n",
    "        dict: Diccionario fusionado con estructura {clave: {nombre_campo1: valor, nombre_campo2: valor}}\n",
    "    \"\"\"\n",
    "    # Obtener las claves (nombres de los campos) del diccionario principal\n",
    "    nombres_campos = list(diccionario_de_diccionarios.keys())\n",
    "    \n",
    "    if len(nombres_campos) != 2:\n",
    "        raise ValueError(\"El diccionario debe contener exactamente 2 campos\")\n",
    "    \n",
    "    campo1_nombre = nombres_campos[0]\n",
    "    campo2_nombre = nombres_campos[1]\n",
    "    \n",
    "    campo1_datos = diccionario_de_diccionarios[campo1_nombre]\n",
    "    campo2_datos = diccionario_de_diccionarios[campo2_nombre]\n",
    "    \n",
    "    fusionado = {}\n",
    "    \n",
    "    # Obtener todas las claves únicas de ambos diccionarios\n",
    "    todas_las_claves = set(campo1_datos.keys()) | set(campo2_datos.keys())\n",
    "    \n",
    "    for clave in todas_las_claves:\n",
    "        valor1 = campo1_datos.get(clave, 0)\n",
    "        valor2 = campo2_datos.get(clave, 0)\n",
    "        \n",
    "        # Solo agregar si ambos valores son diferentes de cero\n",
    "        if valor1 != 0 and valor2 != 0:\n",
    "            fusionado[clave] = {\n",
    "                campo1_nombre: valor1,\n",
    "                campo2_nombre: valor2\n",
    "            }\n",
    "    \n",
    "    return fusionado"
   ]
  },
  {
   "cell_type": "markdown",
   "id": "bc2a0d92",
   "metadata": {},
   "source": [
    "### Formatear progresiva"
   ]
  },
  {
   "cell_type": "code",
   "execution_count": 161,
   "id": "447469ed",
   "metadata": {},
   "outputs": [],
   "source": [
    "def formatear_progresiva(distancia, decimales=0):\n",
    "    \"\"\"\n",
    "    Convierte una distancia en metros a notación de progresiva.\n",
    "    \n",
    "    Parámetros:\n",
    "    - distancia: int o float, la distancia en metros.\n",
    "    - decimales: int, número de decimales a mostrar en la parte de los metros.\n",
    "    \n",
    "    Retorna:\n",
    "    - str: progresiva en formato 'K+XXX' con los decimales indicados.\n",
    "    \"\"\"\n",
    "    if not isinstance(distancia, (int, float)):\n",
    "        raise ValueError(\"La distancia debe ser un número (int o float).\")\n",
    "    if not isinstance(decimales, int) or decimales < 0:\n",
    "        raise ValueError(\"Los decimales deben ser un entero no negativo.\")\n",
    "    \n",
    "    km = int(distancia) // 1000\n",
    "    metros = distancia - (km * 1000)\n",
    "    \n",
    "    formato_metros = f\"{metros:0.{decimales}f}\".zfill(3 + (1 if decimales > 0 else 0) + decimales)\n",
    "    return f\"{km}+{formato_metros}\""
   ]
  },
  {
   "cell_type": "markdown",
   "id": "d760e2d1",
   "metadata": {},
   "source": [
    "### Calcular avance"
   ]
  },
  {
   "cell_type": "code",
   "execution_count": 162,
   "id": "849b072b",
   "metadata": {},
   "outputs": [],
   "source": [
    "def calcular_avance(programado, ejecutado):\n",
    "    \"\"\"\n",
    "    Calcula el porcentaje de avance basado en lo programado y lo ejecutado.\n",
    "\n",
    "    Si lo programado es 0 y lo ejecutado es mayor a 0, devuelve 'ejecución adelantada'.\n",
    "    Si ambos son 0, devuelve 0.0.\n",
    "    En cualquier otro caso, devuelve el porcentaje (0-1) como float redondeado a 2 decimales.\n",
    "    \"\"\"\n",
    "    if programado == 0:\n",
    "        if ejecutado > 0:\n",
    "            return \"Ejec. adelantada\"\n",
    "        else:\n",
    "            return 0.0\n",
    "    else:\n",
    "        porcentaje = (ejecutado / programado) \n",
    "        return porcentaje"
   ]
  },
  {
   "cell_type": "markdown",
   "id": "b883d33f",
   "metadata": {},
   "source": [
    "### Ordenar por centena"
   ]
  },
  {
   "cell_type": "code",
   "execution_count": 163,
   "id": "4609a128",
   "metadata": {},
   "outputs": [],
   "source": [
    "def ordenar_por_centena(data: Any) -> List[Dict[str, Any]]:\n",
    "    \"\"\"\n",
    "    Toma un dict (o un JSON en formato str) cuyas claves acaban en número\n",
    "    y devuelve una lista de dicts {'key':…, 'value':…} ordenada por ese número.\n",
    "    Compatible con Firestore (to_dict()) y JSON.\n",
    "    \"\"\"\n",
    "    # Si viene como cadena JSON, lo convertimos\n",
    "    if isinstance(data, str):\n",
    "        data = json.loads(data)\n",
    "    \n",
    "    # Aseguramos que sea dict\n",
    "    if not isinstance(data, dict):\n",
    "        raise ValueError(\"Se esperaba un diccionario o un string JSON que represente un diccionario.\")\n",
    "\n",
    "    pattern = re.compile(r'(\\d+)$')\n",
    "\n",
    "    def obtener_clave_numerica(item):\n",
    "        clave = str(item[0])  # Convertimos clave a string en caso no lo sea\n",
    "        match = pattern.search(clave)\n",
    "        if match:\n",
    "            return int(match.group(1))\n",
    "        else:\n",
    "            return float('inf')  # Opcional: claves sin número al final se van al final\n",
    "\n",
    "    sorted_items = sorted(data.items(), key=obtener_clave_numerica)\n",
    "\n",
    "    return [{\"key\": k, \"value\": v} for k, v in sorted_items]"
   ]
  },
  {
   "cell_type": "markdown",
   "id": "ac01751b",
   "metadata": {},
   "source": [
    "### Clave grupo"
   ]
  },
  {
   "cell_type": "code",
   "execution_count": 164,
   "id": "d7b23af1",
   "metadata": {},
   "outputs": [],
   "source": [
    "def clave_grupo(item):\n",
    "    return int(item['key'][2:]) // 100  # 101→1, 201→2, etc."
   ]
  },
  {
   "cell_type": "markdown",
   "id": "73453013",
   "metadata": {},
   "source": [
    "## Carga de datos\n"
   ]
  },
  {
   "cell_type": "markdown",
   "id": "8dd111a2",
   "metadata": {},
   "source": [
    "### Firebase\n"
   ]
  },
  {
   "cell_type": "code",
   "execution_count": 165,
   "id": "d5d759a2",
   "metadata": {},
   "outputs": [
    {
     "name": "stdout",
     "output_type": "stream",
     "text": [
      "Colecciones disponibles: ['rutinarios']\n"
     ]
    }
   ],
   "source": [
    "# 1. Busca el .env en el directorio actual o en cualquiera de los padres\n",
    "dotenv_path = find_dotenv()\n",
    "if not dotenv_path:\n",
    "    raise FileNotFoundError(\n",
    "        \"No se encontró ningún archivo .env en este directorio ni en sus padres.\"\n",
    "    )\n",
    "load_dotenv(dotenv_path)\n",
    "\n",
    "# 2. Define el root del proyecto como la carpeta que contiene el .env\n",
    "project_root = Path(dotenv_path).parent\n",
    "\n",
    "# 3. Obtén la ruta relativa de las credenciales desde la variable de entorno\n",
    "rel_cred_path = os.getenv(\"FIRESTORE_CREDENTIALS\")\n",
    "if not rel_cred_path:\n",
    "    raise RuntimeError(\"No existe la variable FIRESTORE_CREDENTIALS en el .env\")\n",
    "\n",
    "# 4. Construye la ruta absoluta al JSON\n",
    "cred_path = Path(rel_cred_path)\n",
    "if not cred_path.is_absolute():\n",
    "    cred_path = (project_root / cred_path).resolve()\n",
    "\n",
    "if not cred_path.exists():\n",
    "    raise FileNotFoundError(f\"No existe el archivo de credenciales en: {cred_path}\")\n",
    "\n",
    "# 5. Carga las credenciales y crea el cliente de Firestore\n",
    "credentials = service_account.Credentials.from_service_account_file(str(cred_path))\n",
    "client = firestore.Client(credentials=credentials, project=credentials.project_id)\n",
    "\n",
    "# 6. Prueba que funcione\n",
    "print(\"Colecciones disponibles:\", [c.id for c in client.collections()])"
   ]
  },
  {
   "cell_type": "code",
   "execution_count": 166,
   "id": "91e8d7b1",
   "metadata": {},
   "outputs": [],
   "source": [
    "db = firestore.Client(credentials=credentials, project=credentials.project_id)"
   ]
  },
  {
   "cell_type": "markdown",
   "id": "deed6ace",
   "metadata": {},
   "source": [
    "#### Documento del proyecto firebase"
   ]
  },
  {
   "cell_type": "code",
   "execution_count": 167,
   "id": "32af4b93",
   "metadata": {},
   "outputs": [
    {
     "name": "stdout",
     "output_type": "stream",
     "text": [
      "{'contrato': {'contratista': {'razon_social': 'Grupo ARICOL E.I.R.L.',\n",
      "                              'ruc': 20606988398},\n",
      "              'denominacion_tramo_convenio': 'EMP. R0405104 (CABANACONDE) A '\n",
      "                                             'PTE. CABANACONDE - CHOCO - L.P. '\n",
      "                                             'CASTILLA (KM 13+000)',\n",
      "              'fecha_inicio': {'anio': 2025, 'dia': 10, 'mes': 4},\n",
      "              'id_contrato': '001-2025',\n",
      "              'jefe_mantenimiento': {'apellido': 'Tinta Cáceres',\n",
      "                                     'dni': 0,\n",
      "                                     'nombre': 'Genaro',\n",
      "                                     'titulo': 'Ingeniero'},\n",
      "              'monto_contrato': 64896,\n",
      "              'numero_cuadrillas': 1,\n",
      "              'numero_trabajadores': 4,\n",
      "              'tiempo_ejecucion_dias': 240,\n",
      "              'tipo_servicio': 'mantenimiento rutinario'},\n",
      " 'datos_generales': {'distritos': ['Cabanaconde'],\n",
      "                     'provincia': 'Caylloma',\n",
      "                     'region': 'Arequipa'},\n",
      " 'expediente': {'cargas_trabajo': {'MR101': 17.33,\n",
      "                                   'MR102': 1837.78,\n",
      "                                   'MR103': 33.25,\n",
      "                                   'MR104': 136.09,\n",
      "                                   'MR201': 16666.67,\n",
      "                                   'MR202': 0,\n",
      "                                   'MR203': 466.67,\n",
      "                                   'MR204': 0,\n",
      "                                   'MR205': 0,\n",
      "                                   'MR206': 0,\n",
      "                                   'MR301': 39671.67,\n",
      "                                   'MR401': 29.33,\n",
      "                                   'MR501': 0,\n",
      "                                   'MR601': 112.67,\n",
      "                                   'MR701': 19.33,\n",
      "                                   'MR702': 0},\n",
      "                'codigo_ruta': 'R0405106',\n",
      "                'coordenadas': {'fin': {'altitud': 1975,\n",
      "                                        'datum': 'WGS84',\n",
      "                                        'hemisferio': 'S',\n",
      "                                        'progresiva': 13000,\n",
      "                                        'x': 813907.99,\n",
      "                                        'y': 8272525.68,\n",
      "                                        'zona': 18,\n",
      "                                        'zona_letra': 'L'},\n",
      "                                'inicio': {'altitud': 2877,\n",
      "                                           'datum': 'WGS84',\n",
      "                                           'hemisferio': 'S',\n",
      "                                           'progresiva': 0,\n",
      "                                           'x': 819845.05,\n",
      "                                           'y': 8272658.46,\n",
      "                                           'zona': 18,\n",
      "                                           'zona_letra': 'L'}},\n",
      "                'longitud': 13000,\n",
      "                'monto_total': 81120,\n",
      "                'nombre': 'MANTENIMIENTO VIAL RUTINARIO DEL CAMINO VECINAL '\n",
      "                          'EMP. R0405104 (CABANACONDE) A PTE. CABANACONDE - '\n",
      "                          'CHOCO (L.P. CASTILLA), DISTRITO DE CABANACONDE, '\n",
      "                          'PROVINCIA DE CAYLLOMA, REGIÓN AREQUIPA',\n",
      "                'precios_unitarios': {'MR101': 265.3,\n",
      "                                      'MR102': 10.27,\n",
      "                                      'MR103': 21.0,\n",
      "                                      'MR104': 17.5,\n",
      "                                      'MR201': 0.44,\n",
      "                                      'MR202': 78.5,\n",
      "                                      'MR203': 5.25,\n",
      "                                      'MR204': 0.44,\n",
      "                                      'MR205': 105,\n",
      "                                      'MR206': 3.6,\n",
      "                                      'MR301': 0.14,\n",
      "                                      'MR401': 11.42,\n",
      "                                      'MR501': 0.53,\n",
      "                                      'MR601': 2.1,\n",
      "                                      'MR701': 43.75,\n",
      "                                      'MR702': 210},\n",
      "                'tarifa_km_mes': 780},\n",
      " 'general_data': {'distritos': ['Cabanaconde'],\n",
      "                  'provincia': 'Caylloma',\n",
      "                  'region': 'Arequipa'},\n",
      " 'other': {'estado_conservacion_via': 'bueno', 'tipo_superficie': 'afirmado'},\n",
      " 'otros': {'estado_conservacion_via': 'bueno', 'tipo_superficie': 'afirmado'}}\n"
     ]
    }
   ],
   "source": [
    "doc_proyecto_firebase = db.collection(\"rutinarios\").document(proyecto).get().to_dict()\n",
    "\n",
    "pprint.pprint(doc_proyecto_firebase)"
   ]
  },
  {
   "cell_type": "markdown",
   "id": "b28071f7",
   "metadata": {},
   "source": [
    "#### Contrato\n"
   ]
  },
  {
   "cell_type": "code",
   "execution_count": 168,
   "id": "6e327ebc",
   "metadata": {},
   "outputs": [
    {
     "name": "stdout",
     "output_type": "stream",
     "text": [
      "{'contratista': {'razon_social': 'Grupo ARICOL E.I.R.L.', 'ruc': 20606988398},\n",
      " 'denominacion_tramo_convenio': 'EMP. R0405104 (CABANACONDE) A PTE. '\n",
      "                                'CABANACONDE - CHOCO - L.P. CASTILLA (KM '\n",
      "                                '13+000)',\n",
      " 'fecha_inicio': {'anio': 2025, 'dia': 10, 'mes': 4},\n",
      " 'id_contrato': '001-2025',\n",
      " 'jefe_mantenimiento': {'apellido': 'Tinta Cáceres',\n",
      "                        'dni': 0,\n",
      "                        'nombre': 'Genaro',\n",
      "                        'titulo': 'Ingeniero'},\n",
      " 'monto_contrato': 64896,\n",
      " 'numero_cuadrillas': 1,\n",
      " 'numero_trabajadores': 4,\n",
      " 'tiempo_ejecucion_dias': 240,\n",
      " 'tipo_servicio': 'mantenimiento rutinario'}\n"
     ]
    }
   ],
   "source": [
    "contrato = doc_proyecto_firebase[\"contrato\"]\n",
    "pprint.pprint(contrato)"
   ]
  },
  {
   "cell_type": "code",
   "execution_count": 169,
   "id": "7244806b",
   "metadata": {},
   "outputs": [
    {
     "name": "stdout",
     "output_type": "stream",
     "text": [
      "64896\n"
     ]
    }
   ],
   "source": [
    "monto_contrato = contrato[\"monto_contrato\"]\n",
    "print(monto_contrato)"
   ]
  },
  {
   "cell_type": "markdown",
   "id": "c31a1858",
   "metadata": {},
   "source": [
    "#### Expediente técnico firebase"
   ]
  },
  {
   "cell_type": "code",
   "execution_count": 170,
   "id": "53bf4c99",
   "metadata": {},
   "outputs": [
    {
     "name": "stdout",
     "output_type": "stream",
     "text": [
      "{'cargas_trabajo': {'MR101': 17.33,\n",
      "                    'MR102': 1837.78,\n",
      "                    'MR103': 33.25,\n",
      "                    'MR104': 136.09,\n",
      "                    'MR201': 16666.67,\n",
      "                    'MR202': 0,\n",
      "                    'MR203': 466.67,\n",
      "                    'MR204': 0,\n",
      "                    'MR205': 0,\n",
      "                    'MR206': 0,\n",
      "                    'MR301': 39671.67,\n",
      "                    'MR401': 29.33,\n",
      "                    'MR501': 0,\n",
      "                    'MR601': 112.67,\n",
      "                    'MR701': 19.33,\n",
      "                    'MR702': 0},\n",
      " 'codigo_ruta': 'R0405106',\n",
      " 'coordenadas': {'fin': {'altitud': 1975,\n",
      "                         'datum': 'WGS84',\n",
      "                         'hemisferio': 'S',\n",
      "                         'progresiva': 13000,\n",
      "                         'x': 813907.99,\n",
      "                         'y': 8272525.68,\n",
      "                         'zona': 18,\n",
      "                         'zona_letra': 'L'},\n",
      "                 'inicio': {'altitud': 2877,\n",
      "                            'datum': 'WGS84',\n",
      "                            'hemisferio': 'S',\n",
      "                            'progresiva': 0,\n",
      "                            'x': 819845.05,\n",
      "                            'y': 8272658.46,\n",
      "                            'zona': 18,\n",
      "                            'zona_letra': 'L'}},\n",
      " 'longitud': 13000,\n",
      " 'monto_total': 81120,\n",
      " 'nombre': 'MANTENIMIENTO VIAL RUTINARIO DEL CAMINO VECINAL EMP. R0405104 '\n",
      "           '(CABANACONDE) A PTE. CABANACONDE - CHOCO (L.P. CASTILLA), DISTRITO '\n",
      "           'DE CABANACONDE, PROVINCIA DE CAYLLOMA, REGIÓN AREQUIPA',\n",
      " 'precios_unitarios': {'MR101': 265.3,\n",
      "                       'MR102': 10.27,\n",
      "                       'MR103': 21.0,\n",
      "                       'MR104': 17.5,\n",
      "                       'MR201': 0.44,\n",
      "                       'MR202': 78.5,\n",
      "                       'MR203': 5.25,\n",
      "                       'MR204': 0.44,\n",
      "                       'MR205': 105,\n",
      "                       'MR206': 3.6,\n",
      "                       'MR301': 0.14,\n",
      "                       'MR401': 11.42,\n",
      "                       'MR501': 0.53,\n",
      "                       'MR601': 2.1,\n",
      "                       'MR701': 43.75,\n",
      "                       'MR702': 210},\n",
      " 'tarifa_km_mes': 780}\n"
     ]
    }
   ],
   "source": [
    "expediente_tecnico_firebase = doc_proyecto_firebase[\"expediente\"]\n",
    "\n",
    "pprint.pprint(expediente_tecnico_firebase)"
   ]
  },
  {
   "cell_type": "markdown",
   "id": "1be115c2",
   "metadata": {},
   "source": [
    "#### Progresiva de inicio y fin del expediente"
   ]
  },
  {
   "cell_type": "code",
   "execution_count": 171,
   "id": "96e63c62",
   "metadata": {},
   "outputs": [
    {
     "name": "stdout",
     "output_type": "stream",
     "text": [
      "0\n",
      "13000\n"
     ]
    }
   ],
   "source": [
    "progresiva_inicio=expediente_tecnico_firebase[\"coordenadas\"][\"inicio\"][\"progresiva\"]\n",
    "progresiva_fin=expediente_tecnico_firebase[\"coordenadas\"][\"fin\"][\"progresiva\"]\n",
    "\n",
    "print(progresiva_inicio)\n",
    "print(progresiva_fin)"
   ]
  },
  {
   "cell_type": "markdown",
   "id": "d54ceec0",
   "metadata": {},
   "source": [
    "#### Valorización programada mensual\n"
   ]
  },
  {
   "cell_type": "code",
   "execution_count": 172,
   "id": "c0223f88",
   "metadata": {},
   "outputs": [
    {
     "name": "stdout",
     "output_type": "stream",
     "text": [
      "{'10': {'gastos_operativos': 838.24,\n",
      "        'igv': 1508.83,\n",
      "        'mantenimiento_con_go': 9220.64,\n",
      "        'mantenimiento_con_igv': 8382.4,\n",
      "        'mantenimiento_sin_igv': 6873.57},\n",
      " '11': {'gastos_operativos': 811.2,\n",
      "        'igv': 1460.16,\n",
      "        'mantenimiento_con_go': 8923.2,\n",
      "        'mantenimiento_con_igv': 8112.0,\n",
      "        'mantenimiento_sin_igv': 6651.84},\n",
      " '12': {'gastos_operativos': 135.2,\n",
      "        'igv': 243.36,\n",
      "        'mantenimiento_con_go': 1487.2,\n",
      "        'mantenimiento_con_igv': 1352.0,\n",
      "        'mantenimiento_sin_igv': 1108.64},\n",
      " '4': {'gastos_operativos': 567.84,\n",
      "       'igv': 1022.11,\n",
      "       'mantenimiento_con_go': 6246.24,\n",
      "       'mantenimiento_con_igv': 5678.4,\n",
      "       'mantenimiento_sin_igv': 4656.29},\n",
      " '5': {'gastos_operativos': 838.24,\n",
      "       'igv': 1508.83,\n",
      "       'mantenimiento_con_go': 9220.64,\n",
      "       'mantenimiento_con_igv': 8382.4,\n",
      "       'mantenimiento_sin_igv': 6873.57},\n",
      " '6': {'gastos_operativos': 811.2,\n",
      "       'igv': 1460.16,\n",
      "       'mantenimiento_con_go': 8923.2,\n",
      "       'mantenimiento_con_igv': 8112.0,\n",
      "       'mantenimiento_sin_igv': 6651.84},\n",
      " '7': {'gastos_operativos': 838.24,\n",
      "       'igv': 1508.83,\n",
      "       'mantenimiento_con_go': 9220.64,\n",
      "       'mantenimiento_con_igv': 8382.4,\n",
      "       'mantenimiento_sin_igv': 6873.57},\n",
      " '8': {'gastos_operativos': 838.24,\n",
      "       'igv': 1508.83,\n",
      "       'mantenimiento_con_go': 9220.64,\n",
      "       'mantenimiento_con_igv': 8382.4,\n",
      "       'mantenimiento_sin_igv': 6873.57},\n",
      " '9': {'gastos_operativos': 811.2,\n",
      "       'igv': 1460.16,\n",
      "       'mantenimiento_con_go': 8923.2,\n",
      "       'mantenimiento_con_igv': 8112.0,\n",
      "       'mantenimiento_sin_igv': 6651.84}}\n"
     ]
    }
   ],
   "source": [
    "desembolsos =  db.collection(\"rutinarios\").document(proyecto).collection('presupuestos').document('desembolsos').get().to_dict()\n",
    "cronogramas_desembolsos = desembolsos['cronograma_desembolsos']\n",
    "pprint.pprint(cronogramas_desembolsos)"
   ]
  },
  {
   "cell_type": "code",
   "execution_count": 173,
   "id": "e10fd420",
   "metadata": {},
   "outputs": [
    {
     "name": "stdout",
     "output_type": "stream",
     "text": [
      "8382.4\n"
     ]
    }
   ],
   "source": [
    "desembolso_current_month = cronogramas_desembolsos[str(mes)]\n",
    "print(desembolso_current_month[\"mantenimiento_con_igv\"])"
   ]
  },
  {
   "cell_type": "markdown",
   "id": "4e05a292",
   "metadata": {},
   "source": [
    "#### Cargas de trabajo mensual presentadas por el contratista\n"
   ]
  },
  {
   "cell_type": "code",
   "execution_count": 174,
   "id": "eea395e5",
   "metadata": {},
   "outputs": [
    {
     "name": "stdout",
     "output_type": "stream",
     "text": [
      "{'MR301': 5409.77, 'MR203': 42.42, 'MR201': 2272.73, 'MR101': 2.31, 'MR104': 17.01, 'MR102': 245.04, 'MR701': 3.87, 'MR401': 5.87}\n"
     ]
    }
   ],
   "source": [
    "valorizaciones = db.collection(\"rutinarios\").document(proyecto).collection('valorizaciones').document(str(mes)).get().to_dict()\n",
    "cargas_trabajo_contratista = valorizaciones['cargas_trabajo_contratista_inicial']\n",
    "print(cargas_trabajo_contratista)"
   ]
  },
  {
   "cell_type": "markdown",
   "id": "2109ab59",
   "metadata": {},
   "source": [
    "#### Cargas de trabajo del expediente técnico"
   ]
  },
  {
   "cell_type": "code",
   "execution_count": 175,
   "id": "2d8df224",
   "metadata": {},
   "outputs": [
    {
     "name": "stdout",
     "output_type": "stream",
     "text": [
      "{'MR101': 17.33,\n",
      " 'MR102': 1837.78,\n",
      " 'MR103': 33.25,\n",
      " 'MR104': 136.09,\n",
      " 'MR201': 16666.67,\n",
      " 'MR202': 0,\n",
      " 'MR203': 466.67,\n",
      " 'MR204': 0,\n",
      " 'MR205': 0,\n",
      " 'MR206': 0,\n",
      " 'MR301': 39671.67,\n",
      " 'MR401': 29.33,\n",
      " 'MR501': 0,\n",
      " 'MR601': 112.67,\n",
      " 'MR701': 19.33,\n",
      " 'MR702': 0}\n"
     ]
    }
   ],
   "source": [
    "cargas_trabajo_expediente_tecnico=doc_proyecto_firebase['expediente']['cargas_trabajo']\n",
    "\n",
    "pprint.pprint(cargas_trabajo_expediente_tecnico)"
   ]
  },
  {
   "cell_type": "markdown",
   "id": "4951f85d",
   "metadata": {},
   "source": [
    "#### Precios unitarios del expediente técnico"
   ]
  },
  {
   "cell_type": "code",
   "execution_count": 176,
   "id": "0ce7707d",
   "metadata": {},
   "outputs": [
    {
     "name": "stdout",
     "output_type": "stream",
     "text": [
      "{'MR101': 265.3,\n",
      " 'MR102': 10.27,\n",
      " 'MR103': 21.0,\n",
      " 'MR104': 17.5,\n",
      " 'MR201': 0.44,\n",
      " 'MR202': 78.5,\n",
      " 'MR203': 5.25,\n",
      " 'MR204': 0.44,\n",
      " 'MR205': 105,\n",
      " 'MR206': 3.6,\n",
      " 'MR301': 0.14,\n",
      " 'MR401': 11.42,\n",
      " 'MR501': 0.53,\n",
      " 'MR601': 2.1,\n",
      " 'MR701': 43.75,\n",
      " 'MR702': 210}\n"
     ]
    }
   ],
   "source": [
    "precios_unitarios_expediente_tecnico = doc_proyecto_firebase['expediente']['precios_unitarios']\n",
    "\n",
    "pprint.pprint(precios_unitarios_expediente_tecnico)"
   ]
  },
  {
   "cell_type": "markdown",
   "id": "f83521dd",
   "metadata": {},
   "source": [
    "### Pickle"
   ]
  },
  {
   "cell_type": "markdown",
   "id": "8b729baf",
   "metadata": {},
   "source": [
    "#### Cargas de trabajo programadas"
   ]
  },
  {
   "cell_type": "code",
   "execution_count": 177,
   "id": "2f34eeda",
   "metadata": {},
   "outputs": [
    {
     "data": {
      "text/html": [
       "<div>\n",
       "<style scoped>\n",
       "    .dataframe tbody tr th:only-of-type {\n",
       "        vertical-align: middle;\n",
       "    }\n",
       "\n",
       "    .dataframe tbody tr th {\n",
       "        vertical-align: top;\n",
       "    }\n",
       "\n",
       "    .dataframe thead th {\n",
       "        text-align: right;\n",
       "    }\n",
       "</style>\n",
       "<table border=\"1\" class=\"dataframe\">\n",
       "  <thead>\n",
       "    <tr style=\"text-align: right;\">\n",
       "      <th></th>\n",
       "      <th>2025-04</th>\n",
       "      <th>2025-05</th>\n",
       "      <th>2025-06</th>\n",
       "      <th>2025-07</th>\n",
       "      <th>2025-08</th>\n",
       "      <th>2025-09</th>\n",
       "      <th>2025-10</th>\n",
       "      <th>2025-11</th>\n",
       "      <th>2025-12</th>\n",
       "      <th>TOTAL</th>\n",
       "    </tr>\n",
       "    <tr>\n",
       "      <th>codigo</th>\n",
       "      <th></th>\n",
       "      <th></th>\n",
       "      <th></th>\n",
       "      <th></th>\n",
       "      <th></th>\n",
       "      <th></th>\n",
       "      <th></th>\n",
       "      <th></th>\n",
       "      <th></th>\n",
       "      <th></th>\n",
       "    </tr>\n",
       "  </thead>\n",
       "  <tbody>\n",
       "    <tr>\n",
       "      <th>MR103</th>\n",
       "      <td>0.000000</td>\n",
       "      <td>0.000000</td>\n",
       "      <td>6.650000</td>\n",
       "      <td>6.650000</td>\n",
       "      <td>6.650000</td>\n",
       "      <td>6.650000</td>\n",
       "      <td>0.000000</td>\n",
       "      <td>6.650000</td>\n",
       "      <td>0.000000</td>\n",
       "      <td>33.25</td>\n",
       "    </tr>\n",
       "    <tr>\n",
       "      <th>MR104</th>\n",
       "      <td>17.011250</td>\n",
       "      <td>17.011250</td>\n",
       "      <td>17.011250</td>\n",
       "      <td>17.011250</td>\n",
       "      <td>17.011250</td>\n",
       "      <td>17.011250</td>\n",
       "      <td>17.011250</td>\n",
       "      <td>17.011250</td>\n",
       "      <td>0.000000</td>\n",
       "      <td>136.09</td>\n",
       "    </tr>\n",
       "    <tr>\n",
       "      <th>MR201</th>\n",
       "      <td>1515.151818</td>\n",
       "      <td>2272.727727</td>\n",
       "      <td>1893.939773</td>\n",
       "      <td>2272.727727</td>\n",
       "      <td>2272.727727</td>\n",
       "      <td>1893.939773</td>\n",
       "      <td>2272.727727</td>\n",
       "      <td>1893.939773</td>\n",
       "      <td>378.787955</td>\n",
       "      <td>16666.67</td>\n",
       "    </tr>\n",
       "    <tr>\n",
       "      <th>MR202</th>\n",
       "      <td>0.000000</td>\n",
       "      <td>0.000000</td>\n",
       "      <td>0.000000</td>\n",
       "      <td>0.000000</td>\n",
       "      <td>0.000000</td>\n",
       "      <td>0.000000</td>\n",
       "      <td>0.000000</td>\n",
       "      <td>0.000000</td>\n",
       "      <td>0.000000</td>\n",
       "      <td>0.00</td>\n",
       "    </tr>\n",
       "    <tr>\n",
       "      <th>MR203</th>\n",
       "      <td>42.424545</td>\n",
       "      <td>42.424545</td>\n",
       "      <td>84.849091</td>\n",
       "      <td>84.849091</td>\n",
       "      <td>42.424545</td>\n",
       "      <td>42.424545</td>\n",
       "      <td>42.424545</td>\n",
       "      <td>42.424545</td>\n",
       "      <td>42.424545</td>\n",
       "      <td>466.67</td>\n",
       "    </tr>\n",
       "    <tr>\n",
       "      <th>MR204</th>\n",
       "      <td>0.000000</td>\n",
       "      <td>0.000000</td>\n",
       "      <td>0.000000</td>\n",
       "      <td>0.000000</td>\n",
       "      <td>0.000000</td>\n",
       "      <td>0.000000</td>\n",
       "      <td>0.000000</td>\n",
       "      <td>0.000000</td>\n",
       "      <td>0.000000</td>\n",
       "      <td>0.00</td>\n",
       "    </tr>\n",
       "    <tr>\n",
       "      <th>MR205</th>\n",
       "      <td>0.000000</td>\n",
       "      <td>0.000000</td>\n",
       "      <td>0.000000</td>\n",
       "      <td>0.000000</td>\n",
       "      <td>0.000000</td>\n",
       "      <td>0.000000</td>\n",
       "      <td>0.000000</td>\n",
       "      <td>0.000000</td>\n",
       "      <td>0.000000</td>\n",
       "      <td>0.00</td>\n",
       "    </tr>\n",
       "    <tr>\n",
       "      <th>MR206</th>\n",
       "      <td>0.000000</td>\n",
       "      <td>0.000000</td>\n",
       "      <td>0.000000</td>\n",
       "      <td>0.000000</td>\n",
       "      <td>0.000000</td>\n",
       "      <td>0.000000</td>\n",
       "      <td>0.000000</td>\n",
       "      <td>0.000000</td>\n",
       "      <td>0.000000</td>\n",
       "      <td>0.00</td>\n",
       "    </tr>\n",
       "    <tr>\n",
       "      <th>MR301</th>\n",
       "      <td>3606.515455</td>\n",
       "      <td>5409.773182</td>\n",
       "      <td>4508.144318</td>\n",
       "      <td>5409.773182</td>\n",
       "      <td>5409.773182</td>\n",
       "      <td>4508.144318</td>\n",
       "      <td>5409.773182</td>\n",
       "      <td>4508.144318</td>\n",
       "      <td>901.628864</td>\n",
       "      <td>39671.67</td>\n",
       "    </tr>\n",
       "    <tr>\n",
       "      <th>MR401</th>\n",
       "      <td>0.000000</td>\n",
       "      <td>5.866000</td>\n",
       "      <td>5.866000</td>\n",
       "      <td>0.000000</td>\n",
       "      <td>0.000000</td>\n",
       "      <td>5.866000</td>\n",
       "      <td>5.866000</td>\n",
       "      <td>5.866000</td>\n",
       "      <td>0.000000</td>\n",
       "      <td>29.33</td>\n",
       "    </tr>\n",
       "    <tr>\n",
       "      <th>MR501</th>\n",
       "      <td>0.000000</td>\n",
       "      <td>0.000000</td>\n",
       "      <td>0.000000</td>\n",
       "      <td>0.000000</td>\n",
       "      <td>0.000000</td>\n",
       "      <td>0.000000</td>\n",
       "      <td>0.000000</td>\n",
       "      <td>0.000000</td>\n",
       "      <td>0.000000</td>\n",
       "      <td>0.00</td>\n",
       "    </tr>\n",
       "    <tr>\n",
       "      <th>MR601</th>\n",
       "      <td>0.000000</td>\n",
       "      <td>0.000000</td>\n",
       "      <td>22.534000</td>\n",
       "      <td>0.000000</td>\n",
       "      <td>22.534000</td>\n",
       "      <td>22.534000</td>\n",
       "      <td>22.534000</td>\n",
       "      <td>22.534000</td>\n",
       "      <td>0.000000</td>\n",
       "      <td>112.67</td>\n",
       "    </tr>\n",
       "    <tr>\n",
       "      <th>MR701</th>\n",
       "      <td>3.866000</td>\n",
       "      <td>3.866000</td>\n",
       "      <td>3.866000</td>\n",
       "      <td>0.000000</td>\n",
       "      <td>0.000000</td>\n",
       "      <td>3.866000</td>\n",
       "      <td>0.000000</td>\n",
       "      <td>3.866000</td>\n",
       "      <td>0.000000</td>\n",
       "      <td>19.33</td>\n",
       "    </tr>\n",
       "    <tr>\n",
       "      <th>MR702</th>\n",
       "      <td>0.000000</td>\n",
       "      <td>0.000000</td>\n",
       "      <td>0.000000</td>\n",
       "      <td>0.000000</td>\n",
       "      <td>0.000000</td>\n",
       "      <td>0.000000</td>\n",
       "      <td>0.000000</td>\n",
       "      <td>0.000000</td>\n",
       "      <td>0.000000</td>\n",
       "      <td>0.00</td>\n",
       "    </tr>\n",
       "    <tr>\n",
       "      <th>TOTAL</th>\n",
       "      <td>0.000000</td>\n",
       "      <td>0.000000</td>\n",
       "      <td>0.000000</td>\n",
       "      <td>0.000000</td>\n",
       "      <td>0.000000</td>\n",
       "      <td>0.000000</td>\n",
       "      <td>0.000000</td>\n",
       "      <td>0.000000</td>\n",
       "      <td>0.000000</td>\n",
       "      <td>0.00</td>\n",
       "    </tr>\n",
       "  </tbody>\n",
       "</table>\n",
       "</div>"
      ],
      "text/plain": [
       "            2025-04      2025-05      2025-06      2025-07      2025-08  \\\n",
       "codigo                                                                    \n",
       "MR103      0.000000     0.000000     6.650000     6.650000     6.650000   \n",
       "MR104     17.011250    17.011250    17.011250    17.011250    17.011250   \n",
       "MR201   1515.151818  2272.727727  1893.939773  2272.727727  2272.727727   \n",
       "MR202      0.000000     0.000000     0.000000     0.000000     0.000000   \n",
       "MR203     42.424545    42.424545    84.849091    84.849091    42.424545   \n",
       "MR204      0.000000     0.000000     0.000000     0.000000     0.000000   \n",
       "MR205      0.000000     0.000000     0.000000     0.000000     0.000000   \n",
       "MR206      0.000000     0.000000     0.000000     0.000000     0.000000   \n",
       "MR301   3606.515455  5409.773182  4508.144318  5409.773182  5409.773182   \n",
       "MR401      0.000000     5.866000     5.866000     0.000000     0.000000   \n",
       "MR501      0.000000     0.000000     0.000000     0.000000     0.000000   \n",
       "MR601      0.000000     0.000000    22.534000     0.000000    22.534000   \n",
       "MR701      3.866000     3.866000     3.866000     0.000000     0.000000   \n",
       "MR702      0.000000     0.000000     0.000000     0.000000     0.000000   \n",
       "TOTAL      0.000000     0.000000     0.000000     0.000000     0.000000   \n",
       "\n",
       "            2025-09      2025-10      2025-11     2025-12     TOTAL  \n",
       "codigo                                                               \n",
       "MR103      6.650000     0.000000     6.650000    0.000000     33.25  \n",
       "MR104     17.011250    17.011250    17.011250    0.000000    136.09  \n",
       "MR201   1893.939773  2272.727727  1893.939773  378.787955  16666.67  \n",
       "MR202      0.000000     0.000000     0.000000    0.000000      0.00  \n",
       "MR203     42.424545    42.424545    42.424545   42.424545    466.67  \n",
       "MR204      0.000000     0.000000     0.000000    0.000000      0.00  \n",
       "MR205      0.000000     0.000000     0.000000    0.000000      0.00  \n",
       "MR206      0.000000     0.000000     0.000000    0.000000      0.00  \n",
       "MR301   4508.144318  5409.773182  4508.144318  901.628864  39671.67  \n",
       "MR401      5.866000     5.866000     5.866000    0.000000     29.33  \n",
       "MR501      0.000000     0.000000     0.000000    0.000000      0.00  \n",
       "MR601     22.534000    22.534000    22.534000    0.000000    112.67  \n",
       "MR701      3.866000     0.000000     3.866000    0.000000     19.33  \n",
       "MR702      0.000000     0.000000     0.000000    0.000000      0.00  \n",
       "TOTAL      0.000000     0.000000     0.000000    0.000000      0.00  "
      ]
     },
     "execution_count": 177,
     "metadata": {},
     "output_type": "execute_result"
    }
   ],
   "source": [
    "# Concatenar la ruta completa al archivo .pkl\n",
    "ruta_archivo = os.path.join(\"data\",proyecto, f\"{proyecto}_cargas_trabajo.pkl\")\n",
    "\n",
    "# Leer el archivo pickle\n",
    "with open(ruta_archivo, \"rb\") as f:\n",
    "    cargas_trabajo_programadas_anualmente = pickle.load(f)\n",
    "\n",
    "cargas_trabajo_programadas_anualmente.tail(15)"
   ]
  },
  {
   "cell_type": "code",
   "execution_count": 178,
   "id": "dc545894",
   "metadata": {},
   "outputs": [],
   "source": [
    "#eliminando el total\n",
    "cargas_trabajo_programadas_anualmente = cargas_trabajo_programadas_anualmente.iloc[:-1]"
   ]
  },
  {
   "cell_type": "code",
   "execution_count": 179,
   "id": "00611e16",
   "metadata": {},
   "outputs": [
    {
     "name": "stdout",
     "output_type": "stream",
     "text": [
      "{'MR101': 2.310666666666666,\n",
      " 'MR102': 245.03733333333332,\n",
      " 'MR103': 0.0,\n",
      " 'MR104': 17.01125,\n",
      " 'MR201': 2272.727727272727,\n",
      " 'MR202': 0.0,\n",
      " 'MR203': 42.42454545454546,\n",
      " 'MR204': 0.0,\n",
      " 'MR205': 0.0,\n",
      " 'MR206': 0.0,\n",
      " 'MR301': 5409.773181818181,\n",
      " 'MR401': 5.866,\n",
      " 'MR501': 0.0,\n",
      " 'MR601': 0.0,\n",
      " 'MR701': 3.8659999999999997,\n",
      " 'MR702': 0.0}\n"
     ]
    }
   ],
   "source": [
    "cargas_trabajo_programadas_current_month = cargas_trabajo_programadas_anualmente[f\"2025-{mes:02d}\"].to_dict()\n",
    "pprint.pprint(cargas_trabajo_programadas_current_month)"
   ]
  },
  {
   "cell_type": "code",
   "execution_count": 180,
   "id": "057aa42a",
   "metadata": {},
   "outputs": [
    {
     "data": {
      "text/plain": [
       "['MR101',\n",
       " 'MR102',\n",
       " 'MR103',\n",
       " 'MR104',\n",
       " 'MR201',\n",
       " 'MR202',\n",
       " 'MR203',\n",
       " 'MR204',\n",
       " 'MR205',\n",
       " 'MR206',\n",
       " 'MR301',\n",
       " 'MR401',\n",
       " 'MR501',\n",
       " 'MR601',\n",
       " 'MR701',\n",
       " 'MR702']"
      ]
     },
     "execution_count": 180,
     "metadata": {},
     "output_type": "execute_result"
    }
   ],
   "source": [
    "cargas_trabajo_programadas_anualmente.index.to_list()"
   ]
  },
  {
   "cell_type": "markdown",
   "id": "0e03287c",
   "metadata": {},
   "source": [
    "#### Cronograma anual"
   ]
  },
  {
   "cell_type": "code",
   "execution_count": 181,
   "id": "895b2b34",
   "metadata": {},
   "outputs": [
    {
     "data": {
      "text/html": [
       "<div>\n",
       "<style scoped>\n",
       "    .dataframe tbody tr th:only-of-type {\n",
       "        vertical-align: middle;\n",
       "    }\n",
       "\n",
       "    .dataframe tbody tr th {\n",
       "        vertical-align: top;\n",
       "    }\n",
       "\n",
       "    .dataframe thead th {\n",
       "        text-align: right;\n",
       "    }\n",
       "</style>\n",
       "<table border=\"1\" class=\"dataframe\">\n",
       "  <thead>\n",
       "    <tr style=\"text-align: right;\">\n",
       "      <th></th>\n",
       "      <th>2025-04</th>\n",
       "      <th>2025-05</th>\n",
       "      <th>2025-06</th>\n",
       "      <th>2025-07</th>\n",
       "      <th>2025-08</th>\n",
       "      <th>2025-09</th>\n",
       "      <th>2025-10</th>\n",
       "      <th>2025-11</th>\n",
       "      <th>2025-12</th>\n",
       "      <th>TOTAL</th>\n",
       "    </tr>\n",
       "  </thead>\n",
       "  <tbody>\n",
       "    <tr>\n",
       "      <th>MR101</th>\n",
       "      <td>4</td>\n",
       "      <td>6</td>\n",
       "      <td>5</td>\n",
       "      <td>6</td>\n",
       "      <td>6</td>\n",
       "      <td>6</td>\n",
       "      <td>6</td>\n",
       "      <td>5</td>\n",
       "      <td>1</td>\n",
       "      <td>45</td>\n",
       "    </tr>\n",
       "    <tr>\n",
       "      <th>MR102</th>\n",
       "      <td>5</td>\n",
       "      <td>8</td>\n",
       "      <td>7</td>\n",
       "      <td>8</td>\n",
       "      <td>8</td>\n",
       "      <td>7</td>\n",
       "      <td>8</td>\n",
       "      <td>8</td>\n",
       "      <td>1</td>\n",
       "      <td>60</td>\n",
       "    </tr>\n",
       "    <tr>\n",
       "      <th>MR103</th>\n",
       "      <td>0</td>\n",
       "      <td>0</td>\n",
       "      <td>1</td>\n",
       "      <td>1</td>\n",
       "      <td>1</td>\n",
       "      <td>1</td>\n",
       "      <td>0</td>\n",
       "      <td>1</td>\n",
       "      <td>0</td>\n",
       "      <td>5</td>\n",
       "    </tr>\n",
       "    <tr>\n",
       "      <th>MR104</th>\n",
       "      <td>2</td>\n",
       "      <td>2</td>\n",
       "      <td>2</td>\n",
       "      <td>2</td>\n",
       "      <td>2</td>\n",
       "      <td>2</td>\n",
       "      <td>2</td>\n",
       "      <td>2</td>\n",
       "      <td>0</td>\n",
       "      <td>16</td>\n",
       "    </tr>\n",
       "    <tr>\n",
       "      <th>MR201</th>\n",
       "      <td>4</td>\n",
       "      <td>6</td>\n",
       "      <td>5</td>\n",
       "      <td>6</td>\n",
       "      <td>6</td>\n",
       "      <td>5</td>\n",
       "      <td>6</td>\n",
       "      <td>5</td>\n",
       "      <td>1</td>\n",
       "      <td>44</td>\n",
       "    </tr>\n",
       "    <tr>\n",
       "      <th>MR202</th>\n",
       "      <td>0</td>\n",
       "      <td>0</td>\n",
       "      <td>0</td>\n",
       "      <td>0</td>\n",
       "      <td>0</td>\n",
       "      <td>0</td>\n",
       "      <td>0</td>\n",
       "      <td>0</td>\n",
       "      <td>0</td>\n",
       "      <td>0</td>\n",
       "    </tr>\n",
       "    <tr>\n",
       "      <th>MR203</th>\n",
       "      <td>1</td>\n",
       "      <td>1</td>\n",
       "      <td>2</td>\n",
       "      <td>2</td>\n",
       "      <td>1</td>\n",
       "      <td>1</td>\n",
       "      <td>1</td>\n",
       "      <td>1</td>\n",
       "      <td>1</td>\n",
       "      <td>11</td>\n",
       "    </tr>\n",
       "    <tr>\n",
       "      <th>MR204</th>\n",
       "      <td>0</td>\n",
       "      <td>0</td>\n",
       "      <td>0</td>\n",
       "      <td>0</td>\n",
       "      <td>0</td>\n",
       "      <td>0</td>\n",
       "      <td>0</td>\n",
       "      <td>0</td>\n",
       "      <td>0</td>\n",
       "      <td>0</td>\n",
       "    </tr>\n",
       "    <tr>\n",
       "      <th>MR205</th>\n",
       "      <td>0</td>\n",
       "      <td>0</td>\n",
       "      <td>0</td>\n",
       "      <td>0</td>\n",
       "      <td>0</td>\n",
       "      <td>0</td>\n",
       "      <td>0</td>\n",
       "      <td>0</td>\n",
       "      <td>0</td>\n",
       "      <td>0</td>\n",
       "    </tr>\n",
       "    <tr>\n",
       "      <th>MR206</th>\n",
       "      <td>0</td>\n",
       "      <td>0</td>\n",
       "      <td>0</td>\n",
       "      <td>0</td>\n",
       "      <td>0</td>\n",
       "      <td>0</td>\n",
       "      <td>0</td>\n",
       "      <td>0</td>\n",
       "      <td>0</td>\n",
       "      <td>0</td>\n",
       "    </tr>\n",
       "    <tr>\n",
       "      <th>MR301</th>\n",
       "      <td>4</td>\n",
       "      <td>6</td>\n",
       "      <td>5</td>\n",
       "      <td>6</td>\n",
       "      <td>6</td>\n",
       "      <td>5</td>\n",
       "      <td>6</td>\n",
       "      <td>5</td>\n",
       "      <td>1</td>\n",
       "      <td>44</td>\n",
       "    </tr>\n",
       "    <tr>\n",
       "      <th>MR401</th>\n",
       "      <td>0</td>\n",
       "      <td>1</td>\n",
       "      <td>1</td>\n",
       "      <td>0</td>\n",
       "      <td>0</td>\n",
       "      <td>1</td>\n",
       "      <td>1</td>\n",
       "      <td>1</td>\n",
       "      <td>0</td>\n",
       "      <td>5</td>\n",
       "    </tr>\n",
       "    <tr>\n",
       "      <th>MR501</th>\n",
       "      <td>0</td>\n",
       "      <td>0</td>\n",
       "      <td>0</td>\n",
       "      <td>0</td>\n",
       "      <td>0</td>\n",
       "      <td>0</td>\n",
       "      <td>0</td>\n",
       "      <td>0</td>\n",
       "      <td>0</td>\n",
       "      <td>0</td>\n",
       "    </tr>\n",
       "    <tr>\n",
       "      <th>MR601</th>\n",
       "      <td>0</td>\n",
       "      <td>0</td>\n",
       "      <td>1</td>\n",
       "      <td>0</td>\n",
       "      <td>1</td>\n",
       "      <td>1</td>\n",
       "      <td>1</td>\n",
       "      <td>1</td>\n",
       "      <td>0</td>\n",
       "      <td>5</td>\n",
       "    </tr>\n",
       "    <tr>\n",
       "      <th>MR701</th>\n",
       "      <td>1</td>\n",
       "      <td>1</td>\n",
       "      <td>1</td>\n",
       "      <td>0</td>\n",
       "      <td>0</td>\n",
       "      <td>1</td>\n",
       "      <td>0</td>\n",
       "      <td>1</td>\n",
       "      <td>0</td>\n",
       "      <td>5</td>\n",
       "    </tr>\n",
       "  </tbody>\n",
       "</table>\n",
       "</div>"
      ],
      "text/plain": [
       "       2025-04  2025-05  2025-06  2025-07  2025-08  2025-09  2025-10  2025-11  \\\n",
       "MR101        4        6        5        6        6        6        6        5   \n",
       "MR102        5        8        7        8        8        7        8        8   \n",
       "MR103        0        0        1        1        1        1        0        1   \n",
       "MR104        2        2        2        2        2        2        2        2   \n",
       "MR201        4        6        5        6        6        5        6        5   \n",
       "MR202        0        0        0        0        0        0        0        0   \n",
       "MR203        1        1        2        2        1        1        1        1   \n",
       "MR204        0        0        0        0        0        0        0        0   \n",
       "MR205        0        0        0        0        0        0        0        0   \n",
       "MR206        0        0        0        0        0        0        0        0   \n",
       "MR301        4        6        5        6        6        5        6        5   \n",
       "MR401        0        1        1        0        0        1        1        1   \n",
       "MR501        0        0        0        0        0        0        0        0   \n",
       "MR601        0        0        1        0        1        1        1        1   \n",
       "MR701        1        1        1        0        0        1        0        1   \n",
       "\n",
       "       2025-12  TOTAL  \n",
       "MR101        1     45  \n",
       "MR102        1     60  \n",
       "MR103        0      5  \n",
       "MR104        0     16  \n",
       "MR201        1     44  \n",
       "MR202        0      0  \n",
       "MR203        1     11  \n",
       "MR204        0      0  \n",
       "MR205        0      0  \n",
       "MR206        0      0  \n",
       "MR301        1     44  \n",
       "MR401        0      5  \n",
       "MR501        0      0  \n",
       "MR601        0      5  \n",
       "MR701        0      5  "
      ]
     },
     "execution_count": 181,
     "metadata": {},
     "output_type": "execute_result"
    }
   ],
   "source": [
    "# Concatenar la ruta completa al archivo .pkl\n",
    "ruta_archivo = os.path.join(\"data\",proyecto, f\"{proyecto}_cronograma_anual.pkl\")\n",
    "\n",
    "# Leer el archivo pickle\n",
    "with open(ruta_archivo, \"rb\") as f:\n",
    "    df_cronograma_anual = pickle.load(f)\n",
    "\n",
    "df_cronograma_anual.head(15)"
   ]
  },
  {
   "cell_type": "markdown",
   "id": "4ec0f5f5",
   "metadata": {},
   "source": [
    "### JSON"
   ]
  },
  {
   "cell_type": "markdown",
   "id": "d7fa2247",
   "metadata": {},
   "source": [
    "#### Actividades"
   ]
  },
  {
   "cell_type": "code",
   "execution_count": 182,
   "id": "33aeed2c",
   "metadata": {},
   "outputs": [
    {
     "name": "stdout",
     "output_type": "stream",
     "text": [
      "[{'key': 'MR100', 'value': {'label': 'Conservación de calzada', 'value': [{'key': 'MR101', 'value': {'label': 'Limpieza de calzada', 'carga_trabajo': 0, 'unidad': 'Km'}}, {'key': 'MR102', 'value': {'label': 'Bacheo', 'carga_trabajo': 0, 'unidad': 'm2'}}, {'key': 'MR103', 'value': {'label': 'Desquinche', 'carga_trabajo': 0, 'unidad': 'm3'}}, {'key': 'MR104', 'value': {'label': 'Remoción de derrumbes', 'carga_trabajo': 0, 'unidad': 'm3'}}]}}, {'key': 'MR200', 'value': {'label': 'Limpieza de obras de arte', 'value': [{'key': 'MR201', 'value': {'label': 'Limpieza de cunetas', 'carga_trabajo': 1440, 'unidad': 'm'}}, {'key': 'MR202', 'value': {'label': 'Limpieza de alcantarillas', 'carga_trabajo': 0, 'unidad': 'unidad'}}, {'key': 'MR203', 'value': {'label': 'Limpieza de badén', 'carga_trabajo': 0, 'unidad': 'm2'}}, {'key': 'MR204', 'value': {'label': 'Limpieza de zanjas de coronación', 'carga_trabajo': 0, 'unidad': 'm'}}, {'key': 'MR205', 'value': {'label': 'Limpieza de pontones', 'carga_trabajo': 0, 'unidad': 'unidad'}}, {'key': 'MR206', 'value': {'label': 'Encausamiento de pequeños cursos de agua', 'carga_trabajo': 0, 'unidad': 'm'}}]}}, {'key': 'MR300', 'value': {'label': 'Control de vegetación', 'value': [{'key': 'MR301', 'value': {'label': 'Roce y limpieza', 'carga_trabajo': 0, 'unidad': 'm2'}}]}}, {'key': 'MR400', 'value': {'label': 'Seguridad vial', 'value': [{'key': 'MR401', 'value': {'label': 'Conservación de señales', 'carga_trabajo': 10, 'unidad': 'unidad'}}]}}, {'key': 'MR500', 'value': {'label': 'Medio ambiente', 'value': [{'key': 'MR501', 'value': {'label': 'Reforestación', 'carga_trabajo': 0, 'unidad': 'unidad'}}]}}, {'key': 'MR600', 'value': {'label': 'Vigilancia y control vial', 'value': [{'key': 'MR601', 'value': {'label': 'Vigilancia y control', 'carga_trabajo': 0, 'unidad': 'Km'}}]}}, {'key': 'MR700', 'value': {'label': 'Actividades complementarias', 'value': [{'key': 'MR701', 'value': {'label': 'Reparación de muros secos', 'carga_trabajo': 0, 'unidad': 'm3'}}, {'key': 'MR702', 'value': {'label': 'Reparación de pontones', 'carga_trabajo': 0, 'unidad': 'unidad'}}]}}]\n"
     ]
    }
   ],
   "source": [
    "ruta_actividades= os.path.join(\"data\", \"general_data\", \"actividades.json\")\n",
    "with open(ruta_actividades, 'r', encoding='utf-8') as archivo:\n",
    "    actividades = json.load(archivo)\n",
    "# Ahora 'datos' es un diccionario de Python\n",
    "print(actividades)"
   ]
  },
  {
   "cell_type": "markdown",
   "id": "68e13015",
   "metadata": {},
   "source": [
    "## Cálculos\n"
   ]
  },
  {
   "cell_type": "markdown",
   "id": "8e2dfc24",
   "metadata": {},
   "source": [
    "### Cargas de trabajo y pu de expediente tecnico"
   ]
  },
  {
   "cell_type": "code",
   "execution_count": 183,
   "id": "a3554c91",
   "metadata": {},
   "outputs": [
    {
     "name": "stdout",
     "output_type": "stream",
     "text": [
      "{'MR101': {'carga_trabajo': 17.33, 'precio_unitario': 265.3},\n",
      " 'MR102': {'carga_trabajo': 1837.78, 'precio_unitario': 10.27},\n",
      " 'MR103': {'carga_trabajo': 33.25, 'precio_unitario': 21.0},\n",
      " 'MR104': {'carga_trabajo': 136.09, 'precio_unitario': 17.5},\n",
      " 'MR201': {'carga_trabajo': 16666.67, 'precio_unitario': 0.44},\n",
      " 'MR203': {'carga_trabajo': 466.67, 'precio_unitario': 5.25},\n",
      " 'MR301': {'carga_trabajo': 39671.67, 'precio_unitario': 0.14},\n",
      " 'MR401': {'carga_trabajo': 29.33, 'precio_unitario': 11.42},\n",
      " 'MR601': {'carga_trabajo': 112.67, 'precio_unitario': 2.1},\n",
      " 'MR701': {'carga_trabajo': 19.33, 'precio_unitario': 43.75}}\n"
     ]
    }
   ],
   "source": [
    "datos_cargas_trabajo_expediente_tecnico=fusionar_diccionarios(\n",
    "    {\n",
    "        'precio_unitario':precios_unitarios_expediente_tecnico,\n",
    "        'carga_trabajo':cargas_trabajo_expediente_tecnico\n",
    "    }\n",
    ")\n",
    "\n",
    "pprint.pprint(datos_cargas_trabajo_expediente_tecnico)"
   ]
  },
  {
   "cell_type": "code",
   "execution_count": 184,
   "id": "b8f69b72",
   "metadata": {},
   "outputs": [],
   "source": [
    "# Crear DataFrame usando pd.DataFrame.from_dict() con orient='index'\n",
    "df_cargas_trabajo_expediente = pd.DataFrame.from_dict(\n",
    "    datos_cargas_trabajo_expediente_tecnico, orient=\"index\"\n",
    ")\n",
    "\n",
    "# Resetear el índice para convertir las claves MR en una columna\n",
    "df_cargas_trabajo_expediente = df_cargas_trabajo_expediente.reset_index().rename(\n",
    "    columns={\"index\": \"codigo_MR\"}\n",
    ")"
   ]
  },
  {
   "cell_type": "code",
   "execution_count": 185,
   "id": "966265c4",
   "metadata": {},
   "outputs": [],
   "source": [
    "# Agregar columna parcial\n",
    "df_cargas_trabajo_expediente[\"parcial\"] = (\n",
    "    df_cargas_trabajo_expediente[\"precio_unitario\"]\n",
    "    * df_cargas_trabajo_expediente[\"carga_trabajo\"]\n",
    ")"
   ]
  },
  {
   "cell_type": "code",
   "execution_count": 186,
   "id": "42f40b0c",
   "metadata": {},
   "outputs": [
    {
     "data": {
      "text/html": [
       "<div>\n",
       "<style scoped>\n",
       "    .dataframe tbody tr th:only-of-type {\n",
       "        vertical-align: middle;\n",
       "    }\n",
       "\n",
       "    .dataframe tbody tr th {\n",
       "        vertical-align: top;\n",
       "    }\n",
       "\n",
       "    .dataframe thead th {\n",
       "        text-align: right;\n",
       "    }\n",
       "</style>\n",
       "<table border=\"1\" class=\"dataframe\">\n",
       "  <thead>\n",
       "    <tr style=\"text-align: right;\">\n",
       "      <th></th>\n",
       "      <th>codigo_MR</th>\n",
       "      <th>precio_unitario</th>\n",
       "      <th>carga_trabajo</th>\n",
       "      <th>parcial</th>\n",
       "    </tr>\n",
       "  </thead>\n",
       "  <tbody>\n",
       "    <tr>\n",
       "      <th>0</th>\n",
       "      <td>MR601</td>\n",
       "      <td>2.10</td>\n",
       "      <td>112.67</td>\n",
       "      <td>236.6070</td>\n",
       "    </tr>\n",
       "    <tr>\n",
       "      <th>1</th>\n",
       "      <td>MR103</td>\n",
       "      <td>21.00</td>\n",
       "      <td>33.25</td>\n",
       "      <td>698.2500</td>\n",
       "    </tr>\n",
       "    <tr>\n",
       "      <th>2</th>\n",
       "      <td>MR401</td>\n",
       "      <td>11.42</td>\n",
       "      <td>29.33</td>\n",
       "      <td>334.9486</td>\n",
       "    </tr>\n",
       "    <tr>\n",
       "      <th>3</th>\n",
       "      <td>MR104</td>\n",
       "      <td>17.50</td>\n",
       "      <td>136.09</td>\n",
       "      <td>2381.5750</td>\n",
       "    </tr>\n",
       "    <tr>\n",
       "      <th>4</th>\n",
       "      <td>MR201</td>\n",
       "      <td>0.44</td>\n",
       "      <td>16666.67</td>\n",
       "      <td>7333.3348</td>\n",
       "    </tr>\n",
       "  </tbody>\n",
       "</table>\n",
       "</div>"
      ],
      "text/plain": [
       "  codigo_MR  precio_unitario  carga_trabajo    parcial\n",
       "0     MR601             2.10         112.67   236.6070\n",
       "1     MR103            21.00          33.25   698.2500\n",
       "2     MR401            11.42          29.33   334.9486\n",
       "3     MR104            17.50         136.09  2381.5750\n",
       "4     MR201             0.44       16666.67  7333.3348"
      ]
     },
     "execution_count": 186,
     "metadata": {},
     "output_type": "execute_result"
    }
   ],
   "source": [
    "df_cargas_trabajo_expediente.head()"
   ]
  },
  {
   "cell_type": "code",
   "execution_count": 187,
   "id": "4da817a7",
   "metadata": {},
   "outputs": [
    {
     "name": "stdout",
     "output_type": "stream",
     "text": [
      "costo_directo 43306.1038\n"
     ]
    }
   ],
   "source": [
    "# Calcular el total\n",
    "costo_directo = df_cargas_trabajo_expediente[\"parcial\"].sum()\n",
    "print(\"costo_directo\", costo_directo)"
   ]
  },
  {
   "cell_type": "code",
   "execution_count": 188,
   "id": "180e3007",
   "metadata": {},
   "outputs": [
    {
     "name": "stdout",
     "output_type": "stream",
     "text": [
      "58766.38\n"
     ]
    }
   ],
   "source": [
    "costo_total_expediente = calculadora_costo_total(costo_directo)\n",
    "print(costo_total_expediente[\"total\"])"
   ]
  },
  {
   "cell_type": "code",
   "execution_count": 189,
   "id": "2fe2679d",
   "metadata": {},
   "outputs": [
    {
     "name": "stdout",
     "output_type": "stream",
     "text": [
      "El costo directo es: 47823.14160247407\n"
     ]
    }
   ],
   "source": [
    "# Agregar columna parcial\n",
    "df_cargas_trabajo_expediente[\"precio_unitario_actualizado\"] = (\n",
    "    df_cargas_trabajo_expediente[\"precio_unitario\"]\n",
    "    * (monto_contrato / costo_total_expediente[\"total\"])\n",
    ")\n",
    "\n",
    "df_cargas_trabajo_expediente[\"parcial_actualizado\"] = (\n",
    "    df_cargas_trabajo_expediente[\"precio_unitario_actualizado\"]\n",
    "    * df_cargas_trabajo_expediente[\"carga_trabajo\"]\n",
    ")\n",
    "\n",
    "# Calcular el total\n",
    "costo_directo_actualizado = df_cargas_trabajo_expediente[\"parcial_actualizado\"].sum()\n",
    "\n",
    "print(f\"El costo directo es: {costo_directo_actualizado}\")"
   ]
  },
  {
   "cell_type": "code",
   "execution_count": 190,
   "id": "8ed1563c",
   "metadata": {},
   "outputs": [
    {
     "data": {
      "text/html": [
       "<div>\n",
       "<style scoped>\n",
       "    .dataframe tbody tr th:only-of-type {\n",
       "        vertical-align: middle;\n",
       "    }\n",
       "\n",
       "    .dataframe tbody tr th {\n",
       "        vertical-align: top;\n",
       "    }\n",
       "\n",
       "    .dataframe thead th {\n",
       "        text-align: right;\n",
       "    }\n",
       "</style>\n",
       "<table border=\"1\" class=\"dataframe\">\n",
       "  <thead>\n",
       "    <tr style=\"text-align: right;\">\n",
       "      <th></th>\n",
       "      <th>codigo_MR</th>\n",
       "      <th>precio_unitario</th>\n",
       "      <th>carga_trabajo</th>\n",
       "      <th>parcial</th>\n",
       "      <th>precio_unitario_actualizado</th>\n",
       "      <th>parcial_actualizado</th>\n",
       "    </tr>\n",
       "  </thead>\n",
       "  <tbody>\n",
       "    <tr>\n",
       "      <th>0</th>\n",
       "      <td>MR601</td>\n",
       "      <td>2.10</td>\n",
       "      <td>112.67</td>\n",
       "      <td>236.6070</td>\n",
       "      <td>2.319040</td>\n",
       "      <td>261.286264</td>\n",
       "    </tr>\n",
       "    <tr>\n",
       "      <th>1</th>\n",
       "      <td>MR103</td>\n",
       "      <td>21.00</td>\n",
       "      <td>33.25</td>\n",
       "      <td>698.2500</td>\n",
       "      <td>23.190402</td>\n",
       "      <td>771.080880</td>\n",
       "    </tr>\n",
       "    <tr>\n",
       "      <th>2</th>\n",
       "      <td>MR401</td>\n",
       "      <td>11.42</td>\n",
       "      <td>29.33</td>\n",
       "      <td>334.9486</td>\n",
       "      <td>12.611162</td>\n",
       "      <td>369.885372</td>\n",
       "    </tr>\n",
       "    <tr>\n",
       "      <th>3</th>\n",
       "      <td>MR104</td>\n",
       "      <td>17.50</td>\n",
       "      <td>136.09</td>\n",
       "      <td>2381.5750</td>\n",
       "      <td>19.325335</td>\n",
       "      <td>2629.984886</td>\n",
       "    </tr>\n",
       "    <tr>\n",
       "      <th>4</th>\n",
       "      <td>MR201</td>\n",
       "      <td>0.44</td>\n",
       "      <td>16666.67</td>\n",
       "      <td>7333.3348</td>\n",
       "      <td>0.485894</td>\n",
       "      <td>8098.237380</td>\n",
       "    </tr>\n",
       "    <tr>\n",
       "      <th>5</th>\n",
       "      <td>MR101</td>\n",
       "      <td>265.30</td>\n",
       "      <td>17.33</td>\n",
       "      <td>4597.6490</td>\n",
       "      <td>292.972084</td>\n",
       "      <td>5077.206210</td>\n",
       "    </tr>\n",
       "    <tr>\n",
       "      <th>6</th>\n",
       "      <td>MR701</td>\n",
       "      <td>43.75</td>\n",
       "      <td>19.33</td>\n",
       "      <td>845.6875</td>\n",
       "      <td>48.313338</td>\n",
       "      <td>933.896830</td>\n",
       "    </tr>\n",
       "    <tr>\n",
       "      <th>7</th>\n",
       "      <td>MR301</td>\n",
       "      <td>0.14</td>\n",
       "      <td>39671.67</td>\n",
       "      <td>5554.0338</td>\n",
       "      <td>0.154603</td>\n",
       "      <td>6133.346609</td>\n",
       "    </tr>\n",
       "    <tr>\n",
       "      <th>8</th>\n",
       "      <td>MR102</td>\n",
       "      <td>10.27</td>\n",
       "      <td>1837.78</td>\n",
       "      <td>18874.0006</td>\n",
       "      <td>11.341211</td>\n",
       "      <td>20842.650899</td>\n",
       "    </tr>\n",
       "    <tr>\n",
       "      <th>9</th>\n",
       "      <td>MR203</td>\n",
       "      <td>5.25</td>\n",
       "      <td>466.67</td>\n",
       "      <td>2450.0175</td>\n",
       "      <td>5.797601</td>\n",
       "      <td>2705.566272</td>\n",
       "    </tr>\n",
       "  </tbody>\n",
       "</table>\n",
       "</div>"
      ],
      "text/plain": [
       "  codigo_MR  precio_unitario  carga_trabajo     parcial  \\\n",
       "0     MR601             2.10         112.67    236.6070   \n",
       "1     MR103            21.00          33.25    698.2500   \n",
       "2     MR401            11.42          29.33    334.9486   \n",
       "3     MR104            17.50         136.09   2381.5750   \n",
       "4     MR201             0.44       16666.67   7333.3348   \n",
       "5     MR101           265.30          17.33   4597.6490   \n",
       "6     MR701            43.75          19.33    845.6875   \n",
       "7     MR301             0.14       39671.67   5554.0338   \n",
       "8     MR102            10.27        1837.78  18874.0006   \n",
       "9     MR203             5.25         466.67   2450.0175   \n",
       "\n",
       "   precio_unitario_actualizado  parcial_actualizado  \n",
       "0                     2.319040           261.286264  \n",
       "1                    23.190402           771.080880  \n",
       "2                    12.611162           369.885372  \n",
       "3                    19.325335          2629.984886  \n",
       "4                     0.485894          8098.237380  \n",
       "5                   292.972084          5077.206210  \n",
       "6                    48.313338           933.896830  \n",
       "7                     0.154603          6133.346609  \n",
       "8                    11.341211         20842.650899  \n",
       "9                     5.797601          2705.566272  "
      ]
     },
     "execution_count": 190,
     "metadata": {},
     "output_type": "execute_result"
    }
   ],
   "source": [
    "df_cargas_trabajo_expediente.head(10)"
   ]
  },
  {
   "cell_type": "code",
   "execution_count": 191,
   "id": "b532ac06",
   "metadata": {},
   "outputs": [
    {
     "name": "stdout",
     "output_type": "stream",
     "text": [
      "64896.0\n"
     ]
    }
   ],
   "source": [
    "pago_costo_total_contratista = calculadora_costo_total(costo_directo_actualizado)\n",
    "print(pago_costo_total_contratista[\"total\"])"
   ]
  },
  {
   "cell_type": "code",
   "execution_count": 192,
   "id": "51d9a840",
   "metadata": {},
   "outputs": [
    {
     "name": "stdout",
     "output_type": "stream",
     "text": [
      "{'MR101': 292.9720836981962,\n",
      " 'MR102': 11.34121108021287,\n",
      " 'MR103': 23.190402403551147,\n",
      " 'MR104': 19.32533533629262,\n",
      " 'MR201': 0.4858941455982145,\n",
      " 'MR203': 5.797600600887787,\n",
      " 'MR301': 0.154602682690341,\n",
      " 'MR401': 12.611161688026385,\n",
      " 'MR601': 2.3190402403551147,\n",
      " 'MR701': 48.313338340731555}\n"
     ]
    }
   ],
   "source": [
    "dict_precios_unitarios_actualizados = dict(\n",
    "    zip(\n",
    "        df_cargas_trabajo_expediente[\"codigo_MR\"],\n",
    "        df_cargas_trabajo_expediente[\"precio_unitario_actualizado\"],\n",
    "    )\n",
    ")\n",
    "\n",
    "pprint.pprint(dict_precios_unitarios_actualizados)"
   ]
  },
  {
   "cell_type": "markdown",
   "id": "ba5e08d9",
   "metadata": {},
   "source": [
    "### Cálculo de pago de acuerdo a cargas de trabajo\n"
   ]
  },
  {
   "cell_type": "code",
   "execution_count": 193,
   "id": "93294446",
   "metadata": {},
   "outputs": [
    {
     "name": "stdout",
     "output_type": "stream",
     "text": [
      "{'MR101': 676.7655133428332,\n",
      " 'MR102': 2779.0503630953617,\n",
      " 'MR103': 0.0,\n",
      " 'MR104': 328.7239540703375,\n",
      " 'MR201': 1104.30620152543,\n",
      " 'MR203': 245.93421748965991,\n",
      " 'MR301': 836.3649547377261,\n",
      " 'MR401': 74.02751910871488,\n",
      " 'MR601': 0.0,\n",
      " 'MR701': 186.97261937863112}\n"
     ]
    }
   ],
   "source": [
    "pago_costo_directo_parciales_contratista = calcular_costos_unitarios(\n",
    "    dict_precios_unitarios_actualizados, cargas_trabajo_contratista\n",
    ")\n",
    "pprint.pprint(pago_costo_directo_parciales_contratista)"
   ]
  },
  {
   "cell_type": "markdown",
   "id": "8ffbf13b",
   "metadata": {},
   "source": [
    "##### Visualizacion en dataframe\n"
   ]
  },
  {
   "cell_type": "code",
   "execution_count": 194,
   "id": "be601e52",
   "metadata": {},
   "outputs": [
    {
     "data": {
      "text/html": [
       "<div>\n",
       "<style scoped>\n",
       "    .dataframe tbody tr th:only-of-type {\n",
       "        vertical-align: middle;\n",
       "    }\n",
       "\n",
       "    .dataframe tbody tr th {\n",
       "        vertical-align: top;\n",
       "    }\n",
       "\n",
       "    .dataframe thead th {\n",
       "        text-align: right;\n",
       "    }\n",
       "</style>\n",
       "<table border=\"1\" class=\"dataframe\">\n",
       "  <thead>\n",
       "    <tr style=\"text-align: right;\">\n",
       "      <th></th>\n",
       "      <th>codigo_MR</th>\n",
       "      <th>monto_pago</th>\n",
       "    </tr>\n",
       "  </thead>\n",
       "  <tbody>\n",
       "    <tr>\n",
       "      <th>0</th>\n",
       "      <td>MR601</td>\n",
       "      <td>0.000000</td>\n",
       "    </tr>\n",
       "    <tr>\n",
       "      <th>1</th>\n",
       "      <td>MR103</td>\n",
       "      <td>0.000000</td>\n",
       "    </tr>\n",
       "    <tr>\n",
       "      <th>2</th>\n",
       "      <td>MR401</td>\n",
       "      <td>74.027519</td>\n",
       "    </tr>\n",
       "    <tr>\n",
       "      <th>3</th>\n",
       "      <td>MR104</td>\n",
       "      <td>328.723954</td>\n",
       "    </tr>\n",
       "    <tr>\n",
       "      <th>4</th>\n",
       "      <td>MR201</td>\n",
       "      <td>1104.306202</td>\n",
       "    </tr>\n",
       "    <tr>\n",
       "      <th>5</th>\n",
       "      <td>MR101</td>\n",
       "      <td>676.765513</td>\n",
       "    </tr>\n",
       "    <tr>\n",
       "      <th>6</th>\n",
       "      <td>MR701</td>\n",
       "      <td>186.972619</td>\n",
       "    </tr>\n",
       "    <tr>\n",
       "      <th>7</th>\n",
       "      <td>MR301</td>\n",
       "      <td>836.364955</td>\n",
       "    </tr>\n",
       "    <tr>\n",
       "      <th>8</th>\n",
       "      <td>MR102</td>\n",
       "      <td>2779.050363</td>\n",
       "    </tr>\n",
       "    <tr>\n",
       "      <th>9</th>\n",
       "      <td>MR203</td>\n",
       "      <td>245.934217</td>\n",
       "    </tr>\n",
       "  </tbody>\n",
       "</table>\n",
       "</div>"
      ],
      "text/plain": [
       "  codigo_MR   monto_pago\n",
       "0     MR601     0.000000\n",
       "1     MR103     0.000000\n",
       "2     MR401    74.027519\n",
       "3     MR104   328.723954\n",
       "4     MR201  1104.306202\n",
       "5     MR101   676.765513\n",
       "6     MR701   186.972619\n",
       "7     MR301   836.364955\n",
       "8     MR102  2779.050363\n",
       "9     MR203   245.934217"
      ]
     },
     "execution_count": 194,
     "metadata": {},
     "output_type": "execute_result"
    }
   ],
   "source": [
    "df_pago_costo_directo_parciales_contratista = pd.DataFrame.from_dict(\n",
    "    pago_costo_directo_parciales_contratista, orient=\"index\"\n",
    ")\n",
    "\n",
    "df_pago_costo_directo_parciales_contratista = (\n",
    "    df_pago_costo_directo_parciales_contratista.reset_index().rename(\n",
    "        columns={\"index\": \"codigo_MR\"}\n",
    "    )\n",
    ")\n",
    "\n",
    "df_pago_costo_directo_parciales_contratista = (\n",
    "    df_pago_costo_directo_parciales_contratista.rename(columns={0: \"monto_pago\"})\n",
    ")\n",
    "\n",
    "df_pago_costo_directo_parciales_contratista"
   ]
  },
  {
   "cell_type": "code",
   "execution_count": 195,
   "id": "124db32b",
   "metadata": {},
   "outputs": [
    {
     "name": "stdout",
     "output_type": "stream",
     "text": [
      "\n",
      "DataFrame Ordenado por 'monto_pago' (ascendente):\n",
      "  codigo_MR   monto_pago\n",
      "8     MR102  2779.050363\n",
      "4     MR201  1104.306202\n",
      "7     MR301   836.364955\n",
      "5     MR101   676.765513\n",
      "3     MR104   328.723954\n",
      "9     MR203   245.934217\n",
      "6     MR701   186.972619\n",
      "2     MR401    74.027519\n",
      "1     MR103     0.000000\n",
      "0     MR601     0.000000\n"
     ]
    }
   ],
   "source": [
    "# Ordenar el DataFrame por la columna 'monto_pago'\n",
    "# Por defecto, el orden es ascendente (de menor a mayor)\n",
    "df_ordenado = df_pago_costo_directo_parciales_contratista.sort_values(\n",
    "    by=\"monto_pago\", ascending=False\n",
    ")\n",
    "\n",
    "print(\"\\nDataFrame Ordenado por 'monto_pago' (ascendente):\")\n",
    "print(df_ordenado)"
   ]
  },
  {
   "cell_type": "code",
   "execution_count": 196,
   "id": "a6b2bc35",
   "metadata": {},
   "outputs": [],
   "source": [
    "# Lambda que suma todos los valores de un diccionario\n",
    "sumar_valores = lambda d: sum(d.values())"
   ]
  },
  {
   "cell_type": "code",
   "execution_count": 197,
   "id": "8ec2741f",
   "metadata": {},
   "outputs": [
    {
     "name": "stdout",
     "output_type": "stream",
     "text": [
      "6232.145342748694\n"
     ]
    }
   ],
   "source": [
    "pago_costo_directo_contratista = sumar_valores(pago_costo_directo_parciales_contratista)\n",
    "print(pago_costo_directo_contratista)"
   ]
  },
  {
   "cell_type": "code",
   "execution_count": 198,
   "id": "a02e99b6",
   "metadata": {},
   "outputs": [
    {
     "name": "stdout",
     "output_type": "stream",
     "text": [
      "8457.02\n"
     ]
    }
   ],
   "source": [
    "pago_costo_total_contratista = calculadora_costo_total(pago_costo_directo_contratista)\n",
    "print(pago_costo_total_contratista[\"total\"])"
   ]
  },
  {
   "cell_type": "markdown",
   "id": "a6981349",
   "metadata": {},
   "source": [
    "##### Validación\n"
   ]
  },
  {
   "cell_type": "code",
   "execution_count": 199,
   "id": "49fdb8ec",
   "metadata": {},
   "outputs": [
    {
     "name": "stdout",
     "output_type": "stream",
     "text": [
      "{'diferencia_costos': 74.6200000000008,\n",
      " 'ejecutado': 8457.02,\n",
      " 'programado': 8382.4}\n"
     ]
    },
    {
     "ename": "ValueError",
     "evalue": "La valorizacion de las actividades presentadas por el contratista no es coherente con lo programado",
     "output_type": "error",
     "traceback": [
      "\u001b[31m---------------------------------------------------------------------------\u001b[39m",
      "\u001b[31mValueError\u001b[39m                                Traceback (most recent call last)",
      "\u001b[36mCell\u001b[39m\u001b[36m \u001b[39m\u001b[32mIn[199]\u001b[39m\u001b[32m, line 15\u001b[39m\n\u001b[32m      6\u001b[39m pprint.pprint(\n\u001b[32m      7\u001b[39m     {\n\u001b[32m      8\u001b[39m         \u001b[33m\"\u001b[39m\u001b[33mdiferencia_costos\u001b[39m\u001b[33m\"\u001b[39m: diferencia_costos,\n\u001b[32m   (...)\u001b[39m\u001b[32m     11\u001b[39m     }\n\u001b[32m     12\u001b[39m )\n\u001b[32m     14\u001b[39m \u001b[38;5;28;01mif\u001b[39;00m diferencia_costos > \u001b[32m1\u001b[39m:\n\u001b[32m---> \u001b[39m\u001b[32m15\u001b[39m     \u001b[38;5;28;01mraise\u001b[39;00m \u001b[38;5;167;01mValueError\u001b[39;00m(\n\u001b[32m     16\u001b[39m         \u001b[33m\"\u001b[39m\u001b[33mLa valorizacion de las actividades presentadas por el contratista no es coherente con lo programado\u001b[39m\u001b[33m\"\u001b[39m\n\u001b[32m     17\u001b[39m     )\n",
      "\u001b[31mValueError\u001b[39m: La valorizacion de las actividades presentadas por el contratista no es coherente con lo programado"
     ]
    }
   ],
   "source": [
    "diferencia_costos = abs(\n",
    "    pago_costo_total_contratista[\"total\"]\n",
    "    - desembolso_current_month[\"mantenimiento_con_igv\"]\n",
    ")\n",
    "\n",
    "pprint.pprint(\n",
    "    {\n",
    "        \"diferencia_costos\": diferencia_costos,\n",
    "        \"ejecutado\": pago_costo_total_contratista[\"total\"],\n",
    "        \"programado\": desembolso_current_month[\"mantenimiento_con_igv\"],\n",
    "    }\n",
    ")\n",
    "\n",
    "if diferencia_costos > 1:\n",
    "    raise ValueError(\n",
    "        \"La valorizacion de las actividades presentadas por el contratista no es coherente con lo programado\"\n",
    "    )"
   ]
  },
  {
   "cell_type": "markdown",
   "id": "02a4abcd",
   "metadata": {},
   "source": [
    "### Ordenando cargas de trabajo"
   ]
  },
  {
   "cell_type": "code",
   "execution_count": null,
   "id": "30481fde",
   "metadata": {},
   "outputs": [
    {
     "name": "stdout",
     "output_type": "stream",
     "text": [
      "[{'key': 'MR101', 'value': 0.99375},\n",
      " {'key': 'MR102', 'value': 328.0038461538461},\n",
      " {'key': 'MR103', 'value': 5.0075},\n",
      " {'key': 'MR104', 'value': 10.17142857142857},\n",
      " {'key': 'MR201', 'value': 0.0},\n",
      " {'key': 'MR202', 'value': 0.0},\n",
      " {'key': 'MR203', 'value': 44.448},\n",
      " {'key': 'MR204', 'value': 0.0},\n",
      " {'key': 'MR205', 'value': 0.0},\n",
      " {'key': 'MR206', 'value': 33.91},\n",
      " {'key': 'MR301', 'value': 3903.83},\n",
      " {'key': 'MR401', 'value': 0.0},\n",
      " {'key': 'MR501', 'value': 0.0},\n",
      " {'key': 'MR601', 'value': 0.0},\n",
      " {'key': 'MR701', 'value': 3.4320000000000004},\n",
      " {'key': 'MR702', 'value': 0.0}]\n"
     ]
    }
   ],
   "source": [
    "cargas_trabajo_ordenadas=ordenar_por_centena(cargas_trabajo_programadas_current_month)\n",
    "pprint.pprint(cargas_trabajo_ordenadas)"
   ]
  }
 ],
 "metadata": {
  "kernelspec": {
   "display_name": "asignaciones-financieras-v2",
   "language": "python",
   "name": "python3"
  },
  "language_info": {
   "codemirror_mode": {
    "name": "ipython",
    "version": 3
   },
   "file_extension": ".py",
   "mimetype": "text/x-python",
   "name": "python",
   "nbconvert_exporter": "python",
   "pygments_lexer": "ipython3",
   "version": "3.12.4"
  }
 },
 "nbformat": 4,
 "nbformat_minor": 5
}
