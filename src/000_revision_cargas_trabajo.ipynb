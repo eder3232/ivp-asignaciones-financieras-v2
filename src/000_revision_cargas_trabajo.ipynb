{
 "cells": [
  {
   "cell_type": "markdown",
   "id": "27faf011",
   "metadata": {},
   "source": [
    "# Asignaciones financieras\n"
   ]
  },
  {
   "cell_type": "markdown",
   "id": "ceeafbfb",
   "metadata": {},
   "source": [
    "## Datos de proyecto en análisis\n"
   ]
  },
  {
   "cell_type": "code",
   "execution_count": 128,
   "id": "71833bfa",
   "metadata": {},
   "outputs": [],
   "source": [
    "proyecto = \"misanayoc\"\n",
    "mes = 5\n",
    "anio = 2025"
   ]
  },
  {
   "cell_type": "markdown",
   "id": "0414ab72",
   "metadata": {},
   "source": [
    "## Librerias necesarias\n"
   ]
  },
  {
   "cell_type": "code",
   "execution_count": 129,
   "id": "932ebbf3",
   "metadata": {},
   "outputs": [],
   "source": [
    "import pandas as pd\n",
    "import os\n",
    "import pprint\n",
    "import pickle\n",
    "import json\n",
    "import xlsxwriter\n",
    "from xlsxwriter.utility import xl_range, xl_rowcol_to_cell\n",
    "import re\n",
    "from typing import Dict, List, Any\n",
    "import itertools\n",
    "from pathlib import Path\n",
    "from dotenv import load_dotenv, find_dotenv\n",
    "from google.oauth2 import service_account\n",
    "from google.cloud import firestore\n",
    "import excel2img\n",
    "from dotenv import load_dotenv, find_dotenv\n",
    "from openpyxl import load_workbook\n",
    "from openpyxl.utils import get_column_letter\n",
    "import win32com.client as win32"
   ]
  },
  {
   "cell_type": "markdown",
   "id": "98e69374",
   "metadata": {},
   "source": [
    "## Funciones utiles\n"
   ]
  },
  {
   "cell_type": "markdown",
   "id": "83ea5090",
   "metadata": {},
   "source": [
    "### Calculadora de costo total\n"
   ]
  },
  {
   "cell_type": "code",
   "execution_count": 130,
   "id": "04246cf4",
   "metadata": {},
   "outputs": [],
   "source": [
    "from typing import TypedDict\n",
    "\n",
    "\n",
    "class CostoIngenieriaResult(TypedDict):\n",
    "    costo_directo: float\n",
    "    gastos_generales: float\n",
    "    utilidad: float\n",
    "    subtotal: float\n",
    "    igv: float\n",
    "    total: float\n",
    "\n",
    "\n",
    "def calculadora_costo_total(costo_directo: float, gastos_generales: float) -> CostoIngenieriaResult:\n",
    "    \"\"\"\n",
    "    Calcula el costo total de un proyecto de ingeniería civil en soles peruanos.\n",
    "\n",
    "    Args:\n",
    "        costo_directo (float): Costo directo del proyecto\n",
    "\n",
    "    Returns:\n",
    "        CostoIngenieriaResult: Diccionario con todos los valores calculados\n",
    "    \"\"\"\n",
    "    # Calcular gastos generales (10% del costo directo)\n",
    "    gastos_generales = round(costo_directo * gastos_generales, 2)\n",
    "\n",
    "    # Calcular utilidad (5% del costo directo)\n",
    "    utilidad = round(costo_directo * 0.05, 2)\n",
    "\n",
    "    # Calcular subtotal\n",
    "    subtotal = round(costo_directo + gastos_generales + utilidad, 2)\n",
    "\n",
    "    # Calcular IGV (18% del subtotal)\n",
    "    igv = round(subtotal * 0.18, 2)\n",
    "\n",
    "    # Calcular total\n",
    "    total = round(subtotal + igv, 2)\n",
    "\n",
    "    return {\n",
    "        \"costo_directo\": round(costo_directo, 2),\n",
    "        \"gastos_generales\": gastos_generales,\n",
    "        \"utilidad\": utilidad,\n",
    "        \"subtotal\": subtotal,\n",
    "        \"igv\": igv,\n",
    "        \"total\": total,\n",
    "    }"
   ]
  },
  {
   "cell_type": "markdown",
   "id": "0d58834a",
   "metadata": {},
   "source": [
    "### Multiplicar el precio unitario actualizado por la carga trabajo\n"
   ]
  },
  {
   "cell_type": "code",
   "execution_count": 131,
   "id": "96831b53",
   "metadata": {},
   "outputs": [],
   "source": [
    "def calcular_costos_unitarios(\n",
    "    dict_precios_unitarios_actualizados, cargas_trabajo\n",
    "):\n",
    "    \"\"\"\n",
    "    Multiplica cada carga de trabajo del contratista por su precio unitario\n",
    "    correspondiente.\n",
    "\n",
    "    Si alguna clave en cargas_trabajo tiene carga > 0 y no existe\n",
    "    en dict_precios_unitarios_actualizados, levanta KeyError.\n",
    "    Claves con carga = 0 se ignoran (no dan error), y claves en precios que noprecios_uninatrios_expediente\n",
    "    están en cargas se tratan con carga = 0.\n",
    "\n",
    "    Args:\n",
    "        dict_precios_unitarios_actualizados (dict): código → precio unitario.\n",
    "        cargas_trabajo (dict): código → carga de trabajo.\n",
    "\n",
    "    Returns:\n",
    "        dict: código → precio total (precio_unitario * carga).\n",
    "\n",
    "    Raises:\n",
    "        KeyError: si alguna clave con carga > 0 en cargas_trabajo\n",
    "                  no existe en dict_precios_unitarios_actualizados.\n",
    "    \"\"\"\n",
    "    # Detectar faltantes solo para cargas > 0\n",
    "    faltantes = {\n",
    "        codigo\n",
    "        for codigo, carga in cargas_trabajo.items()\n",
    "        if carga != 0 and codigo not in dict_precios_unitarios_actualizados\n",
    "    }\n",
    "    if faltantes:\n",
    "        raise KeyError(f\"Faltan precios unitarios para las claves: {faltantes}\")\n",
    "\n",
    "    # Construir resultado: para cada precio, multiplicar por carga (0 si no hay)\n",
    "    resultado = {}\n",
    "    for codigo, precio_unitario in dict_precios_unitarios_actualizados.items():\n",
    "        carga = cargas_trabajo.get(codigo, 0)\n",
    "        resultado[codigo] = precio_unitario * carga\n",
    "\n",
    "    return resultado"
   ]
  },
  {
   "cell_type": "markdown",
   "id": "dd9e91b4",
   "metadata": {},
   "source": [
    "### Fusionar diccionarios"
   ]
  },
  {
   "cell_type": "code",
   "execution_count": 132,
   "id": "1b1689ee",
   "metadata": {},
   "outputs": [],
   "source": [
    "def fusionar_diccionarios(diccionario_de_diccionarios):\n",
    "    \"\"\"\n",
    "    Fusiona diccionarios separados en un diccionario unificado.\n",
    "    Solo incluye claves donde ambos valores sean diferentes de cero.\n",
    "    Usa dinámicamente las claves del diccionario de entrada.\n",
    "    \n",
    "    Args:\n",
    "        diccionario_de_diccionarios (dict): Diccionario con estructura:\n",
    "            {\n",
    "                \"nombre_campo1\": {clave: valor, ...},\n",
    "                \"nombre_campo2\": {clave: valor, ...}\n",
    "            }\n",
    "    \n",
    "    Returns:\n",
    "        dict: Diccionario fusionado con estructura {clave: {nombre_campo1: valor, nombre_campo2: valor}}\n",
    "    \"\"\"\n",
    "    # Obtener las claves (nombres de los campos) del diccionario principal\n",
    "    nombres_campos = list(diccionario_de_diccionarios.keys())\n",
    "    \n",
    "    if len(nombres_campos) != 2:\n",
    "        raise ValueError(\"El diccionario debe contener exactamente 2 campos\")\n",
    "    \n",
    "    campo1_nombre = nombres_campos[0]\n",
    "    campo2_nombre = nombres_campos[1]\n",
    "    \n",
    "    campo1_datos = diccionario_de_diccionarios[campo1_nombre]\n",
    "    campo2_datos = diccionario_de_diccionarios[campo2_nombre]\n",
    "    \n",
    "    fusionado = {}\n",
    "    \n",
    "    # Obtener todas las claves únicas de ambos diccionarios\n",
    "    todas_las_claves = set(campo1_datos.keys()) | set(campo2_datos.keys())\n",
    "    \n",
    "    for clave in todas_las_claves:\n",
    "        valor1 = campo1_datos.get(clave, 0)\n",
    "        valor2 = campo2_datos.get(clave, 0)\n",
    "        \n",
    "        # Solo agregar si ambos valores son diferentes de cero\n",
    "        if valor1 != 0 and valor2 != 0:\n",
    "            fusionado[clave] = {\n",
    "                campo1_nombre: valor1,\n",
    "                campo2_nombre: valor2\n",
    "            }\n",
    "    \n",
    "    return fusionado"
   ]
  },
  {
   "cell_type": "markdown",
   "id": "bc2a0d92",
   "metadata": {},
   "source": [
    "### Formatear progresiva"
   ]
  },
  {
   "cell_type": "code",
   "execution_count": 133,
   "id": "447469ed",
   "metadata": {},
   "outputs": [],
   "source": [
    "def formatear_progresiva(distancia, decimales=0):\n",
    "    \"\"\"\n",
    "    Convierte una distancia en metros a notación de progresiva.\n",
    "    \n",
    "    Parámetros:\n",
    "    - distancia: int o float, la distancia en metros.\n",
    "    - decimales: int, número de decimales a mostrar en la parte de los metros.\n",
    "    \n",
    "    Retorna:\n",
    "    - str: progresiva en formato 'K+XXX' con los decimales indicados.\n",
    "    \"\"\"\n",
    "    if not isinstance(distancia, (int, float)):\n",
    "        raise ValueError(\"La distancia debe ser un número (int o float).\")\n",
    "    if not isinstance(decimales, int) or decimales < 0:\n",
    "        raise ValueError(\"Los decimales deben ser un entero no negativo.\")\n",
    "    \n",
    "    km = int(distancia) // 1000\n",
    "    metros = distancia - (km * 1000)\n",
    "    \n",
    "    formato_metros = f\"{metros:0.{decimales}f}\".zfill(3 + (1 if decimales > 0 else 0) + decimales)\n",
    "    return f\"{km}+{formato_metros}\""
   ]
  },
  {
   "cell_type": "markdown",
   "id": "d760e2d1",
   "metadata": {},
   "source": [
    "### Calcular avance"
   ]
  },
  {
   "cell_type": "code",
   "execution_count": 134,
   "id": "849b072b",
   "metadata": {},
   "outputs": [],
   "source": [
    "def calcular_avance(programado, ejecutado):\n",
    "    \"\"\"\n",
    "    Calcula el porcentaje de avance basado en lo programado y lo ejecutado.\n",
    "\n",
    "    Si lo programado es 0 y lo ejecutado es mayor a 0, devuelve 'ejecución adelantada'.\n",
    "    Si ambos son 0, devuelve 0.0.\n",
    "    En cualquier otro caso, devuelve el porcentaje (0-1) como float redondeado a 2 decimales.\n",
    "    \"\"\"\n",
    "    if programado == 0:\n",
    "        if ejecutado > 0:\n",
    "            return \"Ejec. adelantada\"\n",
    "        else:\n",
    "            return 0.0\n",
    "    else:\n",
    "        porcentaje = (ejecutado / programado) \n",
    "        return porcentaje"
   ]
  },
  {
   "cell_type": "markdown",
   "id": "b883d33f",
   "metadata": {},
   "source": [
    "### Ordenar por centena"
   ]
  },
  {
   "cell_type": "code",
   "execution_count": 135,
   "id": "4609a128",
   "metadata": {},
   "outputs": [],
   "source": [
    "def ordenar_por_centena(data: Any) -> List[Dict[str, Any]]:\n",
    "    \"\"\"\n",
    "    Toma un dict (o un JSON en formato str) cuyas claves acaban en número\n",
    "    y devuelve una lista de dicts {'key':…, 'value':…} ordenada por ese número.\n",
    "    Compatible con Firestore (to_dict()) y JSON.\n",
    "    \"\"\"\n",
    "    # Si viene como cadena JSON, lo convertimos\n",
    "    if isinstance(data, str):\n",
    "        data = json.loads(data)\n",
    "    \n",
    "    # Aseguramos que sea dict\n",
    "    if not isinstance(data, dict):\n",
    "        raise ValueError(\"Se esperaba un diccionario o un string JSON que represente un diccionario.\")\n",
    "\n",
    "    pattern = re.compile(r'(\\d+)$')\n",
    "\n",
    "    def obtener_clave_numerica(item):\n",
    "        clave = str(item[0])  # Convertimos clave a string en caso no lo sea\n",
    "        match = pattern.search(clave)\n",
    "        if match:\n",
    "            return int(match.group(1))\n",
    "        else:\n",
    "            return float('inf')  # Opcional: claves sin número al final se van al final\n",
    "\n",
    "    sorted_items = sorted(data.items(), key=obtener_clave_numerica)\n",
    "\n",
    "    return [{\"key\": k, \"value\": v} for k, v in sorted_items]"
   ]
  },
  {
   "cell_type": "markdown",
   "id": "ac01751b",
   "metadata": {},
   "source": [
    "### Clave grupo"
   ]
  },
  {
   "cell_type": "code",
   "execution_count": 136,
   "id": "d7b23af1",
   "metadata": {},
   "outputs": [],
   "source": [
    "def clave_grupo(item):\n",
    "    return int(item['key'][2:]) // 100  # 101→1, 201→2, etc."
   ]
  },
  {
   "cell_type": "markdown",
   "id": "73453013",
   "metadata": {},
   "source": [
    "## Carga de datos\n"
   ]
  },
  {
   "cell_type": "markdown",
   "id": "8dd111a2",
   "metadata": {},
   "source": [
    "### Firebase\n"
   ]
  },
  {
   "cell_type": "code",
   "execution_count": 137,
   "id": "d5d759a2",
   "metadata": {},
   "outputs": [
    {
     "name": "stdout",
     "output_type": "stream",
     "text": [
      "Colecciones disponibles: ['rutinarios']\n"
     ]
    }
   ],
   "source": [
    "# 1. Busca el .env en el directorio actual o en cualquiera de los padres\n",
    "dotenv_path = find_dotenv()\n",
    "if not dotenv_path:\n",
    "    raise FileNotFoundError(\n",
    "        \"No se encontró ningún archivo .env en este directorio ni en sus padres.\"\n",
    "    )\n",
    "load_dotenv(dotenv_path)\n",
    "\n",
    "# 2. Define el root del proyecto como la carpeta que contiene el .env\n",
    "project_root = Path(dotenv_path).parent\n",
    "\n",
    "# 3. Obtén la ruta relativa de las credenciales desde la variable de entorno\n",
    "rel_cred_path = os.getenv(\"FIRESTORE_CREDENTIALS\")\n",
    "if not rel_cred_path:\n",
    "    raise RuntimeError(\"No existe la variable FIRESTORE_CREDENTIALS en el .env\")\n",
    "\n",
    "# 4. Construye la ruta absoluta al JSON\n",
    "cred_path = Path(rel_cred_path)\n",
    "if not cred_path.is_absolute():\n",
    "    cred_path = (project_root / cred_path).resolve()\n",
    "\n",
    "if not cred_path.exists():\n",
    "    raise FileNotFoundError(f\"No existe el archivo de credenciales en: {cred_path}\")\n",
    "\n",
    "# 5. Carga las credenciales y crea el cliente de Firestore\n",
    "credentials = service_account.Credentials.from_service_account_file(str(cred_path))\n",
    "client = firestore.Client(credentials=credentials, project=credentials.project_id)\n",
    "\n",
    "# 6. Prueba que funcione\n",
    "print(\"Colecciones disponibles:\", [c.id for c in client.collections()])"
   ]
  },
  {
   "cell_type": "code",
   "execution_count": 138,
   "id": "91e8d7b1",
   "metadata": {},
   "outputs": [],
   "source": [
    "db = firestore.Client(credentials=credentials, project=credentials.project_id)"
   ]
  },
  {
   "cell_type": "markdown",
   "id": "deed6ace",
   "metadata": {},
   "source": [
    "#### Documento del proyecto firebase"
   ]
  },
  {
   "cell_type": "code",
   "execution_count": 139,
   "id": "32af4b93",
   "metadata": {},
   "outputs": [
    {
     "name": "stdout",
     "output_type": "stream",
     "text": [
      "{'contrato': {'contratista': {'razon_social': 'BUILDIA S.A.C.', 'ruc': ''},\n",
      "              'denominacion_tramo_convenio': 'EMP. AR-127 - MISANAYOC (KM '\n",
      "                                             '6+000)',\n",
      "              'fecha_inicio': {'anio': 2025, 'dia': 12, 'mes': 4},\n",
      "              'id_contrato': '002-2025',\n",
      "              'jefe_mantenimiento': {'apellido': 'Tinta Cáceres',\n",
      "                                     'dni': 0,\n",
      "                                     'nombre': 'Genaro',\n",
      "                                     'titulo': 'Ingeniero'},\n",
      "              'monto_contrato': 40800.0,\n",
      "              'numero_cuadrillas': 1,\n",
      "              'numero_trabajadores': 2,\n",
      "              'tiempo_ejecucion_dias': 240,\n",
      "              'tipo_servicio': 'mantenimiento rutinario'},\n",
      " 'datos_generales': {'distritos': ['Huanca'],\n",
      "                     'provincia': 'Caylloma',\n",
      "                     'region': 'Arequipa'},\n",
      " 'expediente': {'cargas_trabajo': {'MR101': 4.4,\n",
      "                                   'MR102': 1405,\n",
      "                                   'MR103': 8.67,\n",
      "                                   'MR104': 26.67,\n",
      "                                   'MR201': 6000,\n",
      "                                   'MR203': 420,\n",
      "                                   'MR301': 3466.67,\n",
      "                                   'MR401': 13.33,\n",
      "                                   'MR601': 29.04,\n",
      "                                   'MR701': 16},\n",
      "                'codigo_ruta': 'R0405148',\n",
      "                'coordenadas': {'fin': {'altitud': 3728,\n",
      "                                        'datum': 'WGS84',\n",
      "                                        'hemisferio': 'S',\n",
      "                                        'progresiva': 6600,\n",
      "                                        'x': 189675.12,\n",
      "                                        'y': 8229710.1,\n",
      "                                        'zona': None,\n",
      "                                        'zona_letra': None},\n",
      "                                'inicio': {'altitud': 3130,\n",
      "                                           'datum': 'WGS84',\n",
      "                                           'hemisferio': 'S',\n",
      "                                           'progresiva': 0,\n",
      "                                           'x': 191509.1,\n",
      "                                           'y': 8225824.5,\n",
      "                                           'zona': None,\n",
      "                                           'zona_letra': None}},\n",
      "                'gastos_generales': 0.15,\n",
      "                'longitud': 6600.0,\n",
      "                'monto_total': 41184.0,\n",
      "                'nombre': 'MANTENIMIENTO VIAL RUTINARIO DEL CAMINO VECINAL '\n",
      "                          'EMP. AR-706 - MISANAYOC, DISTRITO DE HUANCA, '\n",
      "                          'PROVINCIA DE CAYLLOMA, REGIÓN AREQUIPA',\n",
      "                'precios_unitarios': {'MR101': 265.3,\n",
      "                                      'MR102': 10.27,\n",
      "                                      'MR103': 21.0,\n",
      "                                      'MR104': 17.5,\n",
      "                                      'MR201': 0.44,\n",
      "                                      'MR202': 78.5,\n",
      "                                      'MR203': 5.25,\n",
      "                                      'MR204': 0.44,\n",
      "                                      'MR205': 105,\n",
      "                                      'MR206': 3.6,\n",
      "                                      'MR301': 0.14,\n",
      "                                      'MR401': 11.42,\n",
      "                                      'MR501': 0.53,\n",
      "                                      'MR601': 2.1,\n",
      "                                      'MR701': 43.75,\n",
      "                                      'MR702': 210},\n",
      "                'tarifa_km_mes': 780},\n",
      " 'general_data': {'distritos': ['Huanca'],\n",
      "                  'provincia': 'Caylloma',\n",
      "                  'region': 'Arequipa'},\n",
      " 'other': {'estado_conservacion_via': 'malo', 'tipo_superficie': 'afirmado'},\n",
      " 'otros': {'estado_conservacion_via': 'malo', 'tipo_superficie': 'afirmado'}}\n"
     ]
    }
   ],
   "source": [
    "doc_proyecto_firebase = db.collection(\"rutinarios\").document(proyecto).get().to_dict()\n",
    "\n",
    "pprint.pprint(doc_proyecto_firebase)"
   ]
  },
  {
   "cell_type": "markdown",
   "id": "b28071f7",
   "metadata": {},
   "source": [
    "#### Contrato\n"
   ]
  },
  {
   "cell_type": "code",
   "execution_count": 140,
   "id": "6e327ebc",
   "metadata": {},
   "outputs": [
    {
     "name": "stdout",
     "output_type": "stream",
     "text": [
      "{'contratista': {'razon_social': 'BUILDIA S.A.C.', 'ruc': ''},\n",
      " 'denominacion_tramo_convenio': 'EMP. AR-127 - MISANAYOC (KM 6+000)',\n",
      " 'fecha_inicio': {'anio': 2025, 'dia': 12, 'mes': 4},\n",
      " 'id_contrato': '002-2025',\n",
      " 'jefe_mantenimiento': {'apellido': 'Tinta Cáceres',\n",
      "                        'dni': 0,\n",
      "                        'nombre': 'Genaro',\n",
      "                        'titulo': 'Ingeniero'},\n",
      " 'monto_contrato': 40800.0,\n",
      " 'numero_cuadrillas': 1,\n",
      " 'numero_trabajadores': 2,\n",
      " 'tiempo_ejecucion_dias': 240,\n",
      " 'tipo_servicio': 'mantenimiento rutinario'}\n"
     ]
    }
   ],
   "source": [
    "contrato = doc_proyecto_firebase[\"contrato\"]\n",
    "pprint.pprint(contrato)"
   ]
  },
  {
   "cell_type": "code",
   "execution_count": 141,
   "id": "7244806b",
   "metadata": {},
   "outputs": [
    {
     "name": "stdout",
     "output_type": "stream",
     "text": [
      "40800.0\n"
     ]
    }
   ],
   "source": [
    "monto_contrato = contrato[\"monto_contrato\"]\n",
    "print(monto_contrato)"
   ]
  },
  {
   "cell_type": "markdown",
   "id": "c31a1858",
   "metadata": {},
   "source": [
    "#### Expediente técnico firebase"
   ]
  },
  {
   "cell_type": "code",
   "execution_count": 142,
   "id": "53bf4c99",
   "metadata": {},
   "outputs": [
    {
     "name": "stdout",
     "output_type": "stream",
     "text": [
      "{'cargas_trabajo': {'MR101': 4.4,\n",
      "                    'MR102': 1405,\n",
      "                    'MR103': 8.67,\n",
      "                    'MR104': 26.67,\n",
      "                    'MR201': 6000,\n",
      "                    'MR203': 420,\n",
      "                    'MR301': 3466.67,\n",
      "                    'MR401': 13.33,\n",
      "                    'MR601': 29.04,\n",
      "                    'MR701': 16},\n",
      " 'codigo_ruta': 'R0405148',\n",
      " 'coordenadas': {'fin': {'altitud': 3728,\n",
      "                         'datum': 'WGS84',\n",
      "                         'hemisferio': 'S',\n",
      "                         'progresiva': 6600,\n",
      "                         'x': 189675.12,\n",
      "                         'y': 8229710.1,\n",
      "                         'zona': None,\n",
      "                         'zona_letra': None},\n",
      "                 'inicio': {'altitud': 3130,\n",
      "                            'datum': 'WGS84',\n",
      "                            'hemisferio': 'S',\n",
      "                            'progresiva': 0,\n",
      "                            'x': 191509.1,\n",
      "                            'y': 8225824.5,\n",
      "                            'zona': None,\n",
      "                            'zona_letra': None}},\n",
      " 'gastos_generales': 0.15,\n",
      " 'longitud': 6600.0,\n",
      " 'monto_total': 41184.0,\n",
      " 'nombre': 'MANTENIMIENTO VIAL RUTINARIO DEL CAMINO VECINAL EMP. AR-706 - '\n",
      "           'MISANAYOC, DISTRITO DE HUANCA, PROVINCIA DE CAYLLOMA, REGIÓN '\n",
      "           'AREQUIPA',\n",
      " 'precios_unitarios': {'MR101': 265.3,\n",
      "                       'MR102': 10.27,\n",
      "                       'MR103': 21.0,\n",
      "                       'MR104': 17.5,\n",
      "                       'MR201': 0.44,\n",
      "                       'MR202': 78.5,\n",
      "                       'MR203': 5.25,\n",
      "                       'MR204': 0.44,\n",
      "                       'MR205': 105,\n",
      "                       'MR206': 3.6,\n",
      "                       'MR301': 0.14,\n",
      "                       'MR401': 11.42,\n",
      "                       'MR501': 0.53,\n",
      "                       'MR601': 2.1,\n",
      "                       'MR701': 43.75,\n",
      "                       'MR702': 210},\n",
      " 'tarifa_km_mes': 780}\n"
     ]
    }
   ],
   "source": [
    "expediente_tecnico_firebase = doc_proyecto_firebase[\"expediente\"]\n",
    "\n",
    "pprint.pprint(expediente_tecnico_firebase)"
   ]
  },
  {
   "cell_type": "code",
   "execution_count": 143,
   "id": "67e4f0e7",
   "metadata": {},
   "outputs": [
    {
     "name": "stdout",
     "output_type": "stream",
     "text": [
      "0.15\n"
     ]
    }
   ],
   "source": [
    "gastos_generales_expediente=expediente_tecnico_firebase['gastos_generales']\n",
    "print(gastos_generales_expediente)\n"
   ]
  },
  {
   "cell_type": "markdown",
   "id": "1be115c2",
   "metadata": {},
   "source": [
    "#### Progresiva de inicio y fin del expediente"
   ]
  },
  {
   "cell_type": "code",
   "execution_count": 144,
   "id": "96e63c62",
   "metadata": {},
   "outputs": [
    {
     "name": "stdout",
     "output_type": "stream",
     "text": [
      "0\n",
      "6600\n"
     ]
    }
   ],
   "source": [
    "progresiva_inicio=expediente_tecnico_firebase[\"coordenadas\"][\"inicio\"][\"progresiva\"]\n",
    "progresiva_fin=expediente_tecnico_firebase[\"coordenadas\"][\"fin\"][\"progresiva\"]\n",
    "\n",
    "print(progresiva_inicio)\n",
    "print(progresiva_fin)"
   ]
  },
  {
   "cell_type": "markdown",
   "id": "d54ceec0",
   "metadata": {},
   "source": [
    "#### Valorización programada mensual\n"
   ]
  },
  {
   "cell_type": "code",
   "execution_count": 145,
   "id": "c0223f88",
   "metadata": {},
   "outputs": [
    {
     "name": "stdout",
     "output_type": "stream",
     "text": [
      "{'10': {'gastos_operativos': 527.0,\n",
      "        'igv': 948.6,\n",
      "        'mantenimiento_con_go': 5797.0,\n",
      "        'mantenimiento_con_igv': 5270.0,\n",
      "        'mantenimiento_sin_igv': 4321.4},\n",
      " '11': {'gastos_operativos': 510.0,\n",
      "        'igv': 918.0,\n",
      "        'mantenimiento_con_go': 5610.0,\n",
      "        'mantenimiento_con_igv': 5100.0,\n",
      "        'mantenimiento_sin_igv': 4182.0},\n",
      " '12': {'gastos_operativos': 119.0,\n",
      "        'igv': 214.2,\n",
      "        'mantenimiento_con_go': 1309.0,\n",
      "        'mantenimiento_con_igv': 1190.0,\n",
      "        'mantenimiento_sin_igv': 975.8},\n",
      " '4': {'gastos_operativos': 323.0,\n",
      "       'igv': 581.4,\n",
      "       'mantenimiento_con_go': 3553.0,\n",
      "       'mantenimiento_con_igv': 3230.0,\n",
      "       'mantenimiento_sin_igv': 2648.6},\n",
      " '5': {'gastos_operativos': 527.0,\n",
      "       'igv': 948.6,\n",
      "       'mantenimiento_con_go': 5797.0,\n",
      "       'mantenimiento_con_igv': 5270.0,\n",
      "       'mantenimiento_sin_igv': 4321.4},\n",
      " '6': {'gastos_operativos': 510.0,\n",
      "       'igv': 918.0,\n",
      "       'mantenimiento_con_go': 5610.0,\n",
      "       'mantenimiento_con_igv': 5100.0,\n",
      "       'mantenimiento_sin_igv': 4182.0},\n",
      " '7': {'gastos_operativos': 527.0,\n",
      "       'igv': 948.6,\n",
      "       'mantenimiento_con_go': 5797.0,\n",
      "       'mantenimiento_con_igv': 5270.0,\n",
      "       'mantenimiento_sin_igv': 4321.4},\n",
      " '8': {'gastos_operativos': 527.0,\n",
      "       'igv': 948.6,\n",
      "       'mantenimiento_con_go': 5797.0,\n",
      "       'mantenimiento_con_igv': 5270.0,\n",
      "       'mantenimiento_sin_igv': 4321.4},\n",
      " '9': {'gastos_operativos': 510.0,\n",
      "       'igv': 918.0,\n",
      "       'mantenimiento_con_go': 5610.0,\n",
      "       'mantenimiento_con_igv': 5100.0,\n",
      "       'mantenimiento_sin_igv': 4182.0}}\n"
     ]
    }
   ],
   "source": [
    "desembolsos =  db.collection(\"rutinarios\").document(proyecto).collection('presupuestos').document('desembolsos').get().to_dict()\n",
    "cronogramas_desembolsos = desembolsos['cronograma_desembolsos']\n",
    "pprint.pprint(cronogramas_desembolsos)"
   ]
  },
  {
   "cell_type": "code",
   "execution_count": 146,
   "id": "e10fd420",
   "metadata": {},
   "outputs": [
    {
     "name": "stdout",
     "output_type": "stream",
     "text": [
      "5270.0\n"
     ]
    }
   ],
   "source": [
    "desembolso_current_month = cronogramas_desembolsos[str(mes)]\n",
    "print(desembolso_current_month[\"mantenimiento_con_igv\"])"
   ]
  },
  {
   "cell_type": "markdown",
   "id": "4e05a292",
   "metadata": {},
   "source": [
    "#### Cargas de trabajo mensual presentadas por el contratista\n"
   ]
  },
  {
   "cell_type": "code",
   "execution_count": 147,
   "id": "eea395e5",
   "metadata": {},
   "outputs": [
    {
     "name": "stdout",
     "output_type": "stream",
     "text": [
      "{'MR301': 385.19, 'MR203': 63.64, 'MR201': 769.23, 'MR101': 0.57, 'MR102': 180.46, 'MR104': 3.33, 'MR701': 2, 'MR601': 4.15}\n"
     ]
    }
   ],
   "source": [
    "valorizaciones = db.collection(\"rutinarios\").document(proyecto).collection('valorizaciones').document(str(mes)).get().to_dict()\n",
    "cargas_trabajo_contratista = valorizaciones['cargas_trabajo_contratista_inicial']\n",
    "print(cargas_trabajo_contratista)"
   ]
  },
  {
   "cell_type": "markdown",
   "id": "2109ab59",
   "metadata": {},
   "source": [
    "#### Cargas de trabajo del expediente técnico"
   ]
  },
  {
   "cell_type": "code",
   "execution_count": 148,
   "id": "2d8df224",
   "metadata": {},
   "outputs": [
    {
     "name": "stdout",
     "output_type": "stream",
     "text": [
      "{'MR101': 4.4,\n",
      " 'MR102': 1405,\n",
      " 'MR103': 8.67,\n",
      " 'MR104': 26.67,\n",
      " 'MR201': 6000,\n",
      " 'MR203': 420,\n",
      " 'MR301': 3466.67,\n",
      " 'MR401': 13.33,\n",
      " 'MR601': 29.04,\n",
      " 'MR701': 16}\n"
     ]
    }
   ],
   "source": [
    "cargas_trabajo_expediente_tecnico=doc_proyecto_firebase['expediente']['cargas_trabajo']\n",
    "\n",
    "pprint.pprint(cargas_trabajo_expediente_tecnico)"
   ]
  },
  {
   "cell_type": "markdown",
   "id": "4951f85d",
   "metadata": {},
   "source": [
    "#### Precios unitarios del expediente técnico"
   ]
  },
  {
   "cell_type": "code",
   "execution_count": 149,
   "id": "0ce7707d",
   "metadata": {},
   "outputs": [
    {
     "name": "stdout",
     "output_type": "stream",
     "text": [
      "{'MR101': 265.3,\n",
      " 'MR102': 10.27,\n",
      " 'MR103': 21.0,\n",
      " 'MR104': 17.5,\n",
      " 'MR201': 0.44,\n",
      " 'MR202': 78.5,\n",
      " 'MR203': 5.25,\n",
      " 'MR204': 0.44,\n",
      " 'MR205': 105,\n",
      " 'MR206': 3.6,\n",
      " 'MR301': 0.14,\n",
      " 'MR401': 11.42,\n",
      " 'MR501': 0.53,\n",
      " 'MR601': 2.1,\n",
      " 'MR701': 43.75,\n",
      " 'MR702': 210}\n"
     ]
    }
   ],
   "source": [
    "precios_unitarios_expediente_tecnico = doc_proyecto_firebase['expediente']['precios_unitarios']\n",
    "\n",
    "pprint.pprint(precios_unitarios_expediente_tecnico)"
   ]
  },
  {
   "cell_type": "markdown",
   "id": "f83521dd",
   "metadata": {},
   "source": [
    "### Pickle"
   ]
  },
  {
   "cell_type": "markdown",
   "id": "8b729baf",
   "metadata": {},
   "source": [
    "#### Cargas de trabajo programadas"
   ]
  },
  {
   "cell_type": "code",
   "execution_count": 150,
   "id": "2f34eeda",
   "metadata": {},
   "outputs": [
    {
     "data": {
      "text/html": [
       "<div>\n",
       "<style scoped>\n",
       "    .dataframe tbody tr th:only-of-type {\n",
       "        vertical-align: middle;\n",
       "    }\n",
       "\n",
       "    .dataframe tbody tr th {\n",
       "        vertical-align: top;\n",
       "    }\n",
       "\n",
       "    .dataframe thead th {\n",
       "        text-align: right;\n",
       "    }\n",
       "</style>\n",
       "<table border=\"1\" class=\"dataframe\">\n",
       "  <thead>\n",
       "    <tr style=\"text-align: right;\">\n",
       "      <th></th>\n",
       "      <th>2025-04</th>\n",
       "      <th>2025-05</th>\n",
       "      <th>2025-06</th>\n",
       "      <th>2025-07</th>\n",
       "      <th>2025-08</th>\n",
       "      <th>2025-09</th>\n",
       "      <th>2025-10</th>\n",
       "      <th>2025-11</th>\n",
       "      <th>2025-12</th>\n",
       "      <th>TOTAL</th>\n",
       "    </tr>\n",
       "    <tr>\n",
       "      <th>codigo</th>\n",
       "      <th></th>\n",
       "      <th></th>\n",
       "      <th></th>\n",
       "      <th></th>\n",
       "      <th></th>\n",
       "      <th></th>\n",
       "      <th></th>\n",
       "      <th></th>\n",
       "      <th></th>\n",
       "      <th></th>\n",
       "    </tr>\n",
       "  </thead>\n",
       "  <tbody>\n",
       "    <tr>\n",
       "      <th>MR103</th>\n",
       "      <td>0.000000</td>\n",
       "      <td>0.000000</td>\n",
       "      <td>2.890000</td>\n",
       "      <td>0.000000</td>\n",
       "      <td>0.000000</td>\n",
       "      <td>2.890000</td>\n",
       "      <td>0.000000</td>\n",
       "      <td>2.890000</td>\n",
       "      <td>0.000000</td>\n",
       "      <td>8.67</td>\n",
       "    </tr>\n",
       "    <tr>\n",
       "      <th>MR104</th>\n",
       "      <td>3.333750</td>\n",
       "      <td>3.333750</td>\n",
       "      <td>3.333750</td>\n",
       "      <td>3.333750</td>\n",
       "      <td>3.333750</td>\n",
       "      <td>3.333750</td>\n",
       "      <td>3.333750</td>\n",
       "      <td>3.333750</td>\n",
       "      <td>0.000000</td>\n",
       "      <td>26.67</td>\n",
       "    </tr>\n",
       "    <tr>\n",
       "      <th>MR201</th>\n",
       "      <td>461.538462</td>\n",
       "      <td>769.230769</td>\n",
       "      <td>769.230769</td>\n",
       "      <td>769.230769</td>\n",
       "      <td>769.230769</td>\n",
       "      <td>769.230769</td>\n",
       "      <td>769.230769</td>\n",
       "      <td>769.230769</td>\n",
       "      <td>153.846154</td>\n",
       "      <td>6000.00</td>\n",
       "    </tr>\n",
       "    <tr>\n",
       "      <th>MR202</th>\n",
       "      <td>0.000000</td>\n",
       "      <td>0.000000</td>\n",
       "      <td>0.000000</td>\n",
       "      <td>0.000000</td>\n",
       "      <td>0.000000</td>\n",
       "      <td>0.000000</td>\n",
       "      <td>0.000000</td>\n",
       "      <td>0.000000</td>\n",
       "      <td>0.000000</td>\n",
       "      <td>0.00</td>\n",
       "    </tr>\n",
       "    <tr>\n",
       "      <th>MR203</th>\n",
       "      <td>38.181818</td>\n",
       "      <td>63.636364</td>\n",
       "      <td>50.909091</td>\n",
       "      <td>50.909091</td>\n",
       "      <td>50.909091</td>\n",
       "      <td>50.909091</td>\n",
       "      <td>50.909091</td>\n",
       "      <td>50.909091</td>\n",
       "      <td>12.727273</td>\n",
       "      <td>420.00</td>\n",
       "    </tr>\n",
       "    <tr>\n",
       "      <th>MR204</th>\n",
       "      <td>0.000000</td>\n",
       "      <td>0.000000</td>\n",
       "      <td>0.000000</td>\n",
       "      <td>0.000000</td>\n",
       "      <td>0.000000</td>\n",
       "      <td>0.000000</td>\n",
       "      <td>0.000000</td>\n",
       "      <td>0.000000</td>\n",
       "      <td>0.000000</td>\n",
       "      <td>0.00</td>\n",
       "    </tr>\n",
       "    <tr>\n",
       "      <th>MR205</th>\n",
       "      <td>0.000000</td>\n",
       "      <td>0.000000</td>\n",
       "      <td>0.000000</td>\n",
       "      <td>0.000000</td>\n",
       "      <td>0.000000</td>\n",
       "      <td>0.000000</td>\n",
       "      <td>0.000000</td>\n",
       "      <td>0.000000</td>\n",
       "      <td>0.000000</td>\n",
       "      <td>0.00</td>\n",
       "    </tr>\n",
       "    <tr>\n",
       "      <th>MR206</th>\n",
       "      <td>0.000000</td>\n",
       "      <td>0.000000</td>\n",
       "      <td>0.000000</td>\n",
       "      <td>0.000000</td>\n",
       "      <td>0.000000</td>\n",
       "      <td>0.000000</td>\n",
       "      <td>0.000000</td>\n",
       "      <td>0.000000</td>\n",
       "      <td>0.000000</td>\n",
       "      <td>0.00</td>\n",
       "    </tr>\n",
       "    <tr>\n",
       "      <th>MR301</th>\n",
       "      <td>385.185556</td>\n",
       "      <td>385.185556</td>\n",
       "      <td>385.185556</td>\n",
       "      <td>385.185556</td>\n",
       "      <td>385.185556</td>\n",
       "      <td>385.185556</td>\n",
       "      <td>385.185556</td>\n",
       "      <td>385.185556</td>\n",
       "      <td>385.185556</td>\n",
       "      <td>3466.67</td>\n",
       "    </tr>\n",
       "    <tr>\n",
       "      <th>MR401</th>\n",
       "      <td>0.000000</td>\n",
       "      <td>3.332500</td>\n",
       "      <td>0.000000</td>\n",
       "      <td>3.332500</td>\n",
       "      <td>3.332500</td>\n",
       "      <td>0.000000</td>\n",
       "      <td>3.332500</td>\n",
       "      <td>0.000000</td>\n",
       "      <td>0.000000</td>\n",
       "      <td>13.33</td>\n",
       "    </tr>\n",
       "    <tr>\n",
       "      <th>MR501</th>\n",
       "      <td>0.000000</td>\n",
       "      <td>0.000000</td>\n",
       "      <td>0.000000</td>\n",
       "      <td>0.000000</td>\n",
       "      <td>0.000000</td>\n",
       "      <td>0.000000</td>\n",
       "      <td>0.000000</td>\n",
       "      <td>0.000000</td>\n",
       "      <td>0.000000</td>\n",
       "      <td>0.00</td>\n",
       "    </tr>\n",
       "    <tr>\n",
       "      <th>MR601</th>\n",
       "      <td>0.000000</td>\n",
       "      <td>0.000000</td>\n",
       "      <td>0.000000</td>\n",
       "      <td>7.260000</td>\n",
       "      <td>7.260000</td>\n",
       "      <td>7.260000</td>\n",
       "      <td>7.260000</td>\n",
       "      <td>0.000000</td>\n",
       "      <td>0.000000</td>\n",
       "      <td>29.04</td>\n",
       "    </tr>\n",
       "    <tr>\n",
       "      <th>MR701</th>\n",
       "      <td>2.000000</td>\n",
       "      <td>2.000000</td>\n",
       "      <td>2.000000</td>\n",
       "      <td>2.000000</td>\n",
       "      <td>2.000000</td>\n",
       "      <td>2.000000</td>\n",
       "      <td>2.000000</td>\n",
       "      <td>2.000000</td>\n",
       "      <td>0.000000</td>\n",
       "      <td>16.00</td>\n",
       "    </tr>\n",
       "    <tr>\n",
       "      <th>MR702</th>\n",
       "      <td>0.000000</td>\n",
       "      <td>0.000000</td>\n",
       "      <td>0.000000</td>\n",
       "      <td>0.000000</td>\n",
       "      <td>0.000000</td>\n",
       "      <td>0.000000</td>\n",
       "      <td>0.000000</td>\n",
       "      <td>0.000000</td>\n",
       "      <td>0.000000</td>\n",
       "      <td>0.00</td>\n",
       "    </tr>\n",
       "    <tr>\n",
       "      <th>TOTAL</th>\n",
       "      <td>0.000000</td>\n",
       "      <td>0.000000</td>\n",
       "      <td>0.000000</td>\n",
       "      <td>0.000000</td>\n",
       "      <td>0.000000</td>\n",
       "      <td>0.000000</td>\n",
       "      <td>0.000000</td>\n",
       "      <td>0.000000</td>\n",
       "      <td>0.000000</td>\n",
       "      <td>0.00</td>\n",
       "    </tr>\n",
       "  </tbody>\n",
       "</table>\n",
       "</div>"
      ],
      "text/plain": [
       "           2025-04     2025-05     2025-06     2025-07     2025-08  \\\n",
       "codigo                                                               \n",
       "MR103     0.000000    0.000000    2.890000    0.000000    0.000000   \n",
       "MR104     3.333750    3.333750    3.333750    3.333750    3.333750   \n",
       "MR201   461.538462  769.230769  769.230769  769.230769  769.230769   \n",
       "MR202     0.000000    0.000000    0.000000    0.000000    0.000000   \n",
       "MR203    38.181818   63.636364   50.909091   50.909091   50.909091   \n",
       "MR204     0.000000    0.000000    0.000000    0.000000    0.000000   \n",
       "MR205     0.000000    0.000000    0.000000    0.000000    0.000000   \n",
       "MR206     0.000000    0.000000    0.000000    0.000000    0.000000   \n",
       "MR301   385.185556  385.185556  385.185556  385.185556  385.185556   \n",
       "MR401     0.000000    3.332500    0.000000    3.332500    3.332500   \n",
       "MR501     0.000000    0.000000    0.000000    0.000000    0.000000   \n",
       "MR601     0.000000    0.000000    0.000000    7.260000    7.260000   \n",
       "MR701     2.000000    2.000000    2.000000    2.000000    2.000000   \n",
       "MR702     0.000000    0.000000    0.000000    0.000000    0.000000   \n",
       "TOTAL     0.000000    0.000000    0.000000    0.000000    0.000000   \n",
       "\n",
       "           2025-09     2025-10     2025-11     2025-12    TOTAL  \n",
       "codigo                                                           \n",
       "MR103     2.890000    0.000000    2.890000    0.000000     8.67  \n",
       "MR104     3.333750    3.333750    3.333750    0.000000    26.67  \n",
       "MR201   769.230769  769.230769  769.230769  153.846154  6000.00  \n",
       "MR202     0.000000    0.000000    0.000000    0.000000     0.00  \n",
       "MR203    50.909091   50.909091   50.909091   12.727273   420.00  \n",
       "MR204     0.000000    0.000000    0.000000    0.000000     0.00  \n",
       "MR205     0.000000    0.000000    0.000000    0.000000     0.00  \n",
       "MR206     0.000000    0.000000    0.000000    0.000000     0.00  \n",
       "MR301   385.185556  385.185556  385.185556  385.185556  3466.67  \n",
       "MR401     0.000000    3.332500    0.000000    0.000000    13.33  \n",
       "MR501     0.000000    0.000000    0.000000    0.000000     0.00  \n",
       "MR601     7.260000    7.260000    0.000000    0.000000    29.04  \n",
       "MR701     2.000000    2.000000    2.000000    0.000000    16.00  \n",
       "MR702     0.000000    0.000000    0.000000    0.000000     0.00  \n",
       "TOTAL     0.000000    0.000000    0.000000    0.000000     0.00  "
      ]
     },
     "execution_count": 150,
     "metadata": {},
     "output_type": "execute_result"
    }
   ],
   "source": [
    "# Concatenar la ruta completa al archivo .pkl\n",
    "ruta_archivo = os.path.join(\"data\",proyecto, f\"{proyecto}_cargas_trabajo.pkl\")\n",
    "\n",
    "# Leer el archivo pickle\n",
    "with open(ruta_archivo, \"rb\") as f:\n",
    "    cargas_trabajo_programadas_anualmente = pickle.load(f)\n",
    "\n",
    "cargas_trabajo_programadas_anualmente.tail(15)"
   ]
  },
  {
   "cell_type": "code",
   "execution_count": 151,
   "id": "dc545894",
   "metadata": {},
   "outputs": [],
   "source": [
    "#eliminando el total\n",
    "cargas_trabajo_programadas_anualmente = cargas_trabajo_programadas_anualmente.iloc[:-1]"
   ]
  },
  {
   "cell_type": "code",
   "execution_count": 152,
   "id": "00611e16",
   "metadata": {},
   "outputs": [
    {
     "name": "stdout",
     "output_type": "stream",
     "text": [
      "{'MR101': 0.5739130434782609,\n",
      " 'MR102': 180.45871559633028,\n",
      " 'MR103': 0.0,\n",
      " 'MR104': 3.33375,\n",
      " 'MR201': 769.2307692307692,\n",
      " 'MR202': 0.0,\n",
      " 'MR203': 63.63636363636364,\n",
      " 'MR204': 0.0,\n",
      " 'MR205': 0.0,\n",
      " 'MR206': 0.0,\n",
      " 'MR301': 385.18555555555554,\n",
      " 'MR401': 3.3325,\n",
      " 'MR501': 0.0,\n",
      " 'MR601': 0.0,\n",
      " 'MR701': 2.0,\n",
      " 'MR702': 0.0}\n"
     ]
    }
   ],
   "source": [
    "cargas_trabajo_programadas_current_month = cargas_trabajo_programadas_anualmente[f\"2025-{mes:02d}\"].to_dict()\n",
    "pprint.pprint(cargas_trabajo_programadas_current_month)"
   ]
  },
  {
   "cell_type": "code",
   "execution_count": 153,
   "id": "057aa42a",
   "metadata": {},
   "outputs": [
    {
     "data": {
      "text/plain": [
       "['MR101',\n",
       " 'MR102',\n",
       " 'MR103',\n",
       " 'MR104',\n",
       " 'MR201',\n",
       " 'MR202',\n",
       " 'MR203',\n",
       " 'MR204',\n",
       " 'MR205',\n",
       " 'MR206',\n",
       " 'MR301',\n",
       " 'MR401',\n",
       " 'MR501',\n",
       " 'MR601',\n",
       " 'MR701',\n",
       " 'MR702']"
      ]
     },
     "execution_count": 153,
     "metadata": {},
     "output_type": "execute_result"
    }
   ],
   "source": [
    "cargas_trabajo_programadas_anualmente.index.to_list()"
   ]
  },
  {
   "cell_type": "markdown",
   "id": "0e03287c",
   "metadata": {},
   "source": [
    "#### Cronograma anual"
   ]
  },
  {
   "cell_type": "code",
   "execution_count": 154,
   "id": "895b2b34",
   "metadata": {},
   "outputs": [
    {
     "data": {
      "text/html": [
       "<div>\n",
       "<style scoped>\n",
       "    .dataframe tbody tr th:only-of-type {\n",
       "        vertical-align: middle;\n",
       "    }\n",
       "\n",
       "    .dataframe tbody tr th {\n",
       "        vertical-align: top;\n",
       "    }\n",
       "\n",
       "    .dataframe thead th {\n",
       "        text-align: right;\n",
       "    }\n",
       "</style>\n",
       "<table border=\"1\" class=\"dataframe\">\n",
       "  <thead>\n",
       "    <tr style=\"text-align: right;\">\n",
       "      <th></th>\n",
       "      <th>2025-04</th>\n",
       "      <th>2025-05</th>\n",
       "      <th>2025-06</th>\n",
       "      <th>2025-07</th>\n",
       "      <th>2025-08</th>\n",
       "      <th>2025-09</th>\n",
       "      <th>2025-10</th>\n",
       "      <th>2025-11</th>\n",
       "      <th>2025-12</th>\n",
       "      <th>TOTAL</th>\n",
       "    </tr>\n",
       "  </thead>\n",
       "  <tbody>\n",
       "    <tr>\n",
       "      <th>MR101</th>\n",
       "      <td>1</td>\n",
       "      <td>3</td>\n",
       "      <td>3</td>\n",
       "      <td>3</td>\n",
       "      <td>3</td>\n",
       "      <td>3</td>\n",
       "      <td>3</td>\n",
       "      <td>3</td>\n",
       "      <td>1</td>\n",
       "      <td>23</td>\n",
       "    </tr>\n",
       "    <tr>\n",
       "      <th>MR102</th>\n",
       "      <td>9</td>\n",
       "      <td>14</td>\n",
       "      <td>14</td>\n",
       "      <td>14</td>\n",
       "      <td>14</td>\n",
       "      <td>13</td>\n",
       "      <td>14</td>\n",
       "      <td>14</td>\n",
       "      <td>3</td>\n",
       "      <td>109</td>\n",
       "    </tr>\n",
       "    <tr>\n",
       "      <th>MR103</th>\n",
       "      <td>0</td>\n",
       "      <td>0</td>\n",
       "      <td>1</td>\n",
       "      <td>0</td>\n",
       "      <td>0</td>\n",
       "      <td>1</td>\n",
       "      <td>0</td>\n",
       "      <td>1</td>\n",
       "      <td>0</td>\n",
       "      <td>3</td>\n",
       "    </tr>\n",
       "    <tr>\n",
       "      <th>MR104</th>\n",
       "      <td>1</td>\n",
       "      <td>1</td>\n",
       "      <td>1</td>\n",
       "      <td>1</td>\n",
       "      <td>1</td>\n",
       "      <td>1</td>\n",
       "      <td>1</td>\n",
       "      <td>1</td>\n",
       "      <td>0</td>\n",
       "      <td>8</td>\n",
       "    </tr>\n",
       "    <tr>\n",
       "      <th>MR201</th>\n",
       "      <td>3</td>\n",
       "      <td>5</td>\n",
       "      <td>5</td>\n",
       "      <td>5</td>\n",
       "      <td>5</td>\n",
       "      <td>5</td>\n",
       "      <td>5</td>\n",
       "      <td>5</td>\n",
       "      <td>1</td>\n",
       "      <td>39</td>\n",
       "    </tr>\n",
       "    <tr>\n",
       "      <th>MR202</th>\n",
       "      <td>0</td>\n",
       "      <td>0</td>\n",
       "      <td>0</td>\n",
       "      <td>0</td>\n",
       "      <td>0</td>\n",
       "      <td>0</td>\n",
       "      <td>0</td>\n",
       "      <td>0</td>\n",
       "      <td>0</td>\n",
       "      <td>0</td>\n",
       "    </tr>\n",
       "    <tr>\n",
       "      <th>MR203</th>\n",
       "      <td>3</td>\n",
       "      <td>5</td>\n",
       "      <td>4</td>\n",
       "      <td>4</td>\n",
       "      <td>4</td>\n",
       "      <td>4</td>\n",
       "      <td>4</td>\n",
       "      <td>4</td>\n",
       "      <td>1</td>\n",
       "      <td>33</td>\n",
       "    </tr>\n",
       "    <tr>\n",
       "      <th>MR204</th>\n",
       "      <td>0</td>\n",
       "      <td>0</td>\n",
       "      <td>0</td>\n",
       "      <td>0</td>\n",
       "      <td>0</td>\n",
       "      <td>0</td>\n",
       "      <td>0</td>\n",
       "      <td>0</td>\n",
       "      <td>0</td>\n",
       "      <td>0</td>\n",
       "    </tr>\n",
       "    <tr>\n",
       "      <th>MR205</th>\n",
       "      <td>0</td>\n",
       "      <td>0</td>\n",
       "      <td>0</td>\n",
       "      <td>0</td>\n",
       "      <td>0</td>\n",
       "      <td>0</td>\n",
       "      <td>0</td>\n",
       "      <td>0</td>\n",
       "      <td>0</td>\n",
       "      <td>0</td>\n",
       "    </tr>\n",
       "    <tr>\n",
       "      <th>MR206</th>\n",
       "      <td>0</td>\n",
       "      <td>0</td>\n",
       "      <td>0</td>\n",
       "      <td>0</td>\n",
       "      <td>0</td>\n",
       "      <td>0</td>\n",
       "      <td>0</td>\n",
       "      <td>0</td>\n",
       "      <td>0</td>\n",
       "      <td>0</td>\n",
       "    </tr>\n",
       "    <tr>\n",
       "      <th>MR301</th>\n",
       "      <td>1</td>\n",
       "      <td>1</td>\n",
       "      <td>1</td>\n",
       "      <td>1</td>\n",
       "      <td>1</td>\n",
       "      <td>1</td>\n",
       "      <td>1</td>\n",
       "      <td>1</td>\n",
       "      <td>1</td>\n",
       "      <td>9</td>\n",
       "    </tr>\n",
       "    <tr>\n",
       "      <th>MR401</th>\n",
       "      <td>0</td>\n",
       "      <td>1</td>\n",
       "      <td>0</td>\n",
       "      <td>1</td>\n",
       "      <td>1</td>\n",
       "      <td>0</td>\n",
       "      <td>1</td>\n",
       "      <td>0</td>\n",
       "      <td>0</td>\n",
       "      <td>4</td>\n",
       "    </tr>\n",
       "    <tr>\n",
       "      <th>MR501</th>\n",
       "      <td>0</td>\n",
       "      <td>0</td>\n",
       "      <td>0</td>\n",
       "      <td>0</td>\n",
       "      <td>0</td>\n",
       "      <td>0</td>\n",
       "      <td>0</td>\n",
       "      <td>0</td>\n",
       "      <td>0</td>\n",
       "      <td>0</td>\n",
       "    </tr>\n",
       "    <tr>\n",
       "      <th>MR601</th>\n",
       "      <td>0</td>\n",
       "      <td>0</td>\n",
       "      <td>0</td>\n",
       "      <td>1</td>\n",
       "      <td>1</td>\n",
       "      <td>1</td>\n",
       "      <td>1</td>\n",
       "      <td>0</td>\n",
       "      <td>0</td>\n",
       "      <td>4</td>\n",
       "    </tr>\n",
       "    <tr>\n",
       "      <th>MR701</th>\n",
       "      <td>1</td>\n",
       "      <td>1</td>\n",
       "      <td>1</td>\n",
       "      <td>1</td>\n",
       "      <td>1</td>\n",
       "      <td>1</td>\n",
       "      <td>1</td>\n",
       "      <td>1</td>\n",
       "      <td>0</td>\n",
       "      <td>8</td>\n",
       "    </tr>\n",
       "  </tbody>\n",
       "</table>\n",
       "</div>"
      ],
      "text/plain": [
       "       2025-04  2025-05  2025-06  2025-07  2025-08  2025-09  2025-10  2025-11  \\\n",
       "MR101        1        3        3        3        3        3        3        3   \n",
       "MR102        9       14       14       14       14       13       14       14   \n",
       "MR103        0        0        1        0        0        1        0        1   \n",
       "MR104        1        1        1        1        1        1        1        1   \n",
       "MR201        3        5        5        5        5        5        5        5   \n",
       "MR202        0        0        0        0        0        0        0        0   \n",
       "MR203        3        5        4        4        4        4        4        4   \n",
       "MR204        0        0        0        0        0        0        0        0   \n",
       "MR205        0        0        0        0        0        0        0        0   \n",
       "MR206        0        0        0        0        0        0        0        0   \n",
       "MR301        1        1        1        1        1        1        1        1   \n",
       "MR401        0        1        0        1        1        0        1        0   \n",
       "MR501        0        0        0        0        0        0        0        0   \n",
       "MR601        0        0        0        1        1        1        1        0   \n",
       "MR701        1        1        1        1        1        1        1        1   \n",
       "\n",
       "       2025-12  TOTAL  \n",
       "MR101        1     23  \n",
       "MR102        3    109  \n",
       "MR103        0      3  \n",
       "MR104        0      8  \n",
       "MR201        1     39  \n",
       "MR202        0      0  \n",
       "MR203        1     33  \n",
       "MR204        0      0  \n",
       "MR205        0      0  \n",
       "MR206        0      0  \n",
       "MR301        1      9  \n",
       "MR401        0      4  \n",
       "MR501        0      0  \n",
       "MR601        0      4  \n",
       "MR701        0      8  "
      ]
     },
     "execution_count": 154,
     "metadata": {},
     "output_type": "execute_result"
    }
   ],
   "source": [
    "# Concatenar la ruta completa al archivo .pkl\n",
    "ruta_archivo = os.path.join(\"data\",proyecto, f\"{proyecto}_cronograma_anual.pkl\")\n",
    "\n",
    "# Leer el archivo pickle\n",
    "with open(ruta_archivo, \"rb\") as f:\n",
    "    df_cronograma_anual = pickle.load(f)\n",
    "\n",
    "df_cronograma_anual.head(15)"
   ]
  },
  {
   "cell_type": "markdown",
   "id": "4ec0f5f5",
   "metadata": {},
   "source": [
    "### JSON"
   ]
  },
  {
   "cell_type": "markdown",
   "id": "d7fa2247",
   "metadata": {},
   "source": [
    "#### Actividades"
   ]
  },
  {
   "cell_type": "code",
   "execution_count": 155,
   "id": "33aeed2c",
   "metadata": {},
   "outputs": [
    {
     "name": "stdout",
     "output_type": "stream",
     "text": [
      "[{'key': 'MR100', 'value': {'label': 'Conservación de calzada', 'value': [{'key': 'MR101', 'value': {'label': 'Limpieza de calzada', 'carga_trabajo': 0, 'unidad': 'Km'}}, {'key': 'MR102', 'value': {'label': 'Bacheo', 'carga_trabajo': 0, 'unidad': 'm2'}}, {'key': 'MR103', 'value': {'label': 'Desquinche', 'carga_trabajo': 0, 'unidad': 'm3'}}, {'key': 'MR104', 'value': {'label': 'Remoción de derrumbes', 'carga_trabajo': 0, 'unidad': 'm3'}}]}}, {'key': 'MR200', 'value': {'label': 'Limpieza de obras de arte', 'value': [{'key': 'MR201', 'value': {'label': 'Limpieza de cunetas', 'carga_trabajo': 1440, 'unidad': 'm'}}, {'key': 'MR202', 'value': {'label': 'Limpieza de alcantarillas', 'carga_trabajo': 0, 'unidad': 'unidad'}}, {'key': 'MR203', 'value': {'label': 'Limpieza de badén', 'carga_trabajo': 0, 'unidad': 'm2'}}, {'key': 'MR204', 'value': {'label': 'Limpieza de zanjas de coronación', 'carga_trabajo': 0, 'unidad': 'm'}}, {'key': 'MR205', 'value': {'label': 'Limpieza de pontones', 'carga_trabajo': 0, 'unidad': 'unidad'}}, {'key': 'MR206', 'value': {'label': 'Encausamiento de pequeños cursos de agua', 'carga_trabajo': 0, 'unidad': 'm'}}]}}, {'key': 'MR300', 'value': {'label': 'Control de vegetación', 'value': [{'key': 'MR301', 'value': {'label': 'Roce y limpieza', 'carga_trabajo': 0, 'unidad': 'm2'}}]}}, {'key': 'MR400', 'value': {'label': 'Seguridad vial', 'value': [{'key': 'MR401', 'value': {'label': 'Conservación de señales', 'carga_trabajo': 10, 'unidad': 'unidad'}}]}}, {'key': 'MR500', 'value': {'label': 'Medio ambiente', 'value': [{'key': 'MR501', 'value': {'label': 'Reforestación', 'carga_trabajo': 0, 'unidad': 'unidad'}}]}}, {'key': 'MR600', 'value': {'label': 'Vigilancia y control vial', 'value': [{'key': 'MR601', 'value': {'label': 'Vigilancia y control', 'carga_trabajo': 0, 'unidad': 'Km'}}]}}, {'key': 'MR700', 'value': {'label': 'Actividades complementarias', 'value': [{'key': 'MR701', 'value': {'label': 'Reparación de muros secos', 'carga_trabajo': 0, 'unidad': 'm3'}}, {'key': 'MR702', 'value': {'label': 'Reparación de pontones', 'carga_trabajo': 0, 'unidad': 'unidad'}}]}}, {'key': 'VP100', 'value': {'label': 'Vias pavimentadas', 'value': [{'key': 'VP101', 'value': {'label': 'Parchado superficial', 'carga_trabajo': 0, 'unidad': 'm2'}}, {'key': 'VP102', 'value': {'label': 'Parchado profundo', 'carga_trabajo': 0, 'unidad': 'm2'}}]}}]\n"
     ]
    }
   ],
   "source": [
    "ruta_actividades= os.path.join(\"data\", \"general_data\", \"actividades.json\")\n",
    "with open(ruta_actividades, 'r', encoding='utf-8') as archivo:\n",
    "    actividades = json.load(archivo)\n",
    "# Ahora 'datos' es un diccionario de Python\n",
    "print(actividades)"
   ]
  },
  {
   "cell_type": "markdown",
   "id": "68e13015",
   "metadata": {},
   "source": [
    "## Cálculos\n"
   ]
  },
  {
   "cell_type": "markdown",
   "id": "8e2dfc24",
   "metadata": {},
   "source": [
    "### Cargas de trabajo y pu de expediente tecnico"
   ]
  },
  {
   "cell_type": "code",
   "execution_count": 156,
   "id": "a3554c91",
   "metadata": {},
   "outputs": [
    {
     "name": "stdout",
     "output_type": "stream",
     "text": [
      "{'MR101': {'carga_trabajo': 4.4, 'precio_unitario': 265.3},\n",
      " 'MR102': {'carga_trabajo': 1405, 'precio_unitario': 10.27},\n",
      " 'MR103': {'carga_trabajo': 8.67, 'precio_unitario': 21.0},\n",
      " 'MR104': {'carga_trabajo': 26.67, 'precio_unitario': 17.5},\n",
      " 'MR201': {'carga_trabajo': 6000, 'precio_unitario': 0.44},\n",
      " 'MR203': {'carga_trabajo': 420, 'precio_unitario': 5.25},\n",
      " 'MR301': {'carga_trabajo': 3466.67, 'precio_unitario': 0.14},\n",
      " 'MR401': {'carga_trabajo': 13.33, 'precio_unitario': 11.42},\n",
      " 'MR601': {'carga_trabajo': 29.04, 'precio_unitario': 2.1},\n",
      " 'MR701': {'carga_trabajo': 16, 'precio_unitario': 43.75}}\n"
     ]
    }
   ],
   "source": [
    "datos_cargas_trabajo_expediente_tecnico=fusionar_diccionarios(\n",
    "    {\n",
    "        'precio_unitario':precios_unitarios_expediente_tecnico,\n",
    "        'carga_trabajo':cargas_trabajo_expediente_tecnico\n",
    "    }\n",
    ")\n",
    "\n",
    "pprint.pprint(datos_cargas_trabajo_expediente_tecnico)"
   ]
  },
  {
   "cell_type": "code",
   "execution_count": 157,
   "id": "b8f69b72",
   "metadata": {},
   "outputs": [],
   "source": [
    "# Crear DataFrame usando pd.DataFrame.from_dict() con orient='index'\n",
    "df_cargas_trabajo_expediente = pd.DataFrame.from_dict(\n",
    "    datos_cargas_trabajo_expediente_tecnico, orient=\"index\"\n",
    ")\n",
    "\n",
    "# Resetear el índice para convertir las claves MR en una columna\n",
    "df_cargas_trabajo_expediente = df_cargas_trabajo_expediente.reset_index().rename(\n",
    "    columns={\"index\": \"codigo_MR\"}\n",
    ")"
   ]
  },
  {
   "cell_type": "code",
   "execution_count": 158,
   "id": "966265c4",
   "metadata": {},
   "outputs": [],
   "source": [
    "# Agregar columna parcial\n",
    "df_cargas_trabajo_expediente[\"parcial\"] = (\n",
    "    df_cargas_trabajo_expediente[\"precio_unitario\"]\n",
    "    * df_cargas_trabajo_expediente[\"carga_trabajo\"]\n",
    ")"
   ]
  },
  {
   "cell_type": "code",
   "execution_count": 159,
   "id": "42f40b0c",
   "metadata": {},
   "outputs": [
    {
     "data": {
      "text/html": [
       "<div>\n",
       "<style scoped>\n",
       "    .dataframe tbody tr th:only-of-type {\n",
       "        vertical-align: middle;\n",
       "    }\n",
       "\n",
       "    .dataframe tbody tr th {\n",
       "        vertical-align: top;\n",
       "    }\n",
       "\n",
       "    .dataframe thead th {\n",
       "        text-align: right;\n",
       "    }\n",
       "</style>\n",
       "<table border=\"1\" class=\"dataframe\">\n",
       "  <thead>\n",
       "    <tr style=\"text-align: right;\">\n",
       "      <th></th>\n",
       "      <th>codigo_MR</th>\n",
       "      <th>precio_unitario</th>\n",
       "      <th>carga_trabajo</th>\n",
       "      <th>parcial</th>\n",
       "    </tr>\n",
       "  </thead>\n",
       "  <tbody>\n",
       "    <tr>\n",
       "      <th>0</th>\n",
       "      <td>MR104</td>\n",
       "      <td>17.50</td>\n",
       "      <td>26.67</td>\n",
       "      <td>466.7250</td>\n",
       "    </tr>\n",
       "    <tr>\n",
       "      <th>1</th>\n",
       "      <td>MR103</td>\n",
       "      <td>21.00</td>\n",
       "      <td>8.67</td>\n",
       "      <td>182.0700</td>\n",
       "    </tr>\n",
       "    <tr>\n",
       "      <th>2</th>\n",
       "      <td>MR301</td>\n",
       "      <td>0.14</td>\n",
       "      <td>3466.67</td>\n",
       "      <td>485.3338</td>\n",
       "    </tr>\n",
       "    <tr>\n",
       "      <th>3</th>\n",
       "      <td>MR401</td>\n",
       "      <td>11.42</td>\n",
       "      <td>13.33</td>\n",
       "      <td>152.2286</td>\n",
       "    </tr>\n",
       "    <tr>\n",
       "      <th>4</th>\n",
       "      <td>MR203</td>\n",
       "      <td>5.25</td>\n",
       "      <td>420.00</td>\n",
       "      <td>2205.0000</td>\n",
       "    </tr>\n",
       "    <tr>\n",
       "      <th>5</th>\n",
       "      <td>MR701</td>\n",
       "      <td>43.75</td>\n",
       "      <td>16.00</td>\n",
       "      <td>700.0000</td>\n",
       "    </tr>\n",
       "    <tr>\n",
       "      <th>6</th>\n",
       "      <td>MR101</td>\n",
       "      <td>265.30</td>\n",
       "      <td>4.40</td>\n",
       "      <td>1167.3200</td>\n",
       "    </tr>\n",
       "    <tr>\n",
       "      <th>7</th>\n",
       "      <td>MR102</td>\n",
       "      <td>10.27</td>\n",
       "      <td>1405.00</td>\n",
       "      <td>14429.3500</td>\n",
       "    </tr>\n",
       "    <tr>\n",
       "      <th>8</th>\n",
       "      <td>MR201</td>\n",
       "      <td>0.44</td>\n",
       "      <td>6000.00</td>\n",
       "      <td>2640.0000</td>\n",
       "    </tr>\n",
       "    <tr>\n",
       "      <th>9</th>\n",
       "      <td>MR601</td>\n",
       "      <td>2.10</td>\n",
       "      <td>29.04</td>\n",
       "      <td>60.9840</td>\n",
       "    </tr>\n",
       "  </tbody>\n",
       "</table>\n",
       "</div>"
      ],
      "text/plain": [
       "  codigo_MR  precio_unitario  carga_trabajo     parcial\n",
       "0     MR104            17.50          26.67    466.7250\n",
       "1     MR103            21.00           8.67    182.0700\n",
       "2     MR301             0.14        3466.67    485.3338\n",
       "3     MR401            11.42          13.33    152.2286\n",
       "4     MR203             5.25         420.00   2205.0000\n",
       "5     MR701            43.75          16.00    700.0000\n",
       "6     MR101           265.30           4.40   1167.3200\n",
       "7     MR102            10.27        1405.00  14429.3500\n",
       "8     MR201             0.44        6000.00   2640.0000\n",
       "9     MR601             2.10          29.04     60.9840"
      ]
     },
     "execution_count": 159,
     "metadata": {},
     "output_type": "execute_result"
    }
   ],
   "source": [
    "df_cargas_trabajo_expediente.head(15)"
   ]
  },
  {
   "cell_type": "code",
   "execution_count": 160,
   "id": "4da817a7",
   "metadata": {},
   "outputs": [
    {
     "name": "stdout",
     "output_type": "stream",
     "text": [
      "costo_directo 22489.0114\n"
     ]
    }
   ],
   "source": [
    "# Calcular el total\n",
    "costo_directo = df_cargas_trabajo_expediente[\"parcial\"].sum()\n",
    "print(\"costo_directo\", costo_directo)"
   ]
  },
  {
   "cell_type": "code",
   "execution_count": 161,
   "id": "180e3007",
   "metadata": {},
   "outputs": [
    {
     "name": "stdout",
     "output_type": "stream",
     "text": [
      "31844.44\n"
     ]
    }
   ],
   "source": [
    "costo_total_expediente = calculadora_costo_total(costo_directo,gastos_generales_expediente)\n",
    "print(costo_total_expediente[\"total\"])"
   ]
  },
  {
   "cell_type": "code",
   "execution_count": 162,
   "id": "2fe2679d",
   "metadata": {},
   "outputs": [
    {
     "name": "stdout",
     "output_type": "stream",
     "text": [
      "El costo directo es: 28813.559450880595\n"
     ]
    }
   ],
   "source": [
    "# Agregar columna parcial\n",
    "df_cargas_trabajo_expediente[\"precio_unitario_actualizado\"] = (\n",
    "    df_cargas_trabajo_expediente[\"precio_unitario\"]\n",
    "    * (monto_contrato / costo_total_expediente[\"total\"])\n",
    ")\n",
    "\n",
    "df_cargas_trabajo_expediente[\"parcial_actualizado\"] = (\n",
    "    df_cargas_trabajo_expediente[\"precio_unitario_actualizado\"]\n",
    "    * df_cargas_trabajo_expediente[\"carga_trabajo\"]\n",
    ")\n",
    "\n",
    "# Calcular el total\n",
    "costo_directo_actualizado = df_cargas_trabajo_expediente[\"parcial_actualizado\"].sum()\n",
    "\n",
    "print(f\"El costo directo es: {costo_directo_actualizado}\")"
   ]
  },
  {
   "cell_type": "code",
   "execution_count": 163,
   "id": "8ed1563c",
   "metadata": {},
   "outputs": [
    {
     "data": {
      "text/html": [
       "<div>\n",
       "<style scoped>\n",
       "    .dataframe tbody tr th:only-of-type {\n",
       "        vertical-align: middle;\n",
       "    }\n",
       "\n",
       "    .dataframe tbody tr th {\n",
       "        vertical-align: top;\n",
       "    }\n",
       "\n",
       "    .dataframe thead th {\n",
       "        text-align: right;\n",
       "    }\n",
       "</style>\n",
       "<table border=\"1\" class=\"dataframe\">\n",
       "  <thead>\n",
       "    <tr style=\"text-align: right;\">\n",
       "      <th></th>\n",
       "      <th>codigo_MR</th>\n",
       "      <th>precio_unitario</th>\n",
       "      <th>carga_trabajo</th>\n",
       "      <th>parcial</th>\n",
       "      <th>precio_unitario_actualizado</th>\n",
       "      <th>parcial_actualizado</th>\n",
       "    </tr>\n",
       "  </thead>\n",
       "  <tbody>\n",
       "    <tr>\n",
       "      <th>0</th>\n",
       "      <td>MR104</td>\n",
       "      <td>17.50</td>\n",
       "      <td>26.67</td>\n",
       "      <td>466.7250</td>\n",
       "      <td>22.421496</td>\n",
       "      <td>597.981312</td>\n",
       "    </tr>\n",
       "    <tr>\n",
       "      <th>1</th>\n",
       "      <td>MR103</td>\n",
       "      <td>21.00</td>\n",
       "      <td>8.67</td>\n",
       "      <td>182.0700</td>\n",
       "      <td>26.905796</td>\n",
       "      <td>233.273250</td>\n",
       "    </tr>\n",
       "    <tr>\n",
       "      <th>2</th>\n",
       "      <td>MR301</td>\n",
       "      <td>0.14</td>\n",
       "      <td>3466.67</td>\n",
       "      <td>485.3338</td>\n",
       "      <td>0.179372</td>\n",
       "      <td>621.823434</td>\n",
       "    </tr>\n",
       "    <tr>\n",
       "      <th>3</th>\n",
       "      <td>MR401</td>\n",
       "      <td>11.42</td>\n",
       "      <td>13.33</td>\n",
       "      <td>152.2286</td>\n",
       "      <td>14.631628</td>\n",
       "      <td>195.039601</td>\n",
       "    </tr>\n",
       "    <tr>\n",
       "      <th>4</th>\n",
       "      <td>MR203</td>\n",
       "      <td>5.25</td>\n",
       "      <td>420.00</td>\n",
       "      <td>2205.0000</td>\n",
       "      <td>6.726449</td>\n",
       "      <td>2825.108559</td>\n",
       "    </tr>\n",
       "    <tr>\n",
       "      <th>5</th>\n",
       "      <td>MR701</td>\n",
       "      <td>43.75</td>\n",
       "      <td>16.00</td>\n",
       "      <td>700.0000</td>\n",
       "      <td>56.053741</td>\n",
       "      <td>896.859860</td>\n",
       "    </tr>\n",
       "    <tr>\n",
       "      <th>6</th>\n",
       "      <td>MR101</td>\n",
       "      <td>265.30</td>\n",
       "      <td>4.40</td>\n",
       "      <td>1167.3200</td>\n",
       "      <td>339.909887</td>\n",
       "      <td>1495.603503</td>\n",
       "    </tr>\n",
       "    <tr>\n",
       "      <th>7</th>\n",
       "      <td>MR102</td>\n",
       "      <td>10.27</td>\n",
       "      <td>1405.00</td>\n",
       "      <td>14429.3500</td>\n",
       "      <td>13.158215</td>\n",
       "      <td>18487.292601</td>\n",
       "    </tr>\n",
       "    <tr>\n",
       "      <th>8</th>\n",
       "      <td>MR201</td>\n",
       "      <td>0.44</td>\n",
       "      <td>6000.00</td>\n",
       "      <td>2640.0000</td>\n",
       "      <td>0.563740</td>\n",
       "      <td>3382.442901</td>\n",
       "    </tr>\n",
       "    <tr>\n",
       "      <th>9</th>\n",
       "      <td>MR601</td>\n",
       "      <td>2.10</td>\n",
       "      <td>29.04</td>\n",
       "      <td>60.9840</td>\n",
       "      <td>2.690580</td>\n",
       "      <td>78.134431</td>\n",
       "    </tr>\n",
       "  </tbody>\n",
       "</table>\n",
       "</div>"
      ],
      "text/plain": [
       "  codigo_MR  precio_unitario  carga_trabajo     parcial  \\\n",
       "0     MR104            17.50          26.67    466.7250   \n",
       "1     MR103            21.00           8.67    182.0700   \n",
       "2     MR301             0.14        3466.67    485.3338   \n",
       "3     MR401            11.42          13.33    152.2286   \n",
       "4     MR203             5.25         420.00   2205.0000   \n",
       "5     MR701            43.75          16.00    700.0000   \n",
       "6     MR101           265.30           4.40   1167.3200   \n",
       "7     MR102            10.27        1405.00  14429.3500   \n",
       "8     MR201             0.44        6000.00   2640.0000   \n",
       "9     MR601             2.10          29.04     60.9840   \n",
       "\n",
       "   precio_unitario_actualizado  parcial_actualizado  \n",
       "0                    22.421496           597.981312  \n",
       "1                    26.905796           233.273250  \n",
       "2                     0.179372           621.823434  \n",
       "3                    14.631628           195.039601  \n",
       "4                     6.726449          2825.108559  \n",
       "5                    56.053741           896.859860  \n",
       "6                   339.909887          1495.603503  \n",
       "7                    13.158215         18487.292601  \n",
       "8                     0.563740          3382.442901  \n",
       "9                     2.690580            78.134431  "
      ]
     },
     "execution_count": 163,
     "metadata": {},
     "output_type": "execute_result"
    }
   ],
   "source": [
    "df_cargas_trabajo_expediente.tail(10)"
   ]
  },
  {
   "cell_type": "code",
   "execution_count": 164,
   "id": "b532ac06",
   "metadata": {},
   "outputs": [
    {
     "name": "stdout",
     "output_type": "stream",
     "text": [
      "40800.0\n"
     ]
    }
   ],
   "source": [
    "pago_costo_total_contratista = calculadora_costo_total(costo_directo_actualizado,gastos_generales_expediente)\n",
    "print(pago_costo_total_contratista[\"total\"])"
   ]
  },
  {
   "cell_type": "code",
   "execution_count": 165,
   "id": "51d9a840",
   "metadata": {},
   "outputs": [
    {
     "name": "stdout",
     "output_type": "stream",
     "text": [
      "{'MR101': 339.9098869378768,\n",
      " 'MR102': 13.158215374489236,\n",
      " 'MR103': 26.905795799831935,\n",
      " 'MR104': 22.421496499859945,\n",
      " 'MR201': 0.5637404834250501,\n",
      " 'MR203': 6.726448949957984,\n",
      " 'MR301': 0.17937197199887958,\n",
      " 'MR401': 14.63162800162289,\n",
      " 'MR601': 2.6905795799831935,\n",
      " 'MR701': 56.05374124964987}\n"
     ]
    }
   ],
   "source": [
    "dict_precios_unitarios_actualizados = dict(\n",
    "    zip(\n",
    "        df_cargas_trabajo_expediente[\"codigo_MR\"],\n",
    "        df_cargas_trabajo_expediente[\"precio_unitario_actualizado\"],\n",
    "    )\n",
    ")\n",
    "\n",
    "pprint.pprint(dict_precios_unitarios_actualizados)"
   ]
  },
  {
   "cell_type": "markdown",
   "id": "ba5e08d9",
   "metadata": {},
   "source": [
    "### Cálculo de pago de acuerdo a cargas de trabajo\n"
   ]
  },
  {
   "cell_type": "code",
   "execution_count": 166,
   "id": "93294446",
   "metadata": {},
   "outputs": [
    {
     "name": "stdout",
     "output_type": "stream",
     "text": [
      "{'MR101': 193.74863555458978,\n",
      " 'MR102': 2374.5315464803275,\n",
      " 'MR103': 0.0,\n",
      " 'MR104': 74.66358334453362,\n",
      " 'MR201': 433.64609206505133,\n",
      " 'MR203': 428.0712111753261,\n",
      " 'MR301': 69.09228989424842,\n",
      " 'MR401': 0.0,\n",
      " 'MR601': 11.165905256930253,\n",
      " 'MR701': 112.10748249929973}\n"
     ]
    }
   ],
   "source": [
    "pago_costo_directo_parciales_contratista = calcular_costos_unitarios(\n",
    "    dict_precios_unitarios_actualizados, cargas_trabajo_contratista\n",
    ")\n",
    "pprint.pprint(pago_costo_directo_parciales_contratista)"
   ]
  },
  {
   "cell_type": "markdown",
   "id": "8ffbf13b",
   "metadata": {},
   "source": [
    "##### Visualizacion en dataframe\n"
   ]
  },
  {
   "cell_type": "code",
   "execution_count": 167,
   "id": "be601e52",
   "metadata": {},
   "outputs": [
    {
     "data": {
      "text/html": [
       "<div>\n",
       "<style scoped>\n",
       "    .dataframe tbody tr th:only-of-type {\n",
       "        vertical-align: middle;\n",
       "    }\n",
       "\n",
       "    .dataframe tbody tr th {\n",
       "        vertical-align: top;\n",
       "    }\n",
       "\n",
       "    .dataframe thead th {\n",
       "        text-align: right;\n",
       "    }\n",
       "</style>\n",
       "<table border=\"1\" class=\"dataframe\">\n",
       "  <thead>\n",
       "    <tr style=\"text-align: right;\">\n",
       "      <th></th>\n",
       "      <th>codigo_MR</th>\n",
       "      <th>monto_pago</th>\n",
       "    </tr>\n",
       "  </thead>\n",
       "  <tbody>\n",
       "    <tr>\n",
       "      <th>0</th>\n",
       "      <td>MR104</td>\n",
       "      <td>74.663583</td>\n",
       "    </tr>\n",
       "    <tr>\n",
       "      <th>1</th>\n",
       "      <td>MR103</td>\n",
       "      <td>0.000000</td>\n",
       "    </tr>\n",
       "    <tr>\n",
       "      <th>2</th>\n",
       "      <td>MR301</td>\n",
       "      <td>69.092290</td>\n",
       "    </tr>\n",
       "    <tr>\n",
       "      <th>3</th>\n",
       "      <td>MR401</td>\n",
       "      <td>0.000000</td>\n",
       "    </tr>\n",
       "    <tr>\n",
       "      <th>4</th>\n",
       "      <td>MR203</td>\n",
       "      <td>428.071211</td>\n",
       "    </tr>\n",
       "    <tr>\n",
       "      <th>5</th>\n",
       "      <td>MR701</td>\n",
       "      <td>112.107482</td>\n",
       "    </tr>\n",
       "    <tr>\n",
       "      <th>6</th>\n",
       "      <td>MR101</td>\n",
       "      <td>193.748636</td>\n",
       "    </tr>\n",
       "    <tr>\n",
       "      <th>7</th>\n",
       "      <td>MR102</td>\n",
       "      <td>2374.531546</td>\n",
       "    </tr>\n",
       "    <tr>\n",
       "      <th>8</th>\n",
       "      <td>MR201</td>\n",
       "      <td>433.646092</td>\n",
       "    </tr>\n",
       "    <tr>\n",
       "      <th>9</th>\n",
       "      <td>MR601</td>\n",
       "      <td>11.165905</td>\n",
       "    </tr>\n",
       "  </tbody>\n",
       "</table>\n",
       "</div>"
      ],
      "text/plain": [
       "  codigo_MR   monto_pago\n",
       "0     MR104    74.663583\n",
       "1     MR103     0.000000\n",
       "2     MR301    69.092290\n",
       "3     MR401     0.000000\n",
       "4     MR203   428.071211\n",
       "5     MR701   112.107482\n",
       "6     MR101   193.748636\n",
       "7     MR102  2374.531546\n",
       "8     MR201   433.646092\n",
       "9     MR601    11.165905"
      ]
     },
     "execution_count": 167,
     "metadata": {},
     "output_type": "execute_result"
    }
   ],
   "source": [
    "df_pago_costo_directo_parciales_contratista = pd.DataFrame.from_dict(\n",
    "    pago_costo_directo_parciales_contratista, orient=\"index\"\n",
    ")\n",
    "\n",
    "df_pago_costo_directo_parciales_contratista = (\n",
    "    df_pago_costo_directo_parciales_contratista.reset_index().rename(\n",
    "        columns={\"index\": \"codigo_MR\"}\n",
    "    )\n",
    ")\n",
    "\n",
    "df_pago_costo_directo_parciales_contratista = (\n",
    "    df_pago_costo_directo_parciales_contratista.rename(columns={0: \"monto_pago\"})\n",
    ")\n",
    "\n",
    "df_pago_costo_directo_parciales_contratista"
   ]
  },
  {
   "cell_type": "code",
   "execution_count": 168,
   "id": "124db32b",
   "metadata": {},
   "outputs": [
    {
     "name": "stdout",
     "output_type": "stream",
     "text": [
      "\n",
      "DataFrame Ordenado por 'monto_pago' (ascendente):\n",
      "  codigo_MR   monto_pago\n",
      "7     MR102  2374.531546\n",
      "8     MR201   433.646092\n",
      "4     MR203   428.071211\n",
      "6     MR101   193.748636\n",
      "5     MR701   112.107482\n",
      "0     MR104    74.663583\n",
      "2     MR301    69.092290\n",
      "9     MR601    11.165905\n",
      "1     MR103     0.000000\n",
      "3     MR401     0.000000\n"
     ]
    }
   ],
   "source": [
    "# Ordenar el DataFrame por la columna 'monto_pago'\n",
    "# Por defecto, el orden es ascendente (de menor a mayor)\n",
    "df_ordenado = df_pago_costo_directo_parciales_contratista.sort_values(\n",
    "    by=\"monto_pago\", ascending=False\n",
    ")\n",
    "\n",
    "print(\"\\nDataFrame Ordenado por 'monto_pago' (ascendente):\")\n",
    "print(df_ordenado)"
   ]
  },
  {
   "cell_type": "code",
   "execution_count": 169,
   "id": "a6b2bc35",
   "metadata": {},
   "outputs": [],
   "source": [
    "# Lambda que suma todos los valores de un diccionario\n",
    "sumar_valores = lambda d: sum(d.values())"
   ]
  },
  {
   "cell_type": "code",
   "execution_count": 170,
   "id": "8ec2741f",
   "metadata": {},
   "outputs": [
    {
     "name": "stdout",
     "output_type": "stream",
     "text": [
      "3697.026746270307\n"
     ]
    }
   ],
   "source": [
    "pago_costo_directo_contratista = sumar_valores(pago_costo_directo_parciales_contratista)\n",
    "print(pago_costo_directo_contratista)"
   ]
  },
  {
   "cell_type": "code",
   "execution_count": 171,
   "id": "a02e99b6",
   "metadata": {},
   "outputs": [
    {
     "name": "stdout",
     "output_type": "stream",
     "text": [
      "5234.99\n"
     ]
    }
   ],
   "source": [
    "pago_costo_total_contratista = calculadora_costo_total(pago_costo_directo_contratista,gastos_generales_expediente)\n",
    "print(pago_costo_total_contratista[\"total\"])"
   ]
  },
  {
   "cell_type": "markdown",
   "id": "a6981349",
   "metadata": {},
   "source": [
    "##### Validación\n"
   ]
  },
  {
   "cell_type": "code",
   "execution_count": 172,
   "id": "49fdb8ec",
   "metadata": {},
   "outputs": [
    {
     "name": "stdout",
     "output_type": "stream",
     "text": [
      "{'diferencia_costos': 35.01000000000022,\n",
      " 'ejecutado': 5234.99,\n",
      " 'programado': 5270.0}\n"
     ]
    },
    {
     "ename": "ValueError",
     "evalue": "La valorizacion de las actividades presentadas por el contratista no es coherente con lo programado",
     "output_type": "error",
     "traceback": [
      "\u001b[31m---------------------------------------------------------------------------\u001b[39m",
      "\u001b[31mValueError\u001b[39m                                Traceback (most recent call last)",
      "\u001b[36mCell\u001b[39m\u001b[36m \u001b[39m\u001b[32mIn[172]\u001b[39m\u001b[32m, line 15\u001b[39m\n\u001b[32m      6\u001b[39m pprint.pprint(\n\u001b[32m      7\u001b[39m     {\n\u001b[32m      8\u001b[39m         \u001b[33m\"\u001b[39m\u001b[33mdiferencia_costos\u001b[39m\u001b[33m\"\u001b[39m: diferencia_costos,\n\u001b[32m   (...)\u001b[39m\u001b[32m     11\u001b[39m     }\n\u001b[32m     12\u001b[39m )\n\u001b[32m     14\u001b[39m \u001b[38;5;28;01mif\u001b[39;00m diferencia_costos > \u001b[32m1\u001b[39m:\n\u001b[32m---> \u001b[39m\u001b[32m15\u001b[39m     \u001b[38;5;28;01mraise\u001b[39;00m \u001b[38;5;167;01mValueError\u001b[39;00m(\n\u001b[32m     16\u001b[39m         \u001b[33m\"\u001b[39m\u001b[33mLa valorizacion de las actividades presentadas por el contratista no es coherente con lo programado\u001b[39m\u001b[33m\"\u001b[39m\n\u001b[32m     17\u001b[39m     )\n",
      "\u001b[31mValueError\u001b[39m: La valorizacion de las actividades presentadas por el contratista no es coherente con lo programado"
     ]
    }
   ],
   "source": [
    "diferencia_costos = abs(\n",
    "    pago_costo_total_contratista[\"total\"]\n",
    "    - desembolso_current_month[\"mantenimiento_con_igv\"]\n",
    ")\n",
    "\n",
    "pprint.pprint(\n",
    "    {\n",
    "        \"diferencia_costos\": diferencia_costos,\n",
    "        \"ejecutado\": pago_costo_total_contratista[\"total\"],\n",
    "        \"programado\": desembolso_current_month[\"mantenimiento_con_igv\"],\n",
    "    }\n",
    ")\n",
    "\n",
    "if diferencia_costos > 1:\n",
    "    raise ValueError(\n",
    "        \"La valorizacion de las actividades presentadas por el contratista no es coherente con lo programado\"\n",
    "    )"
   ]
  },
  {
   "cell_type": "markdown",
   "id": "02a4abcd",
   "metadata": {},
   "source": [
    "### Ordenando cargas de trabajo"
   ]
  },
  {
   "cell_type": "code",
   "execution_count": null,
   "id": "30481fde",
   "metadata": {},
   "outputs": [
    {
     "name": "stdout",
     "output_type": "stream",
     "text": [
      "[{'key': 'MR101', 'value': 0.99375},\n",
      " {'key': 'MR102', 'value': 328.0038461538461},\n",
      " {'key': 'MR103', 'value': 5.0075},\n",
      " {'key': 'MR104', 'value': 10.17142857142857},\n",
      " {'key': 'MR201', 'value': 0.0},\n",
      " {'key': 'MR202', 'value': 0.0},\n",
      " {'key': 'MR203', 'value': 44.448},\n",
      " {'key': 'MR204', 'value': 0.0},\n",
      " {'key': 'MR205', 'value': 0.0},\n",
      " {'key': 'MR206', 'value': 33.91},\n",
      " {'key': 'MR301', 'value': 3903.83},\n",
      " {'key': 'MR401', 'value': 0.0},\n",
      " {'key': 'MR501', 'value': 0.0},\n",
      " {'key': 'MR601', 'value': 0.0},\n",
      " {'key': 'MR701', 'value': 3.4320000000000004},\n",
      " {'key': 'MR702', 'value': 0.0}]\n"
     ]
    }
   ],
   "source": [
    "cargas_trabajo_ordenadas=ordenar_por_centena(cargas_trabajo_programadas_current_month)\n",
    "pprint.pprint(cargas_trabajo_ordenadas)"
   ]
  }
 ],
 "metadata": {
  "kernelspec": {
   "display_name": ".venv",
   "language": "python",
   "name": "python3"
  },
  "language_info": {
   "codemirror_mode": {
    "name": "ipython",
    "version": 3
   },
   "file_extension": ".py",
   "mimetype": "text/x-python",
   "name": "python",
   "nbconvert_exporter": "python",
   "pygments_lexer": "ipython3",
   "version": "3.12.4"
  }
 },
 "nbformat": 4,
 "nbformat_minor": 5
}
