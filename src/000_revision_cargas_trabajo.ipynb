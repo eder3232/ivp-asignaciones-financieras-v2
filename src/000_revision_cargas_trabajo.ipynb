{
 "cells": [
  {
   "cell_type": "markdown",
   "id": "27faf011",
   "metadata": {},
   "source": [
    "# Asignaciones financieras\n"
   ]
  },
  {
   "cell_type": "markdown",
   "id": "ceeafbfb",
   "metadata": {},
   "source": [
    "## Datos de proyecto en análisis\n"
   ]
  },
  {
   "cell_type": "code",
   "execution_count": 240,
   "id": "71833bfa",
   "metadata": {},
   "outputs": [],
   "source": [
    "proyecto = \"sibayo\"\n",
    "mes = 5\n",
    "anio = 2025"
   ]
  },
  {
   "cell_type": "markdown",
   "id": "0414ab72",
   "metadata": {},
   "source": [
    "## Librerias necesarias\n"
   ]
  },
  {
   "cell_type": "code",
   "execution_count": 241,
   "id": "932ebbf3",
   "metadata": {},
   "outputs": [],
   "source": [
    "import pandas as pd\n",
    "import os\n",
    "import pprint\n",
    "import pickle\n",
    "import json\n",
    "import xlsxwriter\n",
    "from xlsxwriter.utility import xl_range, xl_rowcol_to_cell\n",
    "import re\n",
    "from typing import Dict, List, Any\n",
    "import itertools\n",
    "from pathlib import Path\n",
    "from dotenv import load_dotenv, find_dotenv\n",
    "from google.oauth2 import service_account\n",
    "from google.cloud import firestore\n",
    "import excel2img\n",
    "from dotenv import load_dotenv, find_dotenv\n",
    "from openpyxl import load_workbook\n",
    "from openpyxl.utils import get_column_letter\n",
    "import win32com.client as win32"
   ]
  },
  {
   "cell_type": "markdown",
   "id": "98e69374",
   "metadata": {},
   "source": [
    "## Funciones utiles\n"
   ]
  },
  {
   "cell_type": "markdown",
   "id": "83ea5090",
   "metadata": {},
   "source": [
    "### Calculadora de costo total\n"
   ]
  },
  {
   "cell_type": "code",
   "execution_count": 242,
   "id": "04246cf4",
   "metadata": {},
   "outputs": [],
   "source": [
    "from typing import TypedDict\n",
    "\n",
    "\n",
    "class CostoIngenieriaResult(TypedDict):\n",
    "    costo_directo: float\n",
    "    gastos_generales: float\n",
    "    utilidad: float\n",
    "    subtotal: float\n",
    "    igv: float\n",
    "    total: float\n",
    "\n",
    "\n",
    "def calculadora_costo_total(costo_directo: float, gastos_generales: float) -> CostoIngenieriaResult:\n",
    "    \"\"\"\n",
    "    Calcula el costo total de un proyecto de ingeniería civil en soles peruanos.\n",
    "\n",
    "    Args:\n",
    "        costo_directo (float): Costo directo del proyecto\n",
    "\n",
    "    Returns:\n",
    "        CostoIngenieriaResult: Diccionario con todos los valores calculados\n",
    "    \"\"\"\n",
    "    # Calcular gastos generales (10% del costo directo)\n",
    "    gastos_generales = round(costo_directo * gastos_generales, 2)\n",
    "\n",
    "    # Calcular utilidad (5% del costo directo)\n",
    "    utilidad = round(costo_directo * 0.05, 2)\n",
    "\n",
    "    # Calcular subtotal\n",
    "    subtotal = round(costo_directo + gastos_generales + utilidad, 2)\n",
    "\n",
    "    # Calcular IGV (18% del subtotal)\n",
    "    igv = round(subtotal * 0.18, 2)\n",
    "\n",
    "    # Calcular total\n",
    "    total = round(subtotal + igv, 2)\n",
    "\n",
    "    return {\n",
    "        \"costo_directo\": round(costo_directo, 2),\n",
    "        \"gastos_generales\": gastos_generales,\n",
    "        \"utilidad\": utilidad,\n",
    "        \"subtotal\": subtotal,\n",
    "        \"igv\": igv,\n",
    "        \"total\": total,\n",
    "    }"
   ]
  },
  {
   "cell_type": "markdown",
   "id": "0d58834a",
   "metadata": {},
   "source": [
    "### Multiplicar el precio unitario actualizado por la carga trabajo\n"
   ]
  },
  {
   "cell_type": "code",
   "execution_count": 243,
   "id": "96831b53",
   "metadata": {},
   "outputs": [],
   "source": [
    "def calcular_costos_unitarios(\n",
    "    dict_precios_unitarios_actualizados, cargas_trabajo\n",
    "):\n",
    "    \"\"\"\n",
    "    Multiplica cada carga de trabajo del contratista por su precio unitario\n",
    "    correspondiente.\n",
    "\n",
    "    Si alguna clave en cargas_trabajo tiene carga > 0 y no existe\n",
    "    en dict_precios_unitarios_actualizados, levanta KeyError.\n",
    "    Claves con carga = 0 se ignoran (no dan error), y claves en precios que noprecios_uninatrios_expediente\n",
    "    están en cargas se tratan con carga = 0.\n",
    "\n",
    "    Args:\n",
    "        dict_precios_unitarios_actualizados (dict): código → precio unitario.\n",
    "        cargas_trabajo (dict): código → carga de trabajo.\n",
    "\n",
    "    Returns:\n",
    "        dict: código → precio total (precio_unitario * carga).\n",
    "\n",
    "    Raises:\n",
    "        KeyError: si alguna clave con carga > 0 en cargas_trabajo\n",
    "                  no existe en dict_precios_unitarios_actualizados.\n",
    "    \"\"\"\n",
    "    # Detectar faltantes solo para cargas > 0\n",
    "    faltantes = {\n",
    "        codigo\n",
    "        for codigo, carga in cargas_trabajo.items()\n",
    "        if carga != 0 and codigo not in dict_precios_unitarios_actualizados\n",
    "    }\n",
    "    if faltantes:\n",
    "        raise KeyError(f\"Faltan precios unitarios para las claves: {faltantes}\")\n",
    "\n",
    "    # Construir resultado: para cada precio, multiplicar por carga (0 si no hay)\n",
    "    resultado = {}\n",
    "    for codigo, precio_unitario in dict_precios_unitarios_actualizados.items():\n",
    "        carga = cargas_trabajo.get(codigo, 0)\n",
    "        resultado[codigo] = precio_unitario * carga\n",
    "\n",
    "    return resultado"
   ]
  },
  {
   "cell_type": "markdown",
   "id": "dd9e91b4",
   "metadata": {},
   "source": [
    "### Fusionar diccionarios"
   ]
  },
  {
   "cell_type": "code",
   "execution_count": 244,
   "id": "1b1689ee",
   "metadata": {},
   "outputs": [],
   "source": [
    "def fusionar_diccionarios(diccionario_de_diccionarios):\n",
    "    \"\"\"\n",
    "    Fusiona diccionarios separados en un diccionario unificado.\n",
    "    Solo incluye claves donde ambos valores sean diferentes de cero.\n",
    "    Usa dinámicamente las claves del diccionario de entrada.\n",
    "    \n",
    "    Args:\n",
    "        diccionario_de_diccionarios (dict): Diccionario con estructura:\n",
    "            {\n",
    "                \"nombre_campo1\": {clave: valor, ...},\n",
    "                \"nombre_campo2\": {clave: valor, ...}\n",
    "            }\n",
    "    \n",
    "    Returns:\n",
    "        dict: Diccionario fusionado con estructura {clave: {nombre_campo1: valor, nombre_campo2: valor}}\n",
    "    \"\"\"\n",
    "    # Obtener las claves (nombres de los campos) del diccionario principal\n",
    "    nombres_campos = list(diccionario_de_diccionarios.keys())\n",
    "    \n",
    "    if len(nombres_campos) != 2:\n",
    "        raise ValueError(\"El diccionario debe contener exactamente 2 campos\")\n",
    "    \n",
    "    campo1_nombre = nombres_campos[0]\n",
    "    campo2_nombre = nombres_campos[1]\n",
    "    \n",
    "    campo1_datos = diccionario_de_diccionarios[campo1_nombre]\n",
    "    campo2_datos = diccionario_de_diccionarios[campo2_nombre]\n",
    "    \n",
    "    fusionado = {}\n",
    "    \n",
    "    # Obtener todas las claves únicas de ambos diccionarios\n",
    "    todas_las_claves = set(campo1_datos.keys()) | set(campo2_datos.keys())\n",
    "    \n",
    "    for clave in todas_las_claves:\n",
    "        valor1 = campo1_datos.get(clave, 0)\n",
    "        valor2 = campo2_datos.get(clave, 0)\n",
    "        \n",
    "        # Solo agregar si ambos valores son diferentes de cero\n",
    "        if valor1 != 0 and valor2 != 0:\n",
    "            fusionado[clave] = {\n",
    "                campo1_nombre: valor1,\n",
    "                campo2_nombre: valor2\n",
    "            }\n",
    "    \n",
    "    return fusionado"
   ]
  },
  {
   "cell_type": "markdown",
   "id": "bc2a0d92",
   "metadata": {},
   "source": [
    "### Formatear progresiva"
   ]
  },
  {
   "cell_type": "code",
   "execution_count": 245,
   "id": "447469ed",
   "metadata": {},
   "outputs": [],
   "source": [
    "def formatear_progresiva(distancia, decimales=0):\n",
    "    \"\"\"\n",
    "    Convierte una distancia en metros a notación de progresiva.\n",
    "    \n",
    "    Parámetros:\n",
    "    - distancia: int o float, la distancia en metros.\n",
    "    - decimales: int, número de decimales a mostrar en la parte de los metros.\n",
    "    \n",
    "    Retorna:\n",
    "    - str: progresiva en formato 'K+XXX' con los decimales indicados.\n",
    "    \"\"\"\n",
    "    if not isinstance(distancia, (int, float)):\n",
    "        raise ValueError(\"La distancia debe ser un número (int o float).\")\n",
    "    if not isinstance(decimales, int) or decimales < 0:\n",
    "        raise ValueError(\"Los decimales deben ser un entero no negativo.\")\n",
    "    \n",
    "    km = int(distancia) // 1000\n",
    "    metros = distancia - (km * 1000)\n",
    "    \n",
    "    formato_metros = f\"{metros:0.{decimales}f}\".zfill(3 + (1 if decimales > 0 else 0) + decimales)\n",
    "    return f\"{km}+{formato_metros}\""
   ]
  },
  {
   "cell_type": "markdown",
   "id": "d760e2d1",
   "metadata": {},
   "source": [
    "### Calcular avance"
   ]
  },
  {
   "cell_type": "code",
   "execution_count": 246,
   "id": "849b072b",
   "metadata": {},
   "outputs": [],
   "source": [
    "def calcular_avance(programado, ejecutado):\n",
    "    \"\"\"\n",
    "    Calcula el porcentaje de avance basado en lo programado y lo ejecutado.\n",
    "\n",
    "    Si lo programado es 0 y lo ejecutado es mayor a 0, devuelve 'ejecución adelantada'.\n",
    "    Si ambos son 0, devuelve 0.0.\n",
    "    En cualquier otro caso, devuelve el porcentaje (0-1) como float redondeado a 2 decimales.\n",
    "    \"\"\"\n",
    "    if programado == 0:\n",
    "        if ejecutado > 0:\n",
    "            return \"Ejec. adelantada\"\n",
    "        else:\n",
    "            return 0.0\n",
    "    else:\n",
    "        porcentaje = (ejecutado / programado) \n",
    "        return porcentaje"
   ]
  },
  {
   "cell_type": "markdown",
   "id": "b883d33f",
   "metadata": {},
   "source": [
    "### Ordenar por centena"
   ]
  },
  {
   "cell_type": "code",
   "execution_count": 247,
   "id": "4609a128",
   "metadata": {},
   "outputs": [],
   "source": [
    "def ordenar_por_centena(data: Any) -> List[Dict[str, Any]]:\n",
    "    \"\"\"\n",
    "    Toma un dict (o un JSON en formato str) cuyas claves acaban en número\n",
    "    y devuelve una lista de dicts {'key':…, 'value':…} ordenada por ese número.\n",
    "    Compatible con Firestore (to_dict()) y JSON.\n",
    "    \"\"\"\n",
    "    # Si viene como cadena JSON, lo convertimos\n",
    "    if isinstance(data, str):\n",
    "        data = json.loads(data)\n",
    "    \n",
    "    # Aseguramos que sea dict\n",
    "    if not isinstance(data, dict):\n",
    "        raise ValueError(\"Se esperaba un diccionario o un string JSON que represente un diccionario.\")\n",
    "\n",
    "    pattern = re.compile(r'(\\d+)$')\n",
    "\n",
    "    def obtener_clave_numerica(item):\n",
    "        clave = str(item[0])  # Convertimos clave a string en caso no lo sea\n",
    "        match = pattern.search(clave)\n",
    "        if match:\n",
    "            return int(match.group(1))\n",
    "        else:\n",
    "            return float('inf')  # Opcional: claves sin número al final se van al final\n",
    "\n",
    "    sorted_items = sorted(data.items(), key=obtener_clave_numerica)\n",
    "\n",
    "    return [{\"key\": k, \"value\": v} for k, v in sorted_items]"
   ]
  },
  {
   "cell_type": "markdown",
   "id": "ac01751b",
   "metadata": {},
   "source": [
    "### Clave grupo"
   ]
  },
  {
   "cell_type": "code",
   "execution_count": 248,
   "id": "d7b23af1",
   "metadata": {},
   "outputs": [],
   "source": [
    "def clave_grupo(item):\n",
    "    return int(item['key'][2:]) // 100  # 101→1, 201→2, etc."
   ]
  },
  {
   "cell_type": "markdown",
   "id": "73453013",
   "metadata": {},
   "source": [
    "## Carga de datos\n"
   ]
  },
  {
   "cell_type": "markdown",
   "id": "8dd111a2",
   "metadata": {},
   "source": [
    "### Firebase\n"
   ]
  },
  {
   "cell_type": "code",
   "execution_count": 249,
   "id": "d5d759a2",
   "metadata": {},
   "outputs": [
    {
     "name": "stdout",
     "output_type": "stream",
     "text": [
      "Colecciones disponibles: ['rutinarios']\n"
     ]
    }
   ],
   "source": [
    "# 1. Busca el .env en el directorio actual o en cualquiera de los padres\n",
    "dotenv_path = find_dotenv()\n",
    "if not dotenv_path:\n",
    "    raise FileNotFoundError(\n",
    "        \"No se encontró ningún archivo .env en este directorio ni en sus padres.\"\n",
    "    )\n",
    "load_dotenv(dotenv_path)\n",
    "\n",
    "# 2. Define el root del proyecto como la carpeta que contiene el .env\n",
    "project_root = Path(dotenv_path).parent\n",
    "\n",
    "# 3. Obtén la ruta relativa de las credenciales desde la variable de entorno\n",
    "rel_cred_path = os.getenv(\"FIRESTORE_CREDENTIALS\")\n",
    "if not rel_cred_path:\n",
    "    raise RuntimeError(\"No existe la variable FIRESTORE_CREDENTIALS en el .env\")\n",
    "\n",
    "# 4. Construye la ruta absoluta al JSON\n",
    "cred_path = Path(rel_cred_path)\n",
    "if not cred_path.is_absolute():\n",
    "    cred_path = (project_root / cred_path).resolve()\n",
    "\n",
    "if not cred_path.exists():\n",
    "    raise FileNotFoundError(f\"No existe el archivo de credenciales en: {cred_path}\")\n",
    "\n",
    "# 5. Carga las credenciales y crea el cliente de Firestore\n",
    "credentials = service_account.Credentials.from_service_account_file(str(cred_path))\n",
    "client = firestore.Client(credentials=credentials, project=credentials.project_id)\n",
    "\n",
    "# 6. Prueba que funcione\n",
    "print(\"Colecciones disponibles:\", [c.id for c in client.collections()])"
   ]
  },
  {
   "cell_type": "code",
   "execution_count": 250,
   "id": "91e8d7b1",
   "metadata": {},
   "outputs": [],
   "source": [
    "db = firestore.Client(credentials=credentials, project=credentials.project_id)"
   ]
  },
  {
   "cell_type": "markdown",
   "id": "deed6ace",
   "metadata": {},
   "source": [
    "#### Documento del proyecto firebase"
   ]
  },
  {
   "cell_type": "code",
   "execution_count": 251,
   "id": "32af4b93",
   "metadata": {},
   "outputs": [
    {
     "name": "stdout",
     "output_type": "stream",
     "text": [
      "{'contrato': {'contratista': {'razon_social': 'PLATERS MANAGEMENT S.A.C.',\n",
      "                              'ruc': ''},\n",
      "              'denominacion_tramo_convenio': 'EMP. AR-111 (NUEVO SIBAYO) - '\n",
      "                                             'TUTI EMP. AR-681 (DV. CHIVAY) '\n",
      "                                             '(KM 32+252)',\n",
      "              'fecha_inicio': {'anio': 2025, 'dia': 15, 'mes': 4},\n",
      "              'id_contrato': '004-2025',\n",
      "              'jefe_mantenimiento': {'apellido': 'Tinta Cáceres',\n",
      "                                     'dni': 0,\n",
      "                                     'nombre': 'Genaro',\n",
      "                                     'titulo': 'Ingeniero'},\n",
      "              'monto_contrato': 165130.4,\n",
      "              'numero_cuadrillas': 1,\n",
      "              'numero_trabajadores': 3,\n",
      "              'tiempo_ejecucion_dias': 240,\n",
      "              'tipo_servicio': 'mantenimiento rutinario'},\n",
      " 'datos_generales': {'distritos': ['Chivay', 'Tuti', 'Sibayo'],\n",
      "                     'provincia': 'Caylloma',\n",
      "                     'region': 'Arequipa'},\n",
      " 'expediente': {'cargas_trabajo': {'MR101': 10.28,\n",
      "                                   'MR103': 53.33,\n",
      "                                   'MR104': 85.33,\n",
      "                                   'MR201': 32350,\n",
      "                                   'MR202': 34.67,\n",
      "                                   'MR301': 15999,\n",
      "                                   'MR401': 64.67,\n",
      "                                   'MR601': 258.02,\n",
      "                                   'PP': 700,\n",
      "                                   'PS': 1512.58},\n",
      "                'codigo_ruta': 'AR-683',\n",
      "                'coordenadas': {'fin': {'altitud': 3629,\n",
      "                                        'datum': 'WGS84',\n",
      "                                        'hemisferio': 'S',\n",
      "                                        'progresiva': 32252.0,\n",
      "                                        'x': 220383.97,\n",
      "                                        'y': 8270075.15,\n",
      "                                        'zona': None,\n",
      "                                        'zona_letra': None},\n",
      "                                'inicio': {'altitud': 3820,\n",
      "                                           'datum': 'WGS84',\n",
      "                                           'hemisferio': 'S',\n",
      "                                           'progresiva': 0,\n",
      "                                           'x': 226316.6,\n",
      "                                           'y': 8281146.79,\n",
      "                                           'zona': None,\n",
      "                                           'zona_letra': None}},\n",
      "                'gastos_generales': 0.1,\n",
      "                'longitud': 32252.0,\n",
      "                'monto_total': 206413.0,\n",
      "                'nombre': 'MANTENIMIENTO VIAL RUTINARIO CAMINO VECINAL EMP. '\n",
      "                          'AR-111 (NUEVO SIBAYO) - TUTI - EMP.AR-681 (DV. '\n",
      "                          'CHIVAY), DISTRITOS DE CHIVAY, TUTI Y SIBAYO, '\n",
      "                          'PROVINCIA DE CAYLLOMA, DEPARTAMENTO DE AREQUIPA',\n",
      "                'precios_unitarios': {'MR101': 317.8,\n",
      "                                      'MR103': 19.07,\n",
      "                                      'MR104': 21.18,\n",
      "                                      'MR201': 0.53,\n",
      "                                      'MR202': 95.34,\n",
      "                                      'MR301': 0.17,\n",
      "                                      'MR401': 13.28,\n",
      "                                      'MR601': 2.44,\n",
      "                                      'PP': 71.79,\n",
      "                                      'PS': 47.01},\n",
      "                'tarifa_km_mes': 800},\n",
      " 'general_data': {'distritos': ['Chivay', 'Tuti', 'Sibayo'],\n",
      "                  'provincia': 'Caylloma',\n",
      "                  'region': 'Arequipa'},\n",
      " 'other': {'estado_conservacion_via': 'regular',\n",
      "           'tipo_superficie': 'Asfaltado'},\n",
      " 'otros': {'estado_conservacion_via': 'regular',\n",
      "           'tipo_superficie': 'Asfaltado'}}\n"
     ]
    }
   ],
   "source": [
    "doc_proyecto_firebase = db.collection(\"rutinarios\").document(proyecto).get().to_dict()\n",
    "\n",
    "pprint.pprint(doc_proyecto_firebase)"
   ]
  },
  {
   "cell_type": "markdown",
   "id": "b28071f7",
   "metadata": {},
   "source": [
    "#### Contrato\n"
   ]
  },
  {
   "cell_type": "code",
   "execution_count": 252,
   "id": "6e327ebc",
   "metadata": {},
   "outputs": [
    {
     "name": "stdout",
     "output_type": "stream",
     "text": [
      "{'contratista': {'razon_social': 'PLATERS MANAGEMENT S.A.C.', 'ruc': ''},\n",
      " 'denominacion_tramo_convenio': 'EMP. AR-111 (NUEVO SIBAYO) - TUTI EMP. AR-681 '\n",
      "                                '(DV. CHIVAY) (KM 32+252)',\n",
      " 'fecha_inicio': {'anio': 2025, 'dia': 15, 'mes': 4},\n",
      " 'id_contrato': '004-2025',\n",
      " 'jefe_mantenimiento': {'apellido': 'Tinta Cáceres',\n",
      "                        'dni': 0,\n",
      "                        'nombre': 'Genaro',\n",
      "                        'titulo': 'Ingeniero'},\n",
      " 'monto_contrato': 165130.4,\n",
      " 'numero_cuadrillas': 1,\n",
      " 'numero_trabajadores': 3,\n",
      " 'tiempo_ejecucion_dias': 240,\n",
      " 'tipo_servicio': 'mantenimiento rutinario'}\n"
     ]
    }
   ],
   "source": [
    "contrato = doc_proyecto_firebase[\"contrato\"]\n",
    "pprint.pprint(contrato)"
   ]
  },
  {
   "cell_type": "code",
   "execution_count": 253,
   "id": "7244806b",
   "metadata": {},
   "outputs": [
    {
     "name": "stdout",
     "output_type": "stream",
     "text": [
      "165130.4\n"
     ]
    }
   ],
   "source": [
    "monto_contrato = contrato[\"monto_contrato\"]\n",
    "print(monto_contrato)"
   ]
  },
  {
   "cell_type": "markdown",
   "id": "c31a1858",
   "metadata": {},
   "source": [
    "#### Expediente técnico firebase"
   ]
  },
  {
   "cell_type": "code",
   "execution_count": 254,
   "id": "53bf4c99",
   "metadata": {},
   "outputs": [
    {
     "name": "stdout",
     "output_type": "stream",
     "text": [
      "{'cargas_trabajo': {'MR101': 10.28,\n",
      "                    'MR103': 53.33,\n",
      "                    'MR104': 85.33,\n",
      "                    'MR201': 32350,\n",
      "                    'MR202': 34.67,\n",
      "                    'MR301': 15999,\n",
      "                    'MR401': 64.67,\n",
      "                    'MR601': 258.02,\n",
      "                    'PP': 700,\n",
      "                    'PS': 1512.58},\n",
      " 'codigo_ruta': 'AR-683',\n",
      " 'coordenadas': {'fin': {'altitud': 3629,\n",
      "                         'datum': 'WGS84',\n",
      "                         'hemisferio': 'S',\n",
      "                         'progresiva': 32252.0,\n",
      "                         'x': 220383.97,\n",
      "                         'y': 8270075.15,\n",
      "                         'zona': None,\n",
      "                         'zona_letra': None},\n",
      "                 'inicio': {'altitud': 3820,\n",
      "                            'datum': 'WGS84',\n",
      "                            'hemisferio': 'S',\n",
      "                            'progresiva': 0,\n",
      "                            'x': 226316.6,\n",
      "                            'y': 8281146.79,\n",
      "                            'zona': None,\n",
      "                            'zona_letra': None}},\n",
      " 'gastos_generales': 0.1,\n",
      " 'longitud': 32252.0,\n",
      " 'monto_total': 206413.0,\n",
      " 'nombre': 'MANTENIMIENTO VIAL RUTINARIO CAMINO VECINAL EMP. AR-111 (NUEVO '\n",
      "           'SIBAYO) - TUTI - EMP.AR-681 (DV. CHIVAY), DISTRITOS DE CHIVAY, '\n",
      "           'TUTI Y SIBAYO, PROVINCIA DE CAYLLOMA, DEPARTAMENTO DE AREQUIPA',\n",
      " 'precios_unitarios': {'MR101': 317.8,\n",
      "                       'MR103': 19.07,\n",
      "                       'MR104': 21.18,\n",
      "                       'MR201': 0.53,\n",
      "                       'MR202': 95.34,\n",
      "                       'MR301': 0.17,\n",
      "                       'MR401': 13.28,\n",
      "                       'MR601': 2.44,\n",
      "                       'PP': 71.79,\n",
      "                       'PS': 47.01},\n",
      " 'tarifa_km_mes': 800}\n"
     ]
    }
   ],
   "source": [
    "expediente_tecnico_firebase = doc_proyecto_firebase[\"expediente\"]\n",
    "\n",
    "pprint.pprint(expediente_tecnico_firebase)"
   ]
  },
  {
   "cell_type": "code",
   "execution_count": 255,
   "id": "67e4f0e7",
   "metadata": {},
   "outputs": [
    {
     "name": "stdout",
     "output_type": "stream",
     "text": [
      "0.1\n"
     ]
    }
   ],
   "source": [
    "gastos_generales_expediente=expediente_tecnico_firebase['gastos_generales']\n",
    "print(gastos_generales_expediente)\n"
   ]
  },
  {
   "cell_type": "markdown",
   "id": "1be115c2",
   "metadata": {},
   "source": [
    "#### Progresiva de inicio y fin del expediente"
   ]
  },
  {
   "cell_type": "code",
   "execution_count": 256,
   "id": "96e63c62",
   "metadata": {},
   "outputs": [
    {
     "name": "stdout",
     "output_type": "stream",
     "text": [
      "0\n",
      "32252.0\n"
     ]
    }
   ],
   "source": [
    "progresiva_inicio=expediente_tecnico_firebase[\"coordenadas\"][\"inicio\"][\"progresiva\"]\n",
    "progresiva_fin=expediente_tecnico_firebase[\"coordenadas\"][\"fin\"][\"progresiva\"]\n",
    "\n",
    "print(progresiva_inicio)\n",
    "print(progresiva_fin)"
   ]
  },
  {
   "cell_type": "markdown",
   "id": "d54ceec0",
   "metadata": {},
   "source": [
    "#### Valorización programada mensual\n"
   ]
  },
  {
   "cell_type": "code",
   "execution_count": 257,
   "id": "c0223f88",
   "metadata": {},
   "outputs": [
    {
     "name": "stdout",
     "output_type": "stream",
     "text": [
      "{'10': {'gastos_operativos': 704.82,\n",
      "        'igv': 1075.15,\n",
      "        'mantenimiento_con_go': 7753.01,\n",
      "        'mantenimiento_con_igv': 7048.19,\n",
      "        'mantenimiento_sin_igv': 5973.04},\n",
      " '11': {'gastos_operativos': 534.7,\n",
      "        'igv': 815.65,\n",
      "        'mantenimiento_con_go': 5881.72,\n",
      "        'mantenimiento_con_igv': 5347.01,\n",
      "        'mantenimiento_sin_igv': 4531.37},\n",
      " '12': {'gastos_operativos': 262.18,\n",
      "        'igv': 399.93,\n",
      "        'mantenimiento_con_go': 2883.94,\n",
      "        'mantenimiento_con_igv': 2621.76,\n",
      "        'mantenimiento_sin_igv': 2221.83},\n",
      " '4': {'gastos_operativos': 222.55,\n",
      "       'igv': 339.48,\n",
      "       'mantenimiento_con_go': 2448.06,\n",
      "       'mantenimiento_con_igv': 2225.51,\n",
      "       'mantenimiento_sin_igv': 1886.02},\n",
      " '5': {'gastos_operativos': 2553.4,\n",
      "       'igv': 3895.02,\n",
      "       'mantenimiento_con_go': 28087.43,\n",
      "       'mantenimiento_con_igv': 25534.03,\n",
      "       'mantenimiento_sin_igv': 21639.01},\n",
      " '6': {'gastos_operativos': 2988.84,\n",
      "       'igv': 4559.25,\n",
      "       'mantenimiento_con_go': 32877.25,\n",
      "       'mantenimiento_con_igv': 29888.41,\n",
      "       'mantenimiento_sin_igv': 25329.16},\n",
      " '7': {'gastos_operativos': 2953.4,\n",
      "       'igv': 4505.19,\n",
      "       'mantenimiento_con_go': 32487.41,\n",
      "       'mantenimiento_con_igv': 29534.01,\n",
      "       'mantenimiento_sin_igv': 25028.82},\n",
      " '8': {'gastos_operativos': 3107.06,\n",
      "       'igv': 4739.59,\n",
      "       'mantenimiento_con_go': 34177.7,\n",
      "       'mantenimiento_con_igv': 31070.63,\n",
      "       'mantenimiento_sin_igv': 26331.04},\n",
      " '9': {'gastos_operativos': 3186.08,\n",
      "       'igv': 4860.13,\n",
      "       'mantenimiento_con_go': 35046.92,\n",
      "       'mantenimiento_con_igv': 31860.84,\n",
      "       'mantenimiento_sin_igv': 27000.71}}\n"
     ]
    }
   ],
   "source": [
    "desembolsos =  db.collection(\"rutinarios\").document(proyecto).collection('presupuestos').document('desembolsos').get().to_dict()\n",
    "cronogramas_desembolsos = desembolsos['cronograma_desembolsos']\n",
    "pprint.pprint(cronogramas_desembolsos)"
   ]
  },
  {
   "cell_type": "code",
   "execution_count": 258,
   "id": "e10fd420",
   "metadata": {},
   "outputs": [
    {
     "name": "stdout",
     "output_type": "stream",
     "text": [
      "25534.03\n"
     ]
    }
   ],
   "source": [
    "desembolso_current_month = cronogramas_desembolsos[str(mes)]\n",
    "print(desembolso_current_month[\"mantenimiento_con_igv\"])"
   ]
  },
  {
   "cell_type": "markdown",
   "id": "4e05a292",
   "metadata": {},
   "source": [
    "#### Cargas de trabajo mensual presentadas por el contratista\n"
   ]
  },
  {
   "cell_type": "code",
   "execution_count": 259,
   "id": "eea395e5",
   "metadata": {},
   "outputs": [
    {
     "name": "stdout",
     "output_type": "stream",
     "text": [
      "{'PP': 112, 'PS': 242.5, 'MR201': 5146.67, 'MR202': 5.1, 'MR103': 13.33, 'MR101': 0.86, 'MR301': 1999.88}\n"
     ]
    }
   ],
   "source": [
    "valorizaciones = db.collection(\"rutinarios\").document(proyecto).collection('valorizaciones').document(str(mes)).get().to_dict()\n",
    "cargas_trabajo_contratista = valorizaciones['cargas_trabajo_contratista_inicial']\n",
    "print(cargas_trabajo_contratista)"
   ]
  },
  {
   "cell_type": "markdown",
   "id": "2109ab59",
   "metadata": {},
   "source": [
    "#### Cargas de trabajo del expediente técnico"
   ]
  },
  {
   "cell_type": "code",
   "execution_count": 260,
   "id": "2d8df224",
   "metadata": {},
   "outputs": [
    {
     "name": "stdout",
     "output_type": "stream",
     "text": [
      "{'MR101': 10.28,\n",
      " 'MR103': 53.33,\n",
      " 'MR104': 85.33,\n",
      " 'MR201': 32350,\n",
      " 'MR202': 34.67,\n",
      " 'MR301': 15999,\n",
      " 'MR401': 64.67,\n",
      " 'MR601': 258.02,\n",
      " 'PP': 700,\n",
      " 'PS': 1512.58}\n"
     ]
    }
   ],
   "source": [
    "cargas_trabajo_expediente_tecnico=doc_proyecto_firebase['expediente']['cargas_trabajo']\n",
    "\n",
    "pprint.pprint(cargas_trabajo_expediente_tecnico)"
   ]
  },
  {
   "cell_type": "markdown",
   "id": "4951f85d",
   "metadata": {},
   "source": [
    "#### Precios unitarios del expediente técnico"
   ]
  },
  {
   "cell_type": "code",
   "execution_count": 261,
   "id": "0ce7707d",
   "metadata": {},
   "outputs": [
    {
     "name": "stdout",
     "output_type": "stream",
     "text": [
      "{'MR101': 317.8,\n",
      " 'MR103': 19.07,\n",
      " 'MR104': 21.18,\n",
      " 'MR201': 0.53,\n",
      " 'MR202': 95.34,\n",
      " 'MR301': 0.17,\n",
      " 'MR401': 13.28,\n",
      " 'MR601': 2.44,\n",
      " 'PP': 71.79,\n",
      " 'PS': 47.01}\n"
     ]
    }
   ],
   "source": [
    "precios_unitarios_expediente_tecnico = doc_proyecto_firebase['expediente']['precios_unitarios']\n",
    "\n",
    "pprint.pprint(precios_unitarios_expediente_tecnico)"
   ]
  },
  {
   "cell_type": "markdown",
   "id": "f83521dd",
   "metadata": {},
   "source": [
    "### Pickle"
   ]
  },
  {
   "cell_type": "markdown",
   "id": "8b729baf",
   "metadata": {},
   "source": [
    "#### Cargas de trabajo programadas"
   ]
  },
  {
   "cell_type": "code",
   "execution_count": 262,
   "id": "2f34eeda",
   "metadata": {},
   "outputs": [
    {
     "data": {
      "text/html": [
       "<div>\n",
       "<style scoped>\n",
       "    .dataframe tbody tr th:only-of-type {\n",
       "        vertical-align: middle;\n",
       "    }\n",
       "\n",
       "    .dataframe tbody tr th {\n",
       "        vertical-align: top;\n",
       "    }\n",
       "\n",
       "    .dataframe thead th {\n",
       "        text-align: right;\n",
       "    }\n",
       "</style>\n",
       "<table border=\"1\" class=\"dataframe\">\n",
       "  <thead>\n",
       "    <tr style=\"text-align: right;\">\n",
       "      <th></th>\n",
       "      <th>2025-04</th>\n",
       "      <th>2025-05</th>\n",
       "      <th>2025-06</th>\n",
       "      <th>2025-07</th>\n",
       "      <th>2025-08</th>\n",
       "      <th>2025-09</th>\n",
       "      <th>2025-10</th>\n",
       "      <th>2025-11</th>\n",
       "      <th>2025-12</th>\n",
       "      <th>TOTAL</th>\n",
       "    </tr>\n",
       "    <tr>\n",
       "      <th>codigo</th>\n",
       "      <th></th>\n",
       "      <th></th>\n",
       "      <th></th>\n",
       "      <th></th>\n",
       "      <th></th>\n",
       "      <th></th>\n",
       "      <th></th>\n",
       "      <th></th>\n",
       "      <th></th>\n",
       "      <th></th>\n",
       "    </tr>\n",
       "  </thead>\n",
       "  <tbody>\n",
       "    <tr>\n",
       "      <th>MR111</th>\n",
       "      <td>92.230488</td>\n",
       "      <td>202.907073</td>\n",
       "      <td>184.460976</td>\n",
       "      <td>202.907073</td>\n",
       "      <td>202.907073</td>\n",
       "      <td>184.460976</td>\n",
       "      <td>202.907073</td>\n",
       "      <td>184.460976</td>\n",
       "      <td>55.338293</td>\n",
       "      <td>1512.58</td>\n",
       "    </tr>\n",
       "    <tr>\n",
       "      <th>MR112</th>\n",
       "      <td>52.500000</td>\n",
       "      <td>87.500000</td>\n",
       "      <td>87.500000</td>\n",
       "      <td>87.500000</td>\n",
       "      <td>87.500000</td>\n",
       "      <td>87.500000</td>\n",
       "      <td>87.500000</td>\n",
       "      <td>87.500000</td>\n",
       "      <td>35.000000</td>\n",
       "      <td>700.00</td>\n",
       "    </tr>\n",
       "    <tr>\n",
       "      <th>MR201</th>\n",
       "      <td>2205.681818</td>\n",
       "      <td>4411.363636</td>\n",
       "      <td>3676.136364</td>\n",
       "      <td>4411.363636</td>\n",
       "      <td>4411.363636</td>\n",
       "      <td>3676.136364</td>\n",
       "      <td>4411.363636</td>\n",
       "      <td>3676.136364</td>\n",
       "      <td>1470.454545</td>\n",
       "      <td>32350.00</td>\n",
       "    </tr>\n",
       "    <tr>\n",
       "      <th>MR202</th>\n",
       "      <td>3.059118</td>\n",
       "      <td>5.098529</td>\n",
       "      <td>4.078824</td>\n",
       "      <td>4.078824</td>\n",
       "      <td>4.078824</td>\n",
       "      <td>4.078824</td>\n",
       "      <td>4.078824</td>\n",
       "      <td>4.078824</td>\n",
       "      <td>2.039412</td>\n",
       "      <td>34.67</td>\n",
       "    </tr>\n",
       "    <tr>\n",
       "      <th>MR203</th>\n",
       "      <td>0.000000</td>\n",
       "      <td>0.000000</td>\n",
       "      <td>0.000000</td>\n",
       "      <td>0.000000</td>\n",
       "      <td>0.000000</td>\n",
       "      <td>0.000000</td>\n",
       "      <td>0.000000</td>\n",
       "      <td>0.000000</td>\n",
       "      <td>0.000000</td>\n",
       "      <td>0.00</td>\n",
       "    </tr>\n",
       "    <tr>\n",
       "      <th>MR204</th>\n",
       "      <td>0.000000</td>\n",
       "      <td>0.000000</td>\n",
       "      <td>0.000000</td>\n",
       "      <td>0.000000</td>\n",
       "      <td>0.000000</td>\n",
       "      <td>0.000000</td>\n",
       "      <td>0.000000</td>\n",
       "      <td>0.000000</td>\n",
       "      <td>0.000000</td>\n",
       "      <td>0.00</td>\n",
       "    </tr>\n",
       "    <tr>\n",
       "      <th>MR205</th>\n",
       "      <td>0.000000</td>\n",
       "      <td>0.000000</td>\n",
       "      <td>0.000000</td>\n",
       "      <td>0.000000</td>\n",
       "      <td>0.000000</td>\n",
       "      <td>0.000000</td>\n",
       "      <td>0.000000</td>\n",
       "      <td>0.000000</td>\n",
       "      <td>0.000000</td>\n",
       "      <td>0.00</td>\n",
       "    </tr>\n",
       "    <tr>\n",
       "      <th>MR206</th>\n",
       "      <td>0.000000</td>\n",
       "      <td>0.000000</td>\n",
       "      <td>0.000000</td>\n",
       "      <td>0.000000</td>\n",
       "      <td>0.000000</td>\n",
       "      <td>0.000000</td>\n",
       "      <td>0.000000</td>\n",
       "      <td>0.000000</td>\n",
       "      <td>0.000000</td>\n",
       "      <td>0.00</td>\n",
       "    </tr>\n",
       "    <tr>\n",
       "      <th>MR301</th>\n",
       "      <td>1999.875000</td>\n",
       "      <td>1999.875000</td>\n",
       "      <td>1999.875000</td>\n",
       "      <td>1999.875000</td>\n",
       "      <td>1999.875000</td>\n",
       "      <td>1999.875000</td>\n",
       "      <td>1999.875000</td>\n",
       "      <td>1999.875000</td>\n",
       "      <td>0.000000</td>\n",
       "      <td>15999.00</td>\n",
       "    </tr>\n",
       "    <tr>\n",
       "      <th>MR401</th>\n",
       "      <td>0.000000</td>\n",
       "      <td>0.000000</td>\n",
       "      <td>16.167500</td>\n",
       "      <td>0.000000</td>\n",
       "      <td>0.000000</td>\n",
       "      <td>16.167500</td>\n",
       "      <td>16.167500</td>\n",
       "      <td>16.167500</td>\n",
       "      <td>0.000000</td>\n",
       "      <td>64.67</td>\n",
       "    </tr>\n",
       "    <tr>\n",
       "      <th>MR501</th>\n",
       "      <td>0.000000</td>\n",
       "      <td>0.000000</td>\n",
       "      <td>0.000000</td>\n",
       "      <td>0.000000</td>\n",
       "      <td>0.000000</td>\n",
       "      <td>0.000000</td>\n",
       "      <td>0.000000</td>\n",
       "      <td>0.000000</td>\n",
       "      <td>0.000000</td>\n",
       "      <td>0.00</td>\n",
       "    </tr>\n",
       "    <tr>\n",
       "      <th>MR601</th>\n",
       "      <td>0.000000</td>\n",
       "      <td>0.000000</td>\n",
       "      <td>43.003333</td>\n",
       "      <td>43.003333</td>\n",
       "      <td>43.003333</td>\n",
       "      <td>43.003333</td>\n",
       "      <td>43.003333</td>\n",
       "      <td>43.003333</td>\n",
       "      <td>0.000000</td>\n",
       "      <td>258.02</td>\n",
       "    </tr>\n",
       "    <tr>\n",
       "      <th>MR701</th>\n",
       "      <td>0.000000</td>\n",
       "      <td>0.000000</td>\n",
       "      <td>0.000000</td>\n",
       "      <td>0.000000</td>\n",
       "      <td>0.000000</td>\n",
       "      <td>0.000000</td>\n",
       "      <td>0.000000</td>\n",
       "      <td>0.000000</td>\n",
       "      <td>0.000000</td>\n",
       "      <td>0.00</td>\n",
       "    </tr>\n",
       "    <tr>\n",
       "      <th>MR702</th>\n",
       "      <td>0.000000</td>\n",
       "      <td>0.000000</td>\n",
       "      <td>0.000000</td>\n",
       "      <td>0.000000</td>\n",
       "      <td>0.000000</td>\n",
       "      <td>0.000000</td>\n",
       "      <td>0.000000</td>\n",
       "      <td>0.000000</td>\n",
       "      <td>0.000000</td>\n",
       "      <td>0.00</td>\n",
       "    </tr>\n",
       "    <tr>\n",
       "      <th>TOTAL</th>\n",
       "      <td>0.000000</td>\n",
       "      <td>0.000000</td>\n",
       "      <td>0.000000</td>\n",
       "      <td>0.000000</td>\n",
       "      <td>0.000000</td>\n",
       "      <td>0.000000</td>\n",
       "      <td>0.000000</td>\n",
       "      <td>0.000000</td>\n",
       "      <td>0.000000</td>\n",
       "      <td>0.00</td>\n",
       "    </tr>\n",
       "  </tbody>\n",
       "</table>\n",
       "</div>"
      ],
      "text/plain": [
       "            2025-04      2025-05      2025-06      2025-07      2025-08  \\\n",
       "codigo                                                                    \n",
       "MR111     92.230488   202.907073   184.460976   202.907073   202.907073   \n",
       "MR112     52.500000    87.500000    87.500000    87.500000    87.500000   \n",
       "MR201   2205.681818  4411.363636  3676.136364  4411.363636  4411.363636   \n",
       "MR202      3.059118     5.098529     4.078824     4.078824     4.078824   \n",
       "MR203      0.000000     0.000000     0.000000     0.000000     0.000000   \n",
       "MR204      0.000000     0.000000     0.000000     0.000000     0.000000   \n",
       "MR205      0.000000     0.000000     0.000000     0.000000     0.000000   \n",
       "MR206      0.000000     0.000000     0.000000     0.000000     0.000000   \n",
       "MR301   1999.875000  1999.875000  1999.875000  1999.875000  1999.875000   \n",
       "MR401      0.000000     0.000000    16.167500     0.000000     0.000000   \n",
       "MR501      0.000000     0.000000     0.000000     0.000000     0.000000   \n",
       "MR601      0.000000     0.000000    43.003333    43.003333    43.003333   \n",
       "MR701      0.000000     0.000000     0.000000     0.000000     0.000000   \n",
       "MR702      0.000000     0.000000     0.000000     0.000000     0.000000   \n",
       "TOTAL      0.000000     0.000000     0.000000     0.000000     0.000000   \n",
       "\n",
       "            2025-09      2025-10      2025-11      2025-12     TOTAL  \n",
       "codigo                                                                \n",
       "MR111    184.460976   202.907073   184.460976    55.338293   1512.58  \n",
       "MR112     87.500000    87.500000    87.500000    35.000000    700.00  \n",
       "MR201   3676.136364  4411.363636  3676.136364  1470.454545  32350.00  \n",
       "MR202      4.078824     4.078824     4.078824     2.039412     34.67  \n",
       "MR203      0.000000     0.000000     0.000000     0.000000      0.00  \n",
       "MR204      0.000000     0.000000     0.000000     0.000000      0.00  \n",
       "MR205      0.000000     0.000000     0.000000     0.000000      0.00  \n",
       "MR206      0.000000     0.000000     0.000000     0.000000      0.00  \n",
       "MR301   1999.875000  1999.875000  1999.875000     0.000000  15999.00  \n",
       "MR401     16.167500    16.167500    16.167500     0.000000     64.67  \n",
       "MR501      0.000000     0.000000     0.000000     0.000000      0.00  \n",
       "MR601     43.003333    43.003333    43.003333     0.000000    258.02  \n",
       "MR701      0.000000     0.000000     0.000000     0.000000      0.00  \n",
       "MR702      0.000000     0.000000     0.000000     0.000000      0.00  \n",
       "TOTAL      0.000000     0.000000     0.000000     0.000000      0.00  "
      ]
     },
     "execution_count": 262,
     "metadata": {},
     "output_type": "execute_result"
    }
   ],
   "source": [
    "# Concatenar la ruta completa al archivo .pkl\n",
    "ruta_archivo = os.path.join(\"data\",proyecto, f\"{proyecto}_cargas_trabajo.pkl\")\n",
    "\n",
    "# Leer el archivo pickle\n",
    "with open(ruta_archivo, \"rb\") as f:\n",
    "    cargas_trabajo_programadas_anualmente = pickle.load(f)\n",
    "\n",
    "cargas_trabajo_programadas_anualmente.tail(15)"
   ]
  },
  {
   "cell_type": "code",
   "execution_count": 263,
   "id": "dc545894",
   "metadata": {},
   "outputs": [],
   "source": [
    "#eliminando el total\n",
    "cargas_trabajo_programadas_anualmente = cargas_trabajo_programadas_anualmente.iloc[:-1]"
   ]
  },
  {
   "cell_type": "code",
   "execution_count": 264,
   "id": "00611e16",
   "metadata": {},
   "outputs": [
    {
     "name": "stdout",
     "output_type": "stream",
     "text": [
      "{'MR101': 1.7133333333333332,\n",
      " 'MR102': 0.0,\n",
      " 'MR103': 13.3325,\n",
      " 'MR104': 0.0,\n",
      " 'MR111': 202.9070731707317,\n",
      " 'MR112': 87.5,\n",
      " 'MR201': 4411.363636363636,\n",
      " 'MR202': 5.098529411764706,\n",
      " 'MR203': 0.0,\n",
      " 'MR204': 0.0,\n",
      " 'MR205': 0.0,\n",
      " 'MR206': 0.0,\n",
      " 'MR301': 1999.875,\n",
      " 'MR401': 0.0,\n",
      " 'MR501': 0.0,\n",
      " 'MR601': 0.0,\n",
      " 'MR701': 0.0,\n",
      " 'MR702': 0.0}\n"
     ]
    }
   ],
   "source": [
    "cargas_trabajo_programadas_current_month = cargas_trabajo_programadas_anualmente[f\"2025-{mes:02d}\"].to_dict()\n",
    "pprint.pprint(cargas_trabajo_programadas_current_month)"
   ]
  },
  {
   "cell_type": "code",
   "execution_count": 265,
   "id": "057aa42a",
   "metadata": {},
   "outputs": [
    {
     "data": {
      "text/plain": [
       "['MR101',\n",
       " 'MR102',\n",
       " 'MR103',\n",
       " 'MR104',\n",
       " 'MR111',\n",
       " 'MR112',\n",
       " 'MR201',\n",
       " 'MR202',\n",
       " 'MR203',\n",
       " 'MR204',\n",
       " 'MR205',\n",
       " 'MR206',\n",
       " 'MR301',\n",
       " 'MR401',\n",
       " 'MR501',\n",
       " 'MR601',\n",
       " 'MR701',\n",
       " 'MR702']"
      ]
     },
     "execution_count": 265,
     "metadata": {},
     "output_type": "execute_result"
    }
   ],
   "source": [
    "cargas_trabajo_programadas_anualmente.index.to_list()"
   ]
  },
  {
   "cell_type": "markdown",
   "id": "0e03287c",
   "metadata": {},
   "source": [
    "#### Cronograma anual"
   ]
  },
  {
   "cell_type": "code",
   "execution_count": 266,
   "id": "895b2b34",
   "metadata": {},
   "outputs": [
    {
     "data": {
      "text/html": [
       "<div>\n",
       "<style scoped>\n",
       "    .dataframe tbody tr th:only-of-type {\n",
       "        vertical-align: middle;\n",
       "    }\n",
       "\n",
       "    .dataframe tbody tr th {\n",
       "        vertical-align: top;\n",
       "    }\n",
       "\n",
       "    .dataframe thead th {\n",
       "        text-align: right;\n",
       "    }\n",
       "</style>\n",
       "<table border=\"1\" class=\"dataframe\">\n",
       "  <thead>\n",
       "    <tr style=\"text-align: right;\">\n",
       "      <th></th>\n",
       "      <th>2025-04</th>\n",
       "      <th>2025-05</th>\n",
       "      <th>2025-06</th>\n",
       "      <th>2025-07</th>\n",
       "      <th>2025-08</th>\n",
       "      <th>2025-09</th>\n",
       "      <th>2025-10</th>\n",
       "      <th>2025-11</th>\n",
       "      <th>2025-12</th>\n",
       "      <th>TOTAL</th>\n",
       "    </tr>\n",
       "  </thead>\n",
       "  <tbody>\n",
       "    <tr>\n",
       "      <th>MR101</th>\n",
       "      <td>1</td>\n",
       "      <td>2</td>\n",
       "      <td>1</td>\n",
       "      <td>2</td>\n",
       "      <td>2</td>\n",
       "      <td>1</td>\n",
       "      <td>1</td>\n",
       "      <td>1</td>\n",
       "      <td>1</td>\n",
       "      <td>12</td>\n",
       "    </tr>\n",
       "    <tr>\n",
       "      <th>MR102</th>\n",
       "      <td>0</td>\n",
       "      <td>0</td>\n",
       "      <td>0</td>\n",
       "      <td>0</td>\n",
       "      <td>0</td>\n",
       "      <td>0</td>\n",
       "      <td>0</td>\n",
       "      <td>0</td>\n",
       "      <td>0</td>\n",
       "      <td>0</td>\n",
       "    </tr>\n",
       "    <tr>\n",
       "      <th>MR103</th>\n",
       "      <td>0</td>\n",
       "      <td>1</td>\n",
       "      <td>1</td>\n",
       "      <td>0</td>\n",
       "      <td>0</td>\n",
       "      <td>1</td>\n",
       "      <td>0</td>\n",
       "      <td>1</td>\n",
       "      <td>0</td>\n",
       "      <td>4</td>\n",
       "    </tr>\n",
       "    <tr>\n",
       "      <th>MR104</th>\n",
       "      <td>0</td>\n",
       "      <td>0</td>\n",
       "      <td>1</td>\n",
       "      <td>1</td>\n",
       "      <td>1</td>\n",
       "      <td>1</td>\n",
       "      <td>1</td>\n",
       "      <td>1</td>\n",
       "      <td>0</td>\n",
       "      <td>6</td>\n",
       "    </tr>\n",
       "    <tr>\n",
       "      <th>MR111</th>\n",
       "      <td>5</td>\n",
       "      <td>11</td>\n",
       "      <td>10</td>\n",
       "      <td>11</td>\n",
       "      <td>11</td>\n",
       "      <td>10</td>\n",
       "      <td>11</td>\n",
       "      <td>10</td>\n",
       "      <td>3</td>\n",
       "      <td>82</td>\n",
       "    </tr>\n",
       "    <tr>\n",
       "      <th>MR112</th>\n",
       "      <td>3</td>\n",
       "      <td>5</td>\n",
       "      <td>5</td>\n",
       "      <td>5</td>\n",
       "      <td>5</td>\n",
       "      <td>5</td>\n",
       "      <td>5</td>\n",
       "      <td>5</td>\n",
       "      <td>2</td>\n",
       "      <td>40</td>\n",
       "    </tr>\n",
       "    <tr>\n",
       "      <th>MR201</th>\n",
       "      <td>3</td>\n",
       "      <td>6</td>\n",
       "      <td>5</td>\n",
       "      <td>6</td>\n",
       "      <td>6</td>\n",
       "      <td>5</td>\n",
       "      <td>6</td>\n",
       "      <td>5</td>\n",
       "      <td>2</td>\n",
       "      <td>44</td>\n",
       "    </tr>\n",
       "    <tr>\n",
       "      <th>MR202</th>\n",
       "      <td>3</td>\n",
       "      <td>5</td>\n",
       "      <td>4</td>\n",
       "      <td>4</td>\n",
       "      <td>4</td>\n",
       "      <td>4</td>\n",
       "      <td>4</td>\n",
       "      <td>4</td>\n",
       "      <td>2</td>\n",
       "      <td>34</td>\n",
       "    </tr>\n",
       "    <tr>\n",
       "      <th>MR203</th>\n",
       "      <td>0</td>\n",
       "      <td>0</td>\n",
       "      <td>0</td>\n",
       "      <td>0</td>\n",
       "      <td>0</td>\n",
       "      <td>0</td>\n",
       "      <td>0</td>\n",
       "      <td>0</td>\n",
       "      <td>0</td>\n",
       "      <td>0</td>\n",
       "    </tr>\n",
       "    <tr>\n",
       "      <th>MR204</th>\n",
       "      <td>0</td>\n",
       "      <td>0</td>\n",
       "      <td>0</td>\n",
       "      <td>0</td>\n",
       "      <td>0</td>\n",
       "      <td>0</td>\n",
       "      <td>0</td>\n",
       "      <td>0</td>\n",
       "      <td>0</td>\n",
       "      <td>0</td>\n",
       "    </tr>\n",
       "    <tr>\n",
       "      <th>MR205</th>\n",
       "      <td>0</td>\n",
       "      <td>0</td>\n",
       "      <td>0</td>\n",
       "      <td>0</td>\n",
       "      <td>0</td>\n",
       "      <td>0</td>\n",
       "      <td>0</td>\n",
       "      <td>0</td>\n",
       "      <td>0</td>\n",
       "      <td>0</td>\n",
       "    </tr>\n",
       "    <tr>\n",
       "      <th>MR206</th>\n",
       "      <td>0</td>\n",
       "      <td>0</td>\n",
       "      <td>0</td>\n",
       "      <td>0</td>\n",
       "      <td>0</td>\n",
       "      <td>0</td>\n",
       "      <td>0</td>\n",
       "      <td>0</td>\n",
       "      <td>0</td>\n",
       "      <td>0</td>\n",
       "    </tr>\n",
       "    <tr>\n",
       "      <th>MR301</th>\n",
       "      <td>1</td>\n",
       "      <td>1</td>\n",
       "      <td>1</td>\n",
       "      <td>1</td>\n",
       "      <td>1</td>\n",
       "      <td>1</td>\n",
       "      <td>1</td>\n",
       "      <td>1</td>\n",
       "      <td>0</td>\n",
       "      <td>8</td>\n",
       "    </tr>\n",
       "    <tr>\n",
       "      <th>MR401</th>\n",
       "      <td>0</td>\n",
       "      <td>0</td>\n",
       "      <td>1</td>\n",
       "      <td>0</td>\n",
       "      <td>0</td>\n",
       "      <td>1</td>\n",
       "      <td>1</td>\n",
       "      <td>1</td>\n",
       "      <td>0</td>\n",
       "      <td>4</td>\n",
       "    </tr>\n",
       "    <tr>\n",
       "      <th>MR501</th>\n",
       "      <td>0</td>\n",
       "      <td>0</td>\n",
       "      <td>0</td>\n",
       "      <td>0</td>\n",
       "      <td>0</td>\n",
       "      <td>0</td>\n",
       "      <td>0</td>\n",
       "      <td>0</td>\n",
       "      <td>0</td>\n",
       "      <td>0</td>\n",
       "    </tr>\n",
       "  </tbody>\n",
       "</table>\n",
       "</div>"
      ],
      "text/plain": [
       "       2025-04  2025-05  2025-06  2025-07  2025-08  2025-09  2025-10  2025-11  \\\n",
       "MR101        1        2        1        2        2        1        1        1   \n",
       "MR102        0        0        0        0        0        0        0        0   \n",
       "MR103        0        1        1        0        0        1        0        1   \n",
       "MR104        0        0        1        1        1        1        1        1   \n",
       "MR111        5       11       10       11       11       10       11       10   \n",
       "MR112        3        5        5        5        5        5        5        5   \n",
       "MR201        3        6        5        6        6        5        6        5   \n",
       "MR202        3        5        4        4        4        4        4        4   \n",
       "MR203        0        0        0        0        0        0        0        0   \n",
       "MR204        0        0        0        0        0        0        0        0   \n",
       "MR205        0        0        0        0        0        0        0        0   \n",
       "MR206        0        0        0        0        0        0        0        0   \n",
       "MR301        1        1        1        1        1        1        1        1   \n",
       "MR401        0        0        1        0        0        1        1        1   \n",
       "MR501        0        0        0        0        0        0        0        0   \n",
       "\n",
       "       2025-12  TOTAL  \n",
       "MR101        1     12  \n",
       "MR102        0      0  \n",
       "MR103        0      4  \n",
       "MR104        0      6  \n",
       "MR111        3     82  \n",
       "MR112        2     40  \n",
       "MR201        2     44  \n",
       "MR202        2     34  \n",
       "MR203        0      0  \n",
       "MR204        0      0  \n",
       "MR205        0      0  \n",
       "MR206        0      0  \n",
       "MR301        0      8  \n",
       "MR401        0      4  \n",
       "MR501        0      0  "
      ]
     },
     "execution_count": 266,
     "metadata": {},
     "output_type": "execute_result"
    }
   ],
   "source": [
    "# Concatenar la ruta completa al archivo .pkl\n",
    "ruta_archivo = os.path.join(\"data\",proyecto, f\"{proyecto}_cronograma_anual.pkl\")\n",
    "\n",
    "# Leer el archivo pickle\n",
    "with open(ruta_archivo, \"rb\") as f:\n",
    "    df_cronograma_anual = pickle.load(f)\n",
    "\n",
    "df_cronograma_anual.head(15)"
   ]
  },
  {
   "cell_type": "markdown",
   "id": "4ec0f5f5",
   "metadata": {},
   "source": [
    "### JSON"
   ]
  },
  {
   "cell_type": "markdown",
   "id": "d7fa2247",
   "metadata": {},
   "source": [
    "#### Actividades"
   ]
  },
  {
   "cell_type": "code",
   "execution_count": 267,
   "id": "33aeed2c",
   "metadata": {},
   "outputs": [
    {
     "name": "stdout",
     "output_type": "stream",
     "text": [
      "[{'key': 'MR100', 'value': {'label': 'Conservación de calzada', 'value': [{'key': 'MR101', 'value': {'label': 'Limpieza de calzada', 'carga_trabajo': 0, 'unidad': 'Km'}}, {'key': 'MR102', 'value': {'label': 'Bacheo', 'carga_trabajo': 0, 'unidad': 'm2'}}, {'key': 'MR103', 'value': {'label': 'Desquinche', 'carga_trabajo': 0, 'unidad': 'm3'}}, {'key': 'MR104', 'value': {'label': 'Remoción de derrumbes', 'carga_trabajo': 0, 'unidad': 'm3'}}]}}, {'key': 'MR200', 'value': {'label': 'Limpieza de obras de arte', 'value': [{'key': 'MR201', 'value': {'label': 'Limpieza de cunetas', 'carga_trabajo': 1440, 'unidad': 'm'}}, {'key': 'MR202', 'value': {'label': 'Limpieza de alcantarillas', 'carga_trabajo': 0, 'unidad': 'unidad'}}, {'key': 'MR203', 'value': {'label': 'Limpieza de badén', 'carga_trabajo': 0, 'unidad': 'm2'}}, {'key': 'MR204', 'value': {'label': 'Limpieza de zanjas de coronación', 'carga_trabajo': 0, 'unidad': 'm'}}, {'key': 'MR205', 'value': {'label': 'Limpieza de pontones', 'carga_trabajo': 0, 'unidad': 'unidad'}}, {'key': 'MR206', 'value': {'label': 'Encausamiento de pequeños cursos de agua', 'carga_trabajo': 0, 'unidad': 'm'}}]}}, {'key': 'MR300', 'value': {'label': 'Control de vegetación', 'value': [{'key': 'MR301', 'value': {'label': 'Roce y limpieza', 'carga_trabajo': 0, 'unidad': 'm2'}}]}}, {'key': 'MR400', 'value': {'label': 'Seguridad vial', 'value': [{'key': 'MR401', 'value': {'label': 'Conservación de señales', 'carga_trabajo': 10, 'unidad': 'unidad'}}]}}, {'key': 'MR500', 'value': {'label': 'Medio ambiente', 'value': [{'key': 'MR501', 'value': {'label': 'Reforestación', 'carga_trabajo': 0, 'unidad': 'unidad'}}]}}, {'key': 'MR600', 'value': {'label': 'Vigilancia y control vial', 'value': [{'key': 'MR601', 'value': {'label': 'Vigilancia y control', 'carga_trabajo': 0, 'unidad': 'Km'}}]}}, {'key': 'MR700', 'value': {'label': 'Actividades complementarias', 'value': [{'key': 'MR701', 'value': {'label': 'Reparación de muros secos', 'carga_trabajo': 0, 'unidad': 'm3'}}, {'key': 'MR702', 'value': {'label': 'Reparación de pontones', 'carga_trabajo': 0, 'unidad': 'unidad'}}]}}]\n"
     ]
    }
   ],
   "source": [
    "ruta_actividades= os.path.join(\"data\", \"general_data\", \"actividades.json\")\n",
    "with open(ruta_actividades, 'r', encoding='utf-8') as archivo:\n",
    "    actividades = json.load(archivo)\n",
    "# Ahora 'datos' es un diccionario de Python\n",
    "print(actividades)"
   ]
  },
  {
   "cell_type": "markdown",
   "id": "68e13015",
   "metadata": {},
   "source": [
    "## Cálculos\n"
   ]
  },
  {
   "cell_type": "markdown",
   "id": "8e2dfc24",
   "metadata": {},
   "source": [
    "### Cargas de trabajo y pu de expediente tecnico"
   ]
  },
  {
   "cell_type": "code",
   "execution_count": 268,
   "id": "a3554c91",
   "metadata": {},
   "outputs": [
    {
     "name": "stdout",
     "output_type": "stream",
     "text": [
      "{'MR101': {'carga_trabajo': 10.28, 'precio_unitario': 317.8},\n",
      " 'MR103': {'carga_trabajo': 53.33, 'precio_unitario': 19.07},\n",
      " 'MR104': {'carga_trabajo': 85.33, 'precio_unitario': 21.18},\n",
      " 'MR201': {'carga_trabajo': 32350, 'precio_unitario': 0.53},\n",
      " 'MR202': {'carga_trabajo': 34.67, 'precio_unitario': 95.34},\n",
      " 'MR301': {'carga_trabajo': 15999, 'precio_unitario': 0.17},\n",
      " 'MR401': {'carga_trabajo': 64.67, 'precio_unitario': 13.28},\n",
      " 'MR601': {'carga_trabajo': 258.02, 'precio_unitario': 2.44},\n",
      " 'PP': {'carga_trabajo': 700, 'precio_unitario': 71.79},\n",
      " 'PS': {'carga_trabajo': 1512.58, 'precio_unitario': 47.01}}\n"
     ]
    }
   ],
   "source": [
    "datos_cargas_trabajo_expediente_tecnico=fusionar_diccionarios(\n",
    "    {\n",
    "        'precio_unitario':precios_unitarios_expediente_tecnico,\n",
    "        'carga_trabajo':cargas_trabajo_expediente_tecnico\n",
    "    }\n",
    ")\n",
    "\n",
    "pprint.pprint(datos_cargas_trabajo_expediente_tecnico)"
   ]
  },
  {
   "cell_type": "code",
   "execution_count": 269,
   "id": "b8f69b72",
   "metadata": {},
   "outputs": [],
   "source": [
    "# Crear DataFrame usando pd.DataFrame.from_dict() con orient='index'\n",
    "df_cargas_trabajo_expediente = pd.DataFrame.from_dict(\n",
    "    datos_cargas_trabajo_expediente_tecnico, orient=\"index\"\n",
    ")\n",
    "\n",
    "# Resetear el índice para convertir las claves MR en una columna\n",
    "df_cargas_trabajo_expediente = df_cargas_trabajo_expediente.reset_index().rename(\n",
    "    columns={\"index\": \"codigo_MR\"}\n",
    ")"
   ]
  },
  {
   "cell_type": "code",
   "execution_count": 270,
   "id": "966265c4",
   "metadata": {},
   "outputs": [],
   "source": [
    "# Agregar columna parcial\n",
    "df_cargas_trabajo_expediente[\"parcial\"] = (\n",
    "    df_cargas_trabajo_expediente[\"precio_unitario\"]\n",
    "    * df_cargas_trabajo_expediente[\"carga_trabajo\"]\n",
    ")"
   ]
  },
  {
   "cell_type": "code",
   "execution_count": 271,
   "id": "42f40b0c",
   "metadata": {},
   "outputs": [
    {
     "data": {
      "text/html": [
       "<div>\n",
       "<style scoped>\n",
       "    .dataframe tbody tr th:only-of-type {\n",
       "        vertical-align: middle;\n",
       "    }\n",
       "\n",
       "    .dataframe tbody tr th {\n",
       "        vertical-align: top;\n",
       "    }\n",
       "\n",
       "    .dataframe thead th {\n",
       "        text-align: right;\n",
       "    }\n",
       "</style>\n",
       "<table border=\"1\" class=\"dataframe\">\n",
       "  <thead>\n",
       "    <tr style=\"text-align: right;\">\n",
       "      <th></th>\n",
       "      <th>codigo_MR</th>\n",
       "      <th>precio_unitario</th>\n",
       "      <th>carga_trabajo</th>\n",
       "      <th>parcial</th>\n",
       "    </tr>\n",
       "  </thead>\n",
       "  <tbody>\n",
       "    <tr>\n",
       "      <th>0</th>\n",
       "      <td>MR601</td>\n",
       "      <td>2.44</td>\n",
       "      <td>258.02</td>\n",
       "      <td>629.5688</td>\n",
       "    </tr>\n",
       "    <tr>\n",
       "      <th>1</th>\n",
       "      <td>MR301</td>\n",
       "      <td>0.17</td>\n",
       "      <td>15999.00</td>\n",
       "      <td>2719.8300</td>\n",
       "    </tr>\n",
       "    <tr>\n",
       "      <th>2</th>\n",
       "      <td>MR101</td>\n",
       "      <td>317.80</td>\n",
       "      <td>10.28</td>\n",
       "      <td>3266.9840</td>\n",
       "    </tr>\n",
       "    <tr>\n",
       "      <th>3</th>\n",
       "      <td>MR202</td>\n",
       "      <td>95.34</td>\n",
       "      <td>34.67</td>\n",
       "      <td>3305.4378</td>\n",
       "    </tr>\n",
       "    <tr>\n",
       "      <th>4</th>\n",
       "      <td>MR401</td>\n",
       "      <td>13.28</td>\n",
       "      <td>64.67</td>\n",
       "      <td>858.8176</td>\n",
       "    </tr>\n",
       "    <tr>\n",
       "      <th>5</th>\n",
       "      <td>MR104</td>\n",
       "      <td>21.18</td>\n",
       "      <td>85.33</td>\n",
       "      <td>1807.2894</td>\n",
       "    </tr>\n",
       "    <tr>\n",
       "      <th>6</th>\n",
       "      <td>MR201</td>\n",
       "      <td>0.53</td>\n",
       "      <td>32350.00</td>\n",
       "      <td>17145.5000</td>\n",
       "    </tr>\n",
       "    <tr>\n",
       "      <th>7</th>\n",
       "      <td>MR103</td>\n",
       "      <td>19.07</td>\n",
       "      <td>53.33</td>\n",
       "      <td>1017.0031</td>\n",
       "    </tr>\n",
       "    <tr>\n",
       "      <th>8</th>\n",
       "      <td>PS</td>\n",
       "      <td>47.01</td>\n",
       "      <td>1512.58</td>\n",
       "      <td>71106.3858</td>\n",
       "    </tr>\n",
       "    <tr>\n",
       "      <th>9</th>\n",
       "      <td>PP</td>\n",
       "      <td>71.79</td>\n",
       "      <td>700.00</td>\n",
       "      <td>50253.0000</td>\n",
       "    </tr>\n",
       "  </tbody>\n",
       "</table>\n",
       "</div>"
      ],
      "text/plain": [
       "  codigo_MR  precio_unitario  carga_trabajo     parcial\n",
       "0     MR601             2.44         258.02    629.5688\n",
       "1     MR301             0.17       15999.00   2719.8300\n",
       "2     MR101           317.80          10.28   3266.9840\n",
       "3     MR202            95.34          34.67   3305.4378\n",
       "4     MR401            13.28          64.67    858.8176\n",
       "5     MR104            21.18          85.33   1807.2894\n",
       "6     MR201             0.53       32350.00  17145.5000\n",
       "7     MR103            19.07          53.33   1017.0031\n",
       "8        PS            47.01        1512.58  71106.3858\n",
       "9        PP            71.79         700.00  50253.0000"
      ]
     },
     "execution_count": 271,
     "metadata": {},
     "output_type": "execute_result"
    }
   ],
   "source": [
    "df_cargas_trabajo_expediente.head(15)"
   ]
  },
  {
   "cell_type": "code",
   "execution_count": 272,
   "id": "4da817a7",
   "metadata": {},
   "outputs": [
    {
     "name": "stdout",
     "output_type": "stream",
     "text": [
      "costo_directo 152109.8165\n"
     ]
    }
   ],
   "source": [
    "# Calcular el total\n",
    "costo_directo = df_cargas_trabajo_expediente[\"parcial\"].sum()\n",
    "print(\"costo_directo\", costo_directo)"
   ]
  },
  {
   "cell_type": "code",
   "execution_count": 273,
   "id": "180e3007",
   "metadata": {},
   "outputs": [
    {
     "name": "stdout",
     "output_type": "stream",
     "text": [
      "206413.02\n"
     ]
    }
   ],
   "source": [
    "costo_total_expediente = calculadora_costo_total(costo_directo,gastos_generales_expediente)\n",
    "print(costo_total_expediente[\"total\"])"
   ]
  },
  {
   "cell_type": "code",
   "execution_count": 274,
   "id": "2fe2679d",
   "metadata": {},
   "outputs": [
    {
     "name": "stdout",
     "output_type": "stream",
     "text": [
      "El costo directo es: 121687.84140928515\n"
     ]
    }
   ],
   "source": [
    "# Agregar columna parcial\n",
    "df_cargas_trabajo_expediente[\"precio_unitario_actualizado\"] = (\n",
    "    df_cargas_trabajo_expediente[\"precio_unitario\"]\n",
    "    * (monto_contrato / costo_total_expediente[\"total\"])\n",
    ")\n",
    "\n",
    "df_cargas_trabajo_expediente[\"parcial_actualizado\"] = (\n",
    "    df_cargas_trabajo_expediente[\"precio_unitario_actualizado\"]\n",
    "    * df_cargas_trabajo_expediente[\"carga_trabajo\"]\n",
    ")\n",
    "\n",
    "# Calcular el total\n",
    "costo_directo_actualizado = df_cargas_trabajo_expediente[\"parcial_actualizado\"].sum()\n",
    "\n",
    "print(f\"El costo directo es: {costo_directo_actualizado}\")"
   ]
  },
  {
   "cell_type": "code",
   "execution_count": 275,
   "id": "8ed1563c",
   "metadata": {},
   "outputs": [
    {
     "data": {
      "text/html": [
       "<div>\n",
       "<style scoped>\n",
       "    .dataframe tbody tr th:only-of-type {\n",
       "        vertical-align: middle;\n",
       "    }\n",
       "\n",
       "    .dataframe tbody tr th {\n",
       "        vertical-align: top;\n",
       "    }\n",
       "\n",
       "    .dataframe thead th {\n",
       "        text-align: right;\n",
       "    }\n",
       "</style>\n",
       "<table border=\"1\" class=\"dataframe\">\n",
       "  <thead>\n",
       "    <tr style=\"text-align: right;\">\n",
       "      <th></th>\n",
       "      <th>codigo_MR</th>\n",
       "      <th>precio_unitario</th>\n",
       "      <th>carga_trabajo</th>\n",
       "      <th>parcial</th>\n",
       "      <th>precio_unitario_actualizado</th>\n",
       "      <th>parcial_actualizado</th>\n",
       "    </tr>\n",
       "  </thead>\n",
       "  <tbody>\n",
       "    <tr>\n",
       "      <th>0</th>\n",
       "      <td>MR601</td>\n",
       "      <td>2.44</td>\n",
       "      <td>258.02</td>\n",
       "      <td>629.5688</td>\n",
       "      <td>1.952000</td>\n",
       "      <td>503.654991</td>\n",
       "    </tr>\n",
       "    <tr>\n",
       "      <th>1</th>\n",
       "      <td>MR301</td>\n",
       "      <td>0.17</td>\n",
       "      <td>15999.00</td>\n",
       "      <td>2719.8300</td>\n",
       "      <td>0.136000</td>\n",
       "      <td>2175.863789</td>\n",
       "    </tr>\n",
       "    <tr>\n",
       "      <th>2</th>\n",
       "      <td>MR101</td>\n",
       "      <td>317.80</td>\n",
       "      <td>10.28</td>\n",
       "      <td>3266.9840</td>\n",
       "      <td>254.239975</td>\n",
       "      <td>2613.586947</td>\n",
       "    </tr>\n",
       "    <tr>\n",
       "      <th>3</th>\n",
       "      <td>MR202</td>\n",
       "      <td>95.34</td>\n",
       "      <td>34.67</td>\n",
       "      <td>3305.4378</td>\n",
       "      <td>76.271993</td>\n",
       "      <td>2644.349984</td>\n",
       "    </tr>\n",
       "    <tr>\n",
       "      <th>4</th>\n",
       "      <td>MR401</td>\n",
       "      <td>13.28</td>\n",
       "      <td>64.67</td>\n",
       "      <td>858.8176</td>\n",
       "      <td>10.623999</td>\n",
       "      <td>687.054013</td>\n",
       "    </tr>\n",
       "    <tr>\n",
       "      <th>5</th>\n",
       "      <td>MR104</td>\n",
       "      <td>21.18</td>\n",
       "      <td>85.33</td>\n",
       "      <td>1807.2894</td>\n",
       "      <td>16.943998</td>\n",
       "      <td>1445.831380</td>\n",
       "    </tr>\n",
       "    <tr>\n",
       "      <th>6</th>\n",
       "      <td>MR201</td>\n",
       "      <td>0.53</td>\n",
       "      <td>32350.00</td>\n",
       "      <td>17145.5000</td>\n",
       "      <td>0.424000</td>\n",
       "      <td>13716.398671</td>\n",
       "    </tr>\n",
       "    <tr>\n",
       "      <th>7</th>\n",
       "      <td>MR103</td>\n",
       "      <td>19.07</td>\n",
       "      <td>53.33</td>\n",
       "      <td>1017.0031</td>\n",
       "      <td>15.255999</td>\n",
       "      <td>813.602401</td>\n",
       "    </tr>\n",
       "    <tr>\n",
       "      <th>8</th>\n",
       "      <td>PS</td>\n",
       "      <td>47.01</td>\n",
       "      <td>1512.58</td>\n",
       "      <td>71106.3858</td>\n",
       "      <td>37.607996</td>\n",
       "      <td>56885.103128</td>\n",
       "    </tr>\n",
       "    <tr>\n",
       "      <th>9</th>\n",
       "      <td>PP</td>\n",
       "      <td>71.79</td>\n",
       "      <td>700.00</td>\n",
       "      <td>50253.0000</td>\n",
       "      <td>57.431994</td>\n",
       "      <td>40202.396105</td>\n",
       "    </tr>\n",
       "  </tbody>\n",
       "</table>\n",
       "</div>"
      ],
      "text/plain": [
       "  codigo_MR  precio_unitario  carga_trabajo     parcial  \\\n",
       "0     MR601             2.44         258.02    629.5688   \n",
       "1     MR301             0.17       15999.00   2719.8300   \n",
       "2     MR101           317.80          10.28   3266.9840   \n",
       "3     MR202            95.34          34.67   3305.4378   \n",
       "4     MR401            13.28          64.67    858.8176   \n",
       "5     MR104            21.18          85.33   1807.2894   \n",
       "6     MR201             0.53       32350.00  17145.5000   \n",
       "7     MR103            19.07          53.33   1017.0031   \n",
       "8        PS            47.01        1512.58  71106.3858   \n",
       "9        PP            71.79         700.00  50253.0000   \n",
       "\n",
       "   precio_unitario_actualizado  parcial_actualizado  \n",
       "0                     1.952000           503.654991  \n",
       "1                     0.136000          2175.863789  \n",
       "2                   254.239975          2613.586947  \n",
       "3                    76.271993          2644.349984  \n",
       "4                    10.623999           687.054013  \n",
       "5                    16.943998          1445.831380  \n",
       "6                     0.424000         13716.398671  \n",
       "7                    15.255999           813.602401  \n",
       "8                    37.607996         56885.103128  \n",
       "9                    57.431994         40202.396105  "
      ]
     },
     "execution_count": 275,
     "metadata": {},
     "output_type": "execute_result"
    }
   ],
   "source": [
    "df_cargas_trabajo_expediente.tail(10)"
   ]
  },
  {
   "cell_type": "code",
   "execution_count": 276,
   "id": "b532ac06",
   "metadata": {},
   "outputs": [
    {
     "name": "stdout",
     "output_type": "stream",
     "text": [
      "165130.39\n"
     ]
    }
   ],
   "source": [
    "pago_costo_total_contratista = calculadora_costo_total(costo_directo_actualizado,gastos_generales_expediente)\n",
    "print(pago_costo_total_contratista[\"total\"])"
   ]
  },
  {
   "cell_type": "code",
   "execution_count": 277,
   "id": "51d9a840",
   "metadata": {},
   "outputs": [
    {
     "name": "stdout",
     "output_type": "stream",
     "text": [
      "{'MR101': 254.23997536589505,\n",
      " 'MR103': 15.255998521798674,\n",
      " 'MR104': 16.9439983582431,\n",
      " 'MR201': 0.4239999589173203,\n",
      " 'MR202': 76.27199260976852,\n",
      " 'MR301': 0.1359999868225367,\n",
      " 'MR401': 10.623998970607571,\n",
      " 'MR601': 1.9519998108646441,\n",
      " 'PP': 57.431994435234756,\n",
      " 'PS': 37.60799635604382}\n"
     ]
    }
   ],
   "source": [
    "dict_precios_unitarios_actualizados = dict(\n",
    "    zip(\n",
    "        df_cargas_trabajo_expediente[\"codigo_MR\"],\n",
    "        df_cargas_trabajo_expediente[\"precio_unitario_actualizado\"],\n",
    "    )\n",
    ")\n",
    "\n",
    "pprint.pprint(dict_precios_unitarios_actualizados)"
   ]
  },
  {
   "cell_type": "markdown",
   "id": "ba5e08d9",
   "metadata": {},
   "source": [
    "### Cálculo de pago de acuerdo a cargas de trabajo\n"
   ]
  },
  {
   "cell_type": "code",
   "execution_count": 278,
   "id": "93294446",
   "metadata": {},
   "outputs": [
    {
     "name": "stdout",
     "output_type": "stream",
     "text": [
      "{'MR101': 218.64637881466973,\n",
      " 'MR103': 203.3624602955763,\n",
      " 'MR104': 0.0,\n",
      " 'MR201': 2182.187868561005,\n",
      " 'MR202': 388.98716230981944,\n",
      " 'MR301': 271.9836536466547,\n",
      " 'MR401': 0.0,\n",
      " 'MR601': 0.0,\n",
      " 'PP': 6432.383376746293,\n",
      " 'PS': 9119.939116340627}\n"
     ]
    }
   ],
   "source": [
    "pago_costo_directo_parciales_contratista = calcular_costos_unitarios(\n",
    "    dict_precios_unitarios_actualizados, cargas_trabajo_contratista\n",
    ")\n",
    "pprint.pprint(pago_costo_directo_parciales_contratista)"
   ]
  },
  {
   "cell_type": "markdown",
   "id": "8ffbf13b",
   "metadata": {},
   "source": [
    "##### Visualizacion en dataframe\n"
   ]
  },
  {
   "cell_type": "code",
   "execution_count": 279,
   "id": "be601e52",
   "metadata": {},
   "outputs": [
    {
     "data": {
      "text/html": [
       "<div>\n",
       "<style scoped>\n",
       "    .dataframe tbody tr th:only-of-type {\n",
       "        vertical-align: middle;\n",
       "    }\n",
       "\n",
       "    .dataframe tbody tr th {\n",
       "        vertical-align: top;\n",
       "    }\n",
       "\n",
       "    .dataframe thead th {\n",
       "        text-align: right;\n",
       "    }\n",
       "</style>\n",
       "<table border=\"1\" class=\"dataframe\">\n",
       "  <thead>\n",
       "    <tr style=\"text-align: right;\">\n",
       "      <th></th>\n",
       "      <th>codigo_MR</th>\n",
       "      <th>monto_pago</th>\n",
       "    </tr>\n",
       "  </thead>\n",
       "  <tbody>\n",
       "    <tr>\n",
       "      <th>0</th>\n",
       "      <td>MR601</td>\n",
       "      <td>0.000000</td>\n",
       "    </tr>\n",
       "    <tr>\n",
       "      <th>1</th>\n",
       "      <td>MR301</td>\n",
       "      <td>271.983654</td>\n",
       "    </tr>\n",
       "    <tr>\n",
       "      <th>2</th>\n",
       "      <td>MR101</td>\n",
       "      <td>218.646379</td>\n",
       "    </tr>\n",
       "    <tr>\n",
       "      <th>3</th>\n",
       "      <td>MR202</td>\n",
       "      <td>388.987162</td>\n",
       "    </tr>\n",
       "    <tr>\n",
       "      <th>4</th>\n",
       "      <td>MR401</td>\n",
       "      <td>0.000000</td>\n",
       "    </tr>\n",
       "    <tr>\n",
       "      <th>5</th>\n",
       "      <td>MR104</td>\n",
       "      <td>0.000000</td>\n",
       "    </tr>\n",
       "    <tr>\n",
       "      <th>6</th>\n",
       "      <td>MR201</td>\n",
       "      <td>2182.187869</td>\n",
       "    </tr>\n",
       "    <tr>\n",
       "      <th>7</th>\n",
       "      <td>MR103</td>\n",
       "      <td>203.362460</td>\n",
       "    </tr>\n",
       "    <tr>\n",
       "      <th>8</th>\n",
       "      <td>PS</td>\n",
       "      <td>9119.939116</td>\n",
       "    </tr>\n",
       "    <tr>\n",
       "      <th>9</th>\n",
       "      <td>PP</td>\n",
       "      <td>6432.383377</td>\n",
       "    </tr>\n",
       "  </tbody>\n",
       "</table>\n",
       "</div>"
      ],
      "text/plain": [
       "  codigo_MR   monto_pago\n",
       "0     MR601     0.000000\n",
       "1     MR301   271.983654\n",
       "2     MR101   218.646379\n",
       "3     MR202   388.987162\n",
       "4     MR401     0.000000\n",
       "5     MR104     0.000000\n",
       "6     MR201  2182.187869\n",
       "7     MR103   203.362460\n",
       "8        PS  9119.939116\n",
       "9        PP  6432.383377"
      ]
     },
     "execution_count": 279,
     "metadata": {},
     "output_type": "execute_result"
    }
   ],
   "source": [
    "df_pago_costo_directo_parciales_contratista = pd.DataFrame.from_dict(\n",
    "    pago_costo_directo_parciales_contratista, orient=\"index\"\n",
    ")\n",
    "\n",
    "df_pago_costo_directo_parciales_contratista = (\n",
    "    df_pago_costo_directo_parciales_contratista.reset_index().rename(\n",
    "        columns={\"index\": \"codigo_MR\"}\n",
    "    )\n",
    ")\n",
    "\n",
    "df_pago_costo_directo_parciales_contratista = (\n",
    "    df_pago_costo_directo_parciales_contratista.rename(columns={0: \"monto_pago\"})\n",
    ")\n",
    "\n",
    "df_pago_costo_directo_parciales_contratista"
   ]
  },
  {
   "cell_type": "code",
   "execution_count": 280,
   "id": "124db32b",
   "metadata": {},
   "outputs": [
    {
     "name": "stdout",
     "output_type": "stream",
     "text": [
      "\n",
      "DataFrame Ordenado por 'monto_pago' (ascendente):\n",
      "  codigo_MR   monto_pago\n",
      "8        PS  9119.939116\n",
      "9        PP  6432.383377\n",
      "6     MR201  2182.187869\n",
      "3     MR202   388.987162\n",
      "1     MR301   271.983654\n",
      "2     MR101   218.646379\n",
      "7     MR103   203.362460\n",
      "0     MR601     0.000000\n",
      "5     MR104     0.000000\n",
      "4     MR401     0.000000\n"
     ]
    }
   ],
   "source": [
    "# Ordenar el DataFrame por la columna 'monto_pago'\n",
    "# Por defecto, el orden es ascendente (de menor a mayor)\n",
    "df_ordenado = df_pago_costo_directo_parciales_contratista.sort_values(\n",
    "    by=\"monto_pago\", ascending=False\n",
    ")\n",
    "\n",
    "print(\"\\nDataFrame Ordenado por 'monto_pago' (ascendente):\")\n",
    "print(df_ordenado)"
   ]
  },
  {
   "cell_type": "code",
   "execution_count": 281,
   "id": "a6b2bc35",
   "metadata": {},
   "outputs": [],
   "source": [
    "# Lambda que suma todos los valores de un diccionario\n",
    "sumar_valores = lambda d: sum(d.values())"
   ]
  },
  {
   "cell_type": "code",
   "execution_count": 282,
   "id": "8ec2741f",
   "metadata": {},
   "outputs": [
    {
     "name": "stdout",
     "output_type": "stream",
     "text": [
      "18817.490016714644\n"
     ]
    }
   ],
   "source": [
    "pago_costo_directo_contratista = sumar_valores(pago_costo_directo_parciales_contratista)\n",
    "print(pago_costo_directo_contratista)"
   ]
  },
  {
   "cell_type": "code",
   "execution_count": 283,
   "id": "a02e99b6",
   "metadata": {},
   "outputs": [
    {
     "name": "stdout",
     "output_type": "stream",
     "text": [
      "25535.33\n"
     ]
    }
   ],
   "source": [
    "pago_costo_total_contratista = calculadora_costo_total(pago_costo_directo_contratista,gastos_generales_expediente)\n",
    "print(pago_costo_total_contratista[\"total\"])"
   ]
  },
  {
   "cell_type": "markdown",
   "id": "a6981349",
   "metadata": {},
   "source": [
    "##### Validación\n"
   ]
  },
  {
   "cell_type": "code",
   "execution_count": 284,
   "id": "49fdb8ec",
   "metadata": {},
   "outputs": [
    {
     "name": "stdout",
     "output_type": "stream",
     "text": [
      "{'diferencia_costos': 1.3000000000029104,\n",
      " 'ejecutado': 25535.33,\n",
      " 'programado': 25534.03}\n"
     ]
    },
    {
     "ename": "ValueError",
     "evalue": "La valorizacion de las actividades presentadas por el contratista no es coherente con lo programado",
     "output_type": "error",
     "traceback": [
      "\u001b[31m---------------------------------------------------------------------------\u001b[39m",
      "\u001b[31mValueError\u001b[39m                                Traceback (most recent call last)",
      "\u001b[36mCell\u001b[39m\u001b[36m \u001b[39m\u001b[32mIn[284]\u001b[39m\u001b[32m, line 15\u001b[39m\n\u001b[32m      6\u001b[39m pprint.pprint(\n\u001b[32m      7\u001b[39m     {\n\u001b[32m      8\u001b[39m         \u001b[33m\"\u001b[39m\u001b[33mdiferencia_costos\u001b[39m\u001b[33m\"\u001b[39m: diferencia_costos,\n\u001b[32m   (...)\u001b[39m\u001b[32m     11\u001b[39m     }\n\u001b[32m     12\u001b[39m )\n\u001b[32m     14\u001b[39m \u001b[38;5;28;01mif\u001b[39;00m diferencia_costos > \u001b[32m1\u001b[39m:\n\u001b[32m---> \u001b[39m\u001b[32m15\u001b[39m     \u001b[38;5;28;01mraise\u001b[39;00m \u001b[38;5;167;01mValueError\u001b[39;00m(\n\u001b[32m     16\u001b[39m         \u001b[33m\"\u001b[39m\u001b[33mLa valorizacion de las actividades presentadas por el contratista no es coherente con lo programado\u001b[39m\u001b[33m\"\u001b[39m\n\u001b[32m     17\u001b[39m     )\n",
      "\u001b[31mValueError\u001b[39m: La valorizacion de las actividades presentadas por el contratista no es coherente con lo programado"
     ]
    }
   ],
   "source": [
    "diferencia_costos = abs(\n",
    "    pago_costo_total_contratista[\"total\"]\n",
    "    - desembolso_current_month[\"mantenimiento_con_igv\"]\n",
    ")\n",
    "\n",
    "pprint.pprint(\n",
    "    {\n",
    "        \"diferencia_costos\": diferencia_costos,\n",
    "        \"ejecutado\": pago_costo_total_contratista[\"total\"],\n",
    "        \"programado\": desembolso_current_month[\"mantenimiento_con_igv\"],\n",
    "    }\n",
    ")\n",
    "\n",
    "if diferencia_costos > 1:\n",
    "    raise ValueError(\n",
    "        \"La valorizacion de las actividades presentadas por el contratista no es coherente con lo programado\"\n",
    "    )"
   ]
  },
  {
   "cell_type": "markdown",
   "id": "02a4abcd",
   "metadata": {},
   "source": [
    "### Ordenando cargas de trabajo"
   ]
  },
  {
   "cell_type": "code",
   "execution_count": null,
   "id": "30481fde",
   "metadata": {},
   "outputs": [
    {
     "name": "stdout",
     "output_type": "stream",
     "text": [
      "[{'key': 'MR101', 'value': 0.99375},\n",
      " {'key': 'MR102', 'value': 328.0038461538461},\n",
      " {'key': 'MR103', 'value': 5.0075},\n",
      " {'key': 'MR104', 'value': 10.17142857142857},\n",
      " {'key': 'MR201', 'value': 0.0},\n",
      " {'key': 'MR202', 'value': 0.0},\n",
      " {'key': 'MR203', 'value': 44.448},\n",
      " {'key': 'MR204', 'value': 0.0},\n",
      " {'key': 'MR205', 'value': 0.0},\n",
      " {'key': 'MR206', 'value': 33.91},\n",
      " {'key': 'MR301', 'value': 3903.83},\n",
      " {'key': 'MR401', 'value': 0.0},\n",
      " {'key': 'MR501', 'value': 0.0},\n",
      " {'key': 'MR601', 'value': 0.0},\n",
      " {'key': 'MR701', 'value': 3.4320000000000004},\n",
      " {'key': 'MR702', 'value': 0.0}]\n"
     ]
    }
   ],
   "source": [
    "cargas_trabajo_ordenadas=ordenar_por_centena(cargas_trabajo_programadas_current_month)\n",
    "pprint.pprint(cargas_trabajo_ordenadas)"
   ]
  }
 ],
 "metadata": {
  "kernelspec": {
   "display_name": "asignaciones-financieras-v2",
   "language": "python",
   "name": "python3"
  },
  "language_info": {
   "codemirror_mode": {
    "name": "ipython",
    "version": 3
   },
   "file_extension": ".py",
   "mimetype": "text/x-python",
   "name": "python",
   "nbconvert_exporter": "python",
   "pygments_lexer": "ipython3",
   "version": "3.12.4"
  }
 },
 "nbformat": 4,
 "nbformat_minor": 5
}
