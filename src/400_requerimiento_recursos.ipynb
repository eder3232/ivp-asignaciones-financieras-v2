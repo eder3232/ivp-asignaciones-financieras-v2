{
 "cells": [
  {
   "cell_type": "markdown",
   "id": "1aeb1e6c",
   "metadata": {},
   "source": [
    "# Requerimiento de recursos"
   ]
  },
  {
   "cell_type": "markdown",
   "id": "9fd20c05",
   "metadata": {},
   "source": [
    "## Datos del proyecto en análisis"
   ]
  },
  {
   "cell_type": "code",
   "execution_count": 1,
   "id": "b3529e53",
   "metadata": {},
   "outputs": [],
   "source": [
    "proyecto=\"cabanaconde\"\n",
    "mes_en_analisis=5\n",
    "anio=2025"
   ]
  },
  {
   "cell_type": "markdown",
   "id": "84e19433",
   "metadata": {},
   "source": [
    "## Librerias necesarias"
   ]
  },
  {
   "cell_type": "code",
   "execution_count": 2,
   "id": "c3bffafe",
   "metadata": {},
   "outputs": [],
   "source": [
    "import xlsxwriter\n",
    "import re\n",
    "import random\n",
    "import pickle\n",
    "import pandas as pd\n",
    "import os\n",
    "import os\n",
    "import math\n",
    "import locale, calendar\n",
    "import locale\n",
    "import json\n",
    "import itertools\n",
    "import excel2img\n",
    "import calendar\n",
    "import pprint\n",
    "from xlsxwriter.utility import xl_range, xl_rowcol_to_cell\n",
    "from xhtml2pdf import pisa\n",
    "from typing import List, Dict, Optional\n",
    "from typing import Dict, List, Any\n",
    "from pathlib import Path\n",
    "from openpyxl.utils import get_column_letter\n",
    "from openpyxl import load_workbook\n",
    "from jinja2 import Template, Environment\n",
    "from google.oauth2 import service_account\n",
    "from google.cloud import firestore\n",
    "from firebase_admin import credentials, firestore\n",
    "from dotenv import load_dotenv, find_dotenv\n",
    "from datetime import date, timedelta"
   ]
  },
  {
   "cell_type": "code",
   "execution_count": 3,
   "id": "75e8654f",
   "metadata": {},
   "outputs": [
    {
     "data": {
      "text/plain": [
       "'es_PE.UTF-8'"
      ]
     },
     "execution_count": 3,
     "metadata": {},
     "output_type": "execute_result"
    }
   ],
   "source": [
    "locale.setlocale(locale.LC_TIME, 'es_PE.UTF-8')  "
   ]
  },
  {
   "cell_type": "markdown",
   "id": "2032929a",
   "metadata": {},
   "source": [
    "## Funciones útiles"
   ]
  },
  {
   "cell_type": "markdown",
   "id": "2541d7a8",
   "metadata": {},
   "source": [
    "## Carga de datos"
   ]
  },
  {
   "cell_type": "markdown",
   "id": "3faa4823",
   "metadata": {},
   "source": [
    "### Pickle"
   ]
  },
  {
   "cell_type": "markdown",
   "id": "6741551a",
   "metadata": {},
   "source": [
    "### Firestore"
   ]
  },
  {
   "cell_type": "code",
   "execution_count": 4,
   "id": "02c5c53f",
   "metadata": {},
   "outputs": [
    {
     "name": "stdout",
     "output_type": "stream",
     "text": [
      "Colecciones disponibles: ['rutinarios']\n"
     ]
    }
   ],
   "source": [
    "## Datos de # 1. Busca el .env en el directorio actual o en cualquiera de los padres\n",
    "dotenv_path = find_dotenv()\n",
    "if not dotenv_path:\n",
    "    raise FileNotFoundError(\"No se encontró ningún archivo .env en este directorio ni en sus padres.\")\n",
    "load_dotenv(dotenv_path)\n",
    "\n",
    "# 2. Define el root del proyecto como la carpeta que contiene el .env\n",
    "project_root = Path(dotenv_path).parent\n",
    "\n",
    "# 3. Obtén la ruta relativa de las credenciales desde la variable de entorno\n",
    "rel_cred_path = os.getenv(\"FIRESTORE_CREDENTIALS\")\n",
    "if not rel_cred_path:\n",
    "    raise RuntimeError(\"No existe la variable FIRESTORE_CREDENTIALS en el .env\")\n",
    "\n",
    "# 4. Construye la ruta absoluta al JSON\n",
    "cred_path = Path(rel_cred_path)\n",
    "if not cred_path.is_absolute():\n",
    "    cred_path = (project_root / cred_path).resolve()\n",
    "\n",
    "if not cred_path.exists():\n",
    "    raise FileNotFoundError(f\"No existe el archivo de credenciales en: {cred_path}\")\n",
    "\n",
    "# 5. Carga las credenciales y crea el cliente de Firestore\n",
    "credentials = service_account.Credentials.from_service_account_file(str(cred_path))\n",
    "client = firestore.Client(credentials=credentials, project=credentials.project_id)\n",
    "\n",
    "# 6. Prueba que funcione\n",
    "print(\"Colecciones disponibles:\", [c.id for c in client.collections()])"
   ]
  },
  {
   "cell_type": "code",
   "execution_count": 5,
   "id": "067a531e",
   "metadata": {},
   "outputs": [],
   "source": [
    "db=firestore.Client(credentials=credentials, project=credentials.project_id)"
   ]
  },
  {
   "cell_type": "markdown",
   "id": "68f30974",
   "metadata": {},
   "source": [
    "#### Desembolsos"
   ]
  },
  {
   "cell_type": "code",
   "execution_count": 6,
   "id": "232e9075",
   "metadata": {},
   "outputs": [
    {
     "name": "stdout",
     "output_type": "stream",
     "text": [
      "{'10': {'gastos_operativos': 838.24,\n",
      "        'igv': 1508.83,\n",
      "        'mantenimiento_con_go': 9220.64,\n",
      "        'mantenimiento_con_igv': 8382.4,\n",
      "        'mantenimiento_sin_igv': 6873.57},\n",
      " '11': {'gastos_operativos': 811.2,\n",
      "        'igv': 1460.16,\n",
      "        'mantenimiento_con_go': 8923.2,\n",
      "        'mantenimiento_con_igv': 8112.0,\n",
      "        'mantenimiento_sin_igv': 6651.84},\n",
      " '12': {'gastos_operativos': 135.2,\n",
      "        'igv': 243.36,\n",
      "        'mantenimiento_con_go': 1487.2,\n",
      "        'mantenimiento_con_igv': 1352.0,\n",
      "        'mantenimiento_sin_igv': 1108.64},\n",
      " '4': {'gastos_operativos': 567.84,\n",
      "       'igv': 1022.11,\n",
      "       'mantenimiento_con_go': 6246.24,\n",
      "       'mantenimiento_con_igv': 5678.4,\n",
      "       'mantenimiento_sin_igv': 4656.29},\n",
      " '5': {'gastos_operativos': 838.24,\n",
      "       'igv': 1508.83,\n",
      "       'mantenimiento_con_go': 9220.64,\n",
      "       'mantenimiento_con_igv': 8382.4,\n",
      "       'mantenimiento_sin_igv': 6873.57},\n",
      " '6': {'gastos_operativos': 811.2,\n",
      "       'igv': 1460.16,\n",
      "       'mantenimiento_con_go': 8923.2,\n",
      "       'mantenimiento_con_igv': 8112.0,\n",
      "       'mantenimiento_sin_igv': 6651.84},\n",
      " '7': {'gastos_operativos': 838.24,\n",
      "       'igv': 1508.83,\n",
      "       'mantenimiento_con_go': 9220.64,\n",
      "       'mantenimiento_con_igv': 8382.4,\n",
      "       'mantenimiento_sin_igv': 6873.57},\n",
      " '8': {'gastos_operativos': 838.24,\n",
      "       'igv': 1508.83,\n",
      "       'mantenimiento_con_go': 9220.64,\n",
      "       'mantenimiento_con_igv': 8382.4,\n",
      "       'mantenimiento_sin_igv': 6873.57},\n",
      " '9': {'gastos_operativos': 811.2,\n",
      "       'igv': 1460.16,\n",
      "       'mantenimiento_con_go': 8923.2,\n",
      "       'mantenimiento_con_igv': 8112.0,\n",
      "       'mantenimiento_sin_igv': 6651.84}}\n"
     ]
    }
   ],
   "source": [
    "desembolsos=db.collection(\"rutinarios\").document(proyecto).collection(\"presupuestos\").document(\"desembolsos\").get().to_dict()\n",
    "\n",
    "cronograma_desembolsos=desembolsos['cronograma_desembolsos']\n",
    "\n",
    "pprint.pprint(cronograma_desembolsos)"
   ]
  },
  {
   "cell_type": "code",
   "execution_count": 7,
   "id": "c94053ad",
   "metadata": {},
   "outputs": [
    {
     "name": "stdout",
     "output_type": "stream",
     "text": [
      "{'gastos_operativos': 838.24,\n",
      " 'igv': 1508.83,\n",
      " 'mantenimiento_con_go': 9220.64,\n",
      " 'mantenimiento_con_igv': 8382.4,\n",
      " 'mantenimiento_sin_igv': 6873.57}\n"
     ]
    }
   ],
   "source": [
    "desembolso_current_month=cronograma_desembolsos[str(mes_en_analisis)]\n",
    "pprint.pprint(desembolso_current_month)"
   ]
  },
  {
   "cell_type": "code",
   "execution_count": 8,
   "id": "b9446aef",
   "metadata": {},
   "outputs": [
    {
     "name": "stdout",
     "output_type": "stream",
     "text": [
      "Costo de mantenimiento rutinario: 8382.4\n",
      "Costo de gastos operativos: 838.24\n",
      "Costo total de mantenimiento: 9220.64\n"
     ]
    }
   ],
   "source": [
    "costo_mantenimiento_rutinario=desembolso_current_month['mantenimiento_con_igv']\n",
    "costo_gastos_operativos=desembolso_current_month['gastos_operativos']\n",
    "costo_total_mantenimiento=desembolso_current_month['mantenimiento_con_go']\n",
    "print(f\"Costo de mantenimiento rutinario: {costo_mantenimiento_rutinario}\")\n",
    "print(f\"Costo de gastos operativos: {costo_gastos_operativos}\")\n",
    "print(f\"Costo total de mantenimiento: {costo_total_mantenimiento}\")"
   ]
  },
  {
   "cell_type": "markdown",
   "id": "69767d82",
   "metadata": {},
   "source": [
    "#### Documento firestore"
   ]
  },
  {
   "cell_type": "code",
   "execution_count": 9,
   "id": "01260281",
   "metadata": {},
   "outputs": [],
   "source": [
    "doc_proyecto_firebase = db.collection(\"rutinarios\").document(proyecto).get().to_dict()"
   ]
  },
  {
   "cell_type": "markdown",
   "id": "e1bc717c",
   "metadata": {},
   "source": [
    "#### Datos generales"
   ]
  },
  {
   "cell_type": "code",
   "execution_count": 10,
   "id": "9da649b5",
   "metadata": {},
   "outputs": [
    {
     "name": "stdout",
     "output_type": "stream",
     "text": [
      "{'distritos': ['Cabanaconde'], 'provincia': 'Caylloma', 'region': 'Arequipa'}\n"
     ]
    }
   ],
   "source": [
    "datos_generales = doc_proyecto_firebase[\"datos_generales\"]\n",
    "\n",
    "pprint.pprint(datos_generales)"
   ]
  },
  {
   "cell_type": "code",
   "execution_count": 11,
   "id": "54956727",
   "metadata": {},
   "outputs": [
    {
     "name": "stdout",
     "output_type": "stream",
     "text": [
      "Distritos: Cabanaconde, Región: Arequipa, Provincia: Caylloma\n"
     ]
    }
   ],
   "source": [
    "distritos, region, provincia = '-'.join(datos_generales['distritos']), datos_generales['region'], datos_generales['provincia']\n",
    "print(f\"Distritos: {distritos}, Región: {region}, Provincia: {provincia}\")"
   ]
  },
  {
   "cell_type": "markdown",
   "id": "a53596e5",
   "metadata": {},
   "source": [
    "#### Expediente técnico"
   ]
  },
  {
   "cell_type": "code",
   "execution_count": 12,
   "id": "c54d207c",
   "metadata": {},
   "outputs": [
    {
     "name": "stdout",
     "output_type": "stream",
     "text": [
      "{'cargas_trabajo': {'MR101': 17.33,\n",
      "                    'MR102': 1837.78,\n",
      "                    'MR103': 33.25,\n",
      "                    'MR104': 136.09,\n",
      "                    'MR201': 16666.67,\n",
      "                    'MR202': 0,\n",
      "                    'MR203': 466.67,\n",
      "                    'MR204': 0,\n",
      "                    'MR205': 0,\n",
      "                    'MR206': 0,\n",
      "                    'MR301': 39671.67,\n",
      "                    'MR401': 29.33,\n",
      "                    'MR501': 0,\n",
      "                    'MR601': 112.67,\n",
      "                    'MR701': 19.33,\n",
      "                    'MR702': 0},\n",
      " 'codigo_ruta': 'R0405106',\n",
      " 'coordenadas': {'fin': {'altitud': 1975,\n",
      "                         'datum': 'WGS84',\n",
      "                         'hemisferio': 'S',\n",
      "                         'progresiva': 13000,\n",
      "                         'x': 813907.99,\n",
      "                         'y': 8272525.68,\n",
      "                         'zona': 18,\n",
      "                         'zona_letra': 'L'},\n",
      "                 'inicio': {'altitud': 2877,\n",
      "                            'datum': 'WGS84',\n",
      "                            'hemisferio': 'S',\n",
      "                            'progresiva': 0,\n",
      "                            'x': 819845.05,\n",
      "                            'y': 8272658.46,\n",
      "                            'zona': 18,\n",
      "                            'zona_letra': 'L'}},\n",
      " 'longitud': 13000,\n",
      " 'monto_total': 81120,\n",
      " 'nombre': 'MANTENIMIENTO VIAL RUTINARIO DEL CAMINO VECINAL EMP. R0405104 '\n",
      "           '(CABANACONDE) A PTE. CABANACONDE - CHOCO (L.P. CASTILLA), DISTRITO '\n",
      "           'DE CABANACONDE, PROVINCIA DE CAYLLOMA, REGIÓN AREQUIPA',\n",
      " 'precios_unitarios': {'MR101': 265.3,\n",
      "                       'MR102': 10.27,\n",
      "                       'MR103': 21.0,\n",
      "                       'MR104': 17.5,\n",
      "                       'MR201': 0.44,\n",
      "                       'MR202': 78.5,\n",
      "                       'MR203': 5.25,\n",
      "                       'MR204': 0.44,\n",
      "                       'MR205': 105,\n",
      "                       'MR206': 3.6,\n",
      "                       'MR301': 0.14,\n",
      "                       'MR401': 11.42,\n",
      "                       'MR501': 0.53,\n",
      "                       'MR601': 2.1,\n",
      "                       'MR701': 43.75,\n",
      "                       'MR702': 210},\n",
      " 'tarifa_km_mes': 780}\n"
     ]
    }
   ],
   "source": [
    "expediente = doc_proyecto_firebase[\"expediente\"]\n",
    "\n",
    "pprint.pprint(expediente)"
   ]
  },
  {
   "cell_type": "markdown",
   "id": "a317aa26",
   "metadata": {},
   "source": [
    "#### Código de ruta"
   ]
  },
  {
   "cell_type": "code",
   "execution_count": 13,
   "id": "8431f5db",
   "metadata": {},
   "outputs": [
    {
     "name": "stdout",
     "output_type": "stream",
     "text": [
      "Código de ruta: R0405106\n"
     ]
    }
   ],
   "source": [
    "codigo_ruta= expediente.get(\"codigo_ruta\", \"\")\n",
    "if not codigo_ruta:\n",
    "    print(\"No se encontró el código de ruta en los datos del expediente.\")\n",
    "print(f\"Código de ruta: {codigo_ruta}\")"
   ]
  },
  {
   "cell_type": "markdown",
   "id": "50ffb8ca",
   "metadata": {},
   "source": [
    "### Longitud"
   ]
  },
  {
   "cell_type": "code",
   "execution_count": 14,
   "id": "e3a3cef2",
   "metadata": {},
   "outputs": [
    {
     "name": "stdout",
     "output_type": "stream",
     "text": [
      "Longitud: 13000 km\n"
     ]
    }
   ],
   "source": [
    "longitud = expediente.get(\"longitud\", 0)\n",
    "if longitud is None:\n",
    "    print(\"No se encontró la longitud en los datos del expediente.\")\n",
    "print(f\"Longitud: {longitud} km\")"
   ]
  },
  {
   "cell_type": "code",
   "execution_count": 15,
   "id": "0b221805",
   "metadata": {},
   "outputs": [
    {
     "name": "stdout",
     "output_type": "stream",
     "text": [
      "{'contratista': {'razon_social': 'Grupo ARICOL E.I.R.L.', 'ruc': 20606988398},\n",
      " 'denominacion_tramo_convenio': 'EMP. R0405104 (CABANACONDE) A PTE. '\n",
      "                                'CABANACONDE - CHOCO - L.P. CASTILLA (KM '\n",
      "                                '13+000)',\n",
      " 'fecha_inicio': {'anio': 2025, 'dia': 10, 'mes': 4},\n",
      " 'id_contrato': '001-2025',\n",
      " 'jefe_mantenimiento': {'apellido': 'Tinta Cáceres',\n",
      "                        'dni': 0,\n",
      "                        'nombre': 'Genaro',\n",
      "                        'titulo': 'Ingeniero'},\n",
      " 'monto_contrato': 64896,\n",
      " 'numero_cuadrillas': 1,\n",
      " 'numero_trabajadores': 4,\n",
      " 'tiempo_ejecucion_dias': 240,\n",
      " 'tipo_servicio': 'mantenimiento rutinario'}\n"
     ]
    }
   ],
   "source": [
    "contrato=doc_proyecto_firebase[\"contrato\"]\n",
    "pprint.pprint( contrato)"
   ]
  },
  {
   "cell_type": "code",
   "execution_count": 16,
   "id": "09ac2f49",
   "metadata": {},
   "outputs": [
    {
     "name": "stdout",
     "output_type": "stream",
     "text": [
      "EMP. R0405104 (CABANACONDE) A PTE. CABANACONDE - CHOCO - L.P. CASTILLA (KM 13+000)\n"
     ]
    }
   ],
   "source": [
    "denominacion_tramo_convenio= contrato[\"denominacion_tramo_convenio\"]\n",
    "print(denominacion_tramo_convenio)"
   ]
  },
  {
   "cell_type": "markdown",
   "id": "0b9aa3f3",
   "metadata": {},
   "source": [
    "## Cálculos"
   ]
  },
  {
   "cell_type": "code",
   "execution_count": 17,
   "id": "5ad61f04",
   "metadata": {},
   "outputs": [],
   "source": [
    "mes_recursos_solicitados=mes_en_analisis+1"
   ]
  },
  {
   "cell_type": "code",
   "execution_count": 18,
   "id": "c297b281",
   "metadata": {},
   "outputs": [],
   "source": [
    "data_for_document={\n",
    "  \"departamento\": region,\n",
    "  \"provincia\": provincia,\n",
    "  \"distrito\": distritos,\n",
    "  \"tramo\": denominacion_tramo_convenio,\n",
    "  \"codigo_ruta\": codigo_ruta,\n",
    "  \"categoria\": \"Camino Vecinal\",\n",
    "  \"longitud_km\": str(round(longitud/1000, 2)),\n",
    "  \"mes\": calendar.month_name[mes_recursos_solicitados],\n",
    "  \"mantenimiento_rutinario\": costo_mantenimiento_rutinario,\n",
    "  \"gastos_operativos\": costo_gastos_operativos,\n",
    "  \"costo_total_mantenimiento\": costo_total_mantenimiento,\n",
    "}"
   ]
  },
  {
   "cell_type": "code",
   "execution_count": 20,
   "id": "32020429",
   "metadata": {},
   "outputs": [
    {
     "name": "stdout",
     "output_type": "stream",
     "text": [
      "✔️ PDF generado: requerimiento_de_recursos.pdf\n"
     ]
    }
   ],
   "source": [
    "# —————————————————————————————————————————————\n",
    "# Filtro para formato de moneda\n",
    "# —————————————————————————————————————————————\n",
    "def format_currency(value):\n",
    "    return f\"{value:,.2f}\"\n",
    "\n",
    "# —————————————————————————————————————————————\n",
    "# Plantilla HTML + CSS (A4 landscape) con tu estructura de tabla\n",
    "# —————————————————————————————————————————————\n",
    "html_template = \"\"\"\n",
    "<!DOCTYPE html>\n",
    "<html lang=\"es\">\n",
    "<head>\n",
    "  <meta charset=\"UTF-8\"/>\n",
    "  <style>\n",
    "    @page { size: A4 landscape; margin: 1cm; }\n",
    "    body { font-family: sans-serif; font-size: 11pt; }\n",
    "    .title { text-align: center; font-size: 16pt; font-weight: bold; margin-bottom: 8px; }\n",
    "    table { width: 100%; border-collapse: collapse; }\n",
    "    .header-table td { padding: 4px 6px; vertical-align: top; }\n",
    "    .content-table th {\n",
    "      background-color: #2C3E50; color: white; padding: 6px; text-align: left; font-size: 10pt;\n",
    "    }\n",
    "    .content-table td {\n",
    "      border: 1px solid #bbb; padding: 6px; vertical-align: top;\n",
    "      word-break: break-word;\n",
    "    }\n",
    "    .content-table tr:nth-child(even) { background-color: #f2f2f2; }\n",
    "    .footer-row td {\n",
    "      font-weight: bold; background-color: #dde4ec;\n",
    "    }\n",
    "  </style>\n",
    "</head>\n",
    "<body>\n",
    "\n",
    "  <div class=\"title\">Requerimiento de recursos</div>\n",
    "\n",
    "  <!-- Datos superiores, sin bordes -->\n",
    "  <table class=\"header-table\">\n",
    "    <tr>\n",
    "      <td><strong>CAMINO:</strong> {{ tramo }}</td>\n",
    "      <td><strong>CATEGORÍA:</strong> {{ categoria }}</td>\n",
    "      <td><strong>CÓDIGO DE RUTA:</strong> {{ codigo_ruta }}</td>\n",
    "      <td><strong>LONGITUD TOTAL:</strong> {{ longitud_km }} km</td>\n",
    "    </tr>\n",
    "  </table>\n",
    "\n",
    "  <!-- Tabla principal con rowspan/colspan -->\n",
    "  <table class=\"content-table\">\n",
    "    <thead>\n",
    "      <tr>\n",
    "        <th rowspan=\"2\">DEPARTAMENTO</th>\n",
    "        <th rowspan=\"2\">PROVINCIA</th>\n",
    "        <th rowspan=\"2\">DISTRITO</th>\n",
    "        <th rowspan=\"2\">TRAMO</th>\n",
    "        <th colspan=\"3\">{{ mes.upper() }}</th>\n",
    "      </tr>\n",
    "      <tr>\n",
    "        <th>MANTENIMIENTO RUTINARIO</th>\n",
    "        <th>GASTOS OPERATIVOS</th>\n",
    "        <th>TOTAL</th>\n",
    "      </tr>\n",
    "    </thead>\n",
    "    <tbody>\n",
    "      <tr>\n",
    "        <td>{{ departamento }}</td>\n",
    "        <td>{{ provincia }}</td>\n",
    "        <td>{{ distrito }}</td>\n",
    "        <td>{{ tramo }}</td>\n",
    "        <td>{{ mantenimiento_rutinario | format_currency }}</td>\n",
    "        <td>{{ gastos_operativos | format_currency }}</td>\n",
    "        <td>{{ costo_total_mantenimiento | format_currency }}</td>\n",
    "      </tr>\n",
    "      <tr class=\"footer-row\">\n",
    "        <td colspan=\"4\"><strong>TOTAL</strong></td>\n",
    "        <td><strong>{{ mantenimiento_rutinario | format_currency }}</strong></td>\n",
    "        <td><strong>{{ gastos_operativos | format_currency }}</strong></td>\n",
    "        <td><strong>{{ costo_total_mantenimiento | format_currency }}</strong></td>\n",
    "      </tr>\n",
    "    </tbody>\n",
    "  </table>\n",
    "\n",
    "</body>\n",
    "</html>\n",
    "\"\"\"\n",
    "\n",
    "# —————————————————————————————————————————————\n",
    "# Crear Environment y registrar filtro\n",
    "# —————————————————————————————————————————————\n",
    "env = Environment()\n",
    "env.filters['format_currency'] = format_currency\n",
    "template = env.from_string(html_template)\n",
    "\n",
    "# —————————————————————————————————————————————\n",
    "# Renderizar HTML y generar PDF con xhtml2pdf\n",
    "# —————————————————————————————————————————————\n",
    "html_out = template.render(**data_for_document)\n",
    "\n",
    "ruta_directorio = os.path.join(\"output\", proyecto, str(mes_en_analisis))\n",
    "ruta_archivo_requerimiento_recursos = os.path.join(ruta_directorio, \"requerimiento_recursos.pdf\")\n",
    "\n",
    "# Crear el directorio si no existe\n",
    "os.makedirs(ruta_directorio, exist_ok=True)\n",
    "# Guardar el diccionario en un archivo JSON\n",
    "\n",
    "def html_to_pdf(source_html: str, output_filename: str):\n",
    "    with open(output_filename, \"wb\") as output_file:\n",
    "        pisa_status = pisa.CreatePDF(source_html, dest=output_file)\n",
    "    return pisa_status.err\n",
    "\n",
    "err = html_to_pdf(html_out, ruta_archivo_requerimiento_recursos)\n",
    "if err:\n",
    "    print(\"⚠️ Ocurrió un error al generar el PDF.\")\n",
    "else:\n",
    "    print(\"✔️ PDF generado: requerimiento_de_recursos.pdf\")"
   ]
  }
 ],
 "metadata": {
  "kernelspec": {
   "display_name": ".venv",
   "language": "python",
   "name": "python3"
  },
  "language_info": {
   "codemirror_mode": {
    "name": "ipython",
    "version": 3
   },
   "file_extension": ".py",
   "mimetype": "text/x-python",
   "name": "python",
   "nbconvert_exporter": "python",
   "pygments_lexer": "ipython3",
   "version": "3.12.4"
  }
 },
 "nbformat": 4,
 "nbformat_minor": 5
}
