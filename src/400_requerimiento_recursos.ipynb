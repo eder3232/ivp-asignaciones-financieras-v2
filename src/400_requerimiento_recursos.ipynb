{
 "cells": [
  {
   "cell_type": "markdown",
   "id": "1aeb1e6c",
   "metadata": {},
   "source": [
    "# Requerimiento de recursos"
   ]
  },
  {
   "cell_type": "markdown",
   "id": "9fd20c05",
   "metadata": {},
   "source": [
    "## Datos del proyecto en análisis"
   ]
  },
  {
   "cell_type": "code",
   "execution_count": 21,
   "id": "b3529e53",
   "metadata": {},
   "outputs": [],
   "source": [
    "proyecto=\"sibayo\"\n",
    "mes_en_analisis=5\n",
    "anio=2025"
   ]
  },
  {
   "cell_type": "code",
   "execution_count": 22,
   "id": "78a0b1c1",
   "metadata": {},
   "outputs": [],
   "source": [
    "mes_recursos_solicitados=mes_en_analisis+1"
   ]
  },
  {
   "cell_type": "markdown",
   "id": "84e19433",
   "metadata": {},
   "source": [
    "## Librerias necesarias"
   ]
  },
  {
   "cell_type": "code",
   "execution_count": 23,
   "id": "c3bffafe",
   "metadata": {},
   "outputs": [],
   "source": [
    "import xlsxwriter\n",
    "import re\n",
    "import random\n",
    "import pickle\n",
    "import pandas as pd\n",
    "import os\n",
    "import os\n",
    "import math\n",
    "import locale, calendar\n",
    "import locale\n",
    "import json\n",
    "import itertools\n",
    "import excel2img\n",
    "import calendar\n",
    "import pprint\n",
    "from xlsxwriter.utility import xl_range, xl_rowcol_to_cell\n",
    "from xhtml2pdf import pisa\n",
    "from typing import List, Dict, Optional\n",
    "from typing import Dict, List, Any\n",
    "from pathlib import Path\n",
    "from openpyxl.utils import get_column_letter\n",
    "from openpyxl import load_workbook\n",
    "from jinja2 import Template, Environment\n",
    "from google.oauth2 import service_account\n",
    "from google.cloud import firestore\n",
    "from firebase_admin import credentials, firestore\n",
    "from dotenv import load_dotenv, find_dotenv\n",
    "from datetime import date, timedelta"
   ]
  },
  {
   "cell_type": "code",
   "execution_count": 24,
   "id": "75e8654f",
   "metadata": {},
   "outputs": [
    {
     "data": {
      "text/plain": [
       "'es_PE.UTF-8'"
      ]
     },
     "execution_count": 24,
     "metadata": {},
     "output_type": "execute_result"
    }
   ],
   "source": [
    "locale.setlocale(locale.LC_TIME, 'es_PE.UTF-8')  "
   ]
  },
  {
   "cell_type": "markdown",
   "id": "2032929a",
   "metadata": {},
   "source": [
    "## Funciones útiles"
   ]
  },
  {
   "cell_type": "markdown",
   "id": "2541d7a8",
   "metadata": {},
   "source": [
    "## Carga de datos"
   ]
  },
  {
   "cell_type": "markdown",
   "id": "3faa4823",
   "metadata": {},
   "source": [
    "### Pickle"
   ]
  },
  {
   "cell_type": "markdown",
   "id": "6741551a",
   "metadata": {},
   "source": [
    "### Firestore"
   ]
  },
  {
   "cell_type": "code",
   "execution_count": 25,
   "id": "02c5c53f",
   "metadata": {},
   "outputs": [
    {
     "name": "stdout",
     "output_type": "stream",
     "text": [
      "Colecciones disponibles: ['rutinarios']\n"
     ]
    }
   ],
   "source": [
    "## Datos de # 1. Busca el .env en el directorio actual o en cualquiera de los padres\n",
    "dotenv_path = find_dotenv()\n",
    "if not dotenv_path:\n",
    "    raise FileNotFoundError(\"No se encontró ningún archivo .env en este directorio ni en sus padres.\")\n",
    "load_dotenv(dotenv_path)\n",
    "\n",
    "# 2. Define el root del proyecto como la carpeta que contiene el .env\n",
    "project_root = Path(dotenv_path).parent\n",
    "\n",
    "# 3. Obtén la ruta relativa de las credenciales desde la variable de entorno\n",
    "rel_cred_path = os.getenv(\"FIRESTORE_CREDENTIALS\")\n",
    "if not rel_cred_path:\n",
    "    raise RuntimeError(\"No existe la variable FIRESTORE_CREDENTIALS en el .env\")\n",
    "\n",
    "# 4. Construye la ruta absoluta al JSON\n",
    "cred_path = Path(rel_cred_path)\n",
    "if not cred_path.is_absolute():\n",
    "    cred_path = (project_root / cred_path).resolve()\n",
    "\n",
    "if not cred_path.exists():\n",
    "    raise FileNotFoundError(f\"No existe el archivo de credenciales en: {cred_path}\")\n",
    "\n",
    "# 5. Carga las credenciales y crea el cliente de Firestore\n",
    "credentials = service_account.Credentials.from_service_account_file(str(cred_path))\n",
    "client = firestore.Client(credentials=credentials, project=credentials.project_id)\n",
    "\n",
    "# 6. Prueba que funcione\n",
    "print(\"Colecciones disponibles:\", [c.id for c in client.collections()])"
   ]
  },
  {
   "cell_type": "code",
   "execution_count": 26,
   "id": "067a531e",
   "metadata": {},
   "outputs": [],
   "source": [
    "db=firestore.Client(credentials=credentials, project=credentials.project_id)"
   ]
  },
  {
   "cell_type": "markdown",
   "id": "68f30974",
   "metadata": {},
   "source": [
    "#### Desembolsos"
   ]
  },
  {
   "cell_type": "code",
   "execution_count": 27,
   "id": "232e9075",
   "metadata": {},
   "outputs": [
    {
     "name": "stdout",
     "output_type": "stream",
     "text": [
      "{'10': {'gastos_operativos': 704.82,\n",
      "        'igv': 1075.15,\n",
      "        'mantenimiento_con_go': 7753.01,\n",
      "        'mantenimiento_con_igv': 7048.19,\n",
      "        'mantenimiento_sin_igv': 5973.04},\n",
      " '11': {'gastos_operativos': 534.7,\n",
      "        'igv': 815.65,\n",
      "        'mantenimiento_con_go': 5881.72,\n",
      "        'mantenimiento_con_igv': 5347.01,\n",
      "        'mantenimiento_sin_igv': 4531.37},\n",
      " '12': {'gastos_operativos': 262.18,\n",
      "        'igv': 399.93,\n",
      "        'mantenimiento_con_go': 2883.94,\n",
      "        'mantenimiento_con_igv': 2621.76,\n",
      "        'mantenimiento_sin_igv': 2221.83},\n",
      " '4': {'gastos_operativos': 222.55,\n",
      "       'igv': 339.48,\n",
      "       'mantenimiento_con_go': 2448.06,\n",
      "       'mantenimiento_con_igv': 2225.51,\n",
      "       'mantenimiento_sin_igv': 1886.02},\n",
      " '5': {'gastos_operativos': 2553.4,\n",
      "       'igv': 3895.02,\n",
      "       'mantenimiento_con_go': 28087.43,\n",
      "       'mantenimiento_con_igv': 25534.03,\n",
      "       'mantenimiento_sin_igv': 21639.01},\n",
      " '6': {'gastos_operativos': 2988.84,\n",
      "       'igv': 4559.25,\n",
      "       'mantenimiento_con_go': 32877.25,\n",
      "       'mantenimiento_con_igv': 29888.41,\n",
      "       'mantenimiento_sin_igv': 25329.16},\n",
      " '7': {'gastos_operativos': 2953.4,\n",
      "       'igv': 4505.19,\n",
      "       'mantenimiento_con_go': 32487.41,\n",
      "       'mantenimiento_con_igv': 29534.01,\n",
      "       'mantenimiento_sin_igv': 25028.82},\n",
      " '8': {'gastos_operativos': 3107.06,\n",
      "       'igv': 4739.59,\n",
      "       'mantenimiento_con_go': 34177.7,\n",
      "       'mantenimiento_con_igv': 31070.63,\n",
      "       'mantenimiento_sin_igv': 26331.04},\n",
      " '9': {'gastos_operativos': 3186.08,\n",
      "       'igv': 4860.13,\n",
      "       'mantenimiento_con_go': 35046.92,\n",
      "       'mantenimiento_con_igv': 31860.84,\n",
      "       'mantenimiento_sin_igv': 27000.71}}\n"
     ]
    }
   ],
   "source": [
    "desembolsos=db.collection(\"rutinarios\").document(proyecto).collection(\"presupuestos\").document(\"desembolsos\").get().to_dict()\n",
    "\n",
    "cronograma_desembolsos=desembolsos['cronograma_desembolsos']\n",
    "\n",
    "pprint.pprint(cronograma_desembolsos)"
   ]
  },
  {
   "cell_type": "code",
   "execution_count": 28,
   "id": "c94053ad",
   "metadata": {},
   "outputs": [
    {
     "name": "stdout",
     "output_type": "stream",
     "text": [
      "{'gastos_operativos': 2988.84,\n",
      " 'igv': 4559.25,\n",
      " 'mantenimiento_con_go': 32877.25,\n",
      " 'mantenimiento_con_igv': 29888.41,\n",
      " 'mantenimiento_sin_igv': 25329.16}\n"
     ]
    }
   ],
   "source": [
    "desembolso_current_month=cronograma_desembolsos[str(mes_recursos_solicitados)]\n",
    "pprint.pprint(desembolso_current_month)"
   ]
  },
  {
   "cell_type": "code",
   "execution_count": 29,
   "id": "b9446aef",
   "metadata": {},
   "outputs": [
    {
     "name": "stdout",
     "output_type": "stream",
     "text": [
      "Costo de mantenimiento rutinario: 29888.41\n",
      "Costo de gastos operativos: 2988.84\n",
      "Costo total de mantenimiento: 32877.25\n"
     ]
    }
   ],
   "source": [
    "costo_mantenimiento_rutinario=desembolso_current_month['mantenimiento_con_igv']\n",
    "costo_gastos_operativos=desembolso_current_month['gastos_operativos']\n",
    "costo_total_mantenimiento=desembolso_current_month['mantenimiento_con_go']\n",
    "print(f\"Costo de mantenimiento rutinario: {costo_mantenimiento_rutinario}\")\n",
    "print(f\"Costo de gastos operativos: {costo_gastos_operativos}\")\n",
    "print(f\"Costo total de mantenimiento: {costo_total_mantenimiento}\")"
   ]
  },
  {
   "cell_type": "markdown",
   "id": "69767d82",
   "metadata": {},
   "source": [
    "#### Documento firestore"
   ]
  },
  {
   "cell_type": "code",
   "execution_count": 30,
   "id": "01260281",
   "metadata": {},
   "outputs": [],
   "source": [
    "doc_proyecto_firebase = db.collection(\"rutinarios\").document(proyecto).get().to_dict()"
   ]
  },
  {
   "cell_type": "markdown",
   "id": "e1bc717c",
   "metadata": {},
   "source": [
    "#### Datos generales"
   ]
  },
  {
   "cell_type": "code",
   "execution_count": 31,
   "id": "9da649b5",
   "metadata": {},
   "outputs": [
    {
     "name": "stdout",
     "output_type": "stream",
     "text": [
      "{'distritos': ['Chivay', 'Tuti', 'Sibayo'],\n",
      " 'provincia': 'Caylloma',\n",
      " 'region': 'Arequipa'}\n"
     ]
    }
   ],
   "source": [
    "datos_generales = doc_proyecto_firebase[\"datos_generales\"]\n",
    "\n",
    "pprint.pprint(datos_generales)"
   ]
  },
  {
   "cell_type": "code",
   "execution_count": 32,
   "id": "54956727",
   "metadata": {},
   "outputs": [
    {
     "name": "stdout",
     "output_type": "stream",
     "text": [
      "Distritos: Chivay-Tuti-Sibayo, Región: Arequipa, Provincia: Caylloma\n"
     ]
    }
   ],
   "source": [
    "distritos, region, provincia = '-'.join(datos_generales['distritos']), datos_generales['region'], datos_generales['provincia']\n",
    "print(f\"Distritos: {distritos}, Región: {region}, Provincia: {provincia}\")"
   ]
  },
  {
   "cell_type": "markdown",
   "id": "a53596e5",
   "metadata": {},
   "source": [
    "#### Expediente técnico"
   ]
  },
  {
   "cell_type": "code",
   "execution_count": 33,
   "id": "c54d207c",
   "metadata": {},
   "outputs": [
    {
     "name": "stdout",
     "output_type": "stream",
     "text": [
      "{'cargas_trabajo': {'MR101': 10.28,\n",
      "                    'MR103': 53.33,\n",
      "                    'MR104': 85.33,\n",
      "                    'MR201': 32350,\n",
      "                    'MR202': 34.67,\n",
      "                    'MR301': 15999,\n",
      "                    'MR401': 64.67,\n",
      "                    'MR601': 258.02,\n",
      "                    'VP101': 1512.58,\n",
      "                    'VP102': 700},\n",
      " 'codigo_ruta': 'AR-683',\n",
      " 'coordenadas': {'fin': {'altitud': 3629,\n",
      "                         'datum': 'WGS84',\n",
      "                         'hemisferio': 'S',\n",
      "                         'progresiva': 32252.0,\n",
      "                         'x': 220383.97,\n",
      "                         'y': 8270075.15,\n",
      "                         'zona': None,\n",
      "                         'zona_letra': None},\n",
      "                 'inicio': {'altitud': 3820,\n",
      "                            'datum': 'WGS84',\n",
      "                            'hemisferio': 'S',\n",
      "                            'progresiva': 0,\n",
      "                            'x': 226316.6,\n",
      "                            'y': 8281146.79,\n",
      "                            'zona': None,\n",
      "                            'zona_letra': None}},\n",
      " 'gastos_generales': 0.1,\n",
      " 'longitud': 32252.0,\n",
      " 'monto_total': 206413.0,\n",
      " 'nombre': 'MANTENIMIENTO VIAL RUTINARIO CAMINO VECINAL EMP. AR-111 (NUEVO '\n",
      "           'SIBAYO) - TUTI - EMP.AR-681 (DV. CHIVAY), DISTRITOS DE CHIVAY, '\n",
      "           'TUTI Y SIBAYO, PROVINCIA DE CAYLLOMA, DEPARTAMENTO DE AREQUIPA',\n",
      " 'precios_unitarios': {'MR101': 317.8,\n",
      "                       'MR103': 19.07,\n",
      "                       'MR104': 21.18,\n",
      "                       'MR201': 0.53,\n",
      "                       'MR202': 95.34,\n",
      "                       'MR301': 0.17,\n",
      "                       'MR401': 13.28,\n",
      "                       'MR601': 2.44,\n",
      "                       'VP101': 47.01,\n",
      "                       'VP102': 71.79},\n",
      " 'tarifa_km_mes': 800}\n"
     ]
    }
   ],
   "source": [
    "expediente = doc_proyecto_firebase[\"expediente\"]\n",
    "\n",
    "pprint.pprint(expediente)"
   ]
  },
  {
   "cell_type": "markdown",
   "id": "a317aa26",
   "metadata": {},
   "source": [
    "#### Código de ruta"
   ]
  },
  {
   "cell_type": "code",
   "execution_count": 34,
   "id": "8431f5db",
   "metadata": {},
   "outputs": [
    {
     "name": "stdout",
     "output_type": "stream",
     "text": [
      "Código de ruta: AR-683\n"
     ]
    }
   ],
   "source": [
    "codigo_ruta= expediente.get(\"codigo_ruta\", \"\")\n",
    "if not codigo_ruta:\n",
    "    print(\"No se encontró el código de ruta en los datos del expediente.\")\n",
    "print(f\"Código de ruta: {codigo_ruta}\")"
   ]
  },
  {
   "cell_type": "markdown",
   "id": "50ffb8ca",
   "metadata": {},
   "source": [
    "### Longitud"
   ]
  },
  {
   "cell_type": "code",
   "execution_count": 35,
   "id": "e3a3cef2",
   "metadata": {},
   "outputs": [
    {
     "name": "stdout",
     "output_type": "stream",
     "text": [
      "Longitud: 32252.0 km\n"
     ]
    }
   ],
   "source": [
    "longitud = expediente.get(\"longitud\", 0)\n",
    "if longitud is None:\n",
    "    print(\"No se encontró la longitud en los datos del expediente.\")\n",
    "print(f\"Longitud: {longitud} km\")"
   ]
  },
  {
   "cell_type": "code",
   "execution_count": 36,
   "id": "0b221805",
   "metadata": {},
   "outputs": [
    {
     "name": "stdout",
     "output_type": "stream",
     "text": [
      "{'contratista': {'razon_social': 'PLATERS MANAGEMENT S.A.C.', 'ruc': ''},\n",
      " 'denominacion_tramo_convenio': 'EMP. AR-111 (NUEVO SIBAYO) - TUTI EMP. AR-681 '\n",
      "                                '(DV. CHIVAY) (KM 32+252)',\n",
      " 'fecha_inicio': {'anio': 2025, 'dia': 15, 'mes': 4},\n",
      " 'id_contrato': '004-2025',\n",
      " 'jefe_mantenimiento': {'apellido': 'Tinta Cáceres',\n",
      "                        'dni': 0,\n",
      "                        'nombre': 'Genaro',\n",
      "                        'titulo': 'Ingeniero'},\n",
      " 'monto_contrato': 165130.4,\n",
      " 'numero_cuadrillas': 1,\n",
      " 'numero_trabajadores': 3,\n",
      " 'tiempo_ejecucion_dias': 240,\n",
      " 'tipo_servicio': 'mantenimiento rutinario'}\n"
     ]
    }
   ],
   "source": [
    "contrato=doc_proyecto_firebase[\"contrato\"]\n",
    "pprint.pprint( contrato)"
   ]
  },
  {
   "cell_type": "code",
   "execution_count": 37,
   "id": "09ac2f49",
   "metadata": {},
   "outputs": [
    {
     "name": "stdout",
     "output_type": "stream",
     "text": [
      "EMP. AR-111 (NUEVO SIBAYO) - TUTI EMP. AR-681 (DV. CHIVAY) (KM 32+252)\n"
     ]
    }
   ],
   "source": [
    "denominacion_tramo_convenio= contrato[\"denominacion_tramo_convenio\"]\n",
    "print(denominacion_tramo_convenio)"
   ]
  },
  {
   "cell_type": "markdown",
   "id": "0b9aa3f3",
   "metadata": {},
   "source": [
    "## Cálculos"
   ]
  },
  {
   "cell_type": "code",
   "execution_count": 38,
   "id": "c297b281",
   "metadata": {},
   "outputs": [],
   "source": [
    "data_for_document={\n",
    "  \"departamento\": region,\n",
    "  \"provincia\": provincia,\n",
    "  \"distrito\": distritos,\n",
    "  \"tramo\": denominacion_tramo_convenio,\n",
    "  \"codigo_ruta\": codigo_ruta,\n",
    "  \"categoria\": \"Camino Vecinal\",\n",
    "  \"longitud_km\": str(round(longitud/1000, 2)),\n",
    "  \"mes\": calendar.month_name[mes_recursos_solicitados],\n",
    "  \"mantenimiento_rutinario\": costo_mantenimiento_rutinario,\n",
    "  \"gastos_operativos\": costo_gastos_operativos,\n",
    "  \"costo_total_mantenimiento\": costo_total_mantenimiento,\n",
    "}"
   ]
  },
  {
   "cell_type": "code",
   "execution_count": 39,
   "id": "32020429",
   "metadata": {},
   "outputs": [
    {
     "name": "stdout",
     "output_type": "stream",
     "text": [
      "✔️ PDF generado: requerimiento_de_recursos.pdf\n"
     ]
    }
   ],
   "source": [
    "# —————————————————————————————————————————————\n",
    "# Filtro para formato de moneda\n",
    "# —————————————————————————————————————————————\n",
    "def format_currency(value):\n",
    "    return f\"{value:,.2f}\"\n",
    "\n",
    "# —————————————————————————————————————————————\n",
    "# Plantilla HTML + CSS (A4 landscape) con tu estructura de tabla\n",
    "# —————————————————————————————————————————————\n",
    "html_template = \"\"\"\n",
    "<!DOCTYPE html>\n",
    "<html lang=\"es\">\n",
    "<head>\n",
    "  <meta charset=\"UTF-8\"/>\n",
    "  <style>\n",
    "    @page { size: A4 landscape; margin: 1cm; }\n",
    "    body { font-family: sans-serif; font-size: 11pt; }\n",
    "    .title { text-align: center; font-size: 16pt; font-weight: bold; margin-bottom: 8px; }\n",
    "    table { width: 100%; border-collapse: collapse; }\n",
    "    .header-table td { padding: 4px 6px; vertical-align: top; }\n",
    "    .content-table th {\n",
    "      background-color: #2C3E50; color: white; padding: 6px; text-align: left; font-size: 10pt;\n",
    "    }\n",
    "    .content-table td {\n",
    "      border: 1px solid #bbb; padding: 6px; vertical-align: top;\n",
    "      word-break: break-word;\n",
    "    }\n",
    "    .content-table tr:nth-child(even) { background-color: #f2f2f2; }\n",
    "    .footer-row td {\n",
    "      font-weight: bold; background-color: #dde4ec;\n",
    "    }\n",
    "  </style>\n",
    "</head>\n",
    "<body>\n",
    "\n",
    "  <div class=\"title\">Requerimiento de recursos</div>\n",
    "\n",
    "  <!-- Datos superiores, sin bordes -->\n",
    "  <table class=\"header-table\">\n",
    "    <tr>\n",
    "      <td><strong>CAMINO:</strong> {{ tramo }}</td>\n",
    "      <td><strong>CATEGORÍA:</strong> {{ categoria }}</td>\n",
    "      <td><strong>CÓDIGO DE RUTA:</strong> {{ codigo_ruta }}</td>\n",
    "      <td><strong>LONGITUD TOTAL:</strong> {{ longitud_km }} km</td>\n",
    "    </tr>\n",
    "  </table>\n",
    "\n",
    "  <!-- Tabla principal con rowspan/colspan -->\n",
    "  <table class=\"content-table\">\n",
    "    <thead>\n",
    "      <tr>\n",
    "        <th rowspan=\"2\">DEPARTAMENTO</th>\n",
    "        <th rowspan=\"2\">PROVINCIA</th>\n",
    "        <th rowspan=\"2\">DISTRITO</th>\n",
    "        <th rowspan=\"2\">TRAMO</th>\n",
    "        <th colspan=\"3\">{{ mes.upper() }}</th>\n",
    "      </tr>\n",
    "      <tr>\n",
    "        <th>MANTENIMIENTO RUTINARIO</th>\n",
    "        <th>GASTOS OPERATIVOS</th>\n",
    "        <th>TOTAL</th>\n",
    "      </tr>\n",
    "    </thead>\n",
    "    <tbody>\n",
    "      <tr>\n",
    "        <td>{{ departamento }}</td>\n",
    "        <td>{{ provincia }}</td>\n",
    "        <td>{{ distrito }}</td>\n",
    "        <td>{{ tramo }}</td>\n",
    "        <td>{{ mantenimiento_rutinario | format_currency }}</td>\n",
    "        <td>{{ gastos_operativos | format_currency }}</td>\n",
    "        <td>{{ costo_total_mantenimiento | format_currency }}</td>\n",
    "      </tr>\n",
    "      <tr class=\"footer-row\">\n",
    "        <td colspan=\"4\"><strong>TOTAL</strong></td>\n",
    "        <td><strong>{{ mantenimiento_rutinario | format_currency }}</strong></td>\n",
    "        <td><strong>{{ gastos_operativos | format_currency }}</strong></td>\n",
    "        <td><strong>{{ costo_total_mantenimiento | format_currency }}</strong></td>\n",
    "      </tr>\n",
    "    </tbody>\n",
    "  </table>\n",
    "\n",
    "</body>\n",
    "</html>\n",
    "\"\"\"\n",
    "\n",
    "# —————————————————————————————————————————————\n",
    "# Crear Environment y registrar filtro\n",
    "# —————————————————————————————————————————————\n",
    "env = Environment()\n",
    "env.filters['format_currency'] = format_currency\n",
    "template = env.from_string(html_template)\n",
    "\n",
    "# —————————————————————————————————————————————\n",
    "# Renderizar HTML y generar PDF con xhtml2pdf\n",
    "# —————————————————————————————————————————————\n",
    "html_out = template.render(**data_for_document)\n",
    "\n",
    "ruta_directorio = os.path.join(\"output\", proyecto, str(mes_en_analisis))\n",
    "ruta_archivo_requerimiento_recursos = os.path.join(ruta_directorio, \"requerimiento_recursos.pdf\")\n",
    "\n",
    "# Crear el directorio si no existe\n",
    "os.makedirs(ruta_directorio, exist_ok=True)\n",
    "# Guardar el diccionario en un archivo JSON\n",
    "\n",
    "def html_to_pdf(source_html: str, output_filename: str):\n",
    "    with open(output_filename, \"wb\") as output_file:\n",
    "        pisa_status = pisa.CreatePDF(source_html, dest=output_file)\n",
    "    return pisa_status.err\n",
    "\n",
    "err = html_to_pdf(html_out, ruta_archivo_requerimiento_recursos)\n",
    "if err:\n",
    "    print(\"⚠️ Ocurrió un error al generar el PDF.\")\n",
    "else:\n",
    "    print(\"✔️ PDF generado: requerimiento_de_recursos.pdf\")"
   ]
  }
 ],
 "metadata": {
  "kernelspec": {
   "display_name": ".venv",
   "language": "python",
   "name": "python3"
  },
  "language_info": {
   "codemirror_mode": {
    "name": "ipython",
    "version": 3
   },
   "file_extension": ".py",
   "mimetype": "text/x-python",
   "name": "python",
   "nbconvert_exporter": "python",
   "pygments_lexer": "ipython3",
   "version": "3.12.4"
  }
 },
 "nbformat": 4,
 "nbformat_minor": 5
}
