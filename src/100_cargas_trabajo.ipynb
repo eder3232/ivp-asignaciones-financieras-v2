{
 "cells": [
  {
   "cell_type": "markdown",
   "id": "27faf011",
   "metadata": {},
   "source": [
    "# Asignaciones financieras\n"
   ]
  },
  {
   "cell_type": "markdown",
   "id": "ceeafbfb",
   "metadata": {},
   "source": [
    "## Datos de proyecto en análisis\n"
   ]
  },
  {
   "cell_type": "code",
   "execution_count": 2,
   "id": "71833bfa",
   "metadata": {},
   "outputs": [],
   "source": [
    "proyecto = \"callacalla\"\n",
    "mes = 5\n",
    "anio = 2025"
   ]
  },
  {
   "cell_type": "markdown",
   "id": "0414ab72",
   "metadata": {},
   "source": [
    "## Librerias necesarias\n"
   ]
  },
  {
   "cell_type": "code",
   "execution_count": 3,
   "id": "932ebbf3",
   "metadata": {},
   "outputs": [],
   "source": [
    "import pandas as pd\n",
    "import os\n",
    "import pprint\n",
    "import pickle\n",
    "import json\n",
    "import xlsxwriter\n",
    "from xlsxwriter.utility import xl_range, xl_rowcol_to_cell\n",
    "import re\n",
    "from typing import Dict, List, Any\n",
    "import itertools\n",
    "from pathlib import Path\n",
    "from dotenv import load_dotenv, find_dotenv\n",
    "from google.oauth2 import service_account\n",
    "from google.cloud import firestore\n",
    "import excel2img\n",
    "from dotenv import load_dotenv, find_dotenv\n",
    "from openpyxl import load_workbook\n",
    "from openpyxl.utils import get_column_letter\n",
    "import win32com.client as win32"
   ]
  },
  {
   "cell_type": "markdown",
   "id": "98e69374",
   "metadata": {},
   "source": [
    "## Funciones utiles\n"
   ]
  },
  {
   "cell_type": "markdown",
   "id": "83ea5090",
   "metadata": {},
   "source": [
    "### Calculadora de costo total\n"
   ]
  },
  {
   "cell_type": "code",
   "execution_count": 4,
   "id": "04246cf4",
   "metadata": {},
   "outputs": [],
   "source": [
    "from typing import TypedDict\n",
    "\n",
    "\n",
    "class CostoIngenieriaResult(TypedDict):\n",
    "    costo_directo: float\n",
    "    gastos_generales: float\n",
    "    utilidad: float\n",
    "    subtotal: float\n",
    "    igv: float\n",
    "    total: float\n",
    "\n",
    "\n",
    "def calculadora_costo_total(costo_directo: float) -> CostoIngenieriaResult:\n",
    "    \"\"\"\n",
    "    Calcula el costo total de un proyecto de ingeniería civil en soles peruanos.\n",
    "\n",
    "    Args:\n",
    "        costo_directo (float): Costo directo del proyecto\n",
    "\n",
    "    Returns:\n",
    "        CostoIngenieriaResult: Diccionario con todos los valores calculados\n",
    "    \"\"\"\n",
    "    # Calcular gastos generales (10% del costo directo)\n",
    "    gastos_generales = round(costo_directo * 0.10, 2)\n",
    "\n",
    "    # Calcular utilidad (5% del costo directo)\n",
    "    utilidad = round(costo_directo * 0.05, 2)\n",
    "\n",
    "    # Calcular subtotal\n",
    "    subtotal = round(costo_directo + gastos_generales + utilidad, 2)\n",
    "\n",
    "    # Calcular IGV (18% del subtotal)\n",
    "    igv = round(subtotal * 0.18, 2)\n",
    "\n",
    "    # Calcular total\n",
    "    total = round(subtotal + igv, 2)\n",
    "\n",
    "    return {\n",
    "        \"costo_directo\": round(costo_directo, 2),\n",
    "        \"gastos_generales\": gastos_generales,\n",
    "        \"utilidad\": utilidad,\n",
    "        \"subtotal\": subtotal,\n",
    "        \"igv\": igv,\n",
    "        \"total\": total,\n",
    "    }"
   ]
  },
  {
   "cell_type": "markdown",
   "id": "0d58834a",
   "metadata": {},
   "source": [
    "### Multiplicar el precio unitario actualizado por la carga trabajo\n"
   ]
  },
  {
   "cell_type": "code",
   "execution_count": 5,
   "id": "96831b53",
   "metadata": {},
   "outputs": [],
   "source": [
    "def calcular_costos_unitarios(\n",
    "    dict_precios_unitarios_actualizados, cargas_trabajo_contratista\n",
    "):\n",
    "    \"\"\"\n",
    "    Multiplica cada carga de trabajo del contratista por su precio unitario\n",
    "    correspondiente.\n",
    "\n",
    "    Args:\n",
    "        dict_precios_unitarios_actualizados (dict): mapea código → precio unitario.\n",
    "        cargas_trabajo_contratista (dict): mapea código → carga de trabajo.\n",
    "\n",
    "    Returns:\n",
    "        dict: mapea código → precio total (precio unitario * carga).\n",
    "\n",
    "    Raises:\n",
    "        KeyError: si alguna clave de cargas_trabajo_contratista no existe en\n",
    "                  dict_precios_unitarios_actualizados.\n",
    "    \"\"\"\n",
    "    # Comprobar que no falte ninguna clave\n",
    "    faltantes = set(cargas_trabajo_contratista) - set(\n",
    "        dict_precios_unitarios_actualizados\n",
    "    )\n",
    "    if faltantes:\n",
    "        raise KeyError(f\"Faltan precios unitarios para las claves: {faltantes}\")\n",
    "\n",
    "    # Generar el diccionario resultado\n",
    "    resultado = {\n",
    "        clave: dict_precios_unitarios_actualizados[clave]\n",
    "        * cargas_trabajo_contratista[clave]\n",
    "        for clave in cargas_trabajo_contratista\n",
    "    }\n",
    "    return resultado"
   ]
  },
  {
   "cell_type": "markdown",
   "id": "dd9e91b4",
   "metadata": {},
   "source": [
    "### Fusionar diccionarios"
   ]
  },
  {
   "cell_type": "code",
   "execution_count": 6,
   "id": "1b1689ee",
   "metadata": {},
   "outputs": [],
   "source": [
    "def fusionar_diccionarios(diccionario_de_diccionarios):\n",
    "    \"\"\"\n",
    "    Fusiona diccionarios separados en un diccionario unificado.\n",
    "    Solo incluye claves donde ambos valores sean diferentes de cero.\n",
    "    Usa dinámicamente las claves del diccionario de entrada.\n",
    "    \n",
    "    Args:\n",
    "        diccionario_de_diccionarios (dict): Diccionario con estructura:\n",
    "            {\n",
    "                \"nombre_campo1\": {clave: valor, ...},\n",
    "                \"nombre_campo2\": {clave: valor, ...}\n",
    "            }\n",
    "    \n",
    "    Returns:\n",
    "        dict: Diccionario fusionado con estructura {clave: {nombre_campo1: valor, nombre_campo2: valor}}\n",
    "    \"\"\"\n",
    "    # Obtener las claves (nombres de los campos) del diccionario principal\n",
    "    nombres_campos = list(diccionario_de_diccionarios.keys())\n",
    "    \n",
    "    if len(nombres_campos) != 2:\n",
    "        raise ValueError(\"El diccionario debe contener exactamente 2 campos\")\n",
    "    \n",
    "    campo1_nombre = nombres_campos[0]\n",
    "    campo2_nombre = nombres_campos[1]\n",
    "    \n",
    "    campo1_datos = diccionario_de_diccionarios[campo1_nombre]\n",
    "    campo2_datos = diccionario_de_diccionarios[campo2_nombre]\n",
    "    \n",
    "    fusionado = {}\n",
    "    \n",
    "    # Obtener todas las claves únicas de ambos diccionarios\n",
    "    todas_las_claves = set(campo1_datos.keys()) | set(campo2_datos.keys())\n",
    "    \n",
    "    for clave in todas_las_claves:\n",
    "        valor1 = campo1_datos.get(clave, 0)\n",
    "        valor2 = campo2_datos.get(clave, 0)\n",
    "        \n",
    "        # Solo agregar si ambos valores son diferentes de cero\n",
    "        if valor1 != 0 and valor2 != 0:\n",
    "            fusionado[clave] = {\n",
    "                campo1_nombre: valor1,\n",
    "                campo2_nombre: valor2\n",
    "            }\n",
    "    \n",
    "    return fusionado"
   ]
  },
  {
   "cell_type": "markdown",
   "id": "bc2a0d92",
   "metadata": {},
   "source": [
    "### Formatear progresiva"
   ]
  },
  {
   "cell_type": "code",
   "execution_count": 7,
   "id": "447469ed",
   "metadata": {},
   "outputs": [],
   "source": [
    "def formatear_progresiva(distancia, decimales=0):\n",
    "    \"\"\"\n",
    "    Convierte una distancia en metros a notación de progresiva.\n",
    "    \n",
    "    Parámetros:\n",
    "    - distancia: int o float, la distancia en metros.\n",
    "    - decimales: int, número de decimales a mostrar en la parte de los metros.\n",
    "    \n",
    "    Retorna:\n",
    "    - str: progresiva en formato 'K+XXX' con los decimales indicados.\n",
    "    \"\"\"\n",
    "    if not isinstance(distancia, (int, float)):\n",
    "        raise ValueError(\"La distancia debe ser un número (int o float).\")\n",
    "    if not isinstance(decimales, int) or decimales < 0:\n",
    "        raise ValueError(\"Los decimales deben ser un entero no negativo.\")\n",
    "    \n",
    "    km = int(distancia) // 1000\n",
    "    metros = distancia - (km * 1000)\n",
    "    \n",
    "    formato_metros = f\"{metros:0.{decimales}f}\".zfill(3 + (1 if decimales > 0 else 0) + decimales)\n",
    "    return f\"{km}+{formato_metros}\""
   ]
  },
  {
   "cell_type": "markdown",
   "id": "d760e2d1",
   "metadata": {},
   "source": [
    "### Calcular avance"
   ]
  },
  {
   "cell_type": "code",
   "execution_count": 8,
   "id": "849b072b",
   "metadata": {},
   "outputs": [],
   "source": [
    "def calcular_avance(programado, ejecutado):\n",
    "    \"\"\"\n",
    "    Calcula el porcentaje de avance basado en lo programado y lo ejecutado.\n",
    "\n",
    "    Si lo programado es 0 y lo ejecutado es mayor a 0, devuelve 'ejecución adelantada'.\n",
    "    Si ambos son 0, devuelve 0.0.\n",
    "    En cualquier otro caso, devuelve el porcentaje (0-1) como float redondeado a 2 decimales.\n",
    "    \"\"\"\n",
    "    if programado == 0:\n",
    "        if ejecutado > 0:\n",
    "            return \"Ejec. adelantada\"\n",
    "        else:\n",
    "            return 0.0\n",
    "    else:\n",
    "        porcentaje = (ejecutado / programado) \n",
    "        return porcentaje"
   ]
  },
  {
   "cell_type": "markdown",
   "id": "b883d33f",
   "metadata": {},
   "source": [
    "### Ordenar por centena"
   ]
  },
  {
   "cell_type": "code",
   "execution_count": 9,
   "id": "4609a128",
   "metadata": {},
   "outputs": [],
   "source": [
    "def ordenar_por_centena(data: Any) -> List[Dict[str, Any]]:\n",
    "    \"\"\"\n",
    "    Toma un dict (o un JSON en formato str) cuyas claves acaban en número\n",
    "    y devuelve una lista de dicts {'key':…, 'value':…} ordenada por ese número.\n",
    "    Compatible con Firestore (to_dict()) y JSON.\n",
    "    \"\"\"\n",
    "    # Si viene como cadena JSON, lo convertimos\n",
    "    if isinstance(data, str):\n",
    "        data = json.loads(data)\n",
    "    \n",
    "    # Aseguramos que sea dict\n",
    "    if not isinstance(data, dict):\n",
    "        raise ValueError(\"Se esperaba un diccionario o un string JSON que represente un diccionario.\")\n",
    "\n",
    "    pattern = re.compile(r'(\\d+)$')\n",
    "\n",
    "    def obtener_clave_numerica(item):\n",
    "        clave = str(item[0])  # Convertimos clave a string en caso no lo sea\n",
    "        match = pattern.search(clave)\n",
    "        if match:\n",
    "            return int(match.group(1))\n",
    "        else:\n",
    "            return float('inf')  # Opcional: claves sin número al final se van al final\n",
    "\n",
    "    sorted_items = sorted(data.items(), key=obtener_clave_numerica)\n",
    "\n",
    "    return [{\"key\": k, \"value\": v} for k, v in sorted_items]"
   ]
  },
  {
   "cell_type": "markdown",
   "id": "ac01751b",
   "metadata": {},
   "source": [
    "### Clave grupo"
   ]
  },
  {
   "cell_type": "code",
   "execution_count": 10,
   "id": "d7b23af1",
   "metadata": {},
   "outputs": [],
   "source": [
    "def clave_grupo(item):\n",
    "    return int(item['key'][2:]) // 100  # 101→1, 201→2, etc."
   ]
  },
  {
   "cell_type": "markdown",
   "id": "73453013",
   "metadata": {},
   "source": [
    "## Carga de datos\n"
   ]
  },
  {
   "cell_type": "markdown",
   "id": "8dd111a2",
   "metadata": {},
   "source": [
    "### Firebase\n"
   ]
  },
  {
   "cell_type": "code",
   "execution_count": 11,
   "id": "d5d759a2",
   "metadata": {},
   "outputs": [
    {
     "name": "stdout",
     "output_type": "stream",
     "text": [
      "Colecciones disponibles: ['rutinarios']\n"
     ]
    }
   ],
   "source": [
    "# 1. Busca el .env en el directorio actual o en cualquiera de los padres\n",
    "dotenv_path = find_dotenv()\n",
    "if not dotenv_path:\n",
    "    raise FileNotFoundError(\n",
    "        \"No se encontró ningún archivo .env en este directorio ni en sus padres.\"\n",
    "    )\n",
    "load_dotenv(dotenv_path)\n",
    "\n",
    "# 2. Define el root del proyecto como la carpeta que contiene el .env\n",
    "project_root = Path(dotenv_path).parent\n",
    "\n",
    "# 3. Obtén la ruta relativa de las credenciales desde la variable de entorno\n",
    "rel_cred_path = os.getenv(\"FIRESTORE_CREDENTIALS\")\n",
    "if not rel_cred_path:\n",
    "    raise RuntimeError(\"No existe la variable FIRESTORE_CREDENTIALS en el .env\")\n",
    "\n",
    "# 4. Construye la ruta absoluta al JSON\n",
    "cred_path = Path(rel_cred_path)\n",
    "if not cred_path.is_absolute():\n",
    "    cred_path = (project_root / cred_path).resolve()\n",
    "\n",
    "if not cred_path.exists():\n",
    "    raise FileNotFoundError(f\"No existe el archivo de credenciales en: {cred_path}\")\n",
    "\n",
    "# 5. Carga las credenciales y crea el cliente de Firestore\n",
    "credentials = service_account.Credentials.from_service_account_file(str(cred_path))\n",
    "client = firestore.Client(credentials=credentials, project=credentials.project_id)\n",
    "\n",
    "# 6. Prueba que funcione\n",
    "print(\"Colecciones disponibles:\", [c.id for c in client.collections()])"
   ]
  },
  {
   "cell_type": "code",
   "execution_count": 12,
   "id": "91e8d7b1",
   "metadata": {},
   "outputs": [],
   "source": [
    "db = firestore.Client(credentials=credentials, project=credentials.project_id)"
   ]
  },
  {
   "cell_type": "code",
   "execution_count": 13,
   "id": "9e3842ca",
   "metadata": {},
   "outputs": [],
   "source": [
    "# # 4. Define la ruta a tu documento anidado\n",
    "# colec_raiz = \"rutinarios\"\n",
    "# doc_proyecto = proyecto  # puede ser tu variable proyecto\n",
    "# colec_valoriz = \"presupuestos\"\n",
    "# id_valoriz = \"desembolsos\"\n",
    "\n",
    "# doc_ref = (\n",
    "#     db.collection(colec_raiz)\n",
    "#     .document(doc_proyecto)\n",
    "#     .collection(colec_valoriz)\n",
    "#     .document(id_valoriz)\n",
    "# )\n",
    "\n",
    "# data_mantenimiento_res = doc_ref.get().to_dict()\n",
    "\n",
    "# print(data_mantenimiento_res)"
   ]
  },
  {
   "cell_type": "markdown",
   "id": "deed6ace",
   "metadata": {},
   "source": [
    "#### Documento del proyecto firebase"
   ]
  },
  {
   "cell_type": "code",
   "execution_count": 14,
   "id": "32af4b93",
   "metadata": {},
   "outputs": [
    {
     "name": "stdout",
     "output_type": "stream",
     "text": [
      "{'contrato': {'contratista': {'razon_social': 'Grupo ARICOL E.I.R.L',\n",
      "                              'ruc': 20606988398},\n",
      "              'denominacion_tramo_convenio': 'EMP. AR-691 CALLA CALLA - '\n",
      "                                             'YURACCANCHA - CUCHUHURI - '\n",
      "                                             'PALLALLMAYO (KM 11+920)',\n",
      "              'fecha_inicio': {'anio': 2025, 'dia': 16, 'mes': 4},\n",
      "              'id_contrato': '006-2025',\n",
      "              'jefe_mantenimiento': {'apellido': 'Tinta Cáceres',\n",
      "                                     'dni': 0,\n",
      "                                     'nombre': 'Genaro',\n",
      "                                     'titulo': 'Ingeniero'},\n",
      "              'monto_contrato': 59504.8,\n",
      "              'numero_cuadrillas': 1,\n",
      "              'numero_trabajadores': 3,\n",
      "              'tiempo_ejecucion_dias': 240,\n",
      "              'tipo_servicio': 'mantenimiento rutinario'},\n",
      " 'datos_generales': {'distritos': ['Callalli'],\n",
      "                     'provincia': 'Caylloma',\n",
      "                     'region': 'Arequipa'},\n",
      " 'expediente': {'cargas_trabajo': {'MR101': 7.95,\n",
      "                                   'MR102': 2558.43,\n",
      "                                   'MR103': 20.03,\n",
      "                                   'MR104': 71.2,\n",
      "                                   'MR203': 333.36,\n",
      "                                   'MR206': 237.37,\n",
      "                                   'MR301': 31230.64,\n",
      "                                   'MR401': 15.97,\n",
      "                                   'MR601': 39.73,\n",
      "                                   'MR701': 17.16},\n",
      "                'codigo_ruta': 'AR-692',\n",
      "                'coordenadas': {'fin': {'altitud': 4362,\n",
      "                                        'datum': 'WGS84',\n",
      "                                        'hemisferio': 'S',\n",
      "                                        'progresiva': 11920,\n",
      "                                        'x': 254510.31,\n",
      "                                        'y': 8277504.58,\n",
      "                                        'zona': None,\n",
      "                                        'zona_letra': None},\n",
      "                                'inicio': {'altitud': 3980,\n",
      "                                           'datum': 'WGS84',\n",
      "                                           'hemisferio': 'S',\n",
      "                                           'progresiva': 0,\n",
      "                                           'x': 246384.65,\n",
      "                                           'y': 8280099.96,\n",
      "                                           'zona': None,\n",
      "                                           'zona_letra': None}},\n",
      "                'longitud': 11920.0,\n",
      "                'monto_total': 74381.0,\n",
      "                'nombre': 'MANTENIMIENTO VIAL RUTINARIO DEL CAMINO VECINAL '\n",
      "                          'EMP. AR-691 - CALLA CALLA - YURACCANCHA - CUCHUHURI '\n",
      "                          '- PALLALLMAYO, DISTRITO DE CALLALLI, PROVINCIA DE '\n",
      "                          'CAYLLOMA, REGIÓN AREQUIPA',\n",
      "                'precios_unitarios': {'MR101': 265.3,\n",
      "                                      'MR102': 10.27,\n",
      "                                      'MR103': 21.0,\n",
      "                                      'MR104': 17.5,\n",
      "                                      'MR201': 0.44,\n",
      "                                      'MR202': 78.5,\n",
      "                                      'MR203': 5.25,\n",
      "                                      'MR204': 0.44,\n",
      "                                      'MR205': 105,\n",
      "                                      'MR206': 3.6,\n",
      "                                      'MR301': 0.14,\n",
      "                                      'MR401': 11.42,\n",
      "                                      'MR501': 0.53,\n",
      "                                      'MR601': 2.1,\n",
      "                                      'MR701': 43.75,\n",
      "                                      'MR702': 210},\n",
      "                'tarifa_km_mes': 780},\n",
      " 'general_data': {'distritos': ['Callalli'],\n",
      "                  'provincia': 'Caylloma',\n",
      "                  'region': 'Arequipa'},\n",
      " 'other': {'estado_conservacion_via': 'malo', 'tipo_superficie': 'trocha'},\n",
      " 'otros': {'estado_conservacion_via': 'malo', 'tipo_superficie': 'trocha'}}\n"
     ]
    }
   ],
   "source": [
    "doc_proyecto_firebase = db.collection(\"rutinarios\").document(proyecto).get().to_dict()\n",
    "\n",
    "pprint.pprint(doc_proyecto_firebase)"
   ]
  },
  {
   "cell_type": "markdown",
   "id": "b28071f7",
   "metadata": {},
   "source": [
    "#### Contrato\n"
   ]
  },
  {
   "cell_type": "code",
   "execution_count": 15,
   "id": "6e327ebc",
   "metadata": {},
   "outputs": [
    {
     "name": "stdout",
     "output_type": "stream",
     "text": [
      "{'contratista': {'razon_social': 'Grupo ARICOL E.I.R.L', 'ruc': 20606988398},\n",
      " 'denominacion_tramo_convenio': 'EMP. AR-691 CALLA CALLA - YURACCANCHA - '\n",
      "                                'CUCHUHURI - PALLALLMAYO (KM 11+920)',\n",
      " 'fecha_inicio': {'anio': 2025, 'dia': 16, 'mes': 4},\n",
      " 'id_contrato': '006-2025',\n",
      " 'jefe_mantenimiento': {'apellido': 'Tinta Cáceres',\n",
      "                        'dni': 0,\n",
      "                        'nombre': 'Genaro',\n",
      "                        'titulo': 'Ingeniero'},\n",
      " 'monto_contrato': 59504.8,\n",
      " 'numero_cuadrillas': 1,\n",
      " 'numero_trabajadores': 3,\n",
      " 'tiempo_ejecucion_dias': 240,\n",
      " 'tipo_servicio': 'mantenimiento rutinario'}\n"
     ]
    }
   ],
   "source": [
    "contrato = doc_proyecto_firebase[\"contrato\"]\n",
    "pprint.pprint(contrato)"
   ]
  },
  {
   "cell_type": "code",
   "execution_count": 16,
   "id": "7244806b",
   "metadata": {},
   "outputs": [
    {
     "name": "stdout",
     "output_type": "stream",
     "text": [
      "59504.8\n"
     ]
    }
   ],
   "source": [
    "monto_contrato = contrato[\"monto_contrato\"]\n",
    "print(monto_contrato)"
   ]
  },
  {
   "cell_type": "markdown",
   "id": "c31a1858",
   "metadata": {},
   "source": [
    "#### Expediente técnico firebase"
   ]
  },
  {
   "cell_type": "code",
   "execution_count": 17,
   "id": "53bf4c99",
   "metadata": {},
   "outputs": [
    {
     "name": "stdout",
     "output_type": "stream",
     "text": [
      "{'cargas_trabajo': {'MR101': 7.95,\n",
      "                    'MR102': 2558.43,\n",
      "                    'MR103': 20.03,\n",
      "                    'MR104': 71.2,\n",
      "                    'MR203': 333.36,\n",
      "                    'MR206': 237.37,\n",
      "                    'MR301': 31230.64,\n",
      "                    'MR401': 15.97,\n",
      "                    'MR601': 39.73,\n",
      "                    'MR701': 17.16},\n",
      " 'codigo_ruta': 'AR-692',\n",
      " 'coordenadas': {'fin': {'altitud': 4362,\n",
      "                         'datum': 'WGS84',\n",
      "                         'hemisferio': 'S',\n",
      "                         'progresiva': 11920,\n",
      "                         'x': 254510.31,\n",
      "                         'y': 8277504.58,\n",
      "                         'zona': None,\n",
      "                         'zona_letra': None},\n",
      "                 'inicio': {'altitud': 3980,\n",
      "                            'datum': 'WGS84',\n",
      "                            'hemisferio': 'S',\n",
      "                            'progresiva': 0,\n",
      "                            'x': 246384.65,\n",
      "                            'y': 8280099.96,\n",
      "                            'zona': None,\n",
      "                            'zona_letra': None}},\n",
      " 'longitud': 11920.0,\n",
      " 'monto_total': 74381.0,\n",
      " 'nombre': 'MANTENIMIENTO VIAL RUTINARIO DEL CAMINO VECINAL EMP. AR-691 - '\n",
      "           'CALLA CALLA - YURACCANCHA - CUCHUHURI - PALLALLMAYO, DISTRITO DE '\n",
      "           'CALLALLI, PROVINCIA DE CAYLLOMA, REGIÓN AREQUIPA',\n",
      " 'precios_unitarios': {'MR101': 265.3,\n",
      "                       'MR102': 10.27,\n",
      "                       'MR103': 21.0,\n",
      "                       'MR104': 17.5,\n",
      "                       'MR201': 0.44,\n",
      "                       'MR202': 78.5,\n",
      "                       'MR203': 5.25,\n",
      "                       'MR204': 0.44,\n",
      "                       'MR205': 105,\n",
      "                       'MR206': 3.6,\n",
      "                       'MR301': 0.14,\n",
      "                       'MR401': 11.42,\n",
      "                       'MR501': 0.53,\n",
      "                       'MR601': 2.1,\n",
      "                       'MR701': 43.75,\n",
      "                       'MR702': 210},\n",
      " 'tarifa_km_mes': 780}\n"
     ]
    }
   ],
   "source": [
    "expediente_tecnico_firebase = doc_proyecto_firebase[\"expediente\"]\n",
    "\n",
    "pprint.pprint(expediente_tecnico_firebase)"
   ]
  },
  {
   "cell_type": "markdown",
   "id": "1be115c2",
   "metadata": {},
   "source": [
    "#### Progresiva de inicio y fin del expediente"
   ]
  },
  {
   "cell_type": "code",
   "execution_count": 18,
   "id": "96e63c62",
   "metadata": {},
   "outputs": [
    {
     "name": "stdout",
     "output_type": "stream",
     "text": [
      "0\n",
      "11920\n"
     ]
    }
   ],
   "source": [
    "progresiva_inicio=expediente_tecnico_firebase[\"coordenadas\"][\"inicio\"][\"progresiva\"]\n",
    "progresiva_fin=expediente_tecnico_firebase[\"coordenadas\"][\"fin\"][\"progresiva\"]\n",
    "\n",
    "print(progresiva_inicio)\n",
    "print(progresiva_fin)"
   ]
  },
  {
   "cell_type": "markdown",
   "id": "d54ceec0",
   "metadata": {},
   "source": [
    "#### Valorización programada mensual\n"
   ]
  },
  {
   "cell_type": "code",
   "execution_count": 19,
   "id": "c0223f88",
   "metadata": {},
   "outputs": [
    {
     "name": "stdout",
     "output_type": "stream",
     "text": [
      "{'10': {'gastos_operativos': 768.6,\n",
      "        'igv': 1383.49,\n",
      "        'mantenimiento_con_go': 8454.64,\n",
      "        'mantenimiento_con_igv': 7686.04,\n",
      "        'mantenimiento_sin_igv': 6302.55},\n",
      " '11': {'gastos_operativos': 743.81,\n",
      "        'igv': 1338.86,\n",
      "        'mantenimiento_con_go': 8181.91,\n",
      "        'mantenimiento_con_igv': 7438.1,\n",
      "        'mantenimiento_sin_igv': 6099.24},\n",
      " '12': {'gastos_operativos': 272.73,\n",
      "        'igv': 490.91,\n",
      "        'mantenimiento_con_go': 3000.02,\n",
      "        'mantenimiento_con_igv': 2727.29,\n",
      "        'mantenimiento_sin_igv': 2236.38},\n",
      " '4': {'gastos_operativos': 371.91,\n",
      "       'igv': 669.43,\n",
      "       'mantenimiento_con_go': 4090.96,\n",
      "       'mantenimiento_con_igv': 3719.05,\n",
      "       'mantenimiento_sin_igv': 3049.62},\n",
      " '5': {'gastos_operativos': 768.6,\n",
      "       'igv': 1383.49,\n",
      "       'mantenimiento_con_go': 8454.64,\n",
      "       'mantenimiento_con_igv': 7686.04,\n",
      "       'mantenimiento_sin_igv': 6302.55},\n",
      " '6': {'gastos_operativos': 743.81,\n",
      "       'igv': 1338.86,\n",
      "       'mantenimiento_con_go': 8181.91,\n",
      "       'mantenimiento_con_igv': 7438.1,\n",
      "       'mantenimiento_sin_igv': 6099.24},\n",
      " '7': {'gastos_operativos': 768.6,\n",
      "       'igv': 1383.49,\n",
      "       'mantenimiento_con_go': 8454.64,\n",
      "       'mantenimiento_con_igv': 7686.04,\n",
      "       'mantenimiento_sin_igv': 6302.55},\n",
      " '8': {'gastos_operativos': 768.6,\n",
      "       'igv': 1383.49,\n",
      "       'mantenimiento_con_go': 8454.64,\n",
      "       'mantenimiento_con_igv': 7686.04,\n",
      "       'mantenimiento_sin_igv': 6302.55},\n",
      " '9': {'gastos_operativos': 743.81,\n",
      "       'igv': 1338.86,\n",
      "       'mantenimiento_con_go': 8181.91,\n",
      "       'mantenimiento_con_igv': 7438.1,\n",
      "       'mantenimiento_sin_igv': 6099.24}}\n"
     ]
    }
   ],
   "source": [
    "desembolsos =  db.collection(\"rutinarios\").document(proyecto).collection('presupuestos').document('desembolsos').get().to_dict()\n",
    "cronogramas_desembolsos = desembolsos['cronograma_desembolsos']\n",
    "pprint.pprint(cronogramas_desembolsos)"
   ]
  },
  {
   "cell_type": "code",
   "execution_count": 20,
   "id": "e10fd420",
   "metadata": {},
   "outputs": [
    {
     "name": "stdout",
     "output_type": "stream",
     "text": [
      "7686.04\n"
     ]
    }
   ],
   "source": [
    "desembolso_current_month = cronogramas_desembolsos[str(mes)]\n",
    "print(desembolso_current_month[\"mantenimiento_con_igv\"])"
   ]
  },
  {
   "cell_type": "markdown",
   "id": "4e05a292",
   "metadata": {},
   "source": [
    "#### Cargas de trabajo mensual presentadas por el contratista\n"
   ]
  },
  {
   "cell_type": "code",
   "execution_count": 21,
   "id": "eea395e5",
   "metadata": {},
   "outputs": [
    {
     "name": "stdout",
     "output_type": "stream",
     "text": [
      "{'MR206': 33.91, 'MR203': 44.45, 'MR301': 3903.83, 'MR101': 0.99, 'MR104': 10.17, 'MR103': 5.01, 'MR102': 322.9, 'MR701': 3.43}\n"
     ]
    }
   ],
   "source": [
    "valorizaciones = db.collection(\"rutinarios\").document(proyecto).collection('valorizaciones').document(str(mes)).get().to_dict()\n",
    "cargas_trabajo_contratista = valorizaciones['cargas_trabajo_contratista_corregido']\n",
    "print(cargas_trabajo_contratista)"
   ]
  },
  {
   "cell_type": "markdown",
   "id": "2109ab59",
   "metadata": {},
   "source": [
    "#### Cargas de trabajo del expediente técnico"
   ]
  },
  {
   "cell_type": "code",
   "execution_count": 22,
   "id": "2d8df224",
   "metadata": {},
   "outputs": [
    {
     "name": "stdout",
     "output_type": "stream",
     "text": [
      "{'MR101': 7.95,\n",
      " 'MR102': 2558.43,\n",
      " 'MR103': 20.03,\n",
      " 'MR104': 71.2,\n",
      " 'MR203': 333.36,\n",
      " 'MR206': 237.37,\n",
      " 'MR301': 31230.64,\n",
      " 'MR401': 15.97,\n",
      " 'MR601': 39.73,\n",
      " 'MR701': 17.16}\n"
     ]
    }
   ],
   "source": [
    "cargas_trabajo_expediente_tecnico=doc_proyecto_firebase['expediente']['cargas_trabajo']\n",
    "\n",
    "pprint.pprint(cargas_trabajo_expediente_tecnico)"
   ]
  },
  {
   "cell_type": "markdown",
   "id": "4951f85d",
   "metadata": {},
   "source": [
    "#### Precios unitarios del expediente técnico"
   ]
  },
  {
   "cell_type": "code",
   "execution_count": 23,
   "id": "0ce7707d",
   "metadata": {},
   "outputs": [
    {
     "name": "stdout",
     "output_type": "stream",
     "text": [
      "{'MR101': 265.3,\n",
      " 'MR102': 10.27,\n",
      " 'MR103': 21.0,\n",
      " 'MR104': 17.5,\n",
      " 'MR201': 0.44,\n",
      " 'MR202': 78.5,\n",
      " 'MR203': 5.25,\n",
      " 'MR204': 0.44,\n",
      " 'MR205': 105,\n",
      " 'MR206': 3.6,\n",
      " 'MR301': 0.14,\n",
      " 'MR401': 11.42,\n",
      " 'MR501': 0.53,\n",
      " 'MR601': 2.1,\n",
      " 'MR701': 43.75,\n",
      " 'MR702': 210}\n"
     ]
    }
   ],
   "source": [
    "precios_unitarios_expediente_tecnico = doc_proyecto_firebase['expediente']['precios_unitarios']\n",
    "\n",
    "pprint.pprint(precios_unitarios_expediente_tecnico)"
   ]
  },
  {
   "cell_type": "code",
   "execution_count": 24,
   "id": "3b841bc9",
   "metadata": {},
   "outputs": [],
   "source": [
    "# datos_cargas_trabajo_expediente_tecnico = {\n",
    "#     \"MR101\": {\"precio_unitario\": 265.30, \"carga_trabajo\": 7.95},\n",
    "#     \"MR102\": {\"precio_unitario\": 10.27, \"carga_trabajo\": 2558.43},\n",
    "#     \"MR103\": {\"precio_unitario\": 21.0, \"carga_trabajo\": 20.03},\n",
    "#     \"MR104\": {\"precio_unitario\": 17.50, \"carga_trabajo\": 71.20},\n",
    "#     \"MR203\": {\"precio_unitario\": 5.25, \"carga_trabajo\": 333.36},\n",
    "#     \"MR206\": {\"precio_unitario\": 3.6, \"carga_trabajo\": 237.37},\n",
    "#     \"MR301\": {\"precio_unitario\": 0.14, \"carga_trabajo\": 31230.64},\n",
    "#     \"MR401\": {\"precio_unitario\": 11.42, \"carga_trabajo\": 15.97},\n",
    "#     \"MR601\": {\"precio_unitario\": 2.10, \"carga_trabajo\": 39.73},\n",
    "#     \"MR701\": {\"precio_unitario\": 43.75, \"carga_trabajo\": 17.16},\n",
    "# }"
   ]
  },
  {
   "cell_type": "markdown",
   "id": "f83521dd",
   "metadata": {},
   "source": [
    "### Pickle"
   ]
  },
  {
   "cell_type": "markdown",
   "id": "8b729baf",
   "metadata": {},
   "source": [
    "#### Cargas de trabajo programadas"
   ]
  },
  {
   "cell_type": "code",
   "execution_count": 25,
   "id": "2f34eeda",
   "metadata": {},
   "outputs": [
    {
     "data": {
      "text/html": [
       "<div>\n",
       "<style scoped>\n",
       "    .dataframe tbody tr th:only-of-type {\n",
       "        vertical-align: middle;\n",
       "    }\n",
       "\n",
       "    .dataframe tbody tr th {\n",
       "        vertical-align: top;\n",
       "    }\n",
       "\n",
       "    .dataframe thead th {\n",
       "        text-align: right;\n",
       "    }\n",
       "</style>\n",
       "<table border=\"1\" class=\"dataframe\">\n",
       "  <thead>\n",
       "    <tr style=\"text-align: right;\">\n",
       "      <th></th>\n",
       "      <th>2025-04</th>\n",
       "      <th>2025-05</th>\n",
       "      <th>2025-06</th>\n",
       "      <th>2025-07</th>\n",
       "      <th>2025-08</th>\n",
       "      <th>2025-09</th>\n",
       "      <th>2025-10</th>\n",
       "      <th>2025-11</th>\n",
       "      <th>2025-12</th>\n",
       "      <th>TOTAL</th>\n",
       "    </tr>\n",
       "    <tr>\n",
       "      <th>codigo</th>\n",
       "      <th></th>\n",
       "      <th></th>\n",
       "      <th></th>\n",
       "      <th></th>\n",
       "      <th></th>\n",
       "      <th></th>\n",
       "      <th></th>\n",
       "      <th></th>\n",
       "      <th></th>\n",
       "      <th></th>\n",
       "    </tr>\n",
       "  </thead>\n",
       "  <tbody>\n",
       "    <tr>\n",
       "      <th>MR103</th>\n",
       "      <td>0.000000</td>\n",
       "      <td>5.007500</td>\n",
       "      <td>0.000000</td>\n",
       "      <td>5.007500</td>\n",
       "      <td>5.007500</td>\n",
       "      <td>0.000000</td>\n",
       "      <td>5.007500</td>\n",
       "      <td>0.000000</td>\n",
       "      <td>0.000000</td>\n",
       "      <td>20.03</td>\n",
       "    </tr>\n",
       "    <tr>\n",
       "      <th>MR104</th>\n",
       "      <td>5.085714</td>\n",
       "      <td>10.171429</td>\n",
       "      <td>5.085714</td>\n",
       "      <td>10.171429</td>\n",
       "      <td>10.171429</td>\n",
       "      <td>5.085714</td>\n",
       "      <td>10.171429</td>\n",
       "      <td>10.171429</td>\n",
       "      <td>5.085714</td>\n",
       "      <td>71.20</td>\n",
       "    </tr>\n",
       "    <tr>\n",
       "      <th>MR201</th>\n",
       "      <td>0.000000</td>\n",
       "      <td>0.000000</td>\n",
       "      <td>0.000000</td>\n",
       "      <td>0.000000</td>\n",
       "      <td>0.000000</td>\n",
       "      <td>0.000000</td>\n",
       "      <td>0.000000</td>\n",
       "      <td>0.000000</td>\n",
       "      <td>0.000000</td>\n",
       "      <td>0.00</td>\n",
       "    </tr>\n",
       "    <tr>\n",
       "      <th>MR202</th>\n",
       "      <td>0.000000</td>\n",
       "      <td>0.000000</td>\n",
       "      <td>0.000000</td>\n",
       "      <td>0.000000</td>\n",
       "      <td>0.000000</td>\n",
       "      <td>0.000000</td>\n",
       "      <td>0.000000</td>\n",
       "      <td>0.000000</td>\n",
       "      <td>0.000000</td>\n",
       "      <td>0.00</td>\n",
       "    </tr>\n",
       "    <tr>\n",
       "      <th>MR203</th>\n",
       "      <td>22.224000</td>\n",
       "      <td>44.448000</td>\n",
       "      <td>22.224000</td>\n",
       "      <td>44.448000</td>\n",
       "      <td>44.448000</td>\n",
       "      <td>44.448000</td>\n",
       "      <td>44.448000</td>\n",
       "      <td>44.448000</td>\n",
       "      <td>22.224000</td>\n",
       "      <td>333.36</td>\n",
       "    </tr>\n",
       "    <tr>\n",
       "      <th>MR204</th>\n",
       "      <td>0.000000</td>\n",
       "      <td>0.000000</td>\n",
       "      <td>0.000000</td>\n",
       "      <td>0.000000</td>\n",
       "      <td>0.000000</td>\n",
       "      <td>0.000000</td>\n",
       "      <td>0.000000</td>\n",
       "      <td>0.000000</td>\n",
       "      <td>0.000000</td>\n",
       "      <td>0.00</td>\n",
       "    </tr>\n",
       "    <tr>\n",
       "      <th>MR205</th>\n",
       "      <td>0.000000</td>\n",
       "      <td>0.000000</td>\n",
       "      <td>0.000000</td>\n",
       "      <td>0.000000</td>\n",
       "      <td>0.000000</td>\n",
       "      <td>0.000000</td>\n",
       "      <td>0.000000</td>\n",
       "      <td>0.000000</td>\n",
       "      <td>0.000000</td>\n",
       "      <td>0.00</td>\n",
       "    </tr>\n",
       "    <tr>\n",
       "      <th>MR206</th>\n",
       "      <td>0.000000</td>\n",
       "      <td>33.910000</td>\n",
       "      <td>33.910000</td>\n",
       "      <td>33.910000</td>\n",
       "      <td>33.910000</td>\n",
       "      <td>33.910000</td>\n",
       "      <td>33.910000</td>\n",
       "      <td>33.910000</td>\n",
       "      <td>0.000000</td>\n",
       "      <td>237.37</td>\n",
       "    </tr>\n",
       "    <tr>\n",
       "      <th>MR301</th>\n",
       "      <td>1951.915000</td>\n",
       "      <td>3903.830000</td>\n",
       "      <td>3903.830000</td>\n",
       "      <td>3903.830000</td>\n",
       "      <td>3903.830000</td>\n",
       "      <td>3903.830000</td>\n",
       "      <td>3903.830000</td>\n",
       "      <td>3903.830000</td>\n",
       "      <td>1951.915000</td>\n",
       "      <td>31230.64</td>\n",
       "    </tr>\n",
       "    <tr>\n",
       "      <th>MR401</th>\n",
       "      <td>5.323333</td>\n",
       "      <td>0.000000</td>\n",
       "      <td>5.323333</td>\n",
       "      <td>0.000000</td>\n",
       "      <td>0.000000</td>\n",
       "      <td>5.323333</td>\n",
       "      <td>0.000000</td>\n",
       "      <td>0.000000</td>\n",
       "      <td>0.000000</td>\n",
       "      <td>15.97</td>\n",
       "    </tr>\n",
       "    <tr>\n",
       "      <th>MR501</th>\n",
       "      <td>0.000000</td>\n",
       "      <td>0.000000</td>\n",
       "      <td>0.000000</td>\n",
       "      <td>0.000000</td>\n",
       "      <td>0.000000</td>\n",
       "      <td>0.000000</td>\n",
       "      <td>0.000000</td>\n",
       "      <td>0.000000</td>\n",
       "      <td>0.000000</td>\n",
       "      <td>0.00</td>\n",
       "    </tr>\n",
       "    <tr>\n",
       "      <th>MR601</th>\n",
       "      <td>0.000000</td>\n",
       "      <td>0.000000</td>\n",
       "      <td>13.243333</td>\n",
       "      <td>0.000000</td>\n",
       "      <td>0.000000</td>\n",
       "      <td>13.243333</td>\n",
       "      <td>0.000000</td>\n",
       "      <td>13.243333</td>\n",
       "      <td>0.000000</td>\n",
       "      <td>39.73</td>\n",
       "    </tr>\n",
       "    <tr>\n",
       "      <th>MR701</th>\n",
       "      <td>0.000000</td>\n",
       "      <td>3.432000</td>\n",
       "      <td>3.432000</td>\n",
       "      <td>3.432000</td>\n",
       "      <td>3.432000</td>\n",
       "      <td>0.000000</td>\n",
       "      <td>3.432000</td>\n",
       "      <td>0.000000</td>\n",
       "      <td>0.000000</td>\n",
       "      <td>17.16</td>\n",
       "    </tr>\n",
       "    <tr>\n",
       "      <th>MR702</th>\n",
       "      <td>0.000000</td>\n",
       "      <td>0.000000</td>\n",
       "      <td>0.000000</td>\n",
       "      <td>0.000000</td>\n",
       "      <td>0.000000</td>\n",
       "      <td>0.000000</td>\n",
       "      <td>0.000000</td>\n",
       "      <td>0.000000</td>\n",
       "      <td>0.000000</td>\n",
       "      <td>0.00</td>\n",
       "    </tr>\n",
       "    <tr>\n",
       "      <th>TOTAL</th>\n",
       "      <td>0.000000</td>\n",
       "      <td>0.000000</td>\n",
       "      <td>0.000000</td>\n",
       "      <td>0.000000</td>\n",
       "      <td>0.000000</td>\n",
       "      <td>0.000000</td>\n",
       "      <td>0.000000</td>\n",
       "      <td>0.000000</td>\n",
       "      <td>0.000000</td>\n",
       "      <td>0.00</td>\n",
       "    </tr>\n",
       "  </tbody>\n",
       "</table>\n",
       "</div>"
      ],
      "text/plain": [
       "            2025-04      2025-05      2025-06      2025-07      2025-08  \\\n",
       "codigo                                                                    \n",
       "MR103      0.000000     5.007500     0.000000     5.007500     5.007500   \n",
       "MR104      5.085714    10.171429     5.085714    10.171429    10.171429   \n",
       "MR201      0.000000     0.000000     0.000000     0.000000     0.000000   \n",
       "MR202      0.000000     0.000000     0.000000     0.000000     0.000000   \n",
       "MR203     22.224000    44.448000    22.224000    44.448000    44.448000   \n",
       "MR204      0.000000     0.000000     0.000000     0.000000     0.000000   \n",
       "MR205      0.000000     0.000000     0.000000     0.000000     0.000000   \n",
       "MR206      0.000000    33.910000    33.910000    33.910000    33.910000   \n",
       "MR301   1951.915000  3903.830000  3903.830000  3903.830000  3903.830000   \n",
       "MR401      5.323333     0.000000     5.323333     0.000000     0.000000   \n",
       "MR501      0.000000     0.000000     0.000000     0.000000     0.000000   \n",
       "MR601      0.000000     0.000000    13.243333     0.000000     0.000000   \n",
       "MR701      0.000000     3.432000     3.432000     3.432000     3.432000   \n",
       "MR702      0.000000     0.000000     0.000000     0.000000     0.000000   \n",
       "TOTAL      0.000000     0.000000     0.000000     0.000000     0.000000   \n",
       "\n",
       "            2025-09      2025-10      2025-11      2025-12     TOTAL  \n",
       "codigo                                                                \n",
       "MR103      0.000000     5.007500     0.000000     0.000000     20.03  \n",
       "MR104      5.085714    10.171429    10.171429     5.085714     71.20  \n",
       "MR201      0.000000     0.000000     0.000000     0.000000      0.00  \n",
       "MR202      0.000000     0.000000     0.000000     0.000000      0.00  \n",
       "MR203     44.448000    44.448000    44.448000    22.224000    333.36  \n",
       "MR204      0.000000     0.000000     0.000000     0.000000      0.00  \n",
       "MR205      0.000000     0.000000     0.000000     0.000000      0.00  \n",
       "MR206     33.910000    33.910000    33.910000     0.000000    237.37  \n",
       "MR301   3903.830000  3903.830000  3903.830000  1951.915000  31230.64  \n",
       "MR401      5.323333     0.000000     0.000000     0.000000     15.97  \n",
       "MR501      0.000000     0.000000     0.000000     0.000000      0.00  \n",
       "MR601     13.243333     0.000000    13.243333     0.000000     39.73  \n",
       "MR701      0.000000     3.432000     0.000000     0.000000     17.16  \n",
       "MR702      0.000000     0.000000     0.000000     0.000000      0.00  \n",
       "TOTAL      0.000000     0.000000     0.000000     0.000000      0.00  "
      ]
     },
     "execution_count": 25,
     "metadata": {},
     "output_type": "execute_result"
    }
   ],
   "source": [
    "# Concatenar la ruta completa al archivo .pkl\n",
    "ruta_archivo = os.path.join(\"data\",proyecto, f\"{proyecto}_cargas_trabajo.pkl\")\n",
    "\n",
    "# Leer el archivo pickle\n",
    "with open(ruta_archivo, \"rb\") as f:\n",
    "    cargas_trabajo_programadas_anualmente = pickle.load(f)\n",
    "\n",
    "cargas_trabajo_programadas_anualmente.tail(15)"
   ]
  },
  {
   "cell_type": "code",
   "execution_count": 26,
   "id": "dc545894",
   "metadata": {},
   "outputs": [],
   "source": [
    "#eliminando el total\n",
    "cargas_trabajo_programadas_anualmente = cargas_trabajo_programadas_anualmente.iloc[:-1]"
   ]
  },
  {
   "cell_type": "code",
   "execution_count": 27,
   "id": "00611e16",
   "metadata": {},
   "outputs": [
    {
     "name": "stdout",
     "output_type": "stream",
     "text": [
      "{'MR101': 0.99375,\n",
      " 'MR102': 328.0038461538461,\n",
      " 'MR103': 5.0075,\n",
      " 'MR104': 10.17142857142857,\n",
      " 'MR201': 0.0,\n",
      " 'MR202': 0.0,\n",
      " 'MR203': 44.448,\n",
      " 'MR204': 0.0,\n",
      " 'MR205': 0.0,\n",
      " 'MR206': 33.91,\n",
      " 'MR301': 3903.83,\n",
      " 'MR401': 0.0,\n",
      " 'MR501': 0.0,\n",
      " 'MR601': 0.0,\n",
      " 'MR701': 3.4320000000000004,\n",
      " 'MR702': 0.0}\n"
     ]
    }
   ],
   "source": [
    "cargas_trabajo_programadas_current_month = cargas_trabajo_programadas_anualmente[f\"2025-{mes:02d}\"].to_dict()\n",
    "pprint.pprint(cargas_trabajo_programadas_current_month)"
   ]
  },
  {
   "cell_type": "code",
   "execution_count": 28,
   "id": "057aa42a",
   "metadata": {},
   "outputs": [
    {
     "data": {
      "text/plain": [
       "['MR101',\n",
       " 'MR102',\n",
       " 'MR103',\n",
       " 'MR104',\n",
       " 'MR201',\n",
       " 'MR202',\n",
       " 'MR203',\n",
       " 'MR204',\n",
       " 'MR205',\n",
       " 'MR206',\n",
       " 'MR301',\n",
       " 'MR401',\n",
       " 'MR501',\n",
       " 'MR601',\n",
       " 'MR701',\n",
       " 'MR702']"
      ]
     },
     "execution_count": 28,
     "metadata": {},
     "output_type": "execute_result"
    }
   ],
   "source": [
    "cargas_trabajo_programadas_anualmente.index.to_list()"
   ]
  },
  {
   "cell_type": "markdown",
   "id": "0e03287c",
   "metadata": {},
   "source": [
    "#### Cronograma anual"
   ]
  },
  {
   "cell_type": "code",
   "execution_count": 29,
   "id": "895b2b34",
   "metadata": {},
   "outputs": [
    {
     "data": {
      "text/html": [
       "<div>\n",
       "<style scoped>\n",
       "    .dataframe tbody tr th:only-of-type {\n",
       "        vertical-align: middle;\n",
       "    }\n",
       "\n",
       "    .dataframe tbody tr th {\n",
       "        vertical-align: top;\n",
       "    }\n",
       "\n",
       "    .dataframe thead th {\n",
       "        text-align: right;\n",
       "    }\n",
       "</style>\n",
       "<table border=\"1\" class=\"dataframe\">\n",
       "  <thead>\n",
       "    <tr style=\"text-align: right;\">\n",
       "      <th></th>\n",
       "      <th>2025-04</th>\n",
       "      <th>2025-05</th>\n",
       "      <th>2025-06</th>\n",
       "      <th>2025-07</th>\n",
       "      <th>2025-08</th>\n",
       "      <th>2025-09</th>\n",
       "      <th>2025-10</th>\n",
       "      <th>2025-11</th>\n",
       "      <th>2025-12</th>\n",
       "      <th>TOTAL</th>\n",
       "    </tr>\n",
       "  </thead>\n",
       "  <tbody>\n",
       "    <tr>\n",
       "      <th>MR101</th>\n",
       "      <td>2</td>\n",
       "      <td>3</td>\n",
       "      <td>3</td>\n",
       "      <td>3</td>\n",
       "      <td>3</td>\n",
       "      <td>3</td>\n",
       "      <td>3</td>\n",
       "      <td>3</td>\n",
       "      <td>1</td>\n",
       "      <td>24</td>\n",
       "    </tr>\n",
       "    <tr>\n",
       "      <th>MR102</th>\n",
       "      <td>7</td>\n",
       "      <td>15</td>\n",
       "      <td>15</td>\n",
       "      <td>15</td>\n",
       "      <td>15</td>\n",
       "      <td>15</td>\n",
       "      <td>15</td>\n",
       "      <td>15</td>\n",
       "      <td>5</td>\n",
       "      <td>117</td>\n",
       "    </tr>\n",
       "    <tr>\n",
       "      <th>MR103</th>\n",
       "      <td>0</td>\n",
       "      <td>1</td>\n",
       "      <td>0</td>\n",
       "      <td>1</td>\n",
       "      <td>1</td>\n",
       "      <td>0</td>\n",
       "      <td>1</td>\n",
       "      <td>0</td>\n",
       "      <td>0</td>\n",
       "      <td>4</td>\n",
       "    </tr>\n",
       "    <tr>\n",
       "      <th>MR104</th>\n",
       "      <td>1</td>\n",
       "      <td>2</td>\n",
       "      <td>1</td>\n",
       "      <td>2</td>\n",
       "      <td>2</td>\n",
       "      <td>1</td>\n",
       "      <td>2</td>\n",
       "      <td>2</td>\n",
       "      <td>1</td>\n",
       "      <td>14</td>\n",
       "    </tr>\n",
       "    <tr>\n",
       "      <th>MR201</th>\n",
       "      <td>0</td>\n",
       "      <td>0</td>\n",
       "      <td>0</td>\n",
       "      <td>0</td>\n",
       "      <td>0</td>\n",
       "      <td>0</td>\n",
       "      <td>0</td>\n",
       "      <td>0</td>\n",
       "      <td>0</td>\n",
       "      <td>0</td>\n",
       "    </tr>\n",
       "    <tr>\n",
       "      <th>MR202</th>\n",
       "      <td>0</td>\n",
       "      <td>0</td>\n",
       "      <td>0</td>\n",
       "      <td>0</td>\n",
       "      <td>0</td>\n",
       "      <td>0</td>\n",
       "      <td>0</td>\n",
       "      <td>0</td>\n",
       "      <td>0</td>\n",
       "      <td>0</td>\n",
       "    </tr>\n",
       "    <tr>\n",
       "      <th>MR203</th>\n",
       "      <td>1</td>\n",
       "      <td>2</td>\n",
       "      <td>1</td>\n",
       "      <td>2</td>\n",
       "      <td>2</td>\n",
       "      <td>2</td>\n",
       "      <td>2</td>\n",
       "      <td>2</td>\n",
       "      <td>1</td>\n",
       "      <td>15</td>\n",
       "    </tr>\n",
       "    <tr>\n",
       "      <th>MR204</th>\n",
       "      <td>0</td>\n",
       "      <td>0</td>\n",
       "      <td>0</td>\n",
       "      <td>0</td>\n",
       "      <td>0</td>\n",
       "      <td>0</td>\n",
       "      <td>0</td>\n",
       "      <td>0</td>\n",
       "      <td>0</td>\n",
       "      <td>0</td>\n",
       "    </tr>\n",
       "    <tr>\n",
       "      <th>MR205</th>\n",
       "      <td>0</td>\n",
       "      <td>0</td>\n",
       "      <td>0</td>\n",
       "      <td>0</td>\n",
       "      <td>0</td>\n",
       "      <td>0</td>\n",
       "      <td>0</td>\n",
       "      <td>0</td>\n",
       "      <td>0</td>\n",
       "      <td>0</td>\n",
       "    </tr>\n",
       "    <tr>\n",
       "      <th>MR206</th>\n",
       "      <td>0</td>\n",
       "      <td>1</td>\n",
       "      <td>1</td>\n",
       "      <td>1</td>\n",
       "      <td>1</td>\n",
       "      <td>1</td>\n",
       "      <td>1</td>\n",
       "      <td>1</td>\n",
       "      <td>0</td>\n",
       "      <td>7</td>\n",
       "    </tr>\n",
       "    <tr>\n",
       "      <th>MR301</th>\n",
       "      <td>3</td>\n",
       "      <td>6</td>\n",
       "      <td>6</td>\n",
       "      <td>6</td>\n",
       "      <td>6</td>\n",
       "      <td>6</td>\n",
       "      <td>6</td>\n",
       "      <td>6</td>\n",
       "      <td>3</td>\n",
       "      <td>48</td>\n",
       "    </tr>\n",
       "    <tr>\n",
       "      <th>MR401</th>\n",
       "      <td>1</td>\n",
       "      <td>0</td>\n",
       "      <td>1</td>\n",
       "      <td>0</td>\n",
       "      <td>0</td>\n",
       "      <td>1</td>\n",
       "      <td>0</td>\n",
       "      <td>0</td>\n",
       "      <td>0</td>\n",
       "      <td>3</td>\n",
       "    </tr>\n",
       "    <tr>\n",
       "      <th>MR501</th>\n",
       "      <td>0</td>\n",
       "      <td>0</td>\n",
       "      <td>0</td>\n",
       "      <td>0</td>\n",
       "      <td>0</td>\n",
       "      <td>0</td>\n",
       "      <td>0</td>\n",
       "      <td>0</td>\n",
       "      <td>0</td>\n",
       "      <td>0</td>\n",
       "    </tr>\n",
       "    <tr>\n",
       "      <th>MR601</th>\n",
       "      <td>0</td>\n",
       "      <td>0</td>\n",
       "      <td>1</td>\n",
       "      <td>0</td>\n",
       "      <td>0</td>\n",
       "      <td>1</td>\n",
       "      <td>0</td>\n",
       "      <td>1</td>\n",
       "      <td>0</td>\n",
       "      <td>3</td>\n",
       "    </tr>\n",
       "    <tr>\n",
       "      <th>MR701</th>\n",
       "      <td>0</td>\n",
       "      <td>1</td>\n",
       "      <td>1</td>\n",
       "      <td>1</td>\n",
       "      <td>1</td>\n",
       "      <td>0</td>\n",
       "      <td>1</td>\n",
       "      <td>0</td>\n",
       "      <td>0</td>\n",
       "      <td>5</td>\n",
       "    </tr>\n",
       "  </tbody>\n",
       "</table>\n",
       "</div>"
      ],
      "text/plain": [
       "       2025-04  2025-05  2025-06  2025-07  2025-08  2025-09  2025-10  2025-11  \\\n",
       "MR101        2        3        3        3        3        3        3        3   \n",
       "MR102        7       15       15       15       15       15       15       15   \n",
       "MR103        0        1        0        1        1        0        1        0   \n",
       "MR104        1        2        1        2        2        1        2        2   \n",
       "MR201        0        0        0        0        0        0        0        0   \n",
       "MR202        0        0        0        0        0        0        0        0   \n",
       "MR203        1        2        1        2        2        2        2        2   \n",
       "MR204        0        0        0        0        0        0        0        0   \n",
       "MR205        0        0        0        0        0        0        0        0   \n",
       "MR206        0        1        1        1        1        1        1        1   \n",
       "MR301        3        6        6        6        6        6        6        6   \n",
       "MR401        1        0        1        0        0        1        0        0   \n",
       "MR501        0        0        0        0        0        0        0        0   \n",
       "MR601        0        0        1        0        0        1        0        1   \n",
       "MR701        0        1        1        1        1        0        1        0   \n",
       "\n",
       "       2025-12  TOTAL  \n",
       "MR101        1     24  \n",
       "MR102        5    117  \n",
       "MR103        0      4  \n",
       "MR104        1     14  \n",
       "MR201        0      0  \n",
       "MR202        0      0  \n",
       "MR203        1     15  \n",
       "MR204        0      0  \n",
       "MR205        0      0  \n",
       "MR206        0      7  \n",
       "MR301        3     48  \n",
       "MR401        0      3  \n",
       "MR501        0      0  \n",
       "MR601        0      3  \n",
       "MR701        0      5  "
      ]
     },
     "execution_count": 29,
     "metadata": {},
     "output_type": "execute_result"
    }
   ],
   "source": [
    "# Concatenar la ruta completa al archivo .pkl\n",
    "ruta_archivo = os.path.join(\"data\",proyecto, f\"{proyecto}_cronograma_anual.pkl\")\n",
    "\n",
    "# Leer el archivo pickle\n",
    "with open(ruta_archivo, \"rb\") as f:\n",
    "    df_cronograma_anual = pickle.load(f)\n",
    "\n",
    "df_cronograma_anual.head(15)"
   ]
  },
  {
   "cell_type": "markdown",
   "id": "4ec0f5f5",
   "metadata": {},
   "source": [
    "### JSON"
   ]
  },
  {
   "cell_type": "markdown",
   "id": "d7fa2247",
   "metadata": {},
   "source": [
    "#### Actividades"
   ]
  },
  {
   "cell_type": "code",
   "execution_count": 30,
   "id": "33aeed2c",
   "metadata": {},
   "outputs": [
    {
     "name": "stdout",
     "output_type": "stream",
     "text": [
      "[{'key': 'MR100', 'value': {'label': 'Conservación de calzada', 'value': [{'key': 'MR101', 'value': {'label': 'Limpieza de calzada', 'carga_trabajo': 0, 'unidad': 'Km'}}, {'key': 'MR102', 'value': {'label': 'Bacheo', 'carga_trabajo': 0, 'unidad': 'm2'}}, {'key': 'MR103', 'value': {'label': 'Desquinche', 'carga_trabajo': 0, 'unidad': 'm3'}}, {'key': 'MR104', 'value': {'label': 'Remoción de derrumbes', 'carga_trabajo': 0, 'unidad': 'm3'}}]}}, {'key': 'MR200', 'value': {'label': 'Limpieza de obras de arte', 'value': [{'key': 'MR201', 'value': {'label': 'Limpieza de cunetas', 'carga_trabajo': 1440, 'unidad': 'm'}}, {'key': 'MR202', 'value': {'label': 'Limpieza de alcantarillas', 'carga_trabajo': 0, 'unidad': 'unidad'}}, {'key': 'MR203', 'value': {'label': 'Limpieza de badén', 'carga_trabajo': 0, 'unidad': 'm2'}}, {'key': 'MR204', 'value': {'label': 'Limpieza de zanjas de coronación', 'carga_trabajo': 0, 'unidad': 'm'}}, {'key': 'MR205', 'value': {'label': 'Limpieza de pontones', 'carga_trabajo': 0, 'unidad': 'unidad'}}, {'key': 'MR206', 'value': {'label': 'Encausamiento de pequeños cursos de agua', 'carga_trabajo': 0, 'unidad': 'm'}}]}}, {'key': 'MR300', 'value': {'label': 'Control de vegetación', 'value': [{'key': 'MR301', 'value': {'label': 'Roce y limpieza', 'carga_trabajo': 0, 'unidad': 'm2'}}]}}, {'key': 'MR400', 'value': {'label': 'Seguridad vial', 'value': [{'key': 'MR401', 'value': {'label': 'Conservación de señales', 'carga_trabajo': 10, 'unidad': 'unidad'}}]}}, {'key': 'MR500', 'value': {'label': 'Medio ambiente', 'value': [{'key': 'MR501', 'value': {'label': 'Reforestación', 'carga_trabajo': 0, 'unidad': 'unidad'}}]}}, {'key': 'MR600', 'value': {'label': 'Vigilancia y control vial', 'value': [{'key': 'MR601', 'value': {'label': 'Vigilancia y control', 'carga_trabajo': 0, 'unidad': 'Km'}}]}}, {'key': 'MR700', 'value': {'label': 'Actividades complementarias', 'value': [{'key': 'MR701', 'value': {'label': 'Reparación de muros secos', 'carga_trabajo': 0, 'unidad': 'm3'}}, {'key': 'MR702', 'value': {'label': 'Reparación de pontones', 'carga_trabajo': 0, 'unidad': 'unidad'}}]}}]\n"
     ]
    }
   ],
   "source": [
    "ruta_actividades= os.path.join(\"data\", \"general_data\", \"actividades.json\")\n",
    "with open(ruta_actividades, 'r', encoding='utf-8') as archivo:\n",
    "    actividades = json.load(archivo)\n",
    "# Ahora 'datos' es un diccionario de Python\n",
    "print(actividades)"
   ]
  },
  {
   "cell_type": "markdown",
   "id": "68e13015",
   "metadata": {},
   "source": [
    "## Cálculos\n"
   ]
  },
  {
   "cell_type": "markdown",
   "id": "8e2dfc24",
   "metadata": {},
   "source": [
    "### Cargas de trabajo y pu de expediente tecnico"
   ]
  },
  {
   "cell_type": "code",
   "execution_count": 31,
   "id": "a3554c91",
   "metadata": {},
   "outputs": [
    {
     "name": "stdout",
     "output_type": "stream",
     "text": [
      "{'MR101': {'carga_trabajo': 7.95, 'precio_unitario': 265.3},\n",
      " 'MR102': {'carga_trabajo': 2558.43, 'precio_unitario': 10.27},\n",
      " 'MR103': {'carga_trabajo': 20.03, 'precio_unitario': 21.0},\n",
      " 'MR104': {'carga_trabajo': 71.2, 'precio_unitario': 17.5},\n",
      " 'MR203': {'carga_trabajo': 333.36, 'precio_unitario': 5.25},\n",
      " 'MR206': {'carga_trabajo': 237.37, 'precio_unitario': 3.6},\n",
      " 'MR301': {'carga_trabajo': 31230.64, 'precio_unitario': 0.14},\n",
      " 'MR401': {'carga_trabajo': 15.97, 'precio_unitario': 11.42},\n",
      " 'MR601': {'carga_trabajo': 39.73, 'precio_unitario': 2.1},\n",
      " 'MR701': {'carga_trabajo': 17.16, 'precio_unitario': 43.75}}\n"
     ]
    }
   ],
   "source": [
    "datos_cargas_trabajo_expediente_tecnico=fusionar_diccionarios(\n",
    "    {\n",
    "        'precio_unitario':precios_unitarios_expediente_tecnico,\n",
    "        'carga_trabajo':cargas_trabajo_expediente_tecnico\n",
    "    }\n",
    ")\n",
    "\n",
    "pprint.pprint(datos_cargas_trabajo_expediente_tecnico)"
   ]
  },
  {
   "cell_type": "code",
   "execution_count": 32,
   "id": "b8f69b72",
   "metadata": {},
   "outputs": [],
   "source": [
    "# Crear DataFrame usando pd.DataFrame.from_dict() con orient='index'\n",
    "df_cargas_trabajo_expediente = pd.DataFrame.from_dict(\n",
    "    datos_cargas_trabajo_expediente_tecnico, orient=\"index\"\n",
    ")\n",
    "\n",
    "# Resetear el índice para convertir las claves MR en una columna\n",
    "df_cargas_trabajo_expediente = df_cargas_trabajo_expediente.reset_index().rename(\n",
    "    columns={\"index\": \"codigo_MR\"}\n",
    ")"
   ]
  },
  {
   "cell_type": "code",
   "execution_count": 33,
   "id": "966265c4",
   "metadata": {},
   "outputs": [],
   "source": [
    "# Agregar columna parcial\n",
    "df_cargas_trabajo_expediente[\"parcial\"] = (\n",
    "    df_cargas_trabajo_expediente[\"precio_unitario\"]\n",
    "    * df_cargas_trabajo_expediente[\"carga_trabajo\"]\n",
    ")"
   ]
  },
  {
   "cell_type": "code",
   "execution_count": 34,
   "id": "42f40b0c",
   "metadata": {},
   "outputs": [
    {
     "data": {
      "text/html": [
       "<div>\n",
       "<style scoped>\n",
       "    .dataframe tbody tr th:only-of-type {\n",
       "        vertical-align: middle;\n",
       "    }\n",
       "\n",
       "    .dataframe tbody tr th {\n",
       "        vertical-align: top;\n",
       "    }\n",
       "\n",
       "    .dataframe thead th {\n",
       "        text-align: right;\n",
       "    }\n",
       "</style>\n",
       "<table border=\"1\" class=\"dataframe\">\n",
       "  <thead>\n",
       "    <tr style=\"text-align: right;\">\n",
       "      <th></th>\n",
       "      <th>codigo_MR</th>\n",
       "      <th>precio_unitario</th>\n",
       "      <th>carga_trabajo</th>\n",
       "      <th>parcial</th>\n",
       "    </tr>\n",
       "  </thead>\n",
       "  <tbody>\n",
       "    <tr>\n",
       "      <th>0</th>\n",
       "      <td>MR104</td>\n",
       "      <td>17.50</td>\n",
       "      <td>71.20</td>\n",
       "      <td>1246.000</td>\n",
       "    </tr>\n",
       "    <tr>\n",
       "      <th>1</th>\n",
       "      <td>MR601</td>\n",
       "      <td>2.10</td>\n",
       "      <td>39.73</td>\n",
       "      <td>83.433</td>\n",
       "    </tr>\n",
       "    <tr>\n",
       "      <th>2</th>\n",
       "      <td>MR203</td>\n",
       "      <td>5.25</td>\n",
       "      <td>333.36</td>\n",
       "      <td>1750.140</td>\n",
       "    </tr>\n",
       "    <tr>\n",
       "      <th>3</th>\n",
       "      <td>MR103</td>\n",
       "      <td>21.00</td>\n",
       "      <td>20.03</td>\n",
       "      <td>420.630</td>\n",
       "    </tr>\n",
       "    <tr>\n",
       "      <th>4</th>\n",
       "      <td>MR101</td>\n",
       "      <td>265.30</td>\n",
       "      <td>7.95</td>\n",
       "      <td>2109.135</td>\n",
       "    </tr>\n",
       "  </tbody>\n",
       "</table>\n",
       "</div>"
      ],
      "text/plain": [
       "  codigo_MR  precio_unitario  carga_trabajo   parcial\n",
       "0     MR104            17.50          71.20  1246.000\n",
       "1     MR601             2.10          39.73    83.433\n",
       "2     MR203             5.25         333.36  1750.140\n",
       "3     MR103            21.00          20.03   420.630\n",
       "4     MR101           265.30           7.95  2109.135"
      ]
     },
     "execution_count": 34,
     "metadata": {},
     "output_type": "execute_result"
    }
   ],
   "source": [
    "df_cargas_trabajo_expediente.head()"
   ]
  },
  {
   "cell_type": "code",
   "execution_count": 35,
   "id": "4da817a7",
   "metadata": {},
   "outputs": [
    {
     "name": "stdout",
     "output_type": "stream",
     "text": [
      "costo_directo 38044.3631\n"
     ]
    }
   ],
   "source": [
    "# Calcular el total\n",
    "costo_directo = df_cargas_trabajo_expediente[\"parcial\"].sum()\n",
    "print(\"costo_directo\", costo_directo)"
   ]
  },
  {
   "cell_type": "code",
   "execution_count": 36,
   "id": "180e3007",
   "metadata": {},
   "outputs": [
    {
     "name": "stdout",
     "output_type": "stream",
     "text": [
      "51626.2\n"
     ]
    }
   ],
   "source": [
    "costo_total_expediente = calculadora_costo_total(costo_directo)\n",
    "print(costo_total_expediente[\"total\"])"
   ]
  },
  {
   "cell_type": "code",
   "execution_count": 37,
   "id": "2fe2679d",
   "metadata": {},
   "outputs": [
    {
     "name": "stdout",
     "output_type": "stream",
     "text": [
      "El costo directo es: 43850.258539130904\n"
     ]
    }
   ],
   "source": [
    "# Agregar columna parcial\n",
    "df_cargas_trabajo_expediente[\"precio_unitario_actualizado\"] = (\n",
    "    df_cargas_trabajo_expediente[\"precio_unitario\"]\n",
    "    * (monto_contrato / costo_total_expediente[\"total\"])\n",
    ")\n",
    "\n",
    "df_cargas_trabajo_expediente[\"parcial_actualizado\"] = (\n",
    "    df_cargas_trabajo_expediente[\"precio_unitario_actualizado\"]\n",
    "    * df_cargas_trabajo_expediente[\"carga_trabajo\"]\n",
    ")\n",
    "\n",
    "# Calcular el total\n",
    "costo_directo_actualizado = df_cargas_trabajo_expediente[\"parcial_actualizado\"].sum()\n",
    "\n",
    "print(f\"El costo directo es: {costo_directo_actualizado}\")"
   ]
  },
  {
   "cell_type": "code",
   "execution_count": 38,
   "id": "8ed1563c",
   "metadata": {},
   "outputs": [
    {
     "data": {
      "text/html": [
       "<div>\n",
       "<style scoped>\n",
       "    .dataframe tbody tr th:only-of-type {\n",
       "        vertical-align: middle;\n",
       "    }\n",
       "\n",
       "    .dataframe tbody tr th {\n",
       "        vertical-align: top;\n",
       "    }\n",
       "\n",
       "    .dataframe thead th {\n",
       "        text-align: right;\n",
       "    }\n",
       "</style>\n",
       "<table border=\"1\" class=\"dataframe\">\n",
       "  <thead>\n",
       "    <tr style=\"text-align: right;\">\n",
       "      <th></th>\n",
       "      <th>codigo_MR</th>\n",
       "      <th>precio_unitario</th>\n",
       "      <th>carga_trabajo</th>\n",
       "      <th>parcial</th>\n",
       "      <th>precio_unitario_actualizado</th>\n",
       "      <th>parcial_actualizado</th>\n",
       "    </tr>\n",
       "  </thead>\n",
       "  <tbody>\n",
       "    <tr>\n",
       "      <th>0</th>\n",
       "      <td>MR104</td>\n",
       "      <td>17.50</td>\n",
       "      <td>71.20</td>\n",
       "      <td>1246.0000</td>\n",
       "      <td>20.170650</td>\n",
       "      <td>1436.150265</td>\n",
       "    </tr>\n",
       "    <tr>\n",
       "      <th>1</th>\n",
       "      <td>MR601</td>\n",
       "      <td>2.10</td>\n",
       "      <td>39.73</td>\n",
       "      <td>83.4330</td>\n",
       "      <td>2.420478</td>\n",
       "      <td>96.165590</td>\n",
       "    </tr>\n",
       "    <tr>\n",
       "      <th>2</th>\n",
       "      <td>MR203</td>\n",
       "      <td>5.25</td>\n",
       "      <td>333.36</td>\n",
       "      <td>1750.1400</td>\n",
       "      <td>6.051195</td>\n",
       "      <td>2017.226344</td>\n",
       "    </tr>\n",
       "    <tr>\n",
       "      <th>3</th>\n",
       "      <td>MR103</td>\n",
       "      <td>21.00</td>\n",
       "      <td>20.03</td>\n",
       "      <td>420.6300</td>\n",
       "      <td>24.204780</td>\n",
       "      <td>484.821738</td>\n",
       "    </tr>\n",
       "    <tr>\n",
       "      <th>4</th>\n",
       "      <td>MR101</td>\n",
       "      <td>265.30</td>\n",
       "      <td>7.95</td>\n",
       "      <td>2109.1350</td>\n",
       "      <td>305.787051</td>\n",
       "      <td>2431.007054</td>\n",
       "    </tr>\n",
       "    <tr>\n",
       "      <th>5</th>\n",
       "      <td>MR401</td>\n",
       "      <td>11.42</td>\n",
       "      <td>15.97</td>\n",
       "      <td>182.3774</td>\n",
       "      <td>13.162790</td>\n",
       "      <td>210.209752</td>\n",
       "    </tr>\n",
       "    <tr>\n",
       "      <th>6</th>\n",
       "      <td>MR301</td>\n",
       "      <td>0.14</td>\n",
       "      <td>31230.64</td>\n",
       "      <td>4372.2896</td>\n",
       "      <td>0.161365</td>\n",
       "      <td>5039.538416</td>\n",
       "    </tr>\n",
       "    <tr>\n",
       "      <th>7</th>\n",
       "      <td>MR102</td>\n",
       "      <td>10.27</td>\n",
       "      <td>2558.43</td>\n",
       "      <td>26275.0761</td>\n",
       "      <td>11.837290</td>\n",
       "      <td>30284.877607</td>\n",
       "    </tr>\n",
       "    <tr>\n",
       "      <th>8</th>\n",
       "      <td>MR701</td>\n",
       "      <td>43.75</td>\n",
       "      <td>17.16</td>\n",
       "      <td>750.7500</td>\n",
       "      <td>50.426624</td>\n",
       "      <td>865.320876</td>\n",
       "    </tr>\n",
       "    <tr>\n",
       "      <th>9</th>\n",
       "      <td>MR206</td>\n",
       "      <td>3.60</td>\n",
       "      <td>237.37</td>\n",
       "      <td>854.5320</td>\n",
       "      <td>4.149391</td>\n",
       "      <td>984.940897</td>\n",
       "    </tr>\n",
       "  </tbody>\n",
       "</table>\n",
       "</div>"
      ],
      "text/plain": [
       "  codigo_MR  precio_unitario  carga_trabajo     parcial  \\\n",
       "0     MR104            17.50          71.20   1246.0000   \n",
       "1     MR601             2.10          39.73     83.4330   \n",
       "2     MR203             5.25         333.36   1750.1400   \n",
       "3     MR103            21.00          20.03    420.6300   \n",
       "4     MR101           265.30           7.95   2109.1350   \n",
       "5     MR401            11.42          15.97    182.3774   \n",
       "6     MR301             0.14       31230.64   4372.2896   \n",
       "7     MR102            10.27        2558.43  26275.0761   \n",
       "8     MR701            43.75          17.16    750.7500   \n",
       "9     MR206             3.60         237.37    854.5320   \n",
       "\n",
       "   precio_unitario_actualizado  parcial_actualizado  \n",
       "0                    20.170650          1436.150265  \n",
       "1                     2.420478            96.165590  \n",
       "2                     6.051195          2017.226344  \n",
       "3                    24.204780           484.821738  \n",
       "4                   305.787051          2431.007054  \n",
       "5                    13.162790           210.209752  \n",
       "6                     0.161365          5039.538416  \n",
       "7                    11.837290         30284.877607  \n",
       "8                    50.426624           865.320876  \n",
       "9                     4.149391           984.940897  "
      ]
     },
     "execution_count": 38,
     "metadata": {},
     "output_type": "execute_result"
    }
   ],
   "source": [
    "df_cargas_trabajo_expediente.head(10)"
   ]
  },
  {
   "cell_type": "code",
   "execution_count": 39,
   "id": "b532ac06",
   "metadata": {},
   "outputs": [
    {
     "name": "stdout",
     "output_type": "stream",
     "text": [
      "59504.8\n"
     ]
    }
   ],
   "source": [
    "pago_costo_total_contratista = calculadora_costo_total(costo_directo_actualizado)\n",
    "print(pago_costo_total_contratista[\"total\"])"
   ]
  },
  {
   "cell_type": "code",
   "execution_count": 40,
   "id": "51d9a840",
   "metadata": {},
   "outputs": [
    {
     "name": "stdout",
     "output_type": "stream",
     "text": [
      "{'MR101': 305.78705076104774,\n",
      " 'MR102': 11.837289903188692,\n",
      " 'MR103': 24.204779743618552,\n",
      " 'MR104': 20.170649786348793,\n",
      " 'MR203': 6.051194935904638,\n",
      " 'MR206': 4.1493908131917525,\n",
      " 'MR301': 0.16136519829079038,\n",
      " 'MR401': 13.162789746291613,\n",
      " 'MR601': 2.4204779743618556,\n",
      " 'MR701': 50.42662446587199}\n"
     ]
    }
   ],
   "source": [
    "dict_precios_unitarios_actualizados = dict(\n",
    "    zip(\n",
    "        df_cargas_trabajo_expediente[\"codigo_MR\"],\n",
    "        df_cargas_trabajo_expediente[\"precio_unitario_actualizado\"],\n",
    "    )\n",
    ")\n",
    "\n",
    "pprint.pprint(dict_precios_unitarios_actualizados)"
   ]
  },
  {
   "cell_type": "markdown",
   "id": "ba5e08d9",
   "metadata": {},
   "source": [
    "### Cálculo de pago de acuerdo a cargas de trabajo\n"
   ]
  },
  {
   "cell_type": "code",
   "execution_count": 41,
   "id": "93294446",
   "metadata": {},
   "outputs": [
    {
     "name": "stdout",
     "output_type": "stream",
     "text": [
      "{'MR101': 302.7291802534373,\n",
      " 'MR102': 3822.2609097396285,\n",
      " 'MR103': 121.26594651552894,\n",
      " 'MR104': 205.13550832716723,\n",
      " 'MR203': 268.97561490096115,\n",
      " 'MR206': 140.7058424753323,\n",
      " 'MR301': 629.9423020435362,\n",
      " 'MR701': 172.96332191794093}\n"
     ]
    }
   ],
   "source": [
    "pago_costo_directo_parciales_contratista = calcular_costos_unitarios(\n",
    "    dict_precios_unitarios_actualizados, cargas_trabajo_contratista\n",
    ")\n",
    "pprint.pprint(pago_costo_directo_parciales_contratista)"
   ]
  },
  {
   "cell_type": "markdown",
   "id": "8ffbf13b",
   "metadata": {},
   "source": [
    "##### Visualizacion en dataframe\n"
   ]
  },
  {
   "cell_type": "code",
   "execution_count": 42,
   "id": "be601e52",
   "metadata": {},
   "outputs": [
    {
     "data": {
      "text/html": [
       "<div>\n",
       "<style scoped>\n",
       "    .dataframe tbody tr th:only-of-type {\n",
       "        vertical-align: middle;\n",
       "    }\n",
       "\n",
       "    .dataframe tbody tr th {\n",
       "        vertical-align: top;\n",
       "    }\n",
       "\n",
       "    .dataframe thead th {\n",
       "        text-align: right;\n",
       "    }\n",
       "</style>\n",
       "<table border=\"1\" class=\"dataframe\">\n",
       "  <thead>\n",
       "    <tr style=\"text-align: right;\">\n",
       "      <th></th>\n",
       "      <th>codigo_MR</th>\n",
       "      <th>monto_pago</th>\n",
       "    </tr>\n",
       "  </thead>\n",
       "  <tbody>\n",
       "    <tr>\n",
       "      <th>0</th>\n",
       "      <td>MR206</td>\n",
       "      <td>140.705842</td>\n",
       "    </tr>\n",
       "    <tr>\n",
       "      <th>1</th>\n",
       "      <td>MR203</td>\n",
       "      <td>268.975615</td>\n",
       "    </tr>\n",
       "    <tr>\n",
       "      <th>2</th>\n",
       "      <td>MR301</td>\n",
       "      <td>629.942302</td>\n",
       "    </tr>\n",
       "    <tr>\n",
       "      <th>3</th>\n",
       "      <td>MR101</td>\n",
       "      <td>302.729180</td>\n",
       "    </tr>\n",
       "    <tr>\n",
       "      <th>4</th>\n",
       "      <td>MR104</td>\n",
       "      <td>205.135508</td>\n",
       "    </tr>\n",
       "    <tr>\n",
       "      <th>5</th>\n",
       "      <td>MR103</td>\n",
       "      <td>121.265947</td>\n",
       "    </tr>\n",
       "    <tr>\n",
       "      <th>6</th>\n",
       "      <td>MR102</td>\n",
       "      <td>3822.260910</td>\n",
       "    </tr>\n",
       "    <tr>\n",
       "      <th>7</th>\n",
       "      <td>MR701</td>\n",
       "      <td>172.963322</td>\n",
       "    </tr>\n",
       "  </tbody>\n",
       "</table>\n",
       "</div>"
      ],
      "text/plain": [
       "  codigo_MR   monto_pago\n",
       "0     MR206   140.705842\n",
       "1     MR203   268.975615\n",
       "2     MR301   629.942302\n",
       "3     MR101   302.729180\n",
       "4     MR104   205.135508\n",
       "5     MR103   121.265947\n",
       "6     MR102  3822.260910\n",
       "7     MR701   172.963322"
      ]
     },
     "execution_count": 42,
     "metadata": {},
     "output_type": "execute_result"
    }
   ],
   "source": [
    "df_pago_costo_directo_parciales_contratista = pd.DataFrame.from_dict(\n",
    "    pago_costo_directo_parciales_contratista, orient=\"index\"\n",
    ")\n",
    "\n",
    "df_pago_costo_directo_parciales_contratista = (\n",
    "    df_pago_costo_directo_parciales_contratista.reset_index().rename(\n",
    "        columns={\"index\": \"codigo_MR\"}\n",
    "    )\n",
    ")\n",
    "\n",
    "df_pago_costo_directo_parciales_contratista = (\n",
    "    df_pago_costo_directo_parciales_contratista.rename(columns={0: \"monto_pago\"})\n",
    ")\n",
    "\n",
    "df_pago_costo_directo_parciales_contratista"
   ]
  },
  {
   "cell_type": "code",
   "execution_count": 43,
   "id": "124db32b",
   "metadata": {},
   "outputs": [
    {
     "name": "stdout",
     "output_type": "stream",
     "text": [
      "\n",
      "DataFrame Ordenado por 'monto_pago' (ascendente):\n",
      "  codigo_MR   monto_pago\n",
      "6     MR102  3822.260910\n",
      "2     MR301   629.942302\n",
      "3     MR101   302.729180\n",
      "1     MR203   268.975615\n",
      "4     MR104   205.135508\n",
      "7     MR701   172.963322\n",
      "0     MR206   140.705842\n",
      "5     MR103   121.265947\n"
     ]
    }
   ],
   "source": [
    "# Ordenar el DataFrame por la columna 'monto_pago'\n",
    "# Por defecto, el orden es ascendente (de menor a mayor)\n",
    "df_ordenado = df_pago_costo_directo_parciales_contratista.sort_values(\n",
    "    by=\"monto_pago\", ascending=False\n",
    ")\n",
    "\n",
    "print(\"\\nDataFrame Ordenado por 'monto_pago' (ascendente):\")\n",
    "print(df_ordenado)"
   ]
  },
  {
   "cell_type": "code",
   "execution_count": 44,
   "id": "a6b2bc35",
   "metadata": {},
   "outputs": [],
   "source": [
    "# Lambda que suma todos los valores de un diccionario\n",
    "sumar_valores = lambda d: sum(d.values())"
   ]
  },
  {
   "cell_type": "code",
   "execution_count": 45,
   "id": "8ec2741f",
   "metadata": {},
   "outputs": [
    {
     "name": "stdout",
     "output_type": "stream",
     "text": [
      "5663.978626173533\n"
     ]
    }
   ],
   "source": [
    "pago_costo_directo_contratista = sumar_valores(pago_costo_directo_parciales_contratista)\n",
    "print(pago_costo_directo_contratista)"
   ]
  },
  {
   "cell_type": "code",
   "execution_count": 46,
   "id": "a02e99b6",
   "metadata": {},
   "outputs": [
    {
     "name": "stdout",
     "output_type": "stream",
     "text": [
      "7686.02\n"
     ]
    }
   ],
   "source": [
    "pago_costo_total_contratista = calculadora_costo_total(pago_costo_directo_contratista)\n",
    "print(pago_costo_total_contratista[\"total\"])"
   ]
  },
  {
   "cell_type": "markdown",
   "id": "a6981349",
   "metadata": {},
   "source": [
    "##### Validación\n"
   ]
  },
  {
   "cell_type": "code",
   "execution_count": 47,
   "id": "49fdb8ec",
   "metadata": {},
   "outputs": [
    {
     "name": "stdout",
     "output_type": "stream",
     "text": [
      "{'diferencia_costos': 0.019999999999527063,\n",
      " 'ejecutado': 7686.02,\n",
      " 'programado': 7686.04}\n"
     ]
    }
   ],
   "source": [
    "diferencia_costos = abs(\n",
    "    pago_costo_total_contratista[\"total\"]\n",
    "    - desembolso_current_month[\"mantenimiento_con_igv\"]\n",
    ")\n",
    "\n",
    "pprint.pprint(\n",
    "    {\n",
    "        \"diferencia_costos\": diferencia_costos,\n",
    "        \"ejecutado\": pago_costo_total_contratista[\"total\"],\n",
    "        \"programado\": desembolso_current_month[\"mantenimiento_con_igv\"],\n",
    "    }\n",
    ")\n",
    "\n",
    "if diferencia_costos > 1:\n",
    "    raise ValueError(\n",
    "        \"La valorizacion de las actividades presentadas por el contratista no es coherente con lo programado\"\n",
    "    )"
   ]
  },
  {
   "cell_type": "markdown",
   "id": "02a4abcd",
   "metadata": {},
   "source": [
    "### Ordenando cargas de trabajo"
   ]
  },
  {
   "cell_type": "code",
   "execution_count": 48,
   "id": "30481fde",
   "metadata": {},
   "outputs": [
    {
     "name": "stdout",
     "output_type": "stream",
     "text": [
      "[{'key': 'MR101', 'value': 0.99375},\n",
      " {'key': 'MR102', 'value': 328.0038461538461},\n",
      " {'key': 'MR103', 'value': 5.0075},\n",
      " {'key': 'MR104', 'value': 10.17142857142857},\n",
      " {'key': 'MR201', 'value': 0.0},\n",
      " {'key': 'MR202', 'value': 0.0},\n",
      " {'key': 'MR203', 'value': 44.448},\n",
      " {'key': 'MR204', 'value': 0.0},\n",
      " {'key': 'MR205', 'value': 0.0},\n",
      " {'key': 'MR206', 'value': 33.91},\n",
      " {'key': 'MR301', 'value': 3903.83},\n",
      " {'key': 'MR401', 'value': 0.0},\n",
      " {'key': 'MR501', 'value': 0.0},\n",
      " {'key': 'MR601', 'value': 0.0},\n",
      " {'key': 'MR701', 'value': 3.4320000000000004},\n",
      " {'key': 'MR702', 'value': 0.0}]\n"
     ]
    }
   ],
   "source": [
    "cargas_trabajo_ordenadas=ordenar_por_centena(cargas_trabajo_programadas_current_month)\n",
    "pprint.pprint(cargas_trabajo_ordenadas)"
   ]
  },
  {
   "cell_type": "markdown",
   "id": "5df629e1",
   "metadata": {},
   "source": [
    "## Escribiendo el excel"
   ]
  },
  {
   "cell_type": "markdown",
   "id": "388e6d89",
   "metadata": {},
   "source": [
    "### Path"
   ]
  },
  {
   "cell_type": "code",
   "execution_count": 49,
   "id": "ba966562",
   "metadata": {},
   "outputs": [],
   "source": [
    "# Ruta dinámica\n",
    "ruta_directorio = os.path.join(\"output\", proyecto, str(mes))\n",
    "ruta_archivo = os.path.join(ruta_directorio, \"cargas_trabajo.xlsx\")\n",
    "# Crear carpetas si no existen\n",
    "os.makedirs(ruta_directorio, exist_ok=True)\n",
    "\n",
    "wb = xlsxwriter.Workbook(ruta_archivo)\n",
    "ws=wb.add_worksheet(\"cargas_trabajo\")"
   ]
  },
  {
   "cell_type": "markdown",
   "id": "bfb04284",
   "metadata": {},
   "source": [
    "### Formatos"
   ]
  },
  {
   "cell_type": "code",
   "execution_count": 50,
   "id": "bb211bb1",
   "metadata": {},
   "outputs": [],
   "source": [
    "# 1. Propiedades base\n",
    "BASE_CELL = {\n",
    "    \"valign\": \"vcenter\",\n",
    "    \"border\": 1,\n",
    "}\n",
    "\n",
    "BASE_HEADER = {\n",
    "    **BASE_CELL,\n",
    "    \"bold\": True,\n",
    "}\n",
    "\n",
    "BG_HEADER = \"#D9E1F2\"\n",
    "BG_TABLE = \"#C5D9F1\"\n",
    "\n",
    "\n",
    "# 2. Función de helper para crear formatos\n",
    "def fmt(wb, **props):\n",
    "    cfg = {}\n",
    "    # parte genérica\n",
    "    cfg.update(props)\n",
    "    return wb.add_format(cfg)\n",
    "\n",
    "\n",
    "# 3. Diccionario de formatos\n",
    "formats = {\n",
    "    # encabezados\n",
    "    \"header\": {\"align\": \"center\", \"bg_color\": BG_HEADER, **BASE_HEADER},\n",
    "    \"header2\": {\"align\": \"left\", **BASE_HEADER},\n",
    "    \"header_label\": {\"align\": \"center\", **BASE_HEADER},\n",
    "    # formato vertical header\n",
    "    \"header_vertical\": {\n",
    "        **BASE_HEADER,\n",
    "        \"bold\": True,\n",
    "        \"align\": \"center\",\n",
    "        \"valign\": \"vcenter\",\n",
    "        \"bg_color\": BG_HEADER,\n",
    "        \"rotation\": 90,  # <— ¡aquí está el giro!\n",
    "    },\n",
    "    # encabezados de tabla\n",
    "    \"table_header\": {\n",
    "        \"align\": \"center\",\n",
    "        \"text_wrap\": True,\n",
    "        \"shrink\": True,\n",
    "        \"bg_color\": BG_TABLE,\n",
    "        **BASE_CELL,\n",
    "    },\n",
    "    \"table_header_int\": {\"align\": \"center\", \"bg_color\": BG_TABLE, **BASE_CELL},\n",
    "    # celdas numéricas y de texto\n",
    "    \"cell\": {\"font_size\": 8, \"num_format\": \"#,##0.00\", **BASE_CELL},\n",
    "    # \"cell\": {\"font_size\": 8, \"num_format\": \"#,##0.00\", **BASE_CELL},\n",
    "    \"cell_int\": {\"num_format\": \"#,##0\", **BASE_CELL},\n",
    "    \"cell_number\": {\"num_format\": \"#,##0.00\", **BASE_CELL},\n",
    "    \"cell_number_percent\": {\n",
    "        \"num_format\": \"#,##0.00%\",\n",
    "        \"align\": \"right\",\n",
    "        **BASE_CELL,\n",
    "    },\n",
    "    \"cell_text\": {\"align\": \"left\", \"text_wrap\": True, \"shrink\": True, **BASE_CELL},\n",
    "    \"cell_right\": {\"align\": \"right\", **BASE_CELL},\n",
    "    # sumas\n",
    "    \"suma\": {\"num_format\": \"#,##0.00\", **BASE_CELL},\n",
    "    # soles\n",
    "    \"soles_color\": {\n",
    "        \"bold\": True,\n",
    "        \"bg_color\": BG_HEADER,\n",
    "        \"num_format\": '\"S/.\" #,##0.00',\n",
    "        **BASE_CELL,\n",
    "    },\n",
    "    \"soles\": {\"num_format\": '\"S/.\" #,##0.00', **BASE_CELL},\n",
    "    # formato de ajuste general\n",
    "    \"ajustar\": {\"align\": \"center\", \"text_wrap\": True, \"shrink\": True, **BASE_CELL},\n",
    "    \"only_border\": {\n",
    "        \"border\": 1,\n",
    "    },\n",
    "}\n",
    "\n",
    "# 4. Creación dinámica de los objetos Format\n",
    "wb_formats = {name: fmt(wb, **props) for name, props in formats.items()}\n",
    "\n",
    "# Ahora sólo usa wb_formats[\"header\"], wb_formats[\"cell_text\"], etc."
   ]
  },
  {
   "cell_type": "code",
   "execution_count": 51,
   "id": "b14a3efa",
   "metadata": {},
   "outputs": [],
   "source": [
    "# Punto de inserción (cero-indexed)\n",
    "table_start_row = 1   # si quieres que empiece en la fila 7\n",
    "table_start_col = 1   # si quieres que empiece en la columna B"
   ]
  },
  {
   "cell_type": "markdown",
   "id": "f0c97c0d",
   "metadata": {},
   "source": [
    "### Escritores de excel"
   ]
  },
  {
   "cell_type": "code",
   "execution_count": 52,
   "id": "b2b33792",
   "metadata": {},
   "outputs": [],
   "source": [
    "def merge(ws, r1, c1, r2, c2, valor, fmt):\n",
    "    \"\"\"Merge relative a table_start_* + offsets.\"\"\"\n",
    "    ws.merge_range(\n",
    "        xl_range(table_start_row + r1,\n",
    "                 table_start_col + c1,\n",
    "                 table_start_row + r2,\n",
    "                 table_start_col + c2),\n",
    "        valor, fmt\n",
    "    )"
   ]
  },
  {
   "cell_type": "code",
   "execution_count": 53,
   "id": "1bbf6229",
   "metadata": {},
   "outputs": [],
   "source": [
    "def write_rel(ws, row_offset, col_offset, value, fmt=None):\n",
    "    \"\"\"\n",
    "    Escribe en la celda (table_start_row + row_offset, table_start_col + col_offset)\n",
    "    \"\"\"\n",
    "    abs_row = table_start_row + row_offset\n",
    "    abs_col = table_start_col + col_offset\n",
    "    ws.write(abs_row, abs_col, value, fmt)"
   ]
  },
  {
   "cell_type": "code",
   "execution_count": 54,
   "id": "d0cf0dd6",
   "metadata": {},
   "outputs": [],
   "source": [
    "def merge_xy(ws, start: tuple[int,int], end: tuple[int,int], value, fmt):\n",
    "    \"\"\"\n",
    "    Merge de celdas desde start=(x1, y1) hasta end=(x2, y2),\n",
    "    relativas a table_start_col/row.\n",
    "    \"\"\"\n",
    "    (x1, y1), (x2, y2) = start, end\n",
    "    ws.merge_range(\n",
    "        xl_range(\n",
    "            table_start_row + y1,  # row1 absoluto\n",
    "            table_start_col + x1,  # col1 absoluto\n",
    "            table_start_row + y2,  # row2 absoluto\n",
    "            table_start_col + x2,  # col2 absoluto\n",
    "        ),\n",
    "        value, fmt\n",
    "    )\n",
    "\n",
    "def write_xy(ws, pos: tuple[int,int], value, fmt=None):\n",
    "    \"\"\"\n",
    "    Escribe un valor en pos=(x, y) relativa a table_start_col/row.\n",
    "    \"\"\"\n",
    "    x, y = pos\n",
    "    ws.write(\n",
    "        table_start_row + y,\n",
    "        table_start_col + x,\n",
    "        value, fmt\n",
    "    )"
   ]
  },
  {
   "cell_type": "code",
   "execution_count": 55,
   "id": "6863e9ee",
   "metadata": {},
   "outputs": [],
   "source": [
    "def set_columns_rel(ws, rel_col_widths):\n",
    "    \"\"\"\n",
    "    Aplica ws.set_column a rangos de columnas definidos\n",
    "    en coordenadas relativas (x) a table_start_col.\n",
    "    rel_col_widths: lista de tuplas (first_rel, last_rel, width)\n",
    "    \"\"\"\n",
    "    for first_rel, last_rel, width in rel_col_widths:\n",
    "        abs_first = table_start_col + first_rel\n",
    "        abs_last  = table_start_col + last_rel\n",
    "        ws.set_column(abs_first, abs_last, width)"
   ]
  },
  {
   "cell_type": "markdown",
   "id": "529c0227",
   "metadata": {},
   "source": [
    "### Anchos de columnas"
   ]
  },
  {
   "cell_type": "code",
   "execution_count": 56,
   "id": "b7e654a6",
   "metadata": {},
   "outputs": [],
   "source": [
    "col_widths_rel = [\n",
    "    (0, 0, 8),  # columna B en adelante:  B–B ancho=8\n",
    "    (1, 1, 12),  # C–C ancho=30\n",
    "    (2, 2, 30),  # D–H ancho=8\n",
    "    (3, 3, 12),  # I–T ancho=8\n",
    "    (4, 4, 10),  # U–U ancho=10\n",
    "    (5, 5, 10),  # U–U ancho=10\n",
    "    (6, 6, 14),  # U–U ancho=10\n",
    "    (7, 7, 14),\n",
    "]\n",
    "\n",
    "set_columns_rel(ws, col_widths_rel)"
   ]
  },
  {
   "cell_type": "markdown",
   "id": "a4f64ef1",
   "metadata": {},
   "source": [
    "### Comenzando a escribir el excel"
   ]
  },
  {
   "cell_type": "markdown",
   "id": "50914dfa",
   "metadata": {},
   "source": [
    "#### Encabezados de la tabla"
   ]
  },
  {
   "cell_type": "code",
   "execution_count": 57,
   "id": "2c1d538e",
   "metadata": {},
   "outputs": [],
   "source": [
    "merge_xy(ws, (0, 0), (0, 1), \"N.º\", wb_formats[\"header\"])\n",
    "merge_xy(ws, (1, 0), (1, 1), \"Código\", wb_formats[\"header\"])\n",
    "merge_xy(ws, (2, 0), (2, 1), \"Actividades\", wb_formats[\"header\"])\n",
    "\n",
    "merge_xy(ws, (3, 0), (3, 1), \"Unidad\", wb_formats[\"header\"])\n",
    "\n",
    "merge_xy(ws, (4, 0), (5, 0), \"Cargas de trabajo\", wb_formats[\"header\"])\n",
    "\n",
    "write_xy(ws, (4, 1), \"Programación\", wb_formats[\"header_vertical\"])\n",
    "write_xy(ws, (5, 1), \"Ejecución\", wb_formats[\"header_vertical\"])\n",
    "\n",
    "merge_xy(ws, (6, 0), (6, 1), \"Avance\", wb_formats[\"header\"])\n",
    "merge_xy(ws, (7, 0), (7, 1), \"Progresivas\", wb_formats[\"header\"])"
   ]
  },
  {
   "cell_type": "markdown",
   "id": "d8740714",
   "metadata": {},
   "source": [
    "#### Contenido de la tabla:"
   ]
  },
  {
   "cell_type": "code",
   "execution_count": 58,
   "id": "27934309",
   "metadata": {},
   "outputs": [],
   "source": [
    "current_col = 0\n",
    "current_row = 2"
   ]
  },
  {
   "cell_type": "code",
   "execution_count": 59,
   "id": "be09d62c",
   "metadata": {},
   "outputs": [
    {
     "name": "stdout",
     "output_type": "stream",
     "text": [
      "Valores entre 100 al 199!\n",
      "  MR101: 0.99375\n",
      "{'key': 'MR100', 'value': {'label': 'Conservación de calzada', 'value': [{'key': 'MR101', 'value': {'label': 'Limpieza de calzada', 'carga_trabajo': 0, 'unidad': 'Km'}}, {'key': 'MR102', 'value': {'label': 'Bacheo', 'carga_trabajo': 0, 'unidad': 'm2'}}, {'key': 'MR103', 'value': {'label': 'Desquinche', 'carga_trabajo': 0, 'unidad': 'm3'}}, {'key': 'MR104', 'value': {'label': 'Remoción de derrumbes', 'carga_trabajo': 0, 'unidad': 'm3'}}]}}\n",
      "  MR102: 328.0038461538461\n",
      "{'key': 'MR100', 'value': {'label': 'Conservación de calzada', 'value': [{'key': 'MR101', 'value': {'label': 'Limpieza de calzada', 'carga_trabajo': 0, 'unidad': 'Km'}}, {'key': 'MR102', 'value': {'label': 'Bacheo', 'carga_trabajo': 0, 'unidad': 'm2'}}, {'key': 'MR103', 'value': {'label': 'Desquinche', 'carga_trabajo': 0, 'unidad': 'm3'}}, {'key': 'MR104', 'value': {'label': 'Remoción de derrumbes', 'carga_trabajo': 0, 'unidad': 'm3'}}]}}\n",
      "  MR103: 5.0075\n",
      "{'key': 'MR100', 'value': {'label': 'Conservación de calzada', 'value': [{'key': 'MR101', 'value': {'label': 'Limpieza de calzada', 'carga_trabajo': 0, 'unidad': 'Km'}}, {'key': 'MR102', 'value': {'label': 'Bacheo', 'carga_trabajo': 0, 'unidad': 'm2'}}, {'key': 'MR103', 'value': {'label': 'Desquinche', 'carga_trabajo': 0, 'unidad': 'm3'}}, {'key': 'MR104', 'value': {'label': 'Remoción de derrumbes', 'carga_trabajo': 0, 'unidad': 'm3'}}]}}\n",
      "  MR104: 10.17142857142857\n",
      "{'key': 'MR100', 'value': {'label': 'Conservación de calzada', 'value': [{'key': 'MR101', 'value': {'label': 'Limpieza de calzada', 'carga_trabajo': 0, 'unidad': 'Km'}}, {'key': 'MR102', 'value': {'label': 'Bacheo', 'carga_trabajo': 0, 'unidad': 'm2'}}, {'key': 'MR103', 'value': {'label': 'Desquinche', 'carga_trabajo': 0, 'unidad': 'm3'}}, {'key': 'MR104', 'value': {'label': 'Remoción de derrumbes', 'carga_trabajo': 0, 'unidad': 'm3'}}]}}\n",
      "Valores entre 200 al 299!\n",
      "  MR201: 0.0\n",
      "{'key': 'MR200', 'value': {'label': 'Limpieza de obras de arte', 'value': [{'key': 'MR201', 'value': {'label': 'Limpieza de cunetas', 'carga_trabajo': 1440, 'unidad': 'm'}}, {'key': 'MR202', 'value': {'label': 'Limpieza de alcantarillas', 'carga_trabajo': 0, 'unidad': 'unidad'}}, {'key': 'MR203', 'value': {'label': 'Limpieza de badén', 'carga_trabajo': 0, 'unidad': 'm2'}}, {'key': 'MR204', 'value': {'label': 'Limpieza de zanjas de coronación', 'carga_trabajo': 0, 'unidad': 'm'}}, {'key': 'MR205', 'value': {'label': 'Limpieza de pontones', 'carga_trabajo': 0, 'unidad': 'unidad'}}, {'key': 'MR206', 'value': {'label': 'Encausamiento de pequeños cursos de agua', 'carga_trabajo': 0, 'unidad': 'm'}}]}}\n",
      "  MR202: 0.0\n",
      "{'key': 'MR200', 'value': {'label': 'Limpieza de obras de arte', 'value': [{'key': 'MR201', 'value': {'label': 'Limpieza de cunetas', 'carga_trabajo': 1440, 'unidad': 'm'}}, {'key': 'MR202', 'value': {'label': 'Limpieza de alcantarillas', 'carga_trabajo': 0, 'unidad': 'unidad'}}, {'key': 'MR203', 'value': {'label': 'Limpieza de badén', 'carga_trabajo': 0, 'unidad': 'm2'}}, {'key': 'MR204', 'value': {'label': 'Limpieza de zanjas de coronación', 'carga_trabajo': 0, 'unidad': 'm'}}, {'key': 'MR205', 'value': {'label': 'Limpieza de pontones', 'carga_trabajo': 0, 'unidad': 'unidad'}}, {'key': 'MR206', 'value': {'label': 'Encausamiento de pequeños cursos de agua', 'carga_trabajo': 0, 'unidad': 'm'}}]}}\n",
      "  MR203: 44.448\n",
      "{'key': 'MR200', 'value': {'label': 'Limpieza de obras de arte', 'value': [{'key': 'MR201', 'value': {'label': 'Limpieza de cunetas', 'carga_trabajo': 1440, 'unidad': 'm'}}, {'key': 'MR202', 'value': {'label': 'Limpieza de alcantarillas', 'carga_trabajo': 0, 'unidad': 'unidad'}}, {'key': 'MR203', 'value': {'label': 'Limpieza de badén', 'carga_trabajo': 0, 'unidad': 'm2'}}, {'key': 'MR204', 'value': {'label': 'Limpieza de zanjas de coronación', 'carga_trabajo': 0, 'unidad': 'm'}}, {'key': 'MR205', 'value': {'label': 'Limpieza de pontones', 'carga_trabajo': 0, 'unidad': 'unidad'}}, {'key': 'MR206', 'value': {'label': 'Encausamiento de pequeños cursos de agua', 'carga_trabajo': 0, 'unidad': 'm'}}]}}\n",
      "  MR204: 0.0\n",
      "{'key': 'MR200', 'value': {'label': 'Limpieza de obras de arte', 'value': [{'key': 'MR201', 'value': {'label': 'Limpieza de cunetas', 'carga_trabajo': 1440, 'unidad': 'm'}}, {'key': 'MR202', 'value': {'label': 'Limpieza de alcantarillas', 'carga_trabajo': 0, 'unidad': 'unidad'}}, {'key': 'MR203', 'value': {'label': 'Limpieza de badén', 'carga_trabajo': 0, 'unidad': 'm2'}}, {'key': 'MR204', 'value': {'label': 'Limpieza de zanjas de coronación', 'carga_trabajo': 0, 'unidad': 'm'}}, {'key': 'MR205', 'value': {'label': 'Limpieza de pontones', 'carga_trabajo': 0, 'unidad': 'unidad'}}, {'key': 'MR206', 'value': {'label': 'Encausamiento de pequeños cursos de agua', 'carga_trabajo': 0, 'unidad': 'm'}}]}}\n",
      "  MR205: 0.0\n",
      "{'key': 'MR200', 'value': {'label': 'Limpieza de obras de arte', 'value': [{'key': 'MR201', 'value': {'label': 'Limpieza de cunetas', 'carga_trabajo': 1440, 'unidad': 'm'}}, {'key': 'MR202', 'value': {'label': 'Limpieza de alcantarillas', 'carga_trabajo': 0, 'unidad': 'unidad'}}, {'key': 'MR203', 'value': {'label': 'Limpieza de badén', 'carga_trabajo': 0, 'unidad': 'm2'}}, {'key': 'MR204', 'value': {'label': 'Limpieza de zanjas de coronación', 'carga_trabajo': 0, 'unidad': 'm'}}, {'key': 'MR205', 'value': {'label': 'Limpieza de pontones', 'carga_trabajo': 0, 'unidad': 'unidad'}}, {'key': 'MR206', 'value': {'label': 'Encausamiento de pequeños cursos de agua', 'carga_trabajo': 0, 'unidad': 'm'}}]}}\n",
      "  MR206: 33.91\n",
      "{'key': 'MR200', 'value': {'label': 'Limpieza de obras de arte', 'value': [{'key': 'MR201', 'value': {'label': 'Limpieza de cunetas', 'carga_trabajo': 1440, 'unidad': 'm'}}, {'key': 'MR202', 'value': {'label': 'Limpieza de alcantarillas', 'carga_trabajo': 0, 'unidad': 'unidad'}}, {'key': 'MR203', 'value': {'label': 'Limpieza de badén', 'carga_trabajo': 0, 'unidad': 'm2'}}, {'key': 'MR204', 'value': {'label': 'Limpieza de zanjas de coronación', 'carga_trabajo': 0, 'unidad': 'm'}}, {'key': 'MR205', 'value': {'label': 'Limpieza de pontones', 'carga_trabajo': 0, 'unidad': 'unidad'}}, {'key': 'MR206', 'value': {'label': 'Encausamiento de pequeños cursos de agua', 'carga_trabajo': 0, 'unidad': 'm'}}]}}\n",
      "Valores entre 300 al 399!\n",
      "  MR301: 3903.83\n",
      "{'key': 'MR300', 'value': {'label': 'Control de vegetación', 'value': [{'key': 'MR301', 'value': {'label': 'Roce y limpieza', 'carga_trabajo': 0, 'unidad': 'm2'}}]}}\n",
      "Valores entre 400 al 499!\n",
      "  MR401: 0.0\n",
      "{'key': 'MR400', 'value': {'label': 'Seguridad vial', 'value': [{'key': 'MR401', 'value': {'label': 'Conservación de señales', 'carga_trabajo': 10, 'unidad': 'unidad'}}]}}\n",
      "Valores entre 500 al 599!\n",
      "  MR501: 0.0\n",
      "{'key': 'MR500', 'value': {'label': 'Medio ambiente', 'value': [{'key': 'MR501', 'value': {'label': 'Reforestación', 'carga_trabajo': 0, 'unidad': 'unidad'}}]}}\n",
      "Valores entre 600 al 699!\n",
      "  MR601: 0.0\n",
      "{'key': 'MR600', 'value': {'label': 'Vigilancia y control vial', 'value': [{'key': 'MR601', 'value': {'label': 'Vigilancia y control', 'carga_trabajo': 0, 'unidad': 'Km'}}]}}\n",
      "Valores entre 700 al 799!\n",
      "  MR701: 3.4320000000000004\n",
      "{'key': 'MR700', 'value': {'label': 'Actividades complementarias', 'value': [{'key': 'MR701', 'value': {'label': 'Reparación de muros secos', 'carga_trabajo': 0, 'unidad': 'm3'}}, {'key': 'MR702', 'value': {'label': 'Reparación de pontones', 'carga_trabajo': 0, 'unidad': 'unidad'}}]}}\n",
      "  MR702: 0.0\n",
      "{'key': 'MR700', 'value': {'label': 'Actividades complementarias', 'value': [{'key': 'MR701', 'value': {'label': 'Reparación de muros secos', 'carga_trabajo': 0, 'unidad': 'm3'}}, {'key': 'MR702', 'value': {'label': 'Reparación de pontones', 'carga_trabajo': 0, 'unidad': 'unidad'}}]}}\n"
     ]
    }
   ],
   "source": [
    "columnas_insertadas = 0\n",
    "\n",
    "impresos = set()\n",
    "\n",
    "contador_items = 1\n",
    "\n",
    "for grupo, elementos in itertools.groupby(cargas_trabajo_ordenadas, clave_grupo):\n",
    "    current_col = 0\n",
    "\n",
    "    # codigo=int(carga_trabajo['key'][2:])\n",
    "    # grupo=codigo//100\n",
    "    # print(grupo)\n",
    "\n",
    "    inicio = grupo * 100\n",
    "    fin = inicio + 99\n",
    "\n",
    "    print(f\"Valores entre {inicio} al {fin}!\")\n",
    "    resultado = next(\n",
    "        (item for item in actividades if item[\"key\"] == f\"MR{inicio}\"), None\n",
    "    )\n",
    "    # print(resultado)\n",
    "\n",
    "    write_xy(ws, (current_col, current_row), \"\", wb_formats[\"cell_text\"])  # numero\n",
    "    current_col += 1\n",
    "    write_xy(\n",
    "        ws, (current_col, current_row), resultado[\"key\"], wb_formats[\"cell_text\"]\n",
    "    )  # codigo\n",
    "    current_col += 1\n",
    "    write_xy(\n",
    "        ws,\n",
    "        (current_col, current_row),\n",
    "        resultado[\"value\"][\"label\"],\n",
    "        wb_formats[\"cell_text\"],\n",
    "    )  #\n",
    "\n",
    "    current_row += 1\n",
    "\n",
    "    for it in elementos:\n",
    "        current_col = 0\n",
    "        # print(f\"  {it['key']}: {it['value']}\")\n",
    "        print(f\"  {it['key']}: {it['value']}\")\n",
    "\n",
    "        resultado2 = next(\n",
    "            (item for item in resultado[\"value\"][\"value\"] if item[\"key\"] == it[\"key\"]),\n",
    "            None,\n",
    "        )\n",
    "        print(resultado)\n",
    "\n",
    "        write_xy(\n",
    "            ws, (current_col, current_row), contador_items, wb_formats[\"cell_int\"]\n",
    "        )  # numero\n",
    "        current_col += 1\n",
    "        write_xy(\n",
    "            ws, (current_col, current_row), resultado2[\"key\"], wb_formats[\"cell_text\"]\n",
    "        )\n",
    "        current_col += 1\n",
    "        write_xy(\n",
    "            ws,\n",
    "            (current_col, current_row),\n",
    "            resultado2[\"value\"][\"label\"],\n",
    "            wb_formats[\"cell_text\"],\n",
    "        )\n",
    "        current_col += 1\n",
    "        write_xy(\n",
    "            ws,\n",
    "            (current_col, current_row),\n",
    "            resultado2[\"value\"][\"unidad\"],\n",
    "            wb_formats[\"cell_text\"],\n",
    "        )\n",
    "        current_col += 1\n",
    "        write_xy(\n",
    "            ws,\n",
    "            (current_col, current_row),\n",
    "            cargas_trabajo_programadas_anualmente.loc[it[\"key\"], f\"{anio}-{mes:02d}\"],\n",
    "            wb_formats[\"cell_number\"],\n",
    "        )\n",
    "        current_col += 1\n",
    "        write_xy(\n",
    "            ws,\n",
    "            (current_col, current_row),\n",
    "            cargas_trabajo_contratista.get(it[\"key\"],0),\n",
    "            wb_formats[\"cell_number\"],\n",
    "        )\n",
    "        current_col += 1\n",
    "\n",
    "        avance = calcular_avance(\n",
    "            programado=cargas_trabajo_programadas_anualmente.loc[it[\"key\"], f\"{anio}-{mes:02d}\"],\n",
    "            ejecutado=cargas_trabajo_contratista.get(it[\"key\"],0),\n",
    "        )\n",
    "        write_xy(\n",
    "            ws,\n",
    "            (current_col, current_row),\n",
    "            avance,\n",
    "            wb_formats[\"cell_number_percent\"],\n",
    "        )\n",
    "        current_col += 1\n",
    "\n",
    "        progresivas = (\n",
    "            formatear_progresiva(progresiva_inicio)\n",
    "            + \" - \"\n",
    "            + formatear_progresiva(progresiva_fin)\n",
    "        )\n",
    "        write_xy(\n",
    "            ws,\n",
    "            (current_col, current_row),\n",
    "            progresivas,\n",
    "            wb_formats[\"cell_number_percent\"],\n",
    "        )\n",
    "        current_col += 1\n",
    "\n",
    "        #######3\n",
    "        contador_items += 1\n",
    "        current_row += 1"
   ]
  },
  {
   "cell_type": "code",
   "execution_count": 60,
   "id": "686c3455",
   "metadata": {},
   "outputs": [
    {
     "name": "stdout",
     "output_type": "stream",
     "text": [
      "25 8\n"
     ]
    }
   ],
   "source": [
    "print(current_row, current_col)"
   ]
  },
  {
   "cell_type": "code",
   "execution_count": 61,
   "id": "95aa598b",
   "metadata": {},
   "outputs": [
    {
     "name": "stdout",
     "output_type": "stream",
     "text": [
      "B2:I26\n"
     ]
    }
   ],
   "source": [
    "print(\n",
    "    xl_range(\n",
    "        table_start_row,\n",
    "        table_start_col,\n",
    "        table_start_row + current_row-1,\n",
    "        table_start_col+current_col-1,\n",
    "    ),\n",
    ")"
   ]
  },
  {
   "cell_type": "code",
   "execution_count": 62,
   "id": "654eb63f",
   "metadata": {},
   "outputs": [],
   "source": [
    "# # colocar grilla  a toda la tabla\n",
    "# ws.conditional_format(\n",
    "#     xl_range(\n",
    "#         table_start_row,\n",
    "#         table_start_col,\n",
    "#         table_start_row + current_row - 1,\n",
    "#         table_start_col + current_col - 1,\n",
    "#     ),\n",
    "#     {\"type\": \"no_errors\", \"format\": wb_formats[\"only_border\"]},\n",
    "# )"
   ]
  },
  {
   "cell_type": "code",
   "execution_count": 63,
   "id": "46749858",
   "metadata": {},
   "outputs": [],
   "source": [
    "# Función más robusta que aplica bordes sin afectar el contenido\n",
    "# def add_borders_to_existing_range(ws, wb, start_row, start_col, end_row, end_col):\n",
    "#     # Crear formato base con bordes\n",
    "#     for row in range(start_row, end_row + 1):\n",
    "#         for col in range(start_col, end_col + 1):\n",
    "#             # Usar write_blank para celdas que solo necesitan formato\n",
    "#             ws.write_blank(row, col, wb_formats[\"only_border\"])\n",
    "\n",
    "# # Llamar después de escribir todos tus datos\n",
    "# add_borders_to_existing_range(\n",
    "#     ws, wb,\n",
    "#     table_start_row,\n",
    "#     table_start_col,\n",
    "#     table_start_row + current_row - 1,\n",
    "#     table_start_col + current_col - 1\n",
    "# )"
   ]
  },
  {
   "cell_type": "code",
   "execution_count": 64,
   "id": "d566cef3",
   "metadata": {},
   "outputs": [],
   "source": [
    "# Guardar archivo\n",
    "wb.close()"
   ]
  },
  {
   "cell_type": "code",
   "execution_count": 65,
   "id": "79e1d5b2",
   "metadata": {},
   "outputs": [],
   "source": [
    "ruta_archivo = Path(ruta_archivo).resolve()"
   ]
  },
  {
   "cell_type": "code",
   "execution_count": 66,
   "id": "732c543c",
   "metadata": {},
   "outputs": [],
   "source": [
    "# Aplicar bordes con Excel\n",
    "excel = win32.Dispatch(\"Excel.Application\")\n",
    "excel.Visible = False\n",
    "\n",
    "workbook = excel.Workbooks.Open(ruta_archivo)\n",
    "worksheet = workbook.ActiveSheet\n",
    "\n",
    "# Seleccionar tu rango\n",
    "range_obj = worksheet.Range(\n",
    "    worksheet.Cells(table_start_row + 1, table_start_col + 1),\n",
    "    worksheet.Cells(table_start_row + current_row, table_start_col + current_col)\n",
    ")\n",
    "\n",
    "# Aplicar todos los bordes\n",
    "range_obj.Borders.LineStyle = 1\n",
    "range_obj.Borders.Weight = 2\n",
    "\n",
    "workbook.Save()\n",
    "workbook.Close()\n",
    "excel.Quit()\n"
   ]
  },
  {
   "cell_type": "markdown",
   "id": "4da14dd7",
   "metadata": {},
   "source": [
    "### Imprimiendo una imagen a partir del excel"
   ]
  },
  {
   "cell_type": "code",
   "execution_count": 67,
   "id": "ef816de7",
   "metadata": {},
   "outputs": [
    {
     "name": "stdout",
     "output_type": "stream",
     "text": [
      "Imagen generada: cargas_trabajo.png\n"
     ]
    }
   ],
   "source": [
    "# 1. Carga el libro y la hoja\n",
    "\n",
    "wb = load_workbook(ruta_archivo, data_only=True)\n",
    "ws = wb.active  # o wb[\"NombreHoja\"]\n",
    "\n",
    "# 2. Determina el rango usado\n",
    "min_row, min_col = ws.min_row, ws.min_column\n",
    "max_row, max_col = ws.max_row, ws.max_column\n",
    "rango = f\"{get_column_letter(min_col)}{min_row}:{get_column_letter(max_col)}{max_row}\"\n",
    "\n",
    "# 3. Exporta a PNG\n",
    "salida_png = f\"cargas_trabajo.png\"\n",
    "ruta_salida_image= os.path.join(ruta_directorio, salida_png)\n",
    "excel2img.export_img(ruta_archivo, ruta_salida_image, ws.title, rango)\n",
    "\n",
    "print(f\"Imagen generada: {salida_png}\")"
   ]
  }
 ],
 "metadata": {
  "kernelspec": {
   "display_name": "asignaciones-financieras-v2",
   "language": "python",
   "name": "python3"
  },
  "language_info": {
   "codemirror_mode": {
    "name": "ipython",
    "version": 3
   },
   "file_extension": ".py",
   "mimetype": "text/x-python",
   "name": "python",
   "nbconvert_exporter": "python",
   "pygments_lexer": "ipython3",
   "version": "3.12.4"
  }
 },
 "nbformat": 4,
 "nbformat_minor": 5
}
