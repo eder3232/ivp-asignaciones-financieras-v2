{
 "cells": [
  {
   "cell_type": "markdown",
   "id": "27faf011",
   "metadata": {},
   "source": [
    "# Asignaciones financieras\n"
   ]
  },
  {
   "cell_type": "markdown",
   "id": "ceeafbfb",
   "metadata": {},
   "source": [
    "## Datos de proyecto en análisis\n"
   ]
  },
  {
   "cell_type": "code",
   "execution_count": 1,
   "id": "71833bfa",
   "metadata": {},
   "outputs": [],
   "source": [
    "proyecto=\"callacalla\"\n",
    "mes=5\n",
    "anio=2025"
   ]
  },
  {
   "cell_type": "markdown",
   "id": "0414ab72",
   "metadata": {},
   "source": [
    "## Librerias necesarias\n"
   ]
  },
  {
   "cell_type": "code",
   "execution_count": 30,
   "id": "932ebbf3",
   "metadata": {},
   "outputs": [],
   "source": [
    "import pandas as pd\n",
    "import os\n",
    "import pprint\n",
    "import pickle\n",
    "import json\n",
    "import xlsxwriter\n",
    "from xlsxwriter.utility import xl_range, xl_rowcol_to_cell\n",
    "import re\n",
    "from typing import Dict, List, Any\n",
    "import itertools\n",
    "from pathlib import Path\n",
    "from dotenv import load_dotenv, find_dotenv\n",
    "from google.oauth2 import service_account\n",
    "from google.cloud import firestore\n",
    "import excel2img\n",
    "from dotenv import load_dotenv, find_dotenv\n",
    "from openpyxl import load_workbook\n",
    "from openpyxl.utils import get_column_letter"
   ]
  },
  {
   "cell_type": "markdown",
   "id": "98e69374",
   "metadata": {},
   "source": [
    "## Funciones utiles"
   ]
  },
  {
   "cell_type": "markdown",
   "id": "83ea5090",
   "metadata": {},
   "source": [
    "### Calculadora de costo total"
   ]
  },
  {
   "cell_type": "code",
   "execution_count": 3,
   "id": "04246cf4",
   "metadata": {},
   "outputs": [],
   "source": [
    "from typing import TypedDict\n",
    "\n",
    "class CostoIngenieriaResult(TypedDict):\n",
    "    costo_directo: float\n",
    "    gastos_generales: float\n",
    "    utilidad: float\n",
    "    subtotal: float\n",
    "    igv: float\n",
    "    total: float\n",
    "\n",
    "def calculadora_costo_total(costo_directo: float) -> CostoIngenieriaResult:\n",
    "    \"\"\"\n",
    "    Calcula el costo total de un proyecto de ingeniería civil en soles peruanos.\n",
    "    \n",
    "    Args:\n",
    "        costo_directo (float): Costo directo del proyecto\n",
    "        \n",
    "    Returns:\n",
    "        CostoIngenieriaResult: Diccionario con todos los valores calculados\n",
    "    \"\"\"\n",
    "    # Calcular gastos generales (10% del costo directo)\n",
    "    gastos_generales = round(costo_directo * 0.10, 2)\n",
    "    \n",
    "    # Calcular utilidad (5% del costo directo)\n",
    "    utilidad = round(costo_directo * 0.05, 2)\n",
    "    \n",
    "    # Calcular subtotal\n",
    "    subtotal = round(costo_directo + gastos_generales + utilidad, 2)\n",
    "    \n",
    "    # Calcular IGV (18% del subtotal)\n",
    "    igv = round(subtotal * 0.18, 2)\n",
    "    \n",
    "    # Calcular total\n",
    "    total = round(subtotal + igv, 2)\n",
    "    \n",
    "    return {\n",
    "        \"costo_directo\": round(costo_directo, 2),\n",
    "        \"gastos_generales\": gastos_generales,\n",
    "        \"utilidad\": utilidad,\n",
    "        \"subtotal\": subtotal,\n",
    "        \"igv\": igv,\n",
    "        \"total\": total\n",
    "    }\n"
   ]
  },
  {
   "cell_type": "markdown",
   "id": "0d58834a",
   "metadata": {},
   "source": [
    "#### Multiplicar el precio unitario actualizado por la carga trabajo"
   ]
  },
  {
   "cell_type": "code",
   "execution_count": 4,
   "id": "96831b53",
   "metadata": {},
   "outputs": [],
   "source": [
    "def calcular_costos_unitarios(dict_precios_unitarios_actualizados,\n",
    "                              cargas_trabajo_contratista):\n",
    "    \"\"\"\n",
    "    Multiplica cada carga de trabajo del contratista por su precio unitario\n",
    "    correspondiente.\n",
    "\n",
    "    Args:\n",
    "        dict_precios_unitarios_actualizados (dict): mapea código → precio unitario.\n",
    "        cargas_trabajo_contratista (dict): mapea código → carga de trabajo.\n",
    "\n",
    "    Returns:\n",
    "        dict: mapea código → precio total (precio unitario * carga).\n",
    "\n",
    "    Raises:\n",
    "        KeyError: si alguna clave de cargas_trabajo_contratista no existe en\n",
    "                  dict_precios_unitarios_actualizados.\n",
    "    \"\"\"\n",
    "    # Comprobar que no falte ninguna clave\n",
    "    faltantes = set(cargas_trabajo_contratista) - set(\n",
    "        dict_precios_unitarios_actualizados\n",
    "    )\n",
    "    if faltantes:\n",
    "        raise KeyError(\n",
    "            f\"Faltan precios unitarios para las claves: {faltantes}\"\n",
    "        )\n",
    "\n",
    "    # Generar el diccionario resultado\n",
    "    resultado = {\n",
    "        clave: dict_precios_unitarios_actualizados[clave] * cargas_trabajo_contratista[clave]\n",
    "        for clave in cargas_trabajo_contratista\n",
    "    }\n",
    "    return resultado"
   ]
  },
  {
   "cell_type": "markdown",
   "id": "73453013",
   "metadata": {},
   "source": [
    "## Carga de datos\n"
   ]
  },
  {
   "cell_type": "markdown",
   "id": "8dd111a2",
   "metadata": {},
   "source": [
    "### Firebase\n"
   ]
  },
  {
   "cell_type": "code",
   "execution_count": 5,
   "id": "d5d759a2",
   "metadata": {},
   "outputs": [
    {
     "name": "stdout",
     "output_type": "stream",
     "text": [
      "Colecciones disponibles: ['rutinarios']\n"
     ]
    }
   ],
   "source": [
    "# 1. Busca el .env en el directorio actual o en cualquiera de los padres\n",
    "dotenv_path = find_dotenv()\n",
    "if not dotenv_path:\n",
    "    raise FileNotFoundError(\"No se encontró ningún archivo .env en este directorio ni en sus padres.\")\n",
    "load_dotenv(dotenv_path)\n",
    "\n",
    "# 2. Define el root del proyecto como la carpeta que contiene el .env\n",
    "project_root = Path(dotenv_path).parent\n",
    "\n",
    "# 3. Obtén la ruta relativa de las credenciales desde la variable de entorno\n",
    "rel_cred_path = os.getenv(\"FIRESTORE_CREDENTIALS\")\n",
    "if not rel_cred_path:\n",
    "    raise RuntimeError(\"No existe la variable FIRESTORE_CREDENTIALS en el .env\")\n",
    "\n",
    "# 4. Construye la ruta absoluta al JSON\n",
    "cred_path = Path(rel_cred_path)\n",
    "if not cred_path.is_absolute():\n",
    "    cred_path = (project_root / cred_path).resolve()\n",
    "\n",
    "if not cred_path.exists():\n",
    "    raise FileNotFoundError(f\"No existe el archivo de credenciales en: {cred_path}\")\n",
    "\n",
    "# 5. Carga las credenciales y crea el cliente de Firestore\n",
    "credentials = service_account.Credentials.from_service_account_file(str(cred_path))\n",
    "client = firestore.Client(credentials=credentials, project=credentials.project_id)\n",
    "\n",
    "# 6. Prueba que funcione\n",
    "print(\"Colecciones disponibles:\", [c.id for c in client.collections()])"
   ]
  },
  {
   "cell_type": "code",
   "execution_count": 6,
   "id": "91e8d7b1",
   "metadata": {},
   "outputs": [],
   "source": [
    "db=firestore.Client(credentials=credentials, project=credentials.project_id)"
   ]
  },
  {
   "cell_type": "code",
   "execution_count": 7,
   "id": "9e3842ca",
   "metadata": {},
   "outputs": [],
   "source": [
    "# 4. Define la ruta a tu documento anidado\n",
    "colec_raiz = \"rutinarios\"\n",
    "doc_proyecto = proyecto     # puede ser tu variable proyecto\n",
    "colec_valoriz = \"presupuestos\"\n",
    "id_valoriz = \"desembolsos\"  \n",
    "\n",
    "doc_ref = (\n",
    "    db\n",
    "    .collection(colec_raiz)\n",
    "    .document(doc_proyecto)\n",
    "    .collection(colec_valoriz)\n",
    "    .document(id_valoriz)\n",
    ")"
   ]
  },
  {
   "cell_type": "code",
   "execution_count": 8,
   "id": "b9aba365",
   "metadata": {},
   "outputs": [
    {
     "name": "stdout",
     "output_type": "stream",
     "text": [
      "<google.cloud.firestore_v1.base_document.DocumentSnapshot object at 0x00000146B63C3A10>\n",
      "{'cronograma_desembolsos': {'11': {'mantenimiento_con_igv': 7438.1, 'mantenimiento_con_go': 8181.91, 'igv': 1338.86, 'gastos_operativos': 743.81, 'mantenimiento_sin_igv': 6099.24}, '5': {'mantenimiento_con_igv': 7686.04, 'mantenimiento_con_go': 8454.64, 'igv': 1383.49, 'gastos_operativos': 768.6, 'mantenimiento_sin_igv': 6302.55}, '6': {'mantenimiento_con_igv': 7438.1, 'mantenimiento_con_go': 8181.91, 'igv': 1338.86, 'gastos_operativos': 743.81, 'mantenimiento_sin_igv': 6099.24}, '12': {'mantenimiento_con_igv': 2727.29, 'mantenimiento_con_go': 3000.02, 'igv': 490.91, 'gastos_operativos': 272.73, 'mantenimiento_sin_igv': 2236.38}, '9': {'mantenimiento_con_igv': 7438.1, 'mantenimiento_con_go': 8181.91, 'igv': 1338.86, 'gastos_operativos': 743.81, 'mantenimiento_sin_igv': 6099.24}, '10': {'mantenimiento_con_igv': 7686.04, 'mantenimiento_con_go': 8454.64, 'igv': 1383.49, 'gastos_operativos': 768.6, 'mantenimiento_sin_igv': 6302.55}, '7': {'mantenimiento_con_igv': 7686.04, 'mantenimiento_con_go': 8454.64, 'igv': 1383.49, 'gastos_operativos': 768.6, 'mantenimiento_sin_igv': 6302.55}, '4': {'mantenimiento_con_igv': 3719.05, 'mantenimiento_con_go': 4090.96, 'igv': 669.43, 'gastos_operativos': 371.91, 'mantenimiento_sin_igv': 3049.62}, '8': {'mantenimiento_con_igv': 7686.04, 'mantenimiento_con_go': 8454.64, 'igv': 1383.49, 'gastos_operativos': 768.6, 'mantenimiento_sin_igv': 6302.55}}}\n"
     ]
    }
   ],
   "source": [
    "data_mantenimiento_res=doc_ref.get()\n",
    "\n",
    "print(data_mantenimiento_res)\n",
    "\n",
    "if not data_mantenimiento_res.exists:\n",
    "    print(f\"El documento {doc_ref.path} no existe.\")\n",
    "\n",
    "data_mantenimiento= data_mantenimiento_res.to_dict()\n",
    "print(data_mantenimiento)"
   ]
  },
  {
   "cell_type": "markdown",
   "id": "b28071f7",
   "metadata": {},
   "source": [
    "#### Contrato"
   ]
  },
  {
   "cell_type": "code",
   "execution_count": 9,
   "id": "202f524e",
   "metadata": {},
   "outputs": [],
   "source": [
    "# 4. Define la ruta a tu documento anidado\n",
    "colec_raiz = \"rutinarios\"\n",
    "doc_proyecto = proyecto     # puede ser tu variable proyecto\n",
    "colec_valoriz = \"presupuestos\"\n",
    "id_valoriz = \"desembolsos\"  \n",
    "\n",
    "doc_ref = (\n",
    "    db\n",
    "    .collection(colec_raiz)\n",
    "    .document(doc_proyecto)\n",
    ")"
   ]
  },
  {
   "cell_type": "code",
   "execution_count": 10,
   "id": "6e327ebc",
   "metadata": {},
   "outputs": [
    {
     "name": "stdout",
     "output_type": "stream",
     "text": [
      "{'jefe_mantenimiento': {'nombre': 'Genaro', 'apellido': 'Tinta Cáceres', 'titulo': 'Ingeniero', 'dni': 0}, 'fecha_inicio': {'dia': 16, 'mes': 4, 'anio': 2025}, 'numero_trabajadores': 3, 'numero_cuadrillas': 1, 'denominacion_tramo_convenio': 'EMP. AR-691 CALLA CALLA - YURACCANCHA - CUCHUHURI - PALLALLMAYO (KM 11+920)', 'contratista': {'ruc': 20606988398, 'razon_social': 'Grupo ARICOL E.I.R.L'}, 'tiempo_ejecucion_dias': 240, 'id_contrato': '006-2025', 'monto_contrato': 59504.8, 'tipo_servicio': 'mantenimiento rutinario'}\n"
     ]
    }
   ],
   "source": [
    "mantenimiento=doc_ref.get().to_dict()\n",
    "contrato=mantenimiento['contrato']\n",
    "print(contrato)"
   ]
  },
  {
   "cell_type": "code",
   "execution_count": 11,
   "id": "7244806b",
   "metadata": {},
   "outputs": [
    {
     "name": "stdout",
     "output_type": "stream",
     "text": [
      "59504.8\n"
     ]
    }
   ],
   "source": [
    "monto_contrato=contrato['monto_contrato']\n",
    "print(monto_contrato)"
   ]
  },
  {
   "cell_type": "markdown",
   "id": "d54ceec0",
   "metadata": {},
   "source": [
    "#### Valorización programada mensual"
   ]
  },
  {
   "cell_type": "code",
   "execution_count": 12,
   "id": "c0223f88",
   "metadata": {},
   "outputs": [
    {
     "name": "stdout",
     "output_type": "stream",
     "text": [
      "{'11': {'mantenimiento_con_igv': 7438.1, 'mantenimiento_con_go': 8181.91, 'igv': 1338.86, 'gastos_operativos': 743.81, 'mantenimiento_sin_igv': 6099.24}, '5': {'mantenimiento_con_igv': 7686.04, 'mantenimiento_con_go': 8454.64, 'igv': 1383.49, 'gastos_operativos': 768.6, 'mantenimiento_sin_igv': 6302.55}, '6': {'mantenimiento_con_igv': 7438.1, 'mantenimiento_con_go': 8181.91, 'igv': 1338.86, 'gastos_operativos': 743.81, 'mantenimiento_sin_igv': 6099.24}, '12': {'mantenimiento_con_igv': 2727.29, 'mantenimiento_con_go': 3000.02, 'igv': 490.91, 'gastos_operativos': 272.73, 'mantenimiento_sin_igv': 2236.38}, '9': {'mantenimiento_con_igv': 7438.1, 'mantenimiento_con_go': 8181.91, 'igv': 1338.86, 'gastos_operativos': 743.81, 'mantenimiento_sin_igv': 6099.24}, '10': {'mantenimiento_con_igv': 7686.04, 'mantenimiento_con_go': 8454.64, 'igv': 1383.49, 'gastos_operativos': 768.6, 'mantenimiento_sin_igv': 6302.55}, '7': {'mantenimiento_con_igv': 7686.04, 'mantenimiento_con_go': 8454.64, 'igv': 1383.49, 'gastos_operativos': 768.6, 'mantenimiento_sin_igv': 6302.55}, '4': {'mantenimiento_con_igv': 3719.05, 'mantenimiento_con_go': 4090.96, 'igv': 669.43, 'gastos_operativos': 371.91, 'mantenimiento_sin_igv': 3049.62}, '8': {'mantenimiento_con_igv': 7686.04, 'mantenimiento_con_go': 8454.64, 'igv': 1383.49, 'gastos_operativos': 768.6, 'mantenimiento_sin_igv': 6302.55}}\n"
     ]
    }
   ],
   "source": [
    "# 4. Define la ruta a tu documento anidado\n",
    "doc_proyecto = proyecto     # puede ser tu variable proyecto\n",
    "colec_valoriz = \"presupuestos\"\n",
    "id_valoriz = \"desembolsos\"  \n",
    "\n",
    "doc_ref = (\n",
    "    db\n",
    "    .collection(\"rutinarios\")\n",
    "    .document(doc_proyecto)\n",
    "    .collection(colec_valoriz)\n",
    "    .document(id_valoriz)\n",
    ")\n",
    "\n",
    "desembolsos=doc_ref.get().to_dict()\n",
    "cronograma_desembolsos=desembolsos['cronograma_desembolsos']\n",
    "print(cronograma_desembolsos)\n",
    "\n"
   ]
  },
  {
   "cell_type": "code",
   "execution_count": 29,
   "id": "e10fd420",
   "metadata": {},
   "outputs": [
    {
     "name": "stdout",
     "output_type": "stream",
     "text": [
      "7686.04\n"
     ]
    }
   ],
   "source": [
    "desembolso_current_month=cronograma_desembolsos[str(mes)]\n",
    "print(desembolso_current_month['mantenimiento_con_igv'])"
   ]
  },
  {
   "cell_type": "markdown",
   "id": "4e05a292",
   "metadata": {},
   "source": [
    "#### Cargas de trabajo mensual presentadas por el contratista"
   ]
  },
  {
   "cell_type": "code",
   "execution_count": 14,
   "id": "0feffd0b",
   "metadata": {},
   "outputs": [],
   "source": [
    "cargas_trabajo_contratista={\n",
    "    \"MR101\":0.99,\n",
    "    \"MR301\":3903.83,\n",
    "    \"MR103\":5.01,\n",
    "    \"MR102\":328.0,\n",
    "    \"MR203\":44.45,\n",
    "    \"MR206\":33.91,\n",
    "    \"MR104\":10.17,\n",
    "    \"MR701\":3.43\n",
    "}"
   ]
  },
  {
   "cell_type": "markdown",
   "id": "2109ab59",
   "metadata": {},
   "source": [
    "#### Cargas de trabajo y precios unitarios del expediente técnico"
   ]
  },
  {
   "cell_type": "code",
   "execution_count": 15,
   "id": "3b841bc9",
   "metadata": {},
   "outputs": [],
   "source": [
    "datos_cargas_trabajo_expediente_tecnico = {\n",
    "    'MR101': {\n",
    "        'precio_unitario': 265.30,\n",
    "        'carga_trabajo': 7.95\n",
    "    },\n",
    "    'MR102': {\n",
    "        'precio_unitario': 10.27,\n",
    "        'carga_trabajo': 2558.43\n",
    "    },\n",
    "    'MR103': {\n",
    "        'precio_unitario': 21.0,\n",
    "        'carga_trabajo':  20.03\n",
    "    },\n",
    "    'MR104': {\n",
    "        'precio_unitario': 17.50,\n",
    "        'carga_trabajo': 71.20\n",
    "    },\n",
    "    'MR203':{\n",
    "        'precio_unitario': 5.25,\n",
    "        'carga_trabajo': 333.36\n",
    "    },\n",
    "    'MR206':{\n",
    "        'precio_unitario': 3.6,\n",
    "        'carga_trabajo': 237.37\n",
    "    },\n",
    "    'MR301': {\n",
    "        'precio_unitario': 0.14,\n",
    "        'carga_trabajo': 31230.64\n",
    "    },\n",
    "    'MR401':{\n",
    "        'precio_unitario': 11.42,\n",
    "        'carga_trabajo': 15.97\n",
    "    },\n",
    "    'MR601': {\n",
    "        'precio_unitario': 2.10,\n",
    "        'carga_trabajo': 39.73\n",
    "    },\n",
    "    'MR701': {\n",
    "        'precio_unitario': 43.75,\n",
    "        'carga_trabajo': 17.16\n",
    "    }\n",
    "}"
   ]
  },
  {
   "cell_type": "markdown",
   "id": "68e13015",
   "metadata": {},
   "source": [
    "## Cálculos"
   ]
  },
  {
   "cell_type": "code",
   "execution_count": 16,
   "id": "b8f69b72",
   "metadata": {},
   "outputs": [],
   "source": [
    "# Crear DataFrame usando pd.DataFrame.from_dict() con orient='index'\n",
    "df_cargas_trabajo_expediente = pd.DataFrame.from_dict(datos_cargas_trabajo_expediente_tecnico, orient='index')\n",
    "\n",
    "# Resetear el índice para convertir las claves MR en una columna\n",
    "df_cargas_trabajo_expediente = df_cargas_trabajo_expediente.reset_index().rename(columns={'index': 'codigo_MR'})"
   ]
  },
  {
   "cell_type": "code",
   "execution_count": 17,
   "id": "966265c4",
   "metadata": {},
   "outputs": [],
   "source": [
    "# Agregar columna parcial\n",
    "df_cargas_trabajo_expediente['parcial'] = df_cargas_trabajo_expediente['precio_unitario'] * df_cargas_trabajo_expediente['carga_trabajo']"
   ]
  },
  {
   "cell_type": "code",
   "execution_count": 18,
   "id": "42f40b0c",
   "metadata": {},
   "outputs": [
    {
     "data": {
      "text/html": [
       "<div>\n",
       "<style scoped>\n",
       "    .dataframe tbody tr th:only-of-type {\n",
       "        vertical-align: middle;\n",
       "    }\n",
       "\n",
       "    .dataframe tbody tr th {\n",
       "        vertical-align: top;\n",
       "    }\n",
       "\n",
       "    .dataframe thead th {\n",
       "        text-align: right;\n",
       "    }\n",
       "</style>\n",
       "<table border=\"1\" class=\"dataframe\">\n",
       "  <thead>\n",
       "    <tr style=\"text-align: right;\">\n",
       "      <th></th>\n",
       "      <th>codigo_MR</th>\n",
       "      <th>precio_unitario</th>\n",
       "      <th>carga_trabajo</th>\n",
       "      <th>parcial</th>\n",
       "    </tr>\n",
       "  </thead>\n",
       "  <tbody>\n",
       "    <tr>\n",
       "      <th>0</th>\n",
       "      <td>MR101</td>\n",
       "      <td>265.30</td>\n",
       "      <td>7.95</td>\n",
       "      <td>2109.1350</td>\n",
       "    </tr>\n",
       "    <tr>\n",
       "      <th>1</th>\n",
       "      <td>MR102</td>\n",
       "      <td>10.27</td>\n",
       "      <td>2558.43</td>\n",
       "      <td>26275.0761</td>\n",
       "    </tr>\n",
       "    <tr>\n",
       "      <th>2</th>\n",
       "      <td>MR103</td>\n",
       "      <td>21.00</td>\n",
       "      <td>20.03</td>\n",
       "      <td>420.6300</td>\n",
       "    </tr>\n",
       "    <tr>\n",
       "      <th>3</th>\n",
       "      <td>MR104</td>\n",
       "      <td>17.50</td>\n",
       "      <td>71.20</td>\n",
       "      <td>1246.0000</td>\n",
       "    </tr>\n",
       "    <tr>\n",
       "      <th>4</th>\n",
       "      <td>MR203</td>\n",
       "      <td>5.25</td>\n",
       "      <td>333.36</td>\n",
       "      <td>1750.1400</td>\n",
       "    </tr>\n",
       "  </tbody>\n",
       "</table>\n",
       "</div>"
      ],
      "text/plain": [
       "  codigo_MR  precio_unitario  carga_trabajo     parcial\n",
       "0     MR101           265.30           7.95   2109.1350\n",
       "1     MR102            10.27        2558.43  26275.0761\n",
       "2     MR103            21.00          20.03    420.6300\n",
       "3     MR104            17.50          71.20   1246.0000\n",
       "4     MR203             5.25         333.36   1750.1400"
      ]
     },
     "execution_count": 18,
     "metadata": {},
     "output_type": "execute_result"
    }
   ],
   "source": [
    "df_cargas_trabajo_expediente.head()"
   ]
  },
  {
   "cell_type": "code",
   "execution_count": 19,
   "id": "4da817a7",
   "metadata": {},
   "outputs": [
    {
     "name": "stdout",
     "output_type": "stream",
     "text": [
      "costo_directo 38044.363099999995\n"
     ]
    }
   ],
   "source": [
    "# Calcular el total\n",
    "costo_directo = df_cargas_trabajo_expediente['parcial'].sum()\n",
    "print(\"costo_directo\",costo_directo)\n"
   ]
  },
  {
   "cell_type": "code",
   "execution_count": 20,
   "id": "180e3007",
   "metadata": {},
   "outputs": [
    {
     "name": "stdout",
     "output_type": "stream",
     "text": [
      "51626.2\n"
     ]
    }
   ],
   "source": [
    "costo_total_expediente=calculadora_costo_total(costo_directo)\n",
    "print(costo_total_expediente['total'])\n"
   ]
  },
  {
   "cell_type": "code",
   "execution_count": 21,
   "id": "2fe2679d",
   "metadata": {},
   "outputs": [
    {
     "name": "stdout",
     "output_type": "stream",
     "text": [
      "El costo directo es: 43850.258539130904\n"
     ]
    }
   ],
   "source": [
    "# Agregar columna parcial\n",
    "df_cargas_trabajo_expediente['precio_unitario_actualizado'] = df_cargas_trabajo_expediente['precio_unitario'] * (monto_contrato/costo_total_expediente['total'])\n",
    "\n",
    "df_cargas_trabajo_expediente['parcial_actualizado'] = df_cargas_trabajo_expediente['precio_unitario_actualizado'] * df_cargas_trabajo_expediente['carga_trabajo']\n",
    "\n",
    "# Calcular el total\n",
    "costo_directo_actualizado = df_cargas_trabajo_expediente['parcial_actualizado'].sum()\n",
    "\n",
    "print(f\"El costo directo es: {costo_directo_actualizado}\")"
   ]
  },
  {
   "cell_type": "code",
   "execution_count": 22,
   "id": "8ed1563c",
   "metadata": {},
   "outputs": [
    {
     "data": {
      "text/html": [
       "<div>\n",
       "<style scoped>\n",
       "    .dataframe tbody tr th:only-of-type {\n",
       "        vertical-align: middle;\n",
       "    }\n",
       "\n",
       "    .dataframe tbody tr th {\n",
       "        vertical-align: top;\n",
       "    }\n",
       "\n",
       "    .dataframe thead th {\n",
       "        text-align: right;\n",
       "    }\n",
       "</style>\n",
       "<table border=\"1\" class=\"dataframe\">\n",
       "  <thead>\n",
       "    <tr style=\"text-align: right;\">\n",
       "      <th></th>\n",
       "      <th>codigo_MR</th>\n",
       "      <th>precio_unitario</th>\n",
       "      <th>carga_trabajo</th>\n",
       "      <th>parcial</th>\n",
       "      <th>precio_unitario_actualizado</th>\n",
       "      <th>parcial_actualizado</th>\n",
       "    </tr>\n",
       "  </thead>\n",
       "  <tbody>\n",
       "    <tr>\n",
       "      <th>0</th>\n",
       "      <td>MR101</td>\n",
       "      <td>265.30</td>\n",
       "      <td>7.95</td>\n",
       "      <td>2109.1350</td>\n",
       "      <td>305.787051</td>\n",
       "      <td>2431.007054</td>\n",
       "    </tr>\n",
       "    <tr>\n",
       "      <th>1</th>\n",
       "      <td>MR102</td>\n",
       "      <td>10.27</td>\n",
       "      <td>2558.43</td>\n",
       "      <td>26275.0761</td>\n",
       "      <td>11.837290</td>\n",
       "      <td>30284.877607</td>\n",
       "    </tr>\n",
       "    <tr>\n",
       "      <th>2</th>\n",
       "      <td>MR103</td>\n",
       "      <td>21.00</td>\n",
       "      <td>20.03</td>\n",
       "      <td>420.6300</td>\n",
       "      <td>24.204780</td>\n",
       "      <td>484.821738</td>\n",
       "    </tr>\n",
       "    <tr>\n",
       "      <th>3</th>\n",
       "      <td>MR104</td>\n",
       "      <td>17.50</td>\n",
       "      <td>71.20</td>\n",
       "      <td>1246.0000</td>\n",
       "      <td>20.170650</td>\n",
       "      <td>1436.150265</td>\n",
       "    </tr>\n",
       "    <tr>\n",
       "      <th>4</th>\n",
       "      <td>MR203</td>\n",
       "      <td>5.25</td>\n",
       "      <td>333.36</td>\n",
       "      <td>1750.1400</td>\n",
       "      <td>6.051195</td>\n",
       "      <td>2017.226344</td>\n",
       "    </tr>\n",
       "    <tr>\n",
       "      <th>5</th>\n",
       "      <td>MR206</td>\n",
       "      <td>3.60</td>\n",
       "      <td>237.37</td>\n",
       "      <td>854.5320</td>\n",
       "      <td>4.149391</td>\n",
       "      <td>984.940897</td>\n",
       "    </tr>\n",
       "    <tr>\n",
       "      <th>6</th>\n",
       "      <td>MR301</td>\n",
       "      <td>0.14</td>\n",
       "      <td>31230.64</td>\n",
       "      <td>4372.2896</td>\n",
       "      <td>0.161365</td>\n",
       "      <td>5039.538416</td>\n",
       "    </tr>\n",
       "    <tr>\n",
       "      <th>7</th>\n",
       "      <td>MR401</td>\n",
       "      <td>11.42</td>\n",
       "      <td>15.97</td>\n",
       "      <td>182.3774</td>\n",
       "      <td>13.162790</td>\n",
       "      <td>210.209752</td>\n",
       "    </tr>\n",
       "    <tr>\n",
       "      <th>8</th>\n",
       "      <td>MR601</td>\n",
       "      <td>2.10</td>\n",
       "      <td>39.73</td>\n",
       "      <td>83.4330</td>\n",
       "      <td>2.420478</td>\n",
       "      <td>96.165590</td>\n",
       "    </tr>\n",
       "    <tr>\n",
       "      <th>9</th>\n",
       "      <td>MR701</td>\n",
       "      <td>43.75</td>\n",
       "      <td>17.16</td>\n",
       "      <td>750.7500</td>\n",
       "      <td>50.426624</td>\n",
       "      <td>865.320876</td>\n",
       "    </tr>\n",
       "  </tbody>\n",
       "</table>\n",
       "</div>"
      ],
      "text/plain": [
       "  codigo_MR  precio_unitario  carga_trabajo     parcial  \\\n",
       "0     MR101           265.30           7.95   2109.1350   \n",
       "1     MR102            10.27        2558.43  26275.0761   \n",
       "2     MR103            21.00          20.03    420.6300   \n",
       "3     MR104            17.50          71.20   1246.0000   \n",
       "4     MR203             5.25         333.36   1750.1400   \n",
       "5     MR206             3.60         237.37    854.5320   \n",
       "6     MR301             0.14       31230.64   4372.2896   \n",
       "7     MR401            11.42          15.97    182.3774   \n",
       "8     MR601             2.10          39.73     83.4330   \n",
       "9     MR701            43.75          17.16    750.7500   \n",
       "\n",
       "   precio_unitario_actualizado  parcial_actualizado  \n",
       "0                   305.787051          2431.007054  \n",
       "1                    11.837290         30284.877607  \n",
       "2                    24.204780           484.821738  \n",
       "3                    20.170650          1436.150265  \n",
       "4                     6.051195          2017.226344  \n",
       "5                     4.149391           984.940897  \n",
       "6                     0.161365          5039.538416  \n",
       "7                    13.162790           210.209752  \n",
       "8                     2.420478            96.165590  \n",
       "9                    50.426624           865.320876  "
      ]
     },
     "execution_count": 22,
     "metadata": {},
     "output_type": "execute_result"
    }
   ],
   "source": [
    "df_cargas_trabajo_expediente.head(10)"
   ]
  },
  {
   "cell_type": "code",
   "execution_count": 23,
   "id": "b532ac06",
   "metadata": {},
   "outputs": [
    {
     "name": "stdout",
     "output_type": "stream",
     "text": [
      "59504.8\n"
     ]
    }
   ],
   "source": [
    "pago_costo_total_contratista=calculadora_costo_total(costo_directo_actualizado)\n",
    "print(pago_costo_total_contratista['total'])"
   ]
  },
  {
   "cell_type": "code",
   "execution_count": 24,
   "id": "51d9a840",
   "metadata": {},
   "outputs": [
    {
     "name": "stdout",
     "output_type": "stream",
     "text": [
      "{'MR101': 305.78705076104774, 'MR102': 11.837289903188692, 'MR103': 24.204779743618552, 'MR104': 20.170649786348793, 'MR203': 6.051194935904638, 'MR206': 4.1493908131917525, 'MR301': 0.16136519829079038, 'MR401': 13.162789746291613, 'MR601': 2.4204779743618556, 'MR701': 50.42662446587199}\n"
     ]
    }
   ],
   "source": [
    "dict_precios_unitarios_actualizados = dict(zip(\n",
    "    df_cargas_trabajo_expediente['codigo_MR'],\n",
    "    df_cargas_trabajo_expediente['precio_unitario_actualizado']\n",
    "))\n",
    "\n",
    "print(dict_precios_unitarios_actualizados)"
   ]
  },
  {
   "cell_type": "markdown",
   "id": "ba5e08d9",
   "metadata": {},
   "source": [
    "#### Cálculo de pago de acuerdo a cargas de trabajo"
   ]
  },
  {
   "cell_type": "code",
   "execution_count": 32,
   "id": "93294446",
   "metadata": {},
   "outputs": [
    {
     "name": "stdout",
     "output_type": "stream",
     "text": [
      "{'MR101': 302.7291802534373,\n",
      " 'MR102': 3882.631088245891,\n",
      " 'MR103': 121.26594651552894,\n",
      " 'MR104': 205.13550832716723,\n",
      " 'MR203': 268.97561490096115,\n",
      " 'MR206': 140.7058424753323,\n",
      " 'MR301': 629.9423020435362,\n",
      " 'MR701': 172.96332191794093}\n"
     ]
    }
   ],
   "source": [
    "pago_costo_directo_parciales_contratista=calcular_costos_unitarios(dict_precios_unitarios_actualizados,cargas_trabajo_contratista)\n",
    "pprint.pprint(pago_costo_directo_parciales_contratista)"
   ]
  },
  {
   "cell_type": "markdown",
   "id": "8ffbf13b",
   "metadata": {},
   "source": [
    "##### Visualizacion en dataframe"
   ]
  },
  {
   "cell_type": "code",
   "execution_count": 36,
   "id": "be601e52",
   "metadata": {},
   "outputs": [
    {
     "data": {
      "text/html": [
       "<div>\n",
       "<style scoped>\n",
       "    .dataframe tbody tr th:only-of-type {\n",
       "        vertical-align: middle;\n",
       "    }\n",
       "\n",
       "    .dataframe tbody tr th {\n",
       "        vertical-align: top;\n",
       "    }\n",
       "\n",
       "    .dataframe thead th {\n",
       "        text-align: right;\n",
       "    }\n",
       "</style>\n",
       "<table border=\"1\" class=\"dataframe\">\n",
       "  <thead>\n",
       "    <tr style=\"text-align: right;\">\n",
       "      <th></th>\n",
       "      <th>codigo_MR</th>\n",
       "      <th>monto_pago</th>\n",
       "    </tr>\n",
       "  </thead>\n",
       "  <tbody>\n",
       "    <tr>\n",
       "      <th>0</th>\n",
       "      <td>MR101</td>\n",
       "      <td>302.729180</td>\n",
       "    </tr>\n",
       "    <tr>\n",
       "      <th>1</th>\n",
       "      <td>MR301</td>\n",
       "      <td>629.942302</td>\n",
       "    </tr>\n",
       "    <tr>\n",
       "      <th>2</th>\n",
       "      <td>MR103</td>\n",
       "      <td>121.265947</td>\n",
       "    </tr>\n",
       "    <tr>\n",
       "      <th>3</th>\n",
       "      <td>MR102</td>\n",
       "      <td>3882.631088</td>\n",
       "    </tr>\n",
       "    <tr>\n",
       "      <th>4</th>\n",
       "      <td>MR203</td>\n",
       "      <td>268.975615</td>\n",
       "    </tr>\n",
       "    <tr>\n",
       "      <th>5</th>\n",
       "      <td>MR206</td>\n",
       "      <td>140.705842</td>\n",
       "    </tr>\n",
       "    <tr>\n",
       "      <th>6</th>\n",
       "      <td>MR104</td>\n",
       "      <td>205.135508</td>\n",
       "    </tr>\n",
       "    <tr>\n",
       "      <th>7</th>\n",
       "      <td>MR701</td>\n",
       "      <td>172.963322</td>\n",
       "    </tr>\n",
       "  </tbody>\n",
       "</table>\n",
       "</div>"
      ],
      "text/plain": [
       "  codigo_MR   monto_pago\n",
       "0     MR101   302.729180\n",
       "1     MR301   629.942302\n",
       "2     MR103   121.265947\n",
       "3     MR102  3882.631088\n",
       "4     MR203   268.975615\n",
       "5     MR206   140.705842\n",
       "6     MR104   205.135508\n",
       "7     MR701   172.963322"
      ]
     },
     "execution_count": 36,
     "metadata": {},
     "output_type": "execute_result"
    }
   ],
   "source": [
    "df_pago_costo_directo_parciales_contratista=pd.DataFrame.from_dict(\n",
    "    pago_costo_directo_parciales_contratista, orient=\"index\"\n",
    ")\n",
    "\n",
    "df_pago_costo_directo_parciales_contratista=df_pago_costo_directo_parciales_contratista.reset_index().rename(columns={'index':'codigo_MR'})\n",
    "\n",
    "df_pago_costo_directo_parciales_contratista = (\n",
    "    df_pago_costo_directo_parciales_contratista.rename(columns={0: \"monto_pago\"})\n",
    ")\n",
    "\n",
    "df_pago_costo_directo_parciales_contratista"
   ]
  },
  {
   "cell_type": "code",
   "execution_count": 38,
   "id": "124db32b",
   "metadata": {},
   "outputs": [
    {
     "name": "stdout",
     "output_type": "stream",
     "text": [
      "\n",
      "DataFrame Ordenado por 'monto_pago' (ascendente):\n",
      "  codigo_MR   monto_pago\n",
      "3     MR102  3882.631088\n",
      "1     MR301   629.942302\n",
      "0     MR101   302.729180\n",
      "4     MR203   268.975615\n",
      "6     MR104   205.135508\n",
      "7     MR701   172.963322\n",
      "5     MR206   140.705842\n",
      "2     MR103   121.265947\n"
     ]
    }
   ],
   "source": [
    "# Ordenar el DataFrame por la columna 'monto_pago'\n",
    "# Por defecto, el orden es ascendente (de menor a mayor)\n",
    "df_ordenado = df_pago_costo_directo_parciales_contratista.sort_values(\n",
    "    by=\"monto_pago\",ascending=False\n",
    ")\n",
    "\n",
    "print(\"\\nDataFrame Ordenado por 'monto_pago' (ascendente):\")\n",
    "print(df_ordenado)"
   ]
  },
  {
   "cell_type": "code",
   "execution_count": 33,
   "id": "a6b2bc35",
   "metadata": {},
   "outputs": [],
   "source": [
    "# Lambda que suma todos los valores de un diccionario\n",
    "sumar_valores = lambda d: sum(d.values())"
   ]
  },
  {
   "cell_type": "code",
   "execution_count": 34,
   "id": "8ec2741f",
   "metadata": {},
   "outputs": [
    {
     "name": "stdout",
     "output_type": "stream",
     "text": [
      "5724.348804679795\n"
     ]
    }
   ],
   "source": [
    "pago_costo_directo_contratista = sumar_valores(pago_costo_directo_parciales_contratista)\n",
    "print(pago_costo_directo_contratista)"
   ]
  },
  {
   "cell_type": "code",
   "execution_count": 28,
   "id": "a02e99b6",
   "metadata": {},
   "outputs": [
    {
     "name": "stdout",
     "output_type": "stream",
     "text": [
      "7767.94\n"
     ]
    }
   ],
   "source": [
    "pago_costo_total_contratista=calculadora_costo_total(pago_costo_directo_contratista)\n",
    "print(pago_costo_total_contratista['total'])"
   ]
  }
 ],
 "metadata": {
  "kernelspec": {
   "display_name": ".venv",
   "language": "python",
   "name": "python3"
  },
  "language_info": {
   "codemirror_mode": {
    "name": "ipython",
    "version": 3
   },
   "file_extension": ".py",
   "mimetype": "text/x-python",
   "name": "python",
   "nbconvert_exporter": "python",
   "pygments_lexer": "ipython3",
   "version": "3.12.4"
  }
 },
 "nbformat": 4,
 "nbformat_minor": 5
}
