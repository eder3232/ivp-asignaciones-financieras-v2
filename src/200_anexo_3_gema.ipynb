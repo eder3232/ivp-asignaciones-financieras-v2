{
 "cells": [
  {
   "cell_type": "markdown",
   "id": "5539e061",
   "metadata": {},
   "source": [
    "# Anexo 3 GEMA"
   ]
  },
  {
   "cell_type": "markdown",
   "id": "31bf4712",
   "metadata": {},
   "source": [
    "Solo válido para vias no pavimentadas"
   ]
  },
  {
   "cell_type": "markdown",
   "id": "9b20bab0",
   "metadata": {},
   "source": [
    "## Datos de proyecto en análisis"
   ]
  },
  {
   "cell_type": "code",
   "execution_count": 17,
   "id": "8f804488",
   "metadata": {},
   "outputs": [],
   "source": [
    "proyecto = \"misanayoc\"\n",
    "mes = 5\n",
    "anio = 2025"
   ]
  },
  {
   "cell_type": "markdown",
   "id": "725e8aba",
   "metadata": {},
   "source": [
    "## Importar librerias"
   ]
  },
  {
   "cell_type": "code",
   "execution_count": 18,
   "id": "83576b9d",
   "metadata": {},
   "outputs": [],
   "source": [
    "from dotenv import load_dotenv, find_dotenv\n",
    "from dotenv import load_dotenv, find_dotenv\n",
    "from google.cloud import firestore\n",
    "from google.oauth2 import service_account\n",
    "from openpyxl import load_workbook\n",
    "from openpyxl.utils import get_column_letter\n",
    "from pathlib import Path\n",
    "from typing import Dict, List, Any\n",
    "from xlsxwriter.utility import xl_range, xl_rowcol_to_cell\n",
    "import excel2img\n",
    "import itertools\n",
    "import json\n",
    "import math\n",
    "import os\n",
    "import pandas as pd\n",
    "import pickle\n",
    "import pprint\n",
    "import random\n",
    "import re\n",
    "import win32com.client as win32\n",
    "import xlsxwriter\n",
    "\n",
    "from typing import TypedDict, List, Dict, Optional"
   ]
  },
  {
   "cell_type": "markdown",
   "id": "3121ec35",
   "metadata": {},
   "source": [
    "## Fuciones utiles"
   ]
  },
  {
   "cell_type": "markdown",
   "id": "710d9dc8",
   "metadata": {},
   "source": [
    "### Generador de errores"
   ]
  },
  {
   "cell_type": "code",
   "execution_count": 19,
   "id": "b0e5529e",
   "metadata": {},
   "outputs": [],
   "source": [
    "def generar_datos_errores_unidades(\n",
    "    longitud: float,\n",
    "    error_permitido: float,\n",
    "    recurrencia: float,\n",
    "    intensidad: float,\n",
    "    variacion: float,\n",
    "    paso: float,\n",
    "    seed: Optional[int] = None\n",
    ") -> List[Dict]:\n",
    "    \"\"\"\n",
    "    Genera datos falsos de errores distribuidos en tramos de carretera.\n",
    "\n",
    "    Parámetros:\n",
    "    - longitud (float): Longitud total de la carretera en metros. Debe ser > 0.\n",
    "    - error_permitido (float): Número máximo de fallas por kilómetro (contador ≥ 0).\n",
    "    - recurrencia (float): Proporción de tramos que tendrán error (0 ≤ recurrencia ≤ 1).\n",
    "    - intensidad (float): Factor que multiplica el máximo de errores permitidos (≥ 0).\n",
    "    - variacion (float): Amplitud de variación relativa sobre el valor base (0 ≤ variacion ≤ 1).\n",
    "    - paso (float): Incremento mínimo para el valor de error (> 0).\n",
    "    - seed (int, opcional): Semilla para reproducibilidad. Por defecto None.\n",
    "\n",
    "    Validaciones:\n",
    "    - longitud > 0\n",
    "    - error_permitido ≥ 0\n",
    "    - 0 ≤ recurrencia ≤ 1\n",
    "    - intensidad ≥ 0\n",
    "    - 0 ≤ variacion ≤ 1\n",
    "    - paso > 0\n",
    "\n",
    "    Salida:\n",
    "    Lista de diccionarios, uno por tramo. Cada dict contiene:\n",
    "    - \"tramo\": número de tramo (1, 2, …)\n",
    "    - \"inicio_m\": punto de inicio del tramo (en metros)\n",
    "    - \"fin_m\": punto final del tramo (en metros)\n",
    "    - \"longitud_m\": longitud efectiva del tramo (m)\n",
    "    - \"error\": valor simulado de errores (múltiplo de `paso`)\n",
    "    \"\"\"\n",
    "    # Validaciones de entrada\n",
    "    if longitud <= 0:\n",
    "        raise ValueError(\"La longitud debe ser > 0.\")\n",
    "    if error_permitido < 0:\n",
    "        raise ValueError(\"error_permitido debe ser ≥ 0.\")\n",
    "    if not (0 <= recurrencia <= 1):\n",
    "        raise ValueError(\"recurrencia debe estar entre 0 y 1.\")\n",
    "    if intensidad < 0:\n",
    "        raise ValueError(\"intensidad debe ser ≥ 0.\")\n",
    "    if not (0 <= variacion <= 1):\n",
    "        raise ValueError(\"variacion debe estar entre 0 y 1.\")\n",
    "    if paso <= 0:\n",
    "        raise ValueError(\"paso debe ser > 0.\")\n",
    "\n",
    "    # Fijar semilla si se pide\n",
    "    if seed is not None:\n",
    "        random.seed(seed)\n",
    "\n",
    "    # División en tramos de 1 km\n",
    "    num_tramos = math.ceil(longitud / 1000)\n",
    "    tramos = []\n",
    "    for i in range(num_tramos):\n",
    "        inicio = i * 1000.0\n",
    "        fin = min((i + 1) * 1000.0, longitud)\n",
    "        tramos.append({\n",
    "            \"tramo\": i + 1,\n",
    "            \"inicio_m\": inicio,\n",
    "            \"fin_m\": fin,\n",
    "            \"longitud_m\": fin - inicio,\n",
    "            \"error\": 0.0  # se llenará luego\n",
    "        })\n",
    "\n",
    "    # Número de tramos con error\n",
    "    errores_tramos = round(num_tramos * recurrencia)\n",
    "\n",
    "    # Selección \"espaciada\" de índices\n",
    "    indices_error = set()\n",
    "    if errores_tramos > 0:\n",
    "        paso_espacio = num_tramos / errores_tramos\n",
    "        for k in range(errores_tramos):\n",
    "            idx = int(math.floor((k + 0.5) * paso_espacio))\n",
    "            # asegurar rango válido\n",
    "            idx = max(0, min(num_tramos - 1, idx))\n",
    "            indices_error.add(idx)\n",
    "\n",
    "    # Generación de valores de error\n",
    "    base_error = intensidad * error_permitido\n",
    "    for idx in indices_error:\n",
    "        # variación aleatoria en ±variacion * base_error\n",
    "        delta = random.uniform(-variacion, variacion) * base_error\n",
    "        raw = base_error + delta\n",
    "        # redondear al múltiplo de `paso`\n",
    "        ajustado = round(raw / paso) * paso\n",
    "        # evitar negativos\n",
    "        tramos[idx][\"error\"] = max(0.0, ajustado)\n",
    "\n",
    "    return tramos"
   ]
  },
  {
   "cell_type": "markdown",
   "id": "047c58f1",
   "metadata": {},
   "source": [
    "### Filtrar claves no cero"
   ]
  },
  {
   "cell_type": "code",
   "execution_count": 20,
   "id": "4707fb54",
   "metadata": {},
   "outputs": [],
   "source": [
    "def filtrar_claves_no_cero(diccionario):\n",
    "    \"\"\"\n",
    "    Recibe un diccionario y retorna una lista de las claves cuyo valor es distinto de cero.\n",
    "    \"\"\"\n",
    "    return [clave for clave, valor in diccionario.items() if valor != 0]\n",
    "\n"
   ]
  },
  {
   "cell_type": "markdown",
   "id": "58f25f97",
   "metadata": {},
   "source": [
    "## Carga de datos"
   ]
  },
  {
   "cell_type": "markdown",
   "id": "ca15e725",
   "metadata": {},
   "source": [
    "### Firebase"
   ]
  },
  {
   "cell_type": "code",
   "execution_count": 21,
   "id": "835e5092",
   "metadata": {},
   "outputs": [
    {
     "name": "stdout",
     "output_type": "stream",
     "text": [
      "Colecciones disponibles: ['rutinarios']\n"
     ]
    }
   ],
   "source": [
    "# 1. Busca el .env en el directorio actual o en cualquiera de los padres\n",
    "dotenv_path = find_dotenv()\n",
    "if not dotenv_path:\n",
    "    raise FileNotFoundError(\n",
    "        \"No se encontró ningún archivo .env en este directorio ni en sus padres.\"\n",
    "    )\n",
    "load_dotenv(dotenv_path)\n",
    "\n",
    "# 2. Define el root del proyecto como la carpeta que contiene el .env\n",
    "project_root = Path(dotenv_path).parent\n",
    "\n",
    "# 3. Obtén la ruta relativa de las credenciales desde la variable de entorno\n",
    "rel_cred_path = os.getenv(\"FIRESTORE_CREDENTIALS\")\n",
    "if not rel_cred_path:\n",
    "    raise RuntimeError(\"No existe la variable FIRESTORE_CREDENTIALS en el .env\")\n",
    "\n",
    "# 4. Construye la ruta absoluta al JSON\n",
    "cred_path = Path(rel_cred_path)\n",
    "if not cred_path.is_absolute():\n",
    "    cred_path = (project_root / cred_path).resolve()\n",
    "\n",
    "if not cred_path.exists():\n",
    "    raise FileNotFoundError(f\"No existe el archivo de credenciales en: {cred_path}\")\n",
    "\n",
    "# 5. Carga las credenciales y crea el cliente de Firestore\n",
    "credentials = service_account.Credentials.from_service_account_file(str(cred_path))\n",
    "client = firestore.Client(credentials=credentials, project=credentials.project_id)\n",
    "\n",
    "# 6. Prueba que funcione\n",
    "print(\"Colecciones disponibles:\", [c.id for c in client.collections()])"
   ]
  },
  {
   "cell_type": "code",
   "execution_count": 22,
   "id": "7de77d6f",
   "metadata": {},
   "outputs": [],
   "source": [
    "db = firestore.Client(credentials=credentials, project=credentials.project_id)"
   ]
  },
  {
   "cell_type": "code",
   "execution_count": 23,
   "id": "3ff64fa7",
   "metadata": {},
   "outputs": [
    {
     "name": "stdout",
     "output_type": "stream",
     "text": [
      "{'contrato': {'contratista': {'razon_social': 'BUILDIA S.A.C.', 'ruc': ''},\n",
      "              'denominacion_tramo_convenio': 'EMP. AR-127 - MISANAYOC (KM '\n",
      "                                             '6+000)',\n",
      "              'fecha_inicio': {'anio': 2025, 'dia': 12, 'mes': 4},\n",
      "              'id_contrato': '002-2025',\n",
      "              'jefe_mantenimiento': {'apellido': 'Tinta Cáceres',\n",
      "                                     'dni': 0,\n",
      "                                     'nombre': 'Genaro',\n",
      "                                     'titulo': 'Ingeniero'},\n",
      "              'monto_contrato': 40800.0,\n",
      "              'numero_cuadrillas': 1,\n",
      "              'numero_trabajadores': 2,\n",
      "              'tiempo_ejecucion_dias': 240,\n",
      "              'tipo_servicio': 'mantenimiento rutinario'},\n",
      " 'datos_generales': {'distritos': ['Huanca'],\n",
      "                     'provincia': 'Caylloma',\n",
      "                     'region': 'Arequipa'},\n",
      " 'expediente': {'cargas_trabajo': {'MR101': 4.4,\n",
      "                                   'MR102': 1405,\n",
      "                                   'MR103': 8.67,\n",
      "                                   'MR104': 26.67,\n",
      "                                   'MR201': 6000,\n",
      "                                   'MR203': 420,\n",
      "                                   'MR301': 3466.67,\n",
      "                                   'MR401': 13.33,\n",
      "                                   'MR601': 29.04,\n",
      "                                   'MR701': 16},\n",
      "                'codigo_ruta': 'R0405148',\n",
      "                'coordenadas': {'fin': {'altitud': 3728,\n",
      "                                        'datum': 'WGS84',\n",
      "                                        'hemisferio': 'S',\n",
      "                                        'progresiva': 6600,\n",
      "                                        'x': 189675.12,\n",
      "                                        'y': 8229710.1,\n",
      "                                        'zona': None,\n",
      "                                        'zona_letra': None},\n",
      "                                'inicio': {'altitud': 3130,\n",
      "                                           'datum': 'WGS84',\n",
      "                                           'hemisferio': 'S',\n",
      "                                           'progresiva': 0,\n",
      "                                           'x': 191509.1,\n",
      "                                           'y': 8225824.5,\n",
      "                                           'zona': None,\n",
      "                                           'zona_letra': None}},\n",
      "                'gastos_generales': 0.15,\n",
      "                'longitud': 6600.0,\n",
      "                'monto_total': 41184.0,\n",
      "                'nombre': 'MANTENIMIENTO VIAL RUTINARIO DEL CAMINO VECINAL '\n",
      "                          'EMP. AR-706 - MISANAYOC, DISTRITO DE HUANCA, '\n",
      "                          'PROVINCIA DE CAYLLOMA, REGIÓN AREQUIPA',\n",
      "                'precios_unitarios': {'MR101': 265.3,\n",
      "                                      'MR102': 10.27,\n",
      "                                      'MR103': 21.0,\n",
      "                                      'MR104': 17.5,\n",
      "                                      'MR201': 0.44,\n",
      "                                      'MR202': 78.5,\n",
      "                                      'MR203': 5.25,\n",
      "                                      'MR204': 0.44,\n",
      "                                      'MR205': 105,\n",
      "                                      'MR206': 3.6,\n",
      "                                      'MR301': 0.14,\n",
      "                                      'MR401': 11.42,\n",
      "                                      'MR501': 0.53,\n",
      "                                      'MR601': 2.1,\n",
      "                                      'MR701': 43.75,\n",
      "                                      'MR702': 210},\n",
      "                'tarifa_km_mes': 780},\n",
      " 'general_data': {'distritos': ['Huanca'],\n",
      "                  'provincia': 'Caylloma',\n",
      "                  'region': 'Arequipa'},\n",
      " 'other': {'estado_conservacion_via': 'malo', 'tipo_superficie': 'afirmado'},\n",
      " 'otros': {'estado_conservacion_via': 'malo', 'tipo_superficie': 'afirmado'}}\n"
     ]
    }
   ],
   "source": [
    "doc_proyecto_firebase = db.collection(\"rutinarios\").document(proyecto).get().to_dict()\n",
    "\n",
    "pprint.pprint(doc_proyecto_firebase)"
   ]
  },
  {
   "cell_type": "code",
   "execution_count": 24,
   "id": "07b74f36",
   "metadata": {},
   "outputs": [
    {
     "name": "stdout",
     "output_type": "stream",
     "text": [
      "6600.0\n"
     ]
    }
   ],
   "source": [
    "expediente=doc_proyecto_firebase['expediente']\n",
    "longitud=expediente['longitud']\n",
    "\n",
    "print(longitud)"
   ]
  },
  {
   "cell_type": "markdown",
   "id": "23359f83",
   "metadata": {},
   "source": [
    "#### Valorizaciones"
   ]
  },
  {
   "cell_type": "code",
   "execution_count": 25,
   "id": "3c9e1bb6",
   "metadata": {},
   "outputs": [
    {
     "name": "stdout",
     "output_type": "stream",
     "text": [
      "{'avance': {'porcentaje_avance_ejecutado': 0.12916666666666668,\n",
      "            'porcentaje_avance_ejecutado_acumulado': 0.3240392156862745,\n",
      "            'porcentaje_avance_programado': 0.1296607843137255,\n",
      "            'porcentaje_avance_programado_acumulado': 0.2117218137254902},\n",
      " 'cargas_trabajo_contratista_corregido': {'MR101': 0.57,\n",
      "                                          'MR102': 180.46,\n",
      "                                          'MR104': 3.33,\n",
      "                                          'MR201': 813.08,\n",
      "                                          'MR203': 63.64,\n",
      "                                          'MR301': 385.19,\n",
      "                                          'MR601': 4.15,\n",
      "                                          'MR701': 2},\n",
      " 'cargas_trabajo_contratista_inicial': {'MR101': 0.57,\n",
      "                                        'MR102': 180.46,\n",
      "                                        'MR104': 3.33,\n",
      "                                        'MR201': 769.23,\n",
      "                                        'MR203': 63.64,\n",
      "                                        'MR301': 385.19,\n",
      "                                        'MR601': 4.15,\n",
      "                                        'MR701': 2}}\n"
     ]
    }
   ],
   "source": [
    "valorizaciones=db.collection(\"rutinarios\").document(proyecto).collection(\"valorizaciones\").document(str(mes)).get().to_dict()\n",
    "\n",
    "pprint.pprint(valorizaciones)"
   ]
  },
  {
   "cell_type": "markdown",
   "id": "11f90d2f",
   "metadata": {},
   "source": [
    "#### Cargas de trabajo"
   ]
  },
  {
   "cell_type": "code",
   "execution_count": 26,
   "id": "d08219dd",
   "metadata": {},
   "outputs": [
    {
     "name": "stdout",
     "output_type": "stream",
     "text": [
      "{'MR101': 0.57,\n",
      " 'MR102': 180.46,\n",
      " 'MR104': 3.33,\n",
      " 'MR201': 813.08,\n",
      " 'MR203': 63.64,\n",
      " 'MR301': 385.19,\n",
      " 'MR601': 4.15,\n",
      " 'MR701': 2}\n"
     ]
    }
   ],
   "source": [
    "cargas_trabajo=valorizaciones['cargas_trabajo_contratista_corregido']\n",
    "\n",
    "pprint.pprint(cargas_trabajo)\n"
   ]
  },
  {
   "cell_type": "markdown",
   "id": "f5d1a06d",
   "metadata": {},
   "source": [
    "### Raw"
   ]
  },
  {
   "cell_type": "code",
   "execution_count": 27,
   "id": "dc7ac57d",
   "metadata": {},
   "outputs": [],
   "source": [
    "actividades={\n",
    "    '101':{\n",
    "        \"error_permitido\":3,\n",
    "        \"recurrencia\":0.8,\n",
    "        \"intensidad\":0.6,#0.5,\n",
    "        \"variacion\":0.1,\n",
    "        \"paso\":1,\n",
    "    },\n",
    "    '102':{\n",
    "        \"error_permitido\":10,\n",
    "        \"recurrencia\":0.75,\n",
    "        \"intensidad\":0.25,\n",
    "        \"variacion\":0.25,\n",
    "        \"paso\":1,\n",
    "    },\n",
    "    '104':{\n",
    "        \"error_permitido\":1,\n",
    "        \"recurrencia\":0.9,\n",
    "        \"intensidad\":0.4,\n",
    "        \"variacion\":0.24,\n",
    "        \"paso\":0.1,\n",
    "    },\n",
    "    '201':{\n",
    "        \"error_permitido\":25,\n",
    "        \"recurrencia\":0.8,\n",
    "        \"intensidad\":0.75,\n",
    "        \"variacion\":0.1,\n",
    "        \"paso\":1,\n",
    "    },\n",
    "    '203':{\n",
    "        \"error_permitido\":30,\n",
    "        \"recurrencia\":0.8,\n",
    "        \"intensidad\":0.6,\n",
    "        \"variacion\":0.1,\n",
    "        \"paso\":1,\n",
    "    },\n",
    "    '206':{\n",
    "        \"error_permitido\":20,\n",
    "        \"recurrencia\":0.75,\n",
    "        \"intensidad\":0.4,\n",
    "        \"variacion\":0.2,\n",
    "        \"paso\":1,\n",
    "    },\n",
    "    '301':{\n",
    "        \"error_permitido\":45,\n",
    "        \"recurrencia\":0.6,\n",
    "        \"intensidad\":0.6,\n",
    "        \"variacion\":0.1,\n",
    "        \"paso\":1,\n",
    "    },\n",
    "    '401':{\n",
    "        \"error_permitido\":1,\n",
    "        \"recurrencia\":0.15,\n",
    "        \"intensidad\":1,\n",
    "        \"variacion\":0,\n",
    "        \"paso\":0.1,\n",
    "    },\n",
    "    '701':{\n",
    "        \"error_permitido\":5,\n",
    "        \"recurrencia\":0.25,\n",
    "        \"intensidad\":0.25,\n",
    "        \"variacion\":0.4,\n",
    "        \"paso\":0.5,\n",
    "    },\n",
    "}"
   ]
  },
  {
   "cell_type": "markdown",
   "id": "3d3cd54e",
   "metadata": {},
   "source": [
    "## Calculos"
   ]
  },
  {
   "cell_type": "markdown",
   "id": "dc39ae27",
   "metadata": {},
   "source": [
    "### Actividades realizadas por el contratista"
   ]
  },
  {
   "cell_type": "code",
   "execution_count": 28,
   "id": "141bf09d",
   "metadata": {},
   "outputs": [
    {
     "name": "stdout",
     "output_type": "stream",
     "text": [
      "['MR301', 'MR203', 'MR201', 'MR101', 'MR102', 'MR104', 'MR701', 'MR601']\n"
     ]
    }
   ],
   "source": [
    "actividades_realizadas=filtrar_claves_no_cero(cargas_trabajo)\n",
    "print(actividades_realizadas)"
   ]
  },
  {
   "cell_type": "code",
   "execution_count": 67,
   "id": "2b67ce31",
   "metadata": {},
   "outputs": [],
   "source": [
    "actividad_en_curso = '701'  # Por ejemplo, la actividad 101"
   ]
  },
  {
   "cell_type": "code",
   "execution_count": 68,
   "id": "90c43823",
   "metadata": {},
   "outputs": [],
   "source": [
    "error= actividades[actividad_en_curso][\"error_permitido\"]\n",
    "recurrencia = actividades[actividad_en_curso][\"recurrencia\"]\n",
    "intensidad = actividades[actividad_en_curso][\"intensidad\"]\n",
    "variacion = actividades[actividad_en_curso][\"variacion\"]\n",
    "paso = actividades[actividad_en_curso][\"paso\"]"
   ]
  },
  {
   "cell_type": "code",
   "execution_count": 69,
   "id": "fadffaad",
   "metadata": {},
   "outputs": [],
   "source": [
    "datos_unidades = generar_datos_errores_unidades(\n",
    "    longitud=longitud,\n",
    "    error_permitido=error,\n",
    "    recurrencia=recurrencia,\n",
    "    intensidad=intensidad,\n",
    "    variacion=variacion,\n",
    "    paso=paso,\n",
    "    # seed=23\n",
    ")"
   ]
  },
  {
   "cell_type": "code",
   "execution_count": 70,
   "id": "aaba473c",
   "metadata": {},
   "outputs": [
    {
     "data": {
      "text/html": [
       "<textarea rows=3 cols=100>0.0\t1.0\t0.0\t0.0\t0.0\t1.5\t0.0</textarea>"
      ],
      "text/plain": [
       "<IPython.core.display.HTML object>"
      ]
     },
     "metadata": {},
     "output_type": "display_data"
    }
   ],
   "source": [
    "texto_para_excel = '\\t'.join(str(round(item['error'], 2)) for item in datos_unidades)\n",
    "\n",
    "# Mostrar sin print para facilitar copiar\n",
    "from IPython.display import display, HTML\n",
    "display(HTML(f\"<textarea rows=3 cols=100>{texto_para_excel}</textarea>\"))"
   ]
  }
 ],
 "metadata": {
  "kernelspec": {
   "display_name": ".venv",
   "language": "python",
   "name": "python3"
  },
  "language_info": {
   "codemirror_mode": {
    "name": "ipython",
    "version": 3
   },
   "file_extension": ".py",
   "mimetype": "text/x-python",
   "name": "python",
   "nbconvert_exporter": "python",
   "pygments_lexer": "ipython3",
   "version": "3.12.4"
  }
 },
 "nbformat": 4,
 "nbformat_minor": 5
}
