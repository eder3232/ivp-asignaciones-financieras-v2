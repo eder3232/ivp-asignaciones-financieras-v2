{
 "cells": [
  {
   "cell_type": "markdown",
   "id": "dd10fc4e",
   "metadata": {},
   "source": [
    "# Calculadora de avance"
   ]
  },
  {
   "cell_type": "markdown",
   "id": "dd99c969",
   "metadata": {},
   "source": [
    "## Datos del proyecto"
   ]
  },
  {
   "cell_type": "code",
   "execution_count": 1,
   "id": "dc4a54ec",
   "metadata": {},
   "outputs": [],
   "source": [
    "proyecto = \"sibayo\"\n",
    "mes_en_analisis = 5\n",
    "anio = 2025"
   ]
  },
  {
   "cell_type": "markdown",
   "id": "bd7c5abb",
   "metadata": {},
   "source": [
    "## Librerias necesarias"
   ]
  },
  {
   "cell_type": "code",
   "execution_count": 2,
   "id": "ee6826df",
   "metadata": {},
   "outputs": [],
   "source": [
    "from dotenv import load_dotenv, find_dotenv\n",
    "from dotenv import load_dotenv, find_dotenv\n",
    "from functools import reduce\n",
    "from google.cloud import firestore\n",
    "from google.oauth2 import service_account\n",
    "from openpyxl import load_workbook\n",
    "from openpyxl.utils import get_column_letter\n",
    "from pathlib import Path\n",
    "from typing import Dict, List, Any\n",
    "from xlsxwriter.utility import xl_range, xl_rowcol_to_cell\n",
    "import excel2img\n",
    "import itertools\n",
    "import json\n",
    "import os\n",
    "import pandas as pd\n",
    "import pickle\n",
    "import pprint\n",
    "import re\n",
    "import win32com.client as win32\n",
    "import xlsxwriter"
   ]
  },
  {
   "cell_type": "markdown",
   "id": "c79ba77f",
   "metadata": {},
   "source": [
    "## Funciones utiles"
   ]
  },
  {
   "cell_type": "markdown",
   "id": "cff1f927",
   "metadata": {},
   "source": [
    "### Fusionar diccionarios"
   ]
  },
  {
   "cell_type": "code",
   "execution_count": 3,
   "id": "d58fe42a",
   "metadata": {},
   "outputs": [],
   "source": [
    "def fusionar_diccionarios(diccionario_de_diccionarios):\n",
    "    \"\"\"\n",
    "    Fusiona diccionarios separados en un diccionario unificado.\n",
    "    Solo incluye claves donde ambos valores sean diferentes de cero.\n",
    "    Usa dinámicamente las claves del diccionario de entrada.\n",
    "    \n",
    "    Args:\n",
    "        diccionario_de_diccionarios (dict): Diccionario con estructura:\n",
    "            {\n",
    "                \"nombre_campo1\": {clave: valor, ...},\n",
    "                \"nombre_campo2\": {clave: valor, ...}\n",
    "            }\n",
    "    \n",
    "    Returns:\n",
    "        dict: Diccionario fusionado con estructura {clave: {nombre_campo1: valor, nombre_campo2: valor}}\n",
    "    \"\"\"\n",
    "    # Obtener las claves (nombres de los campos) del diccionario principal\n",
    "    nombres_campos = list(diccionario_de_diccionarios.keys())\n",
    "    \n",
    "    if len(nombres_campos) != 2:\n",
    "        raise ValueError(\"El diccionario debe contener exactamente 2 campos\")\n",
    "    \n",
    "    campo1_nombre = nombres_campos[0]\n",
    "    campo2_nombre = nombres_campos[1]\n",
    "    \n",
    "    campo1_datos = diccionario_de_diccionarios[campo1_nombre]\n",
    "    campo2_datos = diccionario_de_diccionarios[campo2_nombre]\n",
    "    \n",
    "    fusionado = {}\n",
    "    \n",
    "    # Obtener todas las claves únicas de ambos diccionarios\n",
    "    todas_las_claves = set(campo1_datos.keys()) | set(campo2_datos.keys())\n",
    "    \n",
    "    for clave in todas_las_claves:\n",
    "        valor1 = campo1_datos.get(clave, 0)\n",
    "        valor2 = campo2_datos.get(clave, 0)\n",
    "        \n",
    "        # Solo agregar si ambos valores son diferentes de cero\n",
    "        if valor1 != 0 and valor2 != 0:\n",
    "            fusionado[clave] = {\n",
    "                campo1_nombre: valor1,\n",
    "                campo2_nombre: valor2\n",
    "            }\n",
    "    \n",
    "    return fusionado"
   ]
  },
  {
   "cell_type": "markdown",
   "id": "4332ed13",
   "metadata": {},
   "source": [
    "### Calculadora de costo total"
   ]
  },
  {
   "cell_type": "code",
   "execution_count": 4,
   "id": "49bf089c",
   "metadata": {},
   "outputs": [],
   "source": [
    "from typing import TypedDict\n",
    "\n",
    "\n",
    "class CostoIngenieriaResult(TypedDict):\n",
    "    costo_directo: float\n",
    "    gastos_generales: float\n",
    "    utilidad: float\n",
    "    subtotal: float\n",
    "    igv: float\n",
    "    total: float\n",
    "\n",
    "\n",
    "def calculadora_costo_total(costo_directo: float, gastos_generales: float) -> CostoIngenieriaResult:\n",
    "    \"\"\"\n",
    "    Calcula el costo total de un proyecto de ingeniería civil en soles peruanos.\n",
    "\n",
    "    Args:\n",
    "        costo_directo (float): Costo directo del proyecto\n",
    "\n",
    "    Returns:\n",
    "        CostoIngenieriaResult: Diccionario con todos los valores calculados\n",
    "    \"\"\"\n",
    "    # Calcular gastos generales (10% del costo directo)\n",
    "    gastos_generales = round(costo_directo * gastos_generales, 2)\n",
    "\n",
    "    # Calcular utilidad (5% del costo directo)\n",
    "    utilidad = round(costo_directo * 0.05, 2)\n",
    "\n",
    "    # Calcular subtotal\n",
    "    subtotal = round(costo_directo + gastos_generales + utilidad, 2)\n",
    "\n",
    "    # Calcular IGV (18% del subtotal)\n",
    "    igv = round(subtotal * 0.18, 2)\n",
    "\n",
    "    # Calcular total\n",
    "    total = round(subtotal + igv, 2)\n",
    "\n",
    "    return {\n",
    "        \"costo_directo\": round(costo_directo, 2),\n",
    "        \"gastos_generales\": gastos_generales,\n",
    "        \"utilidad\": utilidad,\n",
    "        \"subtotal\": subtotal,\n",
    "        \"igv\": igv,\n",
    "        \"total\": total,\n",
    "    }"
   ]
  },
  {
   "cell_type": "markdown",
   "id": "705674bf",
   "metadata": {},
   "source": [
    "### Multiplicador de precio unitario actualizado por cargas de trabajo"
   ]
  },
  {
   "cell_type": "code",
   "execution_count": 5,
   "id": "fcdfdcc1",
   "metadata": {},
   "outputs": [],
   "source": [
    "def calcular_costos_unitarios(\n",
    "    dict_precios_unitarios_actualizados, cargas_trabajo\n",
    "):\n",
    "    \"\"\"\n",
    "    Multiplica cada carga de trabajo del contratista por su precio unitario\n",
    "    correspondiente.\n",
    "\n",
    "    Si alguna clave en cargas_trabajo tiene carga > 0 y no existe\n",
    "    en dict_precios_unitarios_actualizados, levanta KeyError.\n",
    "    Claves con carga = 0 se ignoran (no dan error), y claves en precios que noprecios_uninatrios_expediente\n",
    "    están en cargas se tratan con carga = 0.\n",
    "\n",
    "    Args:\n",
    "        dict_precios_unitarios_actualizados (dict): código → precio unitario.\n",
    "        cargas_trabajo (dict): código → carga de trabajo.\n",
    "\n",
    "    Returns:\n",
    "        dict: código → precio total (precio_unitario * carga).\n",
    "\n",
    "    Raises:\n",
    "        KeyError: si alguna clave con carga > 0 en cargas_trabajo\n",
    "                  no existe en dict_precios_unitarios_actualizados.\n",
    "    \"\"\"\n",
    "    # Detectar faltantes solo para cargas > 0\n",
    "    faltantes = {\n",
    "        codigo\n",
    "        for codigo, carga in cargas_trabajo.items()\n",
    "        if carga != 0 and codigo not in dict_precios_unitarios_actualizados\n",
    "    }\n",
    "    if faltantes:\n",
    "        raise KeyError(f\"Faltan precios unitarios para las claves: {faltantes}\")\n",
    "\n",
    "    # Construir resultado: para cada precio, multiplicar por carga (0 si no hay)\n",
    "    resultado = {}\n",
    "    for codigo, precio_unitario in dict_precios_unitarios_actualizados.items():\n",
    "        carga = cargas_trabajo.get(codigo, 0)\n",
    "        resultado[codigo] = precio_unitario * carga\n",
    "\n",
    "    return resultado"
   ]
  },
  {
   "cell_type": "markdown",
   "id": "8744f61c",
   "metadata": {},
   "source": [
    "### Multiplicador de precio unitario por carga de trabajo v2"
   ]
  },
  {
   "cell_type": "code",
   "execution_count": 6,
   "id": "ba697ed1",
   "metadata": {},
   "outputs": [],
   "source": [
    "def calcular_costos_unitarios_v2(\n",
    "    dict_precios_unitarios_actualizados, cargas_trabajo\n",
    "):\n",
    "    \"\"\"\n",
    "    Multiplica cada carga de trabajo del contratista por su precio unitario\n",
    "    correspondiente.\n",
    "\n",
    "    Si alguna clave en cargas_trabajo tiene carga > 0 y no existe\n",
    "    en dict_precios_unitarios_actualizados, levanta KeyError.\n",
    "    Claves con carga = 0 se ignoran (no dan error), y claves en precios que no\n",
    "    están en cargas se tratan con carga = 0.\n",
    "\n",
    "    Args:\n",
    "        dict_precios_unitarios_actualizados (dict): código → precio unitario.\n",
    "        cargas_trabajo (dict): código → carga de trabajo.\n",
    "\n",
    "    Returns:\n",
    "        dict: código → precio total (precio_unitario * carga).\n",
    "\n",
    "    Raises:\n",
    "        KeyError: si alguna clave con carga > 0 en cargas_trabajo\n",
    "                  no existe en dict_precios_unitarios_actualizados.\n",
    "    \"\"\"\n",
    "    # Detectar faltantes solo para cargas > 0\n",
    "    faltantes = {\n",
    "        codigo\n",
    "        for codigo, carga in cargas_trabajo.items()\n",
    "        if carga != 0 and codigo not in dict_precios_unitarios_actualizados\n",
    "    }\n",
    "    if faltantes:\n",
    "        raise KeyError(f\"Faltan precios unitarios para las claves: {faltantes}\")\n",
    "\n",
    "    # Construir resultado: para cada precio, multiplicar por carga (0 si no hay)\n",
    "    resultado = {}\n",
    "    for codigo, precio_unitario in dict_precios_unitarios_actualizados.items():\n",
    "        carga = cargas_trabajo.get(codigo, 0)\n",
    "        resultado[codigo] = precio_unitario * carga\n",
    "\n",
    "    return resultado"
   ]
  },
  {
   "cell_type": "markdown",
   "id": "3440375f",
   "metadata": {},
   "source": [
    "### Sumador de diccionarios"
   ]
  },
  {
   "cell_type": "code",
   "execution_count": 7,
   "id": "fa26e993",
   "metadata": {},
   "outputs": [],
   "source": [
    "from typing import Any, Dict, Union\n",
    "\n",
    "def sumar_dicts(*dicts: Dict[Any, Any]) -> Dict[Any, Union[int, float]]:\n",
    "    \"\"\"\n",
    "    Suma múltiples diccionarios numéricos.\n",
    "\n",
    "    Args:\n",
    "        *dicts: Diccionarios con valores numéricos (int o float).\n",
    "\n",
    "    Returns:\n",
    "        Un nuevo diccionario con la suma de valores por clave.\n",
    "\n",
    "    Raises:\n",
    "        TypeError: si algún valor no es int ni float o un argumento no es dict.\n",
    "    \"\"\"\n",
    "    result: Dict[Any, Union[int, float]] = {}\n",
    "\n",
    "    for idx, d in enumerate(dicts, start=1):\n",
    "        if not isinstance(d, dict):\n",
    "            raise TypeError(f\"El argumento en posición {idx} no es un dict.\")\n",
    "        for key, value in d.items():\n",
    "            if not isinstance(value, (int, float)):\n",
    "                raise TypeError(\n",
    "                    f\"El valor para clave '{key}' en el dict {idx} \"\n",
    "                    \"no es numérico (int o float).\"\n",
    "                )\n",
    "            result[key] = result.get(key, 0) + value\n",
    "\n",
    "    return result"
   ]
  },
  {
   "cell_type": "markdown",
   "id": "516f90f1",
   "metadata": {},
   "source": [
    "## Carga de datos"
   ]
  },
  {
   "cell_type": "markdown",
   "id": "d53267ec",
   "metadata": {},
   "source": [
    "### Pickle"
   ]
  },
  {
   "cell_type": "code",
   "execution_count": 8,
   "id": "e000c967",
   "metadata": {},
   "outputs": [],
   "source": [
    "# Concatenar la ruta completa al archivo .pkl\n",
    "ruta_archivo = os.path.join(\"data\",proyecto, f\"{proyecto}_cargas_trabajo.pkl\")\n",
    "\n",
    "# Leer el archivo pickle\n",
    "with open(ruta_archivo, \"rb\") as f:\n",
    "    cargas_trabajo_programadas_anualmente = pickle.load(f)\n"
   ]
  },
  {
   "cell_type": "code",
   "execution_count": 9,
   "id": "a5233295",
   "metadata": {},
   "outputs": [
    {
     "data": {
      "text/html": [
       "<div>\n",
       "<style scoped>\n",
       "    .dataframe tbody tr th:only-of-type {\n",
       "        vertical-align: middle;\n",
       "    }\n",
       "\n",
       "    .dataframe tbody tr th {\n",
       "        vertical-align: top;\n",
       "    }\n",
       "\n",
       "    .dataframe thead th {\n",
       "        text-align: right;\n",
       "    }\n",
       "</style>\n",
       "<table border=\"1\" class=\"dataframe\">\n",
       "  <thead>\n",
       "    <tr style=\"text-align: right;\">\n",
       "      <th></th>\n",
       "      <th>2025-04</th>\n",
       "      <th>2025-05</th>\n",
       "      <th>2025-06</th>\n",
       "      <th>2025-07</th>\n",
       "      <th>2025-08</th>\n",
       "      <th>2025-09</th>\n",
       "      <th>2025-10</th>\n",
       "      <th>2025-11</th>\n",
       "      <th>2025-12</th>\n",
       "      <th>TOTAL</th>\n",
       "    </tr>\n",
       "    <tr>\n",
       "      <th>codigo</th>\n",
       "      <th></th>\n",
       "      <th></th>\n",
       "      <th></th>\n",
       "      <th></th>\n",
       "      <th></th>\n",
       "      <th></th>\n",
       "      <th></th>\n",
       "      <th></th>\n",
       "      <th></th>\n",
       "      <th></th>\n",
       "    </tr>\n",
       "  </thead>\n",
       "  <tbody>\n",
       "    <tr>\n",
       "      <th>MR112</th>\n",
       "      <td>0.000000</td>\n",
       "      <td>0.000000</td>\n",
       "      <td>0.000000</td>\n",
       "      <td>0.000000</td>\n",
       "      <td>0.000000</td>\n",
       "      <td>0.000000</td>\n",
       "      <td>0.000000</td>\n",
       "      <td>0.000000</td>\n",
       "      <td>0.000000</td>\n",
       "      <td>0.00</td>\n",
       "    </tr>\n",
       "    <tr>\n",
       "      <th>MR201</th>\n",
       "      <td>862.344000</td>\n",
       "      <td>5146.590909</td>\n",
       "      <td>1470.454545</td>\n",
       "      <td>2940.909091</td>\n",
       "      <td>2940.909091</td>\n",
       "      <td>1470.454545</td>\n",
       "      <td>8822.727273</td>\n",
       "      <td>5019.472800</td>\n",
       "      <td>3676.136364</td>\n",
       "      <td>32350.00</td>\n",
       "    </tr>\n",
       "    <tr>\n",
       "      <th>MR202</th>\n",
       "      <td>4.078824</td>\n",
       "      <td>5.098529</td>\n",
       "      <td>0.000000</td>\n",
       "      <td>2.039412</td>\n",
       "      <td>3.059118</td>\n",
       "      <td>4.078824</td>\n",
       "      <td>6.118235</td>\n",
       "      <td>8.157647</td>\n",
       "      <td>2.039412</td>\n",
       "      <td>34.67</td>\n",
       "    </tr>\n",
       "    <tr>\n",
       "      <th>MR203</th>\n",
       "      <td>0.000000</td>\n",
       "      <td>0.000000</td>\n",
       "      <td>0.000000</td>\n",
       "      <td>0.000000</td>\n",
       "      <td>0.000000</td>\n",
       "      <td>0.000000</td>\n",
       "      <td>0.000000</td>\n",
       "      <td>0.000000</td>\n",
       "      <td>0.000000</td>\n",
       "      <td>0.00</td>\n",
       "    </tr>\n",
       "    <tr>\n",
       "      <th>MR204</th>\n",
       "      <td>0.000000</td>\n",
       "      <td>0.000000</td>\n",
       "      <td>0.000000</td>\n",
       "      <td>0.000000</td>\n",
       "      <td>0.000000</td>\n",
       "      <td>0.000000</td>\n",
       "      <td>0.000000</td>\n",
       "      <td>0.000000</td>\n",
       "      <td>0.000000</td>\n",
       "      <td>0.00</td>\n",
       "    </tr>\n",
       "    <tr>\n",
       "      <th>MR205</th>\n",
       "      <td>0.000000</td>\n",
       "      <td>0.000000</td>\n",
       "      <td>0.000000</td>\n",
       "      <td>0.000000</td>\n",
       "      <td>0.000000</td>\n",
       "      <td>0.000000</td>\n",
       "      <td>0.000000</td>\n",
       "      <td>0.000000</td>\n",
       "      <td>0.000000</td>\n",
       "      <td>0.00</td>\n",
       "    </tr>\n",
       "    <tr>\n",
       "      <th>MR206</th>\n",
       "      <td>0.000000</td>\n",
       "      <td>0.000000</td>\n",
       "      <td>0.000000</td>\n",
       "      <td>0.000000</td>\n",
       "      <td>0.000000</td>\n",
       "      <td>0.000000</td>\n",
       "      <td>0.000000</td>\n",
       "      <td>0.000000</td>\n",
       "      <td>0.000000</td>\n",
       "      <td>0.00</td>\n",
       "    </tr>\n",
       "    <tr>\n",
       "      <th>MR301</th>\n",
       "      <td>1999.875000</td>\n",
       "      <td>1999.875000</td>\n",
       "      <td>1999.875000</td>\n",
       "      <td>1999.875000</td>\n",
       "      <td>1999.875000</td>\n",
       "      <td>1999.875000</td>\n",
       "      <td>1999.875000</td>\n",
       "      <td>1999.875000</td>\n",
       "      <td>0.000000</td>\n",
       "      <td>15999.00</td>\n",
       "    </tr>\n",
       "    <tr>\n",
       "      <th>MR401</th>\n",
       "      <td>16.167500</td>\n",
       "      <td>0.000000</td>\n",
       "      <td>0.000000</td>\n",
       "      <td>0.000000</td>\n",
       "      <td>0.000000</td>\n",
       "      <td>16.167500</td>\n",
       "      <td>16.167500</td>\n",
       "      <td>16.167500</td>\n",
       "      <td>0.000000</td>\n",
       "      <td>64.67</td>\n",
       "    </tr>\n",
       "    <tr>\n",
       "      <th>MR501</th>\n",
       "      <td>0.000000</td>\n",
       "      <td>0.000000</td>\n",
       "      <td>0.000000</td>\n",
       "      <td>0.000000</td>\n",
       "      <td>0.000000</td>\n",
       "      <td>0.000000</td>\n",
       "      <td>0.000000</td>\n",
       "      <td>0.000000</td>\n",
       "      <td>0.000000</td>\n",
       "      <td>0.00</td>\n",
       "    </tr>\n",
       "    <tr>\n",
       "      <th>MR601</th>\n",
       "      <td>43.003333</td>\n",
       "      <td>0.000000</td>\n",
       "      <td>43.003333</td>\n",
       "      <td>0.000000</td>\n",
       "      <td>43.003333</td>\n",
       "      <td>43.003333</td>\n",
       "      <td>43.003333</td>\n",
       "      <td>43.003333</td>\n",
       "      <td>0.000000</td>\n",
       "      <td>258.02</td>\n",
       "    </tr>\n",
       "    <tr>\n",
       "      <th>MR701</th>\n",
       "      <td>0.000000</td>\n",
       "      <td>0.000000</td>\n",
       "      <td>0.000000</td>\n",
       "      <td>0.000000</td>\n",
       "      <td>0.000000</td>\n",
       "      <td>0.000000</td>\n",
       "      <td>0.000000</td>\n",
       "      <td>0.000000</td>\n",
       "      <td>0.000000</td>\n",
       "      <td>0.00</td>\n",
       "    </tr>\n",
       "    <tr>\n",
       "      <th>MR702</th>\n",
       "      <td>0.000000</td>\n",
       "      <td>0.000000</td>\n",
       "      <td>0.000000</td>\n",
       "      <td>0.000000</td>\n",
       "      <td>0.000000</td>\n",
       "      <td>0.000000</td>\n",
       "      <td>0.000000</td>\n",
       "      <td>0.000000</td>\n",
       "      <td>0.000000</td>\n",
       "      <td>0.00</td>\n",
       "    </tr>\n",
       "    <tr>\n",
       "      <th>VP101</th>\n",
       "      <td>0.000000</td>\n",
       "      <td>242.500000</td>\n",
       "      <td>317.520000</td>\n",
       "      <td>302.400000</td>\n",
       "      <td>317.520000</td>\n",
       "      <td>332.640000</td>\n",
       "      <td>0.000000</td>\n",
       "      <td>0.000000</td>\n",
       "      <td>0.000000</td>\n",
       "      <td>0.00</td>\n",
       "    </tr>\n",
       "    <tr>\n",
       "      <th>VP102</th>\n",
       "      <td>0.000000</td>\n",
       "      <td>112.000000</td>\n",
       "      <td>147.000000</td>\n",
       "      <td>140.000000</td>\n",
       "      <td>147.000000</td>\n",
       "      <td>154.000000</td>\n",
       "      <td>0.000000</td>\n",
       "      <td>0.000000</td>\n",
       "      <td>0.000000</td>\n",
       "      <td>0.00</td>\n",
       "    </tr>\n",
       "  </tbody>\n",
       "</table>\n",
       "</div>"
      ],
      "text/plain": [
       "            2025-04      2025-05      2025-06      2025-07      2025-08  \\\n",
       "codigo                                                                    \n",
       "MR112      0.000000     0.000000     0.000000     0.000000     0.000000   \n",
       "MR201    862.344000  5146.590909  1470.454545  2940.909091  2940.909091   \n",
       "MR202      4.078824     5.098529     0.000000     2.039412     3.059118   \n",
       "MR203      0.000000     0.000000     0.000000     0.000000     0.000000   \n",
       "MR204      0.000000     0.000000     0.000000     0.000000     0.000000   \n",
       "MR205      0.000000     0.000000     0.000000     0.000000     0.000000   \n",
       "MR206      0.000000     0.000000     0.000000     0.000000     0.000000   \n",
       "MR301   1999.875000  1999.875000  1999.875000  1999.875000  1999.875000   \n",
       "MR401     16.167500     0.000000     0.000000     0.000000     0.000000   \n",
       "MR501      0.000000     0.000000     0.000000     0.000000     0.000000   \n",
       "MR601     43.003333     0.000000    43.003333     0.000000    43.003333   \n",
       "MR701      0.000000     0.000000     0.000000     0.000000     0.000000   \n",
       "MR702      0.000000     0.000000     0.000000     0.000000     0.000000   \n",
       "VP101      0.000000   242.500000   317.520000   302.400000   317.520000   \n",
       "VP102      0.000000   112.000000   147.000000   140.000000   147.000000   \n",
       "\n",
       "            2025-09      2025-10      2025-11      2025-12     TOTAL  \n",
       "codigo                                                                \n",
       "MR112      0.000000     0.000000     0.000000     0.000000      0.00  \n",
       "MR201   1470.454545  8822.727273  5019.472800  3676.136364  32350.00  \n",
       "MR202      4.078824     6.118235     8.157647     2.039412     34.67  \n",
       "MR203      0.000000     0.000000     0.000000     0.000000      0.00  \n",
       "MR204      0.000000     0.000000     0.000000     0.000000      0.00  \n",
       "MR205      0.000000     0.000000     0.000000     0.000000      0.00  \n",
       "MR206      0.000000     0.000000     0.000000     0.000000      0.00  \n",
       "MR301   1999.875000  1999.875000  1999.875000     0.000000  15999.00  \n",
       "MR401     16.167500    16.167500    16.167500     0.000000     64.67  \n",
       "MR501      0.000000     0.000000     0.000000     0.000000      0.00  \n",
       "MR601     43.003333    43.003333    43.003333     0.000000    258.02  \n",
       "MR701      0.000000     0.000000     0.000000     0.000000      0.00  \n",
       "MR702      0.000000     0.000000     0.000000     0.000000      0.00  \n",
       "VP101    332.640000     0.000000     0.000000     0.000000      0.00  \n",
       "VP102    154.000000     0.000000     0.000000     0.000000      0.00  "
      ]
     },
     "execution_count": 9,
     "metadata": {},
     "output_type": "execute_result"
    }
   ],
   "source": [
    "#eliminando el total\n",
    "cargas_trabajo_programadas_anualmente = cargas_trabajo_programadas_anualmente.iloc[:-1]\n",
    "\n",
    "cargas_trabajo_programadas_anualmente.tail(15)"
   ]
  },
  {
   "cell_type": "markdown",
   "id": "3c86fce0",
   "metadata": {},
   "source": [
    "### Firebase"
   ]
  },
  {
   "cell_type": "code",
   "execution_count": 10,
   "id": "779be10e",
   "metadata": {},
   "outputs": [
    {
     "name": "stdout",
     "output_type": "stream",
     "text": [
      "Colecciones disponibles: ['rutinarios']\n"
     ]
    }
   ],
   "source": [
    "## Datos de # 1. Busca el .env en el directorio actual o en cualquiera de los padres\n",
    "dotenv_path = find_dotenv()\n",
    "if not dotenv_path:\n",
    "    raise FileNotFoundError(\"No se encontró ningún archivo .env en este directorio ni en sus padres.\")\n",
    "load_dotenv(dotenv_path)\n",
    "\n",
    "# 2. Define el root del proyecto como la carpeta que contiene el .env\n",
    "project_root = Path(dotenv_path).parent\n",
    "\n",
    "# 3. Obtén la ruta relativa de las credenciales desde la variable de entorno\n",
    "rel_cred_path = os.getenv(\"FIRESTORE_CREDENTIALS\")\n",
    "if not rel_cred_path:\n",
    "    raise RuntimeError(\"No existe la variable FIRESTORE_CREDENTIALS en el .env\")\n",
    "\n",
    "# 4. Construye la ruta absoluta al JSON\n",
    "cred_path = Path(rel_cred_path)\n",
    "if not cred_path.is_absolute():\n",
    "    cred_path = (project_root / cred_path).resolve()\n",
    "\n",
    "if not cred_path.exists():\n",
    "    raise FileNotFoundError(f\"No existe el archivo de credenciales en: {cred_path}\")\n",
    "\n",
    "# 5. Carga las credenciales y crea el cliente de Firestore\n",
    "credentials = service_account.Credentials.from_service_account_file(str(cred_path))\n",
    "client = firestore.Client(credentials=credentials, project=credentials.project_id)\n",
    "\n",
    "# 6. Prueba que funcione\n",
    "print(\"Colecciones disponibles:\", [c.id for c in client.collections()])"
   ]
  },
  {
   "cell_type": "code",
   "execution_count": 11,
   "id": "32b85937",
   "metadata": {},
   "outputs": [],
   "source": [
    "db=firestore.Client(credentials=credentials, project=credentials.project_id)"
   ]
  },
  {
   "cell_type": "markdown",
   "id": "456d4b46",
   "metadata": {},
   "source": [
    "#### Cargas de trabajo"
   ]
  },
  {
   "cell_type": "code",
   "execution_count": 12,
   "id": "20c06102",
   "metadata": {},
   "outputs": [
    {
     "name": "stdout",
     "output_type": "stream",
     "text": [
      "{'cargas_trabajo_contratista_corregido': {'MR101': 0.86,\n",
      "                                          'MR103': 13.33,\n",
      "                                          'MR201': 5146.67,\n",
      "                                          'MR202': 5.1,\n",
      "                                          'MR301': 1999.88,\n",
      "                                          'VP101': 242.474,\n",
      "                                          'VP102': 112},\n",
      " 'cargas_trabajo_contratista_inicial': {'MR101': 0.86,\n",
      "                                        'MR103': 13.33,\n",
      "                                        'MR201': 5146.67,\n",
      "                                        'MR202': 5.1,\n",
      "                                        'MR301': 1999.88,\n",
      "                                        'VP101': 242.5,\n",
      "                                        'VP102': 112}}\n"
     ]
    }
   ],
   "source": [
    "cargas_trabajo_contratista=db.collection(\"rutinarios\").document(proyecto).collection(\"valorizaciones\").document(str(mes_en_analisis)).get().to_dict()\n",
    "\n",
    "pprint.pprint(cargas_trabajo_contratista)"
   ]
  },
  {
   "cell_type": "code",
   "execution_count": 13,
   "id": "faeaada2",
   "metadata": {},
   "outputs": [],
   "source": [
    "cargas_trabajo_contratista_corregido=cargas_trabajo_contratista['cargas_trabajo_contratista_corregido']"
   ]
  },
  {
   "cell_type": "markdown",
   "id": "341a7ea4",
   "metadata": {},
   "source": [
    "#### Expediente técnico"
   ]
  },
  {
   "cell_type": "code",
   "execution_count": 14,
   "id": "2b917a97",
   "metadata": {},
   "outputs": [
    {
     "name": "stdout",
     "output_type": "stream",
     "text": [
      "{'cargas_trabajo': {'MR101': 10.28,\n",
      "                    'MR103': 53.33,\n",
      "                    'MR104': 85.33,\n",
      "                    'MR201': 32350,\n",
      "                    'MR202': 34.67,\n",
      "                    'MR301': 15999,\n",
      "                    'MR401': 64.67,\n",
      "                    'MR601': 258.02,\n",
      "                    'VP101': 1512.58,\n",
      "                    'VP102': 700},\n",
      " 'codigo_ruta': 'AR-683',\n",
      " 'coordenadas': {'fin': {'altitud': 3629,\n",
      "                         'datum': 'WGS84',\n",
      "                         'hemisferio': 'S',\n",
      "                         'progresiva': 32252.0,\n",
      "                         'x': 220383.97,\n",
      "                         'y': 8270075.15,\n",
      "                         'zona': None,\n",
      "                         'zona_letra': None},\n",
      "                 'inicio': {'altitud': 3820,\n",
      "                            'datum': 'WGS84',\n",
      "                            'hemisferio': 'S',\n",
      "                            'progresiva': 0,\n",
      "                            'x': 226316.6,\n",
      "                            'y': 8281146.79,\n",
      "                            'zona': None,\n",
      "                            'zona_letra': None}},\n",
      " 'gastos_generales': 0.1,\n",
      " 'longitud': 32252.0,\n",
      " 'monto_total': 206413.0,\n",
      " 'nombre': 'MANTENIMIENTO VIAL RUTINARIO CAMINO VECINAL EMP. AR-111 (NUEVO '\n",
      "           'SIBAYO) - TUTI - EMP.AR-681 (DV. CHIVAY), DISTRITOS DE CHIVAY, '\n",
      "           'TUTI Y SIBAYO, PROVINCIA DE CAYLLOMA, DEPARTAMENTO DE AREQUIPA',\n",
      " 'precios_unitarios': {'MR101': 317.8,\n",
      "                       'MR103': 19.07,\n",
      "                       'MR104': 21.18,\n",
      "                       'MR201': 0.53,\n",
      "                       'MR202': 95.34,\n",
      "                       'MR301': 0.17,\n",
      "                       'MR401': 13.28,\n",
      "                       'MR601': 2.44,\n",
      "                       'VP101': 47.01,\n",
      "                       'VP102': 71.79},\n",
      " 'tarifa_km_mes': 800}\n"
     ]
    }
   ],
   "source": [
    "doc_proyecto_firebase = db.collection(\"rutinarios\").document(proyecto).get().to_dict()\n",
    "expediente_tecnico_firebase = doc_proyecto_firebase[\"expediente\"]\n",
    "\n",
    "pprint.pprint(expediente_tecnico_firebase)"
   ]
  },
  {
   "cell_type": "code",
   "execution_count": 15,
   "id": "41110b84",
   "metadata": {},
   "outputs": [
    {
     "name": "stdout",
     "output_type": "stream",
     "text": [
      "0\n",
      "32252.0\n"
     ]
    }
   ],
   "source": [
    "progresiva_inicio = expediente_tecnico_firebase[\"coordenadas\"][\n",
    "    \"inicio\"\n",
    "][\"progresiva\"]\n",
    "progresiva_fin = expediente_tecnico_firebase[\"coordenadas\"][\n",
    "    \"fin\"\n",
    "][\"progresiva\"]\n",
    "\n",
    "print(progresiva_inicio)\n",
    "print(progresiva_fin)"
   ]
  },
  {
   "cell_type": "code",
   "execution_count": 16,
   "id": "edc34512",
   "metadata": {},
   "outputs": [
    {
     "name": "stdout",
     "output_type": "stream",
     "text": [
      "0.1\n"
     ]
    }
   ],
   "source": [
    "gastos_generales_expediente=expediente_tecnico_firebase['gastos_generales']\n",
    "print(gastos_generales_expediente)"
   ]
  },
  {
   "cell_type": "markdown",
   "id": "50f6677b",
   "metadata": {},
   "source": [
    "#### Precios unitarios"
   ]
  },
  {
   "cell_type": "code",
   "execution_count": 17,
   "id": "bc5d2893",
   "metadata": {},
   "outputs": [
    {
     "name": "stdout",
     "output_type": "stream",
     "text": [
      "{'MR101': 317.8,\n",
      " 'MR103': 19.07,\n",
      " 'MR104': 21.18,\n",
      " 'MR201': 0.53,\n",
      " 'MR202': 95.34,\n",
      " 'MR301': 0.17,\n",
      " 'MR401': 13.28,\n",
      " 'MR601': 2.44,\n",
      " 'VP101': 47.01,\n",
      " 'VP102': 71.79}\n"
     ]
    }
   ],
   "source": [
    "precios_unitarios_expediente=expediente_tecnico_firebase[\"precios_unitarios\"]\n",
    "pprint.pprint(precios_unitarios_expediente)"
   ]
  },
  {
   "cell_type": "code",
   "execution_count": 18,
   "id": "08c6e489",
   "metadata": {},
   "outputs": [],
   "source": [
    "cargas_trabajo_expediente=expediente_tecnico_firebase[\"cargas_trabajo\"]"
   ]
  },
  {
   "cell_type": "code",
   "execution_count": 19,
   "id": "74b0defe",
   "metadata": {},
   "outputs": [
    {
     "name": "stdout",
     "output_type": "stream",
     "text": [
      "{'MR101': {'carga_trabajo': 10.28, 'precio_unitario': 317.8},\n",
      " 'MR103': {'carga_trabajo': 53.33, 'precio_unitario': 19.07},\n",
      " 'MR104': {'carga_trabajo': 85.33, 'precio_unitario': 21.18},\n",
      " 'MR201': {'carga_trabajo': 32350, 'precio_unitario': 0.53},\n",
      " 'MR202': {'carga_trabajo': 34.67, 'precio_unitario': 95.34},\n",
      " 'MR301': {'carga_trabajo': 15999, 'precio_unitario': 0.17},\n",
      " 'MR401': {'carga_trabajo': 64.67, 'precio_unitario': 13.28},\n",
      " 'MR601': {'carga_trabajo': 258.02, 'precio_unitario': 2.44},\n",
      " 'VP101': {'carga_trabajo': 1512.58, 'precio_unitario': 47.01},\n",
      " 'VP102': {'carga_trabajo': 700, 'precio_unitario': 71.79}}\n"
     ]
    }
   ],
   "source": [
    "costos_expediente=fusionar_diccionarios({\n",
    "    'carga_trabajo':cargas_trabajo_expediente,\n",
    "    'precio_unitario':precios_unitarios_expediente\n",
    "})\n",
    "\n",
    "pprint.pprint(costos_expediente)"
   ]
  },
  {
   "cell_type": "markdown",
   "id": "9bba3506",
   "metadata": {},
   "source": [
    "#### Contrato"
   ]
  },
  {
   "cell_type": "code",
   "execution_count": 20,
   "id": "bdb3d7bf",
   "metadata": {},
   "outputs": [
    {
     "name": "stdout",
     "output_type": "stream",
     "text": [
      "{'contratista': {'razon_social': 'PLATERS MANAGEMENT S.A.C.', 'ruc': ''},\n",
      " 'denominacion_tramo_convenio': 'EMP. AR-111 (NUEVO SIBAYO) - TUTI EMP. AR-681 '\n",
      "                                '(DV. CHIVAY) (KM 32+252)',\n",
      " 'fecha_inicio': {'anio': 2025, 'dia': 15, 'mes': 4},\n",
      " 'id_contrato': '004-2025',\n",
      " 'jefe_mantenimiento': {'apellido': 'Tinta Cáceres',\n",
      "                        'dni': 0,\n",
      "                        'nombre': 'Genaro',\n",
      "                        'titulo': 'Ingeniero'},\n",
      " 'monto_contrato': 165130.4,\n",
      " 'numero_cuadrillas': 1,\n",
      " 'numero_trabajadores': 3,\n",
      " 'tiempo_ejecucion_dias': 240,\n",
      " 'tipo_servicio': 'mantenimiento rutinario'}\n"
     ]
    }
   ],
   "source": [
    "contrato = doc_proyecto_firebase[\"contrato\"]\n",
    "pprint.pprint(contrato)"
   ]
  },
  {
   "cell_type": "code",
   "execution_count": 21,
   "id": "fcd762c3",
   "metadata": {},
   "outputs": [
    {
     "name": "stdout",
     "output_type": "stream",
     "text": [
      "165130.4\n"
     ]
    }
   ],
   "source": [
    "monto_contrato = contrato[\"monto_contrato\"]\n",
    "print(monto_contrato)"
   ]
  },
  {
   "cell_type": "markdown",
   "id": "3defbc67",
   "metadata": {},
   "source": [
    "#### Valorizaciones"
   ]
  },
  {
   "cell_type": "code",
   "execution_count": 22,
   "id": "c9928821",
   "metadata": {},
   "outputs": [
    {
     "name": "stdout",
     "output_type": "stream",
     "text": [
      "<google.cloud.firestore_v1.collection.CollectionReference object at 0x0000016255870560>\n"
     ]
    }
   ],
   "source": [
    "valorizaciones_ref = db.collection(\"rutinarios\").document(proyecto).collection('valorizaciones')\n",
    "\n",
    "pprint.pprint(valorizaciones_ref)"
   ]
  },
  {
   "cell_type": "code",
   "execution_count": 23,
   "id": "5f199af0",
   "metadata": {},
   "outputs": [
    {
     "name": "stdout",
     "output_type": "stream",
     "text": [
      "ID del documento: 4\n",
      "Datos del documento: {'cargas_trabajo_contratista_corregido': {'MR301': 1999.875, 'MR201': 864.3035, 'MR202': 4.079, 'MR601': 43.003, 'MR101': 1.71, 'MR401': 16.168}, 'cargas_trabajo_contratista': {'MR301': 3600.0, 'MR201': 2720.0, 'MR202': 6.0, 'MR601': 64.5, 'MR101': 0.86, 'MR401': 5}, 'avance': {'porcentaje_ejecutado_acumulado_vigente_mes': 0.0591530651200461, 'porcentaje_programado_vigente_mes': 0.06666666666666667, 'porcentaje_programado_acumulado_vigente_mes': 0.06666666666666667, 'porcentaje_ejecutado_vigente_mes': 0.0591530651200461}}\n",
      "------------------------------\n",
      "ID del documento: 5\n",
      "Datos del documento: {'cargas_trabajo_contratista_inicial': {'MR301': 1999.88, 'MR103': 13.33, 'MR201': 5146.67, 'MR202': 5.1, 'VP101': 242.5, 'MR101': 0.86, 'VP102': 112}, 'cargas_trabajo_contratista_corregido': {'MR301': 1999.88, 'MR103': 13.33, 'MR201': 5146.67, 'MR202': 5.1, 'VP101': 242.474, 'MR101': 0.86, 'VP102': 112}}\n",
      "------------------------------\n",
      "{'4': {'avance': {'porcentaje_ejecutado_acumulado_vigente_mes': 0.0591530651200461,\n",
      "                  'porcentaje_ejecutado_vigente_mes': 0.0591530651200461,\n",
      "                  'porcentaje_programado_acumulado_vigente_mes': 0.06666666666666667,\n",
      "                  'porcentaje_programado_vigente_mes': 0.06666666666666667},\n",
      "       'cargas_trabajo_contratista': {'MR101': 0.86,\n",
      "                                      'MR201': 2720.0,\n",
      "                                      'MR202': 6.0,\n",
      "                                      'MR301': 3600.0,\n",
      "                                      'MR401': 5,\n",
      "                                      'MR601': 64.5},\n",
      "       'cargas_trabajo_contratista_corregido': {'MR101': 1.71,\n",
      "                                                'MR201': 864.3035,\n",
      "                                                'MR202': 4.079,\n",
      "                                                'MR301': 1999.875,\n",
      "                                                'MR401': 16.168,\n",
      "                                                'MR601': 43.003}},\n",
      " '5': {'cargas_trabajo_contratista_corregido': {'MR101': 0.86,\n",
      "                                                'MR103': 13.33,\n",
      "                                                'MR201': 5146.67,\n",
      "                                                'MR202': 5.1,\n",
      "                                                'MR301': 1999.88,\n",
      "                                                'VP101': 242.474,\n",
      "                                                'VP102': 112},\n",
      "       'cargas_trabajo_contratista_inicial': {'MR101': 0.86,\n",
      "                                              'MR103': 13.33,\n",
      "                                              'MR201': 5146.67,\n",
      "                                              'MR202': 5.1,\n",
      "                                              'MR301': 1999.88,\n",
      "                                              'VP101': 242.5,\n",
      "                                              'VP102': 112}}}\n"
     ]
    }
   ],
   "source": [
    "docs = valorizaciones_ref.stream()\n",
    "\n",
    "# Iterar sobre los documentos y acceder a sus datos\n",
    "\n",
    "valorizaciones={}\n",
    "for doc in docs:\n",
    "    print(f'ID del documento: {doc.id}')\n",
    "    print(f'Datos del documento: {doc.to_dict()}')\n",
    "    print(\"-\" * 30)\n",
    "\n",
    "    valorizaciones[doc.id]=doc.to_dict()\n",
    "\n",
    "pprint.pprint(valorizaciones)"
   ]
  },
  {
   "cell_type": "markdown",
   "id": "12aaad88",
   "metadata": {},
   "source": [
    "## Cálculos"
   ]
  },
  {
   "cell_type": "markdown",
   "id": "ec2bf5a8",
   "metadata": {},
   "source": [
    "### Recalculo de precios unitarios"
   ]
  },
  {
   "cell_type": "code",
   "execution_count": 24,
   "id": "7d15560e",
   "metadata": {},
   "outputs": [],
   "source": [
    "# Crear DataFrame usando pd.DataFrame.from_dict() con orient='index'\n",
    "df_costos_expediente = pd.DataFrame.from_dict(\n",
    "    costos_expediente, orient=\"index\"\n",
    ")\n",
    "\n",
    "# Resetear el índice para convertir las claves MR en una columna\n",
    "df_costos_expediente = df_costos_expediente.reset_index().rename(\n",
    "    columns={\"index\": \"codigo_MR\"}\n",
    ")"
   ]
  },
  {
   "cell_type": "code",
   "execution_count": 25,
   "id": "3bd39287",
   "metadata": {},
   "outputs": [
    {
     "data": {
      "text/html": [
       "<div>\n",
       "<style scoped>\n",
       "    .dataframe tbody tr th:only-of-type {\n",
       "        vertical-align: middle;\n",
       "    }\n",
       "\n",
       "    .dataframe tbody tr th {\n",
       "        vertical-align: top;\n",
       "    }\n",
       "\n",
       "    .dataframe thead th {\n",
       "        text-align: right;\n",
       "    }\n",
       "</style>\n",
       "<table border=\"1\" class=\"dataframe\">\n",
       "  <thead>\n",
       "    <tr style=\"text-align: right;\">\n",
       "      <th></th>\n",
       "      <th>codigo_MR</th>\n",
       "      <th>carga_trabajo</th>\n",
       "      <th>precio_unitario</th>\n",
       "      <th>parcial</th>\n",
       "    </tr>\n",
       "  </thead>\n",
       "  <tbody>\n",
       "    <tr>\n",
       "      <th>0</th>\n",
       "      <td>MR301</td>\n",
       "      <td>15999.00</td>\n",
       "      <td>0.17</td>\n",
       "      <td>2719.8300</td>\n",
       "    </tr>\n",
       "    <tr>\n",
       "      <th>1</th>\n",
       "      <td>MR103</td>\n",
       "      <td>53.33</td>\n",
       "      <td>19.07</td>\n",
       "      <td>1017.0031</td>\n",
       "    </tr>\n",
       "    <tr>\n",
       "      <th>2</th>\n",
       "      <td>MR401</td>\n",
       "      <td>64.67</td>\n",
       "      <td>13.28</td>\n",
       "      <td>858.8176</td>\n",
       "    </tr>\n",
       "    <tr>\n",
       "      <th>3</th>\n",
       "      <td>MR104</td>\n",
       "      <td>85.33</td>\n",
       "      <td>21.18</td>\n",
       "      <td>1807.2894</td>\n",
       "    </tr>\n",
       "    <tr>\n",
       "      <th>4</th>\n",
       "      <td>MR601</td>\n",
       "      <td>258.02</td>\n",
       "      <td>2.44</td>\n",
       "      <td>629.5688</td>\n",
       "    </tr>\n",
       "  </tbody>\n",
       "</table>\n",
       "</div>"
      ],
      "text/plain": [
       "  codigo_MR  carga_trabajo  precio_unitario    parcial\n",
       "0     MR301       15999.00             0.17  2719.8300\n",
       "1     MR103          53.33            19.07  1017.0031\n",
       "2     MR401          64.67            13.28   858.8176\n",
       "3     MR104          85.33            21.18  1807.2894\n",
       "4     MR601         258.02             2.44   629.5688"
      ]
     },
     "execution_count": 25,
     "metadata": {},
     "output_type": "execute_result"
    }
   ],
   "source": [
    "# Agregar columna parcial\n",
    "df_costos_expediente[\"parcial\"] = (\n",
    "    df_costos_expediente[\"precio_unitario\"]\n",
    "    * df_costos_expediente[\"carga_trabajo\"]\n",
    ")\n",
    "df_costos_expediente.head()"
   ]
  },
  {
   "cell_type": "code",
   "execution_count": 26,
   "id": "b47d5383",
   "metadata": {},
   "outputs": [
    {
     "name": "stdout",
     "output_type": "stream",
     "text": [
      "costo_directo 152109.8165\n"
     ]
    }
   ],
   "source": [
    "costo_directo = df_costos_expediente[\"parcial\"].sum()\n",
    "print(\"costo_directo\", costo_directo)"
   ]
  },
  {
   "cell_type": "code",
   "execution_count": 27,
   "id": "0f5479af",
   "metadata": {},
   "outputs": [
    {
     "name": "stdout",
     "output_type": "stream",
     "text": [
      "206413.02\n"
     ]
    }
   ],
   "source": [
    "costo_total_expediente = calculadora_costo_total(costo_directo,gastos_generales_expediente)\n",
    "print(costo_total_expediente[\"total\"])"
   ]
  },
  {
   "cell_type": "code",
   "execution_count": 28,
   "id": "6c1f8f3e",
   "metadata": {},
   "outputs": [
    {
     "name": "stdout",
     "output_type": "stream",
     "text": [
      "El costo directo es: 121687.84140928515\n"
     ]
    }
   ],
   "source": [
    "df_costos_expediente[\"precio_unitario_actualizado\"] = (\n",
    "    df_costos_expediente[\"precio_unitario\"]\n",
    "    * (monto_contrato / costo_total_expediente[\"total\"])\n",
    ")\n",
    "\n",
    "df_costos_expediente[\"parcial_actualizado\"] = (\n",
    "    df_costos_expediente[\"precio_unitario_actualizado\"]\n",
    "    * df_costos_expediente[\"carga_trabajo\"]\n",
    ")\n",
    "\n",
    "# Calcular el total\n",
    "costo_directo_actualizado = df_costos_expediente[\"parcial_actualizado\"].sum()\n",
    "\n",
    "print(f\"El costo directo es: {costo_directo_actualizado}\")"
   ]
  },
  {
   "cell_type": "code",
   "execution_count": 29,
   "id": "6468ea72",
   "metadata": {},
   "outputs": [
    {
     "data": {
      "text/html": [
       "<div>\n",
       "<style scoped>\n",
       "    .dataframe tbody tr th:only-of-type {\n",
       "        vertical-align: middle;\n",
       "    }\n",
       "\n",
       "    .dataframe tbody tr th {\n",
       "        vertical-align: top;\n",
       "    }\n",
       "\n",
       "    .dataframe thead th {\n",
       "        text-align: right;\n",
       "    }\n",
       "</style>\n",
       "<table border=\"1\" class=\"dataframe\">\n",
       "  <thead>\n",
       "    <tr style=\"text-align: right;\">\n",
       "      <th></th>\n",
       "      <th>codigo_MR</th>\n",
       "      <th>carga_trabajo</th>\n",
       "      <th>precio_unitario</th>\n",
       "      <th>parcial</th>\n",
       "      <th>precio_unitario_actualizado</th>\n",
       "      <th>parcial_actualizado</th>\n",
       "    </tr>\n",
       "  </thead>\n",
       "  <tbody>\n",
       "    <tr>\n",
       "      <th>0</th>\n",
       "      <td>MR301</td>\n",
       "      <td>15999.00</td>\n",
       "      <td>0.17</td>\n",
       "      <td>2719.8300</td>\n",
       "      <td>0.136000</td>\n",
       "      <td>2175.863789</td>\n",
       "    </tr>\n",
       "    <tr>\n",
       "      <th>1</th>\n",
       "      <td>MR103</td>\n",
       "      <td>53.33</td>\n",
       "      <td>19.07</td>\n",
       "      <td>1017.0031</td>\n",
       "      <td>15.255999</td>\n",
       "      <td>813.602401</td>\n",
       "    </tr>\n",
       "    <tr>\n",
       "      <th>2</th>\n",
       "      <td>MR401</td>\n",
       "      <td>64.67</td>\n",
       "      <td>13.28</td>\n",
       "      <td>858.8176</td>\n",
       "      <td>10.623999</td>\n",
       "      <td>687.054013</td>\n",
       "    </tr>\n",
       "    <tr>\n",
       "      <th>3</th>\n",
       "      <td>MR104</td>\n",
       "      <td>85.33</td>\n",
       "      <td>21.18</td>\n",
       "      <td>1807.2894</td>\n",
       "      <td>16.943998</td>\n",
       "      <td>1445.831380</td>\n",
       "    </tr>\n",
       "    <tr>\n",
       "      <th>4</th>\n",
       "      <td>MR601</td>\n",
       "      <td>258.02</td>\n",
       "      <td>2.44</td>\n",
       "      <td>629.5688</td>\n",
       "      <td>1.952000</td>\n",
       "      <td>503.654991</td>\n",
       "    </tr>\n",
       "    <tr>\n",
       "      <th>5</th>\n",
       "      <td>MR202</td>\n",
       "      <td>34.67</td>\n",
       "      <td>95.34</td>\n",
       "      <td>3305.4378</td>\n",
       "      <td>76.271993</td>\n",
       "      <td>2644.349984</td>\n",
       "    </tr>\n",
       "    <tr>\n",
       "      <th>6</th>\n",
       "      <td>MR101</td>\n",
       "      <td>10.28</td>\n",
       "      <td>317.80</td>\n",
       "      <td>3266.9840</td>\n",
       "      <td>254.239975</td>\n",
       "      <td>2613.586947</td>\n",
       "    </tr>\n",
       "    <tr>\n",
       "      <th>7</th>\n",
       "      <td>VP101</td>\n",
       "      <td>1512.58</td>\n",
       "      <td>47.01</td>\n",
       "      <td>71106.3858</td>\n",
       "      <td>37.607996</td>\n",
       "      <td>56885.103128</td>\n",
       "    </tr>\n",
       "    <tr>\n",
       "      <th>8</th>\n",
       "      <td>MR201</td>\n",
       "      <td>32350.00</td>\n",
       "      <td>0.53</td>\n",
       "      <td>17145.5000</td>\n",
       "      <td>0.424000</td>\n",
       "      <td>13716.398671</td>\n",
       "    </tr>\n",
       "    <tr>\n",
       "      <th>9</th>\n",
       "      <td>VP102</td>\n",
       "      <td>700.00</td>\n",
       "      <td>71.79</td>\n",
       "      <td>50253.0000</td>\n",
       "      <td>57.431994</td>\n",
       "      <td>40202.396105</td>\n",
       "    </tr>\n",
       "  </tbody>\n",
       "</table>\n",
       "</div>"
      ],
      "text/plain": [
       "  codigo_MR  carga_trabajo  precio_unitario     parcial  \\\n",
       "0     MR301       15999.00             0.17   2719.8300   \n",
       "1     MR103          53.33            19.07   1017.0031   \n",
       "2     MR401          64.67            13.28    858.8176   \n",
       "3     MR104          85.33            21.18   1807.2894   \n",
       "4     MR601         258.02             2.44    629.5688   \n",
       "5     MR202          34.67            95.34   3305.4378   \n",
       "6     MR101          10.28           317.80   3266.9840   \n",
       "7     VP101        1512.58            47.01  71106.3858   \n",
       "8     MR201       32350.00             0.53  17145.5000   \n",
       "9     VP102         700.00            71.79  50253.0000   \n",
       "\n",
       "   precio_unitario_actualizado  parcial_actualizado  \n",
       "0                     0.136000          2175.863789  \n",
       "1                    15.255999           813.602401  \n",
       "2                    10.623999           687.054013  \n",
       "3                    16.943998          1445.831380  \n",
       "4                     1.952000           503.654991  \n",
       "5                    76.271993          2644.349984  \n",
       "6                   254.239975          2613.586947  \n",
       "7                    37.607996         56885.103128  \n",
       "8                     0.424000         13716.398671  \n",
       "9                    57.431994         40202.396105  "
      ]
     },
     "execution_count": 29,
     "metadata": {},
     "output_type": "execute_result"
    }
   ],
   "source": [
    "df_costos_expediente.head(10)"
   ]
  },
  {
   "cell_type": "code",
   "execution_count": 30,
   "id": "ea27baa1",
   "metadata": {},
   "outputs": [
    {
     "name": "stdout",
     "output_type": "stream",
     "text": [
      "{'MR101': 254.23997536589505,\n",
      " 'MR103': 15.255998521798674,\n",
      " 'MR104': 16.9439983582431,\n",
      " 'MR201': 0.4239999589173203,\n",
      " 'MR202': 76.27199260976852,\n",
      " 'MR301': 0.1359999868225367,\n",
      " 'MR401': 10.623998970607571,\n",
      " 'MR601': 1.9519998108646441,\n",
      " 'VP101': 37.60799635604382,\n",
      " 'VP102': 57.431994435234756}\n"
     ]
    }
   ],
   "source": [
    "dict_precios_unitarios_actualizados = dict(\n",
    "    zip(\n",
    "        df_costos_expediente[\"codigo_MR\"],\n",
    "        df_costos_expediente[\"precio_unitario_actualizado\"],\n",
    "    )\n",
    ")\n",
    "\n",
    "pprint.pprint(dict_precios_unitarios_actualizados)"
   ]
  },
  {
   "cell_type": "markdown",
   "id": "3afebcad",
   "metadata": {},
   "source": [
    "#### Cálculo de pago de acuerdo a cargas de trabajo"
   ]
  },
  {
   "cell_type": "code",
   "execution_count": 31,
   "id": "53cec22f",
   "metadata": {},
   "outputs": [
    {
     "name": "stdout",
     "output_type": "stream",
     "text": [
      "{'MR101': 2613.586946761401,\n",
      " 'MR103': 813.6024011675232,\n",
      " 'MR104': 1445.8313799088837,\n",
      " 'MR201': 13716.398670975312,\n",
      " 'MR202': 2644.349983780675,\n",
      " 'MR301': 2175.8637891737644,\n",
      " 'MR401': 687.0540134291916,\n",
      " 'MR601': 503.65499119929547,\n",
      " 'VP101': 56885.10312822476,\n",
      " 'VP102': 40202.39610466433}\n"
     ]
    }
   ],
   "source": [
    "pago_costo_directo_parciales_contratista = calcular_costos_unitarios(\n",
    "    dict_precios_unitarios_actualizados, cargas_trabajo_expediente\n",
    ")\n",
    "pprint.pprint(pago_costo_directo_parciales_contratista)"
   ]
  },
  {
   "cell_type": "code",
   "execution_count": 32,
   "id": "94f0dddb",
   "metadata": {},
   "outputs": [
    {
     "data": {
      "text/html": [
       "<div>\n",
       "<style scoped>\n",
       "    .dataframe tbody tr th:only-of-type {\n",
       "        vertical-align: middle;\n",
       "    }\n",
       "\n",
       "    .dataframe tbody tr th {\n",
       "        vertical-align: top;\n",
       "    }\n",
       "\n",
       "    .dataframe thead th {\n",
       "        text-align: right;\n",
       "    }\n",
       "</style>\n",
       "<table border=\"1\" class=\"dataframe\">\n",
       "  <thead>\n",
       "    <tr style=\"text-align: right;\">\n",
       "      <th></th>\n",
       "      <th>codigo_MR</th>\n",
       "      <th>monto_pago</th>\n",
       "    </tr>\n",
       "  </thead>\n",
       "  <tbody>\n",
       "    <tr>\n",
       "      <th>0</th>\n",
       "      <td>MR301</td>\n",
       "      <td>2175.863789</td>\n",
       "    </tr>\n",
       "    <tr>\n",
       "      <th>1</th>\n",
       "      <td>MR103</td>\n",
       "      <td>813.602401</td>\n",
       "    </tr>\n",
       "    <tr>\n",
       "      <th>2</th>\n",
       "      <td>MR401</td>\n",
       "      <td>687.054013</td>\n",
       "    </tr>\n",
       "    <tr>\n",
       "      <th>3</th>\n",
       "      <td>MR104</td>\n",
       "      <td>1445.831380</td>\n",
       "    </tr>\n",
       "    <tr>\n",
       "      <th>4</th>\n",
       "      <td>MR601</td>\n",
       "      <td>503.654991</td>\n",
       "    </tr>\n",
       "    <tr>\n",
       "      <th>5</th>\n",
       "      <td>MR202</td>\n",
       "      <td>2644.349984</td>\n",
       "    </tr>\n",
       "    <tr>\n",
       "      <th>6</th>\n",
       "      <td>MR101</td>\n",
       "      <td>2613.586947</td>\n",
       "    </tr>\n",
       "    <tr>\n",
       "      <th>7</th>\n",
       "      <td>VP101</td>\n",
       "      <td>56885.103128</td>\n",
       "    </tr>\n",
       "    <tr>\n",
       "      <th>8</th>\n",
       "      <td>MR201</td>\n",
       "      <td>13716.398671</td>\n",
       "    </tr>\n",
       "    <tr>\n",
       "      <th>9</th>\n",
       "      <td>VP102</td>\n",
       "      <td>40202.396105</td>\n",
       "    </tr>\n",
       "  </tbody>\n",
       "</table>\n",
       "</div>"
      ],
      "text/plain": [
       "  codigo_MR    monto_pago\n",
       "0     MR301   2175.863789\n",
       "1     MR103    813.602401\n",
       "2     MR401    687.054013\n",
       "3     MR104   1445.831380\n",
       "4     MR601    503.654991\n",
       "5     MR202   2644.349984\n",
       "6     MR101   2613.586947\n",
       "7     VP101  56885.103128\n",
       "8     MR201  13716.398671\n",
       "9     VP102  40202.396105"
      ]
     },
     "execution_count": 32,
     "metadata": {},
     "output_type": "execute_result"
    }
   ],
   "source": [
    "df_pago_costo_directo_parciales_contratista = pd.DataFrame.from_dict(\n",
    "    pago_costo_directo_parciales_contratista, orient=\"index\"\n",
    ")\n",
    "\n",
    "df_pago_costo_directo_parciales_contratista = (\n",
    "    df_pago_costo_directo_parciales_contratista.reset_index().rename(\n",
    "        columns={\"index\": \"codigo_MR\"}\n",
    "    )\n",
    ")\n",
    "\n",
    "df_pago_costo_directo_parciales_contratista = (\n",
    "    df_pago_costo_directo_parciales_contratista.rename(columns={0: \"monto_pago\"})\n",
    ")\n",
    "\n",
    "df_pago_costo_directo_parciales_contratista"
   ]
  },
  {
   "cell_type": "code",
   "execution_count": 33,
   "id": "54e4b2df",
   "metadata": {},
   "outputs": [],
   "source": [
    "sumar_valores = lambda d: sum(d.values())"
   ]
  },
  {
   "cell_type": "code",
   "execution_count": 34,
   "id": "f0e9e62c",
   "metadata": {},
   "outputs": [
    {
     "name": "stdout",
     "output_type": "stream",
     "text": [
      "121687.84140928513\n"
     ]
    }
   ],
   "source": [
    "pago_costo_directo_contratista = sumar_valores(pago_costo_directo_parciales_contratista)\n",
    "print(pago_costo_directo_contratista)"
   ]
  },
  {
   "cell_type": "code",
   "execution_count": 35,
   "id": "bb8bfdc3",
   "metadata": {},
   "outputs": [
    {
     "name": "stdout",
     "output_type": "stream",
     "text": [
      "165130.39\n"
     ]
    }
   ],
   "source": [
    "pago_costo_total_contratista = calculadora_costo_total(pago_costo_directo_contratista,gastos_generales_expediente)\n",
    "print(pago_costo_total_contratista[\"total\"])"
   ]
  },
  {
   "cell_type": "markdown",
   "id": "e03e46f3",
   "metadata": {},
   "source": [
    "#### Validación"
   ]
  },
  {
   "cell_type": "code",
   "execution_count": 36,
   "id": "05b2d4af",
   "metadata": {},
   "outputs": [
    {
     "name": "stdout",
     "output_type": "stream",
     "text": [
      "{'contrato': 165130.4,\n",
      " 'costos_unitarios': 165130.39,\n",
      " 'diferencia_costos': 0.009999999980209395}\n"
     ]
    }
   ],
   "source": [
    "diferencia_costos = abs(\n",
    "    pago_costo_total_contratista[\"total\"]\n",
    "    - monto_contrato\n",
    ")\n",
    "\n",
    "pprint.pprint(\n",
    "    {\n",
    "        \"diferencia_costos\": diferencia_costos,\n",
    "        \"contrato\": monto_contrato,\n",
    "        \"costos_unitarios\": pago_costo_total_contratista[\"total\"],\n",
    "    }\n",
    ")\n",
    "\n",
    "if diferencia_costos > 1:\n",
    "    raise ValueError(\n",
    "        \"La valorizacion de las actividades presentadas por el contratista no es coherente con lo programado\"\n",
    "    )"
   ]
  },
  {
   "cell_type": "markdown",
   "id": "a7e8ce98",
   "metadata": {},
   "source": [
    "#### Cálculo de cargas de trabajo ejecutadas del contratista"
   ]
  },
  {
   "cell_type": "markdown",
   "id": "8110317f",
   "metadata": {},
   "source": [
    "##### Mes en curso"
   ]
  },
  {
   "cell_type": "code",
   "execution_count": 37,
   "id": "eb258983",
   "metadata": {},
   "outputs": [
    {
     "name": "stdout",
     "output_type": "stream",
     "text": [
      "{'MR101': 0.86,\n",
      " 'MR103': 13.33,\n",
      " 'MR201': 5146.67,\n",
      " 'MR202': 5.1,\n",
      " 'MR301': 1999.88,\n",
      " 'VP101': 242.474,\n",
      " 'VP102': 112}\n"
     ]
    }
   ],
   "source": [
    "cargas_trabajo_contratista_current_month=valorizaciones[str(mes_en_analisis)]['cargas_trabajo_contratista_corregido']\n",
    "pprint.pprint(cargas_trabajo_contratista_current_month)"
   ]
  },
  {
   "cell_type": "markdown",
   "id": "7c13bd42",
   "metadata": {},
   "source": [
    "##### Acumulado"
   ]
  },
  {
   "cell_type": "code",
   "execution_count": 38,
   "id": "941bf599",
   "metadata": {},
   "outputs": [
    {
     "name": "stdout",
     "output_type": "stream",
     "text": [
      "{'MR101': 2.57,\n",
      " 'MR103': 13.33,\n",
      " 'MR201': 6010.9735,\n",
      " 'MR202': 9.178999999999998,\n",
      " 'MR301': 3999.755,\n",
      " 'MR401': 16.168,\n",
      " 'MR601': 43.003,\n",
      " 'VP101': 242.474,\n",
      " 'VP102': 112}\n"
     ]
    }
   ],
   "source": [
    "cargas_trabajo_ejecutadas_acumuladas={}\n",
    "for v in valorizaciones:\n",
    "    if(int(v)<=mes_en_analisis):\n",
    "        cargas_trabajo_ejecutadas_acumuladas=sumar_dicts(cargas_trabajo_ejecutadas_acumuladas,valorizaciones[v]['cargas_trabajo_contratista_corregido'])\n",
    "\n",
    "pprint.pprint(cargas_trabajo_ejecutadas_acumuladas)"
   ]
  },
  {
   "cell_type": "markdown",
   "id": "60864baa",
   "metadata": {},
   "source": [
    "#### Cálculo de cargas de trabajo programadas"
   ]
  },
  {
   "cell_type": "markdown",
   "id": "ad1e9ad6",
   "metadata": {},
   "source": [
    "##### Mes en curso"
   ]
  },
  {
   "cell_type": "code",
   "execution_count": 39,
   "id": "76718d75",
   "metadata": {},
   "outputs": [
    {
     "name": "stdout",
     "output_type": "stream",
     "text": [
      "{'MR101': 0.856666667,\n",
      " 'MR102': 0.0,\n",
      " 'MR103': 13.3325,\n",
      " 'MR104': 0.0,\n",
      " 'MR111': 0.0,\n",
      " 'MR112': 0.0,\n",
      " 'MR201': 5146.590909,\n",
      " 'MR202': 5.098529412,\n",
      " 'MR203': 0.0,\n",
      " 'MR204': 0.0,\n",
      " 'MR205': 0.0,\n",
      " 'MR206': 0.0,\n",
      " 'MR301': 1999.875,\n",
      " 'MR401': 0.0,\n",
      " 'MR501': 0.0,\n",
      " 'MR601': 0.0,\n",
      " 'MR701': 0.0,\n",
      " 'MR702': 0.0,\n",
      " 'VP101': 242.5,\n",
      " 'VP102': 112.0}\n"
     ]
    }
   ],
   "source": [
    "cargas_trabajo_programadas_current_month = cargas_trabajo_programadas_anualmente[f\"2025-{mes_en_analisis:02d}\"].to_dict()\n",
    "pprint.pprint(cargas_trabajo_programadas_current_month)"
   ]
  },
  {
   "cell_type": "markdown",
   "id": "bb649bc5",
   "metadata": {},
   "source": [
    "##### Acumulado"
   ]
  },
  {
   "cell_type": "code",
   "execution_count": 40,
   "id": "7ae33cf7",
   "metadata": {},
   "outputs": [],
   "source": [
    "cargas_trabajo_programadas_anualmente.drop(columns=['TOTAL'], inplace=True)"
   ]
  },
  {
   "cell_type": "code",
   "execution_count": 41,
   "id": "d6a4632b",
   "metadata": {},
   "outputs": [
    {
     "name": "stdout",
     "output_type": "stream",
     "text": [
      "{4: {'MR101': 1.713333333,\n",
      "     'MR102': 0.0,\n",
      "     'MR103': 0.0,\n",
      "     'MR104': 0.0,\n",
      "     'MR111': 0.0,\n",
      "     'MR112': 0.0,\n",
      "     'MR201': 862.344,\n",
      "     'MR202': 4.078823529,\n",
      "     'MR203': 0.0,\n",
      "     'MR204': 0.0,\n",
      "     'MR205': 0.0,\n",
      "     'MR206': 0.0,\n",
      "     'MR301': 1999.875,\n",
      "     'MR401': 16.1675,\n",
      "     'MR501': 0.0,\n",
      "     'MR601': 43.00333333,\n",
      "     'MR701': 0.0,\n",
      "     'MR702': 0.0,\n",
      "     'VP101': 0.0,\n",
      "     'VP102': 0.0},\n",
      " 5: {'MR101': 0.856666667,\n",
      "     'MR102': 0.0,\n",
      "     'MR103': 13.3325,\n",
      "     'MR104': 0.0,\n",
      "     'MR111': 0.0,\n",
      "     'MR112': 0.0,\n",
      "     'MR201': 5146.590909,\n",
      "     'MR202': 5.098529412,\n",
      "     'MR203': 0.0,\n",
      "     'MR204': 0.0,\n",
      "     'MR205': 0.0,\n",
      "     'MR206': 0.0,\n",
      "     'MR301': 1999.875,\n",
      "     'MR401': 0.0,\n",
      "     'MR501': 0.0,\n",
      "     'MR601': 0.0,\n",
      "     'MR701': 0.0,\n",
      "     'MR702': 0.0,\n",
      "     'VP101': 242.5,\n",
      "     'VP102': 112.0},\n",
      " 6: {'MR101': 0.856666667,\n",
      "     'MR102': 0.0,\n",
      "     'MR103': 13.3325,\n",
      "     'MR104': 14.22166667,\n",
      "     'MR111': 0.0,\n",
      "     'MR112': 0.0,\n",
      "     'MR201': 1470.454545,\n",
      "     'MR202': 0.0,\n",
      "     'MR203': 0.0,\n",
      "     'MR204': 0.0,\n",
      "     'MR205': 0.0,\n",
      "     'MR206': 0.0,\n",
      "     'MR301': 1999.875,\n",
      "     'MR401': 0.0,\n",
      "     'MR501': 0.0,\n",
      "     'MR601': 43.00333333,\n",
      "     'MR701': 0.0,\n",
      "     'MR702': 0.0,\n",
      "     'VP101': 317.52,\n",
      "     'VP102': 147.0},\n",
      " 7: {'MR101': 1.713333333,\n",
      "     'MR102': 0.0,\n",
      "     'MR103': 0.0,\n",
      "     'MR104': 14.22166667,\n",
      "     'MR111': 0.0,\n",
      "     'MR112': 0.0,\n",
      "     'MR201': 2940.909091,\n",
      "     'MR202': 2.039411765,\n",
      "     'MR203': 0.0,\n",
      "     'MR204': 0.0,\n",
      "     'MR205': 0.0,\n",
      "     'MR206': 0.0,\n",
      "     'MR301': 1999.875,\n",
      "     'MR401': 0.0,\n",
      "     'MR501': 0.0,\n",
      "     'MR601': 0.0,\n",
      "     'MR701': 0.0,\n",
      "     'MR702': 0.0,\n",
      "     'VP101': 302.4,\n",
      "     'VP102': 140.0},\n",
      " 8: {'MR101': 1.713333333,\n",
      "     'MR102': 0.0,\n",
      "     'MR103': 0.0,\n",
      "     'MR104': 14.22166667,\n",
      "     'MR111': 0.0,\n",
      "     'MR112': 0.0,\n",
      "     'MR201': 2940.909091,\n",
      "     'MR202': 3.059117647,\n",
      "     'MR203': 0.0,\n",
      "     'MR204': 0.0,\n",
      "     'MR205': 0.0,\n",
      "     'MR206': 0.0,\n",
      "     'MR301': 1999.875,\n",
      "     'MR401': 0.0,\n",
      "     'MR501': 0.0,\n",
      "     'MR601': 43.00333333,\n",
      "     'MR701': 0.0,\n",
      "     'MR702': 0.0,\n",
      "     'VP101': 317.52,\n",
      "     'VP102': 147.0},\n",
      " 9: {'MR101': 0.856666667,\n",
      "     'MR102': 0.0,\n",
      "     'MR103': 13.3325,\n",
      "     'MR104': 14.22166667,\n",
      "     'MR111': 0.0,\n",
      "     'MR112': 0.0,\n",
      "     'MR201': 1470.454545,\n",
      "     'MR202': 4.078823529,\n",
      "     'MR203': 0.0,\n",
      "     'MR204': 0.0,\n",
      "     'MR205': 0.0,\n",
      "     'MR206': 0.0,\n",
      "     'MR301': 1999.875,\n",
      "     'MR401': 16.1675,\n",
      "     'MR501': 0.0,\n",
      "     'MR601': 43.00333333,\n",
      "     'MR701': 0.0,\n",
      "     'MR702': 0.0,\n",
      "     'VP101': 332.64,\n",
      "     'VP102': 154.0},\n",
      " 10: {'MR101': 0.856666667,\n",
      "      'MR102': 0.0,\n",
      "      'MR103': 0.0,\n",
      "      'MR104': 14.22166667,\n",
      "      'MR111': 0.0,\n",
      "      'MR112': 0.0,\n",
      "      'MR201': 8822.727273,\n",
      "      'MR202': 6.118235294,\n",
      "      'MR203': 0.0,\n",
      "      'MR204': 0.0,\n",
      "      'MR205': 0.0,\n",
      "      'MR206': 0.0,\n",
      "      'MR301': 1999.875,\n",
      "      'MR401': 16.1675,\n",
      "      'MR501': 0.0,\n",
      "      'MR601': 43.00333333,\n",
      "      'MR701': 0.0,\n",
      "      'MR702': 0.0,\n",
      "      'VP101': 0.0,\n",
      "      'VP102': 0.0},\n",
      " 11: {'MR101': 0.856666667,\n",
      "      'MR102': 0.0,\n",
      "      'MR103': 13.3325,\n",
      "      'MR104': 14.22166667,\n",
      "      'MR111': 0.0,\n",
      "      'MR112': 0.0,\n",
      "      'MR201': 5019.4728,\n",
      "      'MR202': 8.157647059,\n",
      "      'MR203': 0.0,\n",
      "      'MR204': 0.0,\n",
      "      'MR205': 0.0,\n",
      "      'MR206': 0.0,\n",
      "      'MR301': 1999.875,\n",
      "      'MR401': 16.1675,\n",
      "      'MR501': 0.0,\n",
      "      'MR601': 43.00333333,\n",
      "      'MR701': 0.0,\n",
      "      'MR702': 0.0,\n",
      "      'VP101': 0.0,\n",
      "      'VP102': 0.0},\n",
      " 12: {'MR101': 0.856666667,\n",
      "      'MR102': 0.0,\n",
      "      'MR103': 0.0,\n",
      "      'MR104': 0.0,\n",
      "      'MR111': 0.0,\n",
      "      'MR112': 0.0,\n",
      "      'MR201': 3676.136364,\n",
      "      'MR202': 2.039411765,\n",
      "      'MR203': 0.0,\n",
      "      'MR204': 0.0,\n",
      "      'MR205': 0.0,\n",
      "      'MR206': 0.0,\n",
      "      'MR301': 0.0,\n",
      "      'MR401': 0.0,\n",
      "      'MR501': 0.0,\n",
      "      'MR601': 0.0,\n",
      "      'MR701': 0.0,\n",
      "      'MR702': 0.0,\n",
      "      'VP101': 0.0,\n",
      "      'VP102': 0.0}}\n"
     ]
    }
   ],
   "source": [
    "# Asumiendo que tu dataframe se llama 'df'\n",
    "cargas_trabajo_programadas_anualmente_dict = {}\n",
    "\n",
    "# Iterar por las columnas del dataframe (excluyendo la columna 'codigo' si existe)\n",
    "for columna in cargas_trabajo_programadas_anualmente.columns:\n",
    "    if columna != 'codigo':  # Excluir la columna de códigos\n",
    "        # Extraer el mes de la columna (formato \"2025-MM\")\n",
    "        mes = int(columna.split('-')[1])  # Esto convierte \"04\" a 4, \"12\" a 12\n",
    "        \n",
    "        # Crear el diccionario interno para este mes\n",
    "        cargas_trabajo_programadas_anualmente_dict[mes] = {}\n",
    "        \n",
    "        # Llenar el diccionario con los códigos y valores\n",
    "        for codigo in cargas_trabajo_programadas_anualmente.index:  # Asumiendo que 'codigo' es el índice\n",
    "            cargas_trabajo_programadas_anualmente_dict[mes][codigo] = float(cargas_trabajo_programadas_anualmente.loc[codigo, columna])\n",
    "\n",
    "pprint.pprint(cargas_trabajo_programadas_anualmente_dict)"
   ]
  },
  {
   "cell_type": "code",
   "execution_count": 42,
   "id": "fa397e5b",
   "metadata": {},
   "outputs": [
    {
     "name": "stdout",
     "output_type": "stream",
     "text": [
      "{'MR101': 2.5700000000000003,\n",
      " 'MR102': 0.0,\n",
      " 'MR103': 13.3325,\n",
      " 'MR104': 0.0,\n",
      " 'MR111': 0.0,\n",
      " 'MR112': 0.0,\n",
      " 'MR201': 6008.934909,\n",
      " 'MR202': 9.177352941,\n",
      " 'MR203': 0.0,\n",
      " 'MR204': 0.0,\n",
      " 'MR205': 0.0,\n",
      " 'MR206': 0.0,\n",
      " 'MR301': 3999.75,\n",
      " 'MR401': 16.1675,\n",
      " 'MR501': 0.0,\n",
      " 'MR601': 43.00333333,\n",
      " 'MR701': 0.0,\n",
      " 'MR702': 0.0,\n",
      " 'VP101': 242.5,\n",
      " 'VP102': 112.0}\n"
     ]
    }
   ],
   "source": [
    "cargas_trabajo_programadas_acumuladas={}\n",
    "\n",
    "for v in cargas_trabajo_programadas_anualmente_dict:\n",
    "    if(int(v)<=mes_en_analisis):\n",
    "        cargas_trabajo_programadas_acumuladas=sumar_dicts(cargas_trabajo_programadas_acumuladas,cargas_trabajo_programadas_anualmente_dict[v])\n",
    "\n",
    "pprint.pprint(cargas_trabajo_programadas_acumuladas)"
   ]
  },
  {
   "cell_type": "markdown",
   "id": "9770fe29",
   "metadata": {},
   "source": [
    "#### Avance valorizado ejecutado"
   ]
  },
  {
   "cell_type": "markdown",
   "id": "8ee89f69",
   "metadata": {},
   "source": [
    "##### Mensual"
   ]
  },
  {
   "cell_type": "code",
   "execution_count": 43,
   "id": "0027d29d",
   "metadata": {},
   "outputs": [
    {
     "name": "stdout",
     "output_type": "stream",
     "text": [
      "{'MR101': 218.64637881466973,\n",
      " 'MR103': 203.3624602955763,\n",
      " 'MR104': 0.0,\n",
      " 'MR201': 2182.187868561005,\n",
      " 'MR202': 388.98716230981944,\n",
      " 'MR301': 271.9836536466547,\n",
      " 'MR401': 0.0,\n",
      " 'MR601': 0.0,\n",
      " 'VP101': 9118.96130843537,\n",
      " 'VP102': 6432.383376746293}\n"
     ]
    }
   ],
   "source": [
    "avance_valorizado_ejecutado=calcular_costos_unitarios_v2(dict_precios_unitarios_actualizados=dict_precios_unitarios_actualizados,cargas_trabajo=cargas_trabajo_contratista_current_month)\n",
    "\n",
    "pprint.pprint(avance_valorizado_ejecutado)"
   ]
  },
  {
   "cell_type": "code",
   "execution_count": 44,
   "id": "b7c87464",
   "metadata": {},
   "outputs": [
    {
     "name": "stdout",
     "output_type": "stream",
     "text": [
      "18816.51220880939\n"
     ]
    }
   ],
   "source": [
    "sumar_valores = lambda d: sum(d.values())\n",
    "costo_directo_avance_valorizado_ejecutado=sumar_valores(avance_valorizado_ejecutado)\n",
    "print(costo_directo_avance_valorizado_ejecutado)"
   ]
  },
  {
   "cell_type": "code",
   "execution_count": 45,
   "id": "b35674fa",
   "metadata": {},
   "outputs": [
    {
     "name": "stdout",
     "output_type": "stream",
     "text": [
      "25534.01\n"
     ]
    }
   ],
   "source": [
    "costo_total_avance_valorizado_ejecutado = calculadora_costo_total(costo_directo_avance_valorizado_ejecutado,gastos_generales_expediente)\n",
    "print(costo_total_avance_valorizado_ejecutado[\"total\"])"
   ]
  },
  {
   "cell_type": "markdown",
   "id": "aba144f9",
   "metadata": {},
   "source": [
    "##### Acumulado"
   ]
  },
  {
   "cell_type": "code",
   "execution_count": 46,
   "id": "13ffdb09",
   "metadata": {},
   "outputs": [
    {
     "name": "stdout",
     "output_type": "stream",
     "text": [
      "{'MR101': 653.3967366903503,\n",
      " 'MR103': 203.3624602955763,\n",
      " 'MR104': 0.0,\n",
      " 'MR201': 2548.652517053101,\n",
      " 'MR202': 700.1006201650652,\n",
      " 'MR301': 543.9666272933753,\n",
      " 'MR401': 171.76881535678322,\n",
      " 'MR601': 83.94184786661229,\n",
      " 'VP101': 9118.96130843537,\n",
      " 'VP102': 6432.383376746293}\n"
     ]
    }
   ],
   "source": [
    "avance_valorizado_ejecutado_acumulado=calcular_costos_unitarios_v2(dict_precios_unitarios_actualizados=dict_precios_unitarios_actualizados,cargas_trabajo=cargas_trabajo_ejecutadas_acumuladas)\n",
    "\n",
    "pprint.pprint(avance_valorizado_ejecutado_acumulado)"
   ]
  },
  {
   "cell_type": "code",
   "execution_count": 47,
   "id": "48fd9594",
   "metadata": {},
   "outputs": [
    {
     "name": "stdout",
     "output_type": "stream",
     "text": [
      "20456.534309902527\n"
     ]
    }
   ],
   "source": [
    "sumar_valores = lambda d: sum(d.values())\n",
    "costo_directo_avance_valorizado_ejecutado_acumulado=sumar_valores(avance_valorizado_ejecutado_acumulado)\n",
    "print(costo_directo_avance_valorizado_ejecutado_acumulado)"
   ]
  },
  {
   "cell_type": "code",
   "execution_count": 48,
   "id": "b136d445",
   "metadata": {},
   "outputs": [
    {
     "name": "stdout",
     "output_type": "stream",
     "text": [
      "27759.51\n"
     ]
    }
   ],
   "source": [
    "costo_total_avance_valorizado_ejecutado_acumulado = calculadora_costo_total(costo_directo_avance_valorizado_ejecutado_acumulado,gastos_generales_expediente)\n",
    "print(costo_total_avance_valorizado_ejecutado_acumulado[\"total\"])"
   ]
  },
  {
   "cell_type": "markdown",
   "id": "38369abe",
   "metadata": {},
   "source": [
    "### Avance valorizado programado"
   ]
  },
  {
   "cell_type": "markdown",
   "id": "aa37f446",
   "metadata": {},
   "source": [
    "#### Mensual"
   ]
  },
  {
   "cell_type": "code",
   "execution_count": 49,
   "id": "f6f52f85",
   "metadata": {},
   "outputs": [
    {
     "name": "stdout",
     "output_type": "stream",
     "text": [
      "{'MR101': 218.64637881466973,\n",
      " 'MR103': 203.3624602955763,\n",
      " 'MR104': 0.0,\n",
      " 'MR201': 2182.187868561005,\n",
      " 'MR202': 388.98716230981944,\n",
      " 'MR301': 271.9836536466547,\n",
      " 'MR401': 0.0,\n",
      " 'MR601': 0.0,\n",
      " 'VP101': 9118.96130843537,\n",
      " 'VP102': 6432.383376746293}\n"
     ]
    }
   ],
   "source": [
    "avance_valorizado_programado=calcular_costos_unitarios_v2(dict_precios_unitarios_actualizados=dict_precios_unitarios_actualizados,cargas_trabajo=cargas_trabajo_programadas_current_month)\n",
    "\n",
    "pprint.pprint(avance_valorizado_ejecutado)"
   ]
  },
  {
   "cell_type": "code",
   "execution_count": 50,
   "id": "181f5760",
   "metadata": {},
   "outputs": [
    {
     "name": "stdout",
     "output_type": "stream",
     "text": [
      "18816.53431095339\n"
     ]
    }
   ],
   "source": [
    "sumar_valores = lambda d: sum(d.values())\n",
    "costo_directo_avance_valorizado_programado=sumar_valores(avance_valorizado_programado)\n",
    "print(costo_directo_avance_valorizado_programado)"
   ]
  },
  {
   "cell_type": "code",
   "execution_count": 51,
   "id": "491b0192",
   "metadata": {},
   "outputs": [
    {
     "name": "stdout",
     "output_type": "stream",
     "text": [
      "25534.03\n"
     ]
    }
   ],
   "source": [
    "costo_total_avance_valorizado_programado = calculadora_costo_total(costo_directo_avance_valorizado_programado,gastos_generales_expediente)\n",
    "print(costo_total_avance_valorizado_programado[\"total\"])"
   ]
  },
  {
   "cell_type": "markdown",
   "id": "7a0474be",
   "metadata": {},
   "source": [
    "#### Acumulado"
   ]
  },
  {
   "cell_type": "code",
   "execution_count": 52,
   "id": "ffc1c35b",
   "metadata": {},
   "outputs": [
    {
     "name": "stdout",
     "output_type": "stream",
     "text": [
      "{'MR101': 653.3967366903504,\n",
      " 'MR103': 203.4006002918808,\n",
      " 'MR104': 0.0,\n",
      " 'MR201': 2547.7881545528517,\n",
      " 'MR202': 699.9749956931894,\n",
      " 'MR301': 543.9659472934411,\n",
      " 'MR401': 171.7635033572979,\n",
      " 'MR601': 83.94249852670924,\n",
      " 'VP101': 9119.939116340627,\n",
      " 'VP102': 6432.383376746293}\n"
     ]
    }
   ],
   "source": [
    "avance_valorizado_programado_acumulado=calcular_costos_unitarios_v2(dict_precios_unitarios_actualizados=dict_precios_unitarios_actualizados,cargas_trabajo=cargas_trabajo_programadas_acumuladas)\n",
    "\n",
    "pprint.pprint(avance_valorizado_programado_acumulado)"
   ]
  },
  {
   "cell_type": "code",
   "execution_count": 53,
   "id": "56cbc637",
   "metadata": {},
   "outputs": [
    {
     "name": "stdout",
     "output_type": "stream",
     "text": [
      "20456.554929492642\n"
     ]
    }
   ],
   "source": [
    "sumar_valores = lambda d: sum(d.values())\n",
    "costo_directo_avance_valorizado_programado_acumulado=sumar_valores(avance_valorizado_programado_acumulado)\n",
    "print(costo_directo_avance_valorizado_programado_acumulado)"
   ]
  },
  {
   "cell_type": "code",
   "execution_count": 54,
   "id": "13e73689",
   "metadata": {},
   "outputs": [
    {
     "name": "stdout",
     "output_type": "stream",
     "text": [
      "27759.55\n"
     ]
    }
   ],
   "source": [
    "costo_total_avance_valorizado_programado_acumulado = calculadora_costo_total(costo_directo_avance_valorizado_programado_acumulado,gastos_generales_expediente)\n",
    "print(costo_total_avance_valorizado_programado_acumulado[\"total\"])"
   ]
  },
  {
   "cell_type": "markdown",
   "id": "0131ffe6",
   "metadata": {},
   "source": [
    "### Resultados"
   ]
  },
  {
   "cell_type": "code",
   "execution_count": 55,
   "id": "d609a448",
   "metadata": {},
   "outputs": [
    {
     "name": "stdout",
     "output_type": "stream",
     "text": [
      "porcentaje_avance_ejecutado=0.1546293716965501\n",
      "porcentaje_avance_ejecutado_acumulado=0.16810659939054226\n",
      "porcentaje_avance_programado=0.15462949281295268\n",
      "porcentaje_avance_programado_acumulado=0.16810684162334738\n"
     ]
    }
   ],
   "source": [
    "porcentaje_avance_ejecutado = (\n",
    "    costo_total_avance_valorizado_ejecutado[\"total\"] / monto_contrato\n",
    ")\n",
    "porcentaje_avance_ejecutado_acumulado = (\n",
    "    costo_total_avance_valorizado_ejecutado_acumulado[\"total\"] / monto_contrato\n",
    ")\n",
    "porcentaje_avance_programado = (\n",
    "    costo_total_avance_valorizado_programado[\"total\"] / monto_contrato\n",
    ")\n",
    "porcentaje_avance_programado_acumulado = (\n",
    "    costo_total_avance_valorizado_programado_acumulado[\"total\"] / monto_contrato\n",
    ")\n",
    "\n",
    "print(\n",
    "    f\"{porcentaje_avance_ejecutado=}\\n{porcentaje_avance_ejecutado_acumulado=}\\n{porcentaje_avance_programado=}\\n{porcentaje_avance_programado_acumulado=}\"\n",
    ")"
   ]
  },
  {
   "cell_type": "code",
   "execution_count": 56,
   "id": "6b0d200b",
   "metadata": {},
   "outputs": [],
   "source": [
    "data_to_print={\n",
    "    \"porcentaje_avance_ejecutado\":porcentaje_avance_ejecutado,\n",
    "    \"porcentaje_avance_ejecutado_acumulado\":porcentaje_avance_ejecutado_acumulado,\n",
    "    \"porcentaje_avance_programado\":porcentaje_avance_programado,\n",
    "    \"porcentaje_avance_programado_acumulado\":porcentaje_avance_programado_acumulado\n",
    "}"
   ]
  },
  {
   "cell_type": "code",
   "execution_count": 57,
   "id": "5a3caff0",
   "metadata": {},
   "outputs": [],
   "source": [
    "ruta_directorio = os.path.join(\"output\", proyecto, str(mes_en_analisis))\n",
    "ruta_archivo = os.path.join(ruta_directorio, \"cargas_trabajo.json\")\n",
    "\n",
    "# Crear el directorio si no existe\n",
    "os.makedirs(ruta_directorio, exist_ok=True)\n",
    "# Guardar el diccionario en un archivo JSON\n",
    "\n",
    "with open(ruta_archivo, \"w\", encoding=\"utf-8\") as archivo_json:\n",
    "    json.dump(data_to_print, archivo_json, ensure_ascii=False, indent=4)"
   ]
  }
 ],
 "metadata": {
  "kernelspec": {
   "display_name": ".venv",
   "language": "python",
   "name": "python3"
  },
  "language_info": {
   "codemirror_mode": {
    "name": "ipython",
    "version": 3
   },
   "file_extension": ".py",
   "mimetype": "text/x-python",
   "name": "python",
   "nbconvert_exporter": "python",
   "pygments_lexer": "ipython3",
   "version": "3.12.4"
  }
 },
 "nbformat": 4,
 "nbformat_minor": 5
}
