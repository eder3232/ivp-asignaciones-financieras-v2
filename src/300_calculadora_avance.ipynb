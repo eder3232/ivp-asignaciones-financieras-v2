{
 "cells": [
  {
   "cell_type": "markdown",
   "id": "dd10fc4e",
   "metadata": {},
   "source": [
    "# Calculadora de avance"
   ]
  },
  {
   "cell_type": "markdown",
   "id": "dd99c969",
   "metadata": {},
   "source": [
    "## Datos del proyecto"
   ]
  },
  {
   "cell_type": "code",
   "execution_count": 254,
   "id": "dc4a54ec",
   "metadata": {},
   "outputs": [],
   "source": [
    "proyecto = \"callacalla\"\n",
    "mes_en_analisis = 5\n",
    "anio = 2025"
   ]
  },
  {
   "cell_type": "markdown",
   "id": "bd7c5abb",
   "metadata": {},
   "source": [
    "## Librerias necesarias"
   ]
  },
  {
   "cell_type": "code",
   "execution_count": 255,
   "id": "ee6826df",
   "metadata": {},
   "outputs": [],
   "source": [
    "from dotenv import load_dotenv, find_dotenv\n",
    "from dotenv import load_dotenv, find_dotenv\n",
    "from functools import reduce\n",
    "from google.cloud import firestore\n",
    "from google.oauth2 import service_account\n",
    "from openpyxl import load_workbook\n",
    "from openpyxl.utils import get_column_letter\n",
    "from pathlib import Path\n",
    "from typing import Dict, List, Any\n",
    "from xlsxwriter.utility import xl_range, xl_rowcol_to_cell\n",
    "import excel2img\n",
    "import itertools\n",
    "import json\n",
    "import os\n",
    "import pandas as pd\n",
    "import pickle\n",
    "import pprint\n",
    "import re\n",
    "import win32com.client as win32\n",
    "import xlsxwriter"
   ]
  },
  {
   "cell_type": "markdown",
   "id": "c79ba77f",
   "metadata": {},
   "source": [
    "## Funciones utiles"
   ]
  },
  {
   "cell_type": "markdown",
   "id": "cff1f927",
   "metadata": {},
   "source": [
    "### Fusionar diccionarios"
   ]
  },
  {
   "cell_type": "code",
   "execution_count": 256,
   "id": "d58fe42a",
   "metadata": {},
   "outputs": [],
   "source": [
    "def fusionar_diccionarios(diccionario_de_diccionarios):\n",
    "    \"\"\"\n",
    "    Fusiona diccionarios separados en un diccionario unificado.\n",
    "    Solo incluye claves donde ambos valores sean diferentes de cero.\n",
    "    Usa dinámicamente las claves del diccionario de entrada.\n",
    "    \n",
    "    Args:\n",
    "        diccionario_de_diccionarios (dict): Diccionario con estructura:\n",
    "            {\n",
    "                \"nombre_campo1\": {clave: valor, ...},\n",
    "                \"nombre_campo2\": {clave: valor, ...}\n",
    "            }\n",
    "    \n",
    "    Returns:\n",
    "        dict: Diccionario fusionado con estructura {clave: {nombre_campo1: valor, nombre_campo2: valor}}\n",
    "    \"\"\"\n",
    "    # Obtener las claves (nombres de los campos) del diccionario principal\n",
    "    nombres_campos = list(diccionario_de_diccionarios.keys())\n",
    "    \n",
    "    if len(nombres_campos) != 2:\n",
    "        raise ValueError(\"El diccionario debe contener exactamente 2 campos\")\n",
    "    \n",
    "    campo1_nombre = nombres_campos[0]\n",
    "    campo2_nombre = nombres_campos[1]\n",
    "    \n",
    "    campo1_datos = diccionario_de_diccionarios[campo1_nombre]\n",
    "    campo2_datos = diccionario_de_diccionarios[campo2_nombre]\n",
    "    \n",
    "    fusionado = {}\n",
    "    \n",
    "    # Obtener todas las claves únicas de ambos diccionarios\n",
    "    todas_las_claves = set(campo1_datos.keys()) | set(campo2_datos.keys())\n",
    "    \n",
    "    for clave in todas_las_claves:\n",
    "        valor1 = campo1_datos.get(clave, 0)\n",
    "        valor2 = campo2_datos.get(clave, 0)\n",
    "        \n",
    "        # Solo agregar si ambos valores son diferentes de cero\n",
    "        if valor1 != 0 and valor2 != 0:\n",
    "            fusionado[clave] = {\n",
    "                campo1_nombre: valor1,\n",
    "                campo2_nombre: valor2\n",
    "            }\n",
    "    \n",
    "    return fusionado"
   ]
  },
  {
   "cell_type": "markdown",
   "id": "4332ed13",
   "metadata": {},
   "source": [
    "### Calculadora de costo total"
   ]
  },
  {
   "cell_type": "code",
   "execution_count": 257,
   "id": "49bf089c",
   "metadata": {},
   "outputs": [],
   "source": [
    "from typing import TypedDict\n",
    "\n",
    "\n",
    "class CostoIngenieriaResult(TypedDict):\n",
    "    costo_directo: float\n",
    "    gastos_generales: float\n",
    "    utilidad: float\n",
    "    subtotal: float\n",
    "    igv: float\n",
    "    total: float\n",
    "\n",
    "\n",
    "def calculadora_costo_total(costo_directo: float) -> CostoIngenieriaResult:\n",
    "    \"\"\"\n",
    "    Calcula el costo total de un proyecto de ingeniería civil en soles peruanos.\n",
    "\n",
    "    Args:\n",
    "        costo_directo (float): Costo directo del proyecto\n",
    "\n",
    "    Returns:\n",
    "        CostoIngenieriaResult: Diccionario con todos los valores calculados\n",
    "    \"\"\"\n",
    "    # Calcular gastos generales (10% del costo directo)\n",
    "    gastos_generales = round(costo_directo * 0.10, 2)\n",
    "\n",
    "    # Calcular utilidad (5% del costo directo)\n",
    "    utilidad = round(costo_directo * 0.05, 2)\n",
    "\n",
    "    # Calcular subtotal\n",
    "    subtotal = round(costo_directo + gastos_generales + utilidad, 2)\n",
    "\n",
    "    # Calcular IGV (18% del subtotal)\n",
    "    igv = round(subtotal * 0.18, 2)\n",
    "\n",
    "    # Calcular total\n",
    "    total = round(subtotal + igv, 2)\n",
    "\n",
    "    return {\n",
    "        \"costo_directo\": round(costo_directo, 2),\n",
    "        \"gastos_generales\": gastos_generales,\n",
    "        \"utilidad\": utilidad,\n",
    "        \"subtotal\": subtotal,\n",
    "        \"igv\": igv,\n",
    "        \"total\": total,\n",
    "    }"
   ]
  },
  {
   "cell_type": "markdown",
   "id": "705674bf",
   "metadata": {},
   "source": [
    "### Multiplicador de precio unitario actualizado por cargas de trabajo"
   ]
  },
  {
   "cell_type": "code",
   "execution_count": 258,
   "id": "fcdfdcc1",
   "metadata": {},
   "outputs": [],
   "source": [
    "def calcular_costos_unitarios(\n",
    "    dict_precios_unitarios_actualizados, cargas_trabajo\n",
    "):\n",
    "    \"\"\"\n",
    "    Multiplica cada carga de trabajo del contratista por su precio unitario\n",
    "    correspondiente.\n",
    "\n",
    "    Args:\n",
    "        dict_precios_unitarios_actualizados (dict): mapea código → precio unitario.\n",
    "        cargas_trabajo (dict): mapea código → carga de trabajo.\n",
    "\n",
    "    Returns:\n",
    "        dict: mapea código → precio total (precio unitario * carga).\n",
    "\n",
    "    Raises:\n",
    "        KeyError: si alguna clave de cargas_trabajo no existe en\n",
    "                  dict_precios_unitarios_actualizados.\n",
    "    \"\"\"\n",
    "    # Comprobar que no falte ninguna clave\n",
    "    faltantes = set(cargas_trabajo) - set(\n",
    "        dict_precios_unitarios_actualizados\n",
    "    )\n",
    "    if faltantes:\n",
    "        raise KeyError(f\"Faltan precios unitarios para las claves: {faltantes}\")\n",
    "\n",
    "    # Generar el diccionario resultado\n",
    "    resultado = {\n",
    "        clave: dict_precios_unitarios_actualizados[clave]\n",
    "        * cargas_trabajo[clave]\n",
    "        for clave in cargas_trabajo\n",
    "    }\n",
    "    return resultado"
   ]
  },
  {
   "cell_type": "markdown",
   "id": "8744f61c",
   "metadata": {},
   "source": [
    "### Multiplicador de precio unitario por carga de trabajo v2"
   ]
  },
  {
   "cell_type": "code",
   "execution_count": 259,
   "id": "ba697ed1",
   "metadata": {},
   "outputs": [],
   "source": [
    "def calcular_costos_unitarios_v2(\n",
    "    dict_precios_unitarios_actualizados, cargas_trabajo\n",
    "):\n",
    "    \"\"\"\n",
    "    Multiplica cada carga de trabajo del contratista por su precio unitario\n",
    "    correspondiente.\n",
    "\n",
    "    Si alguna clave en cargas_trabajo tiene carga > 0 y no existe\n",
    "    en dict_precios_unitarios_actualizados, levanta KeyError.\n",
    "    Claves con carga = 0 se ignoran (no dan error), y claves en precios que no\n",
    "    están en cargas se tratan con carga = 0.\n",
    "\n",
    "    Args:\n",
    "        dict_precios_unitarios_actualizados (dict): código → precio unitario.\n",
    "        cargas_trabajo (dict): código → carga de trabajo.\n",
    "\n",
    "    Returns:\n",
    "        dict: código → precio total (precio_unitario * carga).\n",
    "\n",
    "    Raises:\n",
    "        KeyError: si alguna clave con carga > 0 en cargas_trabajo\n",
    "                  no existe en dict_precios_unitarios_actualizados.\n",
    "    \"\"\"\n",
    "    # Detectar faltantes solo para cargas > 0\n",
    "    faltantes = {\n",
    "        codigo\n",
    "        for codigo, carga in cargas_trabajo.items()\n",
    "        if carga != 0 and codigo not in dict_precios_unitarios_actualizados\n",
    "    }\n",
    "    if faltantes:\n",
    "        raise KeyError(f\"Faltan precios unitarios para las claves: {faltantes}\")\n",
    "\n",
    "    # Construir resultado: para cada precio, multiplicar por carga (0 si no hay)\n",
    "    resultado = {}\n",
    "    for codigo, precio_unitario in dict_precios_unitarios_actualizados.items():\n",
    "        carga = cargas_trabajo.get(codigo, 0)\n",
    "        resultado[codigo] = precio_unitario * carga\n",
    "\n",
    "    return resultado"
   ]
  },
  {
   "cell_type": "markdown",
   "id": "3440375f",
   "metadata": {},
   "source": [
    "### Sumador de diccionarios"
   ]
  },
  {
   "cell_type": "code",
   "execution_count": 260,
   "id": "fa26e993",
   "metadata": {},
   "outputs": [],
   "source": [
    "from typing import Any, Dict, Union\n",
    "\n",
    "def sumar_dicts(*dicts: Dict[Any, Any]) -> Dict[Any, Union[int, float]]:\n",
    "    \"\"\"\n",
    "    Suma múltiples diccionarios numéricos.\n",
    "\n",
    "    Args:\n",
    "        *dicts: Diccionarios con valores numéricos (int o float).\n",
    "\n",
    "    Returns:\n",
    "        Un nuevo diccionario con la suma de valores por clave.\n",
    "\n",
    "    Raises:\n",
    "        TypeError: si algún valor no es int ni float o un argumento no es dict.\n",
    "    \"\"\"\n",
    "    result: Dict[Any, Union[int, float]] = {}\n",
    "\n",
    "    for idx, d in enumerate(dicts, start=1):\n",
    "        if not isinstance(d, dict):\n",
    "            raise TypeError(f\"El argumento en posición {idx} no es un dict.\")\n",
    "        for key, value in d.items():\n",
    "            if not isinstance(value, (int, float)):\n",
    "                raise TypeError(\n",
    "                    f\"El valor para clave '{key}' en el dict {idx} \"\n",
    "                    \"no es numérico (int o float).\"\n",
    "                )\n",
    "            result[key] = result.get(key, 0) + value\n",
    "\n",
    "    return result"
   ]
  },
  {
   "cell_type": "markdown",
   "id": "516f90f1",
   "metadata": {},
   "source": [
    "## Carga de datos"
   ]
  },
  {
   "cell_type": "markdown",
   "id": "d53267ec",
   "metadata": {},
   "source": [
    "### Pickle"
   ]
  },
  {
   "cell_type": "code",
   "execution_count": 261,
   "id": "e000c967",
   "metadata": {},
   "outputs": [],
   "source": [
    "# Concatenar la ruta completa al archivo .pkl\n",
    "ruta_archivo = os.path.join(\"data\",proyecto, f\"{proyecto}_cargas_trabajo.pkl\")\n",
    "\n",
    "# Leer el archivo pickle\n",
    "with open(ruta_archivo, \"rb\") as f:\n",
    "    cargas_trabajo_programadas_anualmente = pickle.load(f)\n"
   ]
  },
  {
   "cell_type": "code",
   "execution_count": null,
   "id": "a5233295",
   "metadata": {},
   "outputs": [
    {
     "data": {
      "text/html": [
       "<div>\n",
       "<style scoped>\n",
       "    .dataframe tbody tr th:only-of-type {\n",
       "        vertical-align: middle;\n",
       "    }\n",
       "\n",
       "    .dataframe tbody tr th {\n",
       "        vertical-align: top;\n",
       "    }\n",
       "\n",
       "    .dataframe thead th {\n",
       "        text-align: right;\n",
       "    }\n",
       "</style>\n",
       "<table border=\"1\" class=\"dataframe\">\n",
       "  <thead>\n",
       "    <tr style=\"text-align: right;\">\n",
       "      <th></th>\n",
       "      <th>2025-04</th>\n",
       "      <th>2025-05</th>\n",
       "      <th>2025-06</th>\n",
       "      <th>2025-07</th>\n",
       "      <th>2025-08</th>\n",
       "      <th>2025-09</th>\n",
       "      <th>2025-10</th>\n",
       "      <th>2025-11</th>\n",
       "      <th>2025-12</th>\n",
       "      <th>TOTAL</th>\n",
       "    </tr>\n",
       "    <tr>\n",
       "      <th>codigo</th>\n",
       "      <th></th>\n",
       "      <th></th>\n",
       "      <th></th>\n",
       "      <th></th>\n",
       "      <th></th>\n",
       "      <th></th>\n",
       "      <th></th>\n",
       "      <th></th>\n",
       "      <th></th>\n",
       "      <th></th>\n",
       "    </tr>\n",
       "  </thead>\n",
       "  <tbody>\n",
       "    <tr>\n",
       "      <th>MR102</th>\n",
       "      <td>153.068462</td>\n",
       "      <td>328.003846</td>\n",
       "      <td>328.003846</td>\n",
       "      <td>328.003846</td>\n",
       "      <td>328.003846</td>\n",
       "      <td>328.003846</td>\n",
       "      <td>328.003846</td>\n",
       "      <td>328.003846</td>\n",
       "      <td>109.334615</td>\n",
       "      <td>2558.43</td>\n",
       "    </tr>\n",
       "    <tr>\n",
       "      <th>MR103</th>\n",
       "      <td>0.000000</td>\n",
       "      <td>5.007500</td>\n",
       "      <td>0.000000</td>\n",
       "      <td>5.007500</td>\n",
       "      <td>5.007500</td>\n",
       "      <td>0.000000</td>\n",
       "      <td>5.007500</td>\n",
       "      <td>0.000000</td>\n",
       "      <td>0.000000</td>\n",
       "      <td>20.03</td>\n",
       "    </tr>\n",
       "    <tr>\n",
       "      <th>MR104</th>\n",
       "      <td>5.085714</td>\n",
       "      <td>10.171429</td>\n",
       "      <td>5.085714</td>\n",
       "      <td>10.171429</td>\n",
       "      <td>10.171429</td>\n",
       "      <td>5.085714</td>\n",
       "      <td>10.171429</td>\n",
       "      <td>10.171429</td>\n",
       "      <td>5.085714</td>\n",
       "      <td>71.20</td>\n",
       "    </tr>\n",
       "    <tr>\n",
       "      <th>MR201</th>\n",
       "      <td>0.000000</td>\n",
       "      <td>0.000000</td>\n",
       "      <td>0.000000</td>\n",
       "      <td>0.000000</td>\n",
       "      <td>0.000000</td>\n",
       "      <td>0.000000</td>\n",
       "      <td>0.000000</td>\n",
       "      <td>0.000000</td>\n",
       "      <td>0.000000</td>\n",
       "      <td>0.00</td>\n",
       "    </tr>\n",
       "    <tr>\n",
       "      <th>MR202</th>\n",
       "      <td>0.000000</td>\n",
       "      <td>0.000000</td>\n",
       "      <td>0.000000</td>\n",
       "      <td>0.000000</td>\n",
       "      <td>0.000000</td>\n",
       "      <td>0.000000</td>\n",
       "      <td>0.000000</td>\n",
       "      <td>0.000000</td>\n",
       "      <td>0.000000</td>\n",
       "      <td>0.00</td>\n",
       "    </tr>\n",
       "    <tr>\n",
       "      <th>MR203</th>\n",
       "      <td>22.224000</td>\n",
       "      <td>44.448000</td>\n",
       "      <td>22.224000</td>\n",
       "      <td>44.448000</td>\n",
       "      <td>44.448000</td>\n",
       "      <td>44.448000</td>\n",
       "      <td>44.448000</td>\n",
       "      <td>44.448000</td>\n",
       "      <td>22.224000</td>\n",
       "      <td>333.36</td>\n",
       "    </tr>\n",
       "    <tr>\n",
       "      <th>MR204</th>\n",
       "      <td>0.000000</td>\n",
       "      <td>0.000000</td>\n",
       "      <td>0.000000</td>\n",
       "      <td>0.000000</td>\n",
       "      <td>0.000000</td>\n",
       "      <td>0.000000</td>\n",
       "      <td>0.000000</td>\n",
       "      <td>0.000000</td>\n",
       "      <td>0.000000</td>\n",
       "      <td>0.00</td>\n",
       "    </tr>\n",
       "    <tr>\n",
       "      <th>MR205</th>\n",
       "      <td>0.000000</td>\n",
       "      <td>0.000000</td>\n",
       "      <td>0.000000</td>\n",
       "      <td>0.000000</td>\n",
       "      <td>0.000000</td>\n",
       "      <td>0.000000</td>\n",
       "      <td>0.000000</td>\n",
       "      <td>0.000000</td>\n",
       "      <td>0.000000</td>\n",
       "      <td>0.00</td>\n",
       "    </tr>\n",
       "    <tr>\n",
       "      <th>MR206</th>\n",
       "      <td>0.000000</td>\n",
       "      <td>33.910000</td>\n",
       "      <td>33.910000</td>\n",
       "      <td>33.910000</td>\n",
       "      <td>33.910000</td>\n",
       "      <td>33.910000</td>\n",
       "      <td>33.910000</td>\n",
       "      <td>33.910000</td>\n",
       "      <td>0.000000</td>\n",
       "      <td>237.37</td>\n",
       "    </tr>\n",
       "    <tr>\n",
       "      <th>MR301</th>\n",
       "      <td>1951.915000</td>\n",
       "      <td>3903.830000</td>\n",
       "      <td>3903.830000</td>\n",
       "      <td>3903.830000</td>\n",
       "      <td>3903.830000</td>\n",
       "      <td>3903.830000</td>\n",
       "      <td>3903.830000</td>\n",
       "      <td>3903.830000</td>\n",
       "      <td>1951.915000</td>\n",
       "      <td>31230.64</td>\n",
       "    </tr>\n",
       "    <tr>\n",
       "      <th>MR401</th>\n",
       "      <td>5.323333</td>\n",
       "      <td>0.000000</td>\n",
       "      <td>5.323333</td>\n",
       "      <td>0.000000</td>\n",
       "      <td>0.000000</td>\n",
       "      <td>5.323333</td>\n",
       "      <td>0.000000</td>\n",
       "      <td>0.000000</td>\n",
       "      <td>0.000000</td>\n",
       "      <td>15.97</td>\n",
       "    </tr>\n",
       "    <tr>\n",
       "      <th>MR501</th>\n",
       "      <td>0.000000</td>\n",
       "      <td>0.000000</td>\n",
       "      <td>0.000000</td>\n",
       "      <td>0.000000</td>\n",
       "      <td>0.000000</td>\n",
       "      <td>0.000000</td>\n",
       "      <td>0.000000</td>\n",
       "      <td>0.000000</td>\n",
       "      <td>0.000000</td>\n",
       "      <td>0.00</td>\n",
       "    </tr>\n",
       "    <tr>\n",
       "      <th>MR601</th>\n",
       "      <td>0.000000</td>\n",
       "      <td>0.000000</td>\n",
       "      <td>13.243333</td>\n",
       "      <td>0.000000</td>\n",
       "      <td>0.000000</td>\n",
       "      <td>13.243333</td>\n",
       "      <td>0.000000</td>\n",
       "      <td>13.243333</td>\n",
       "      <td>0.000000</td>\n",
       "      <td>39.73</td>\n",
       "    </tr>\n",
       "    <tr>\n",
       "      <th>MR701</th>\n",
       "      <td>0.000000</td>\n",
       "      <td>3.432000</td>\n",
       "      <td>3.432000</td>\n",
       "      <td>3.432000</td>\n",
       "      <td>3.432000</td>\n",
       "      <td>0.000000</td>\n",
       "      <td>3.432000</td>\n",
       "      <td>0.000000</td>\n",
       "      <td>0.000000</td>\n",
       "      <td>17.16</td>\n",
       "    </tr>\n",
       "    <tr>\n",
       "      <th>MR702</th>\n",
       "      <td>0.000000</td>\n",
       "      <td>0.000000</td>\n",
       "      <td>0.000000</td>\n",
       "      <td>0.000000</td>\n",
       "      <td>0.000000</td>\n",
       "      <td>0.000000</td>\n",
       "      <td>0.000000</td>\n",
       "      <td>0.000000</td>\n",
       "      <td>0.000000</td>\n",
       "      <td>0.00</td>\n",
       "    </tr>\n",
       "  </tbody>\n",
       "</table>\n",
       "</div>"
      ],
      "text/plain": [
       "            2025-04      2025-05      2025-06      2025-07      2025-08  \\\n",
       "codigo                                                                    \n",
       "MR102    153.068462   328.003846   328.003846   328.003846   328.003846   \n",
       "MR103      0.000000     5.007500     0.000000     5.007500     5.007500   \n",
       "MR104      5.085714    10.171429     5.085714    10.171429    10.171429   \n",
       "MR201      0.000000     0.000000     0.000000     0.000000     0.000000   \n",
       "MR202      0.000000     0.000000     0.000000     0.000000     0.000000   \n",
       "MR203     22.224000    44.448000    22.224000    44.448000    44.448000   \n",
       "MR204      0.000000     0.000000     0.000000     0.000000     0.000000   \n",
       "MR205      0.000000     0.000000     0.000000     0.000000     0.000000   \n",
       "MR206      0.000000    33.910000    33.910000    33.910000    33.910000   \n",
       "MR301   1951.915000  3903.830000  3903.830000  3903.830000  3903.830000   \n",
       "MR401      5.323333     0.000000     5.323333     0.000000     0.000000   \n",
       "MR501      0.000000     0.000000     0.000000     0.000000     0.000000   \n",
       "MR601      0.000000     0.000000    13.243333     0.000000     0.000000   \n",
       "MR701      0.000000     3.432000     3.432000     3.432000     3.432000   \n",
       "MR702      0.000000     0.000000     0.000000     0.000000     0.000000   \n",
       "\n",
       "            2025-09      2025-10      2025-11      2025-12     TOTAL  \n",
       "codigo                                                                \n",
       "MR102    328.003846   328.003846   328.003846   109.334615   2558.43  \n",
       "MR103      0.000000     5.007500     0.000000     0.000000     20.03  \n",
       "MR104      5.085714    10.171429    10.171429     5.085714     71.20  \n",
       "MR201      0.000000     0.000000     0.000000     0.000000      0.00  \n",
       "MR202      0.000000     0.000000     0.000000     0.000000      0.00  \n",
       "MR203     44.448000    44.448000    44.448000    22.224000    333.36  \n",
       "MR204      0.000000     0.000000     0.000000     0.000000      0.00  \n",
       "MR205      0.000000     0.000000     0.000000     0.000000      0.00  \n",
       "MR206     33.910000    33.910000    33.910000     0.000000    237.37  \n",
       "MR301   3903.830000  3903.830000  3903.830000  1951.915000  31230.64  \n",
       "MR401      5.323333     0.000000     0.000000     0.000000     15.97  \n",
       "MR501      0.000000     0.000000     0.000000     0.000000      0.00  \n",
       "MR601     13.243333     0.000000    13.243333     0.000000     39.73  \n",
       "MR701      0.000000     3.432000     0.000000     0.000000     17.16  \n",
       "MR702      0.000000     0.000000     0.000000     0.000000      0.00  "
      ]
     },
     "execution_count": 262,
     "metadata": {},
     "output_type": "execute_result"
    }
   ],
   "source": [
    "#eliminando el total\n",
    "cargas_trabajo_programadas_anualmente = cargas_trabajo_programadas_anualmente.iloc[:-1]\n",
    "\n",
    "cargas_trabajo_programadas_anualmente.tail(15)"
   ]
  },
  {
   "cell_type": "markdown",
   "id": "3c86fce0",
   "metadata": {},
   "source": [
    "### Firebase"
   ]
  },
  {
   "cell_type": "code",
   "execution_count": 263,
   "id": "779be10e",
   "metadata": {},
   "outputs": [
    {
     "name": "stdout",
     "output_type": "stream",
     "text": [
      "Colecciones disponibles: ['rutinarios']\n"
     ]
    }
   ],
   "source": [
    "## Datos de # 1. Busca el .env en el directorio actual o en cualquiera de los padres\n",
    "dotenv_path = find_dotenv()\n",
    "if not dotenv_path:\n",
    "    raise FileNotFoundError(\"No se encontró ningún archivo .env en este directorio ni en sus padres.\")\n",
    "load_dotenv(dotenv_path)\n",
    "\n",
    "# 2. Define el root del proyecto como la carpeta que contiene el .env\n",
    "project_root = Path(dotenv_path).parent\n",
    "\n",
    "# 3. Obtén la ruta relativa de las credenciales desde la variable de entorno\n",
    "rel_cred_path = os.getenv(\"FIRESTORE_CREDENTIALS\")\n",
    "if not rel_cred_path:\n",
    "    raise RuntimeError(\"No existe la variable FIRESTORE_CREDENTIALS en el .env\")\n",
    "\n",
    "# 4. Construye la ruta absoluta al JSON\n",
    "cred_path = Path(rel_cred_path)\n",
    "if not cred_path.is_absolute():\n",
    "    cred_path = (project_root / cred_path).resolve()\n",
    "\n",
    "if not cred_path.exists():\n",
    "    raise FileNotFoundError(f\"No existe el archivo de credenciales en: {cred_path}\")\n",
    "\n",
    "# 5. Carga las credenciales y crea el cliente de Firestore\n",
    "credentials = service_account.Credentials.from_service_account_file(str(cred_path))\n",
    "client = firestore.Client(credentials=credentials, project=credentials.project_id)\n",
    "\n",
    "# 6. Prueba que funcione\n",
    "print(\"Colecciones disponibles:\", [c.id for c in client.collections()])"
   ]
  },
  {
   "cell_type": "code",
   "execution_count": 264,
   "id": "32b85937",
   "metadata": {},
   "outputs": [],
   "source": [
    "db=firestore.Client(credentials=credentials, project=credentials.project_id)"
   ]
  },
  {
   "cell_type": "markdown",
   "id": "456d4b46",
   "metadata": {},
   "source": [
    "#### Cargas de trabajo"
   ]
  },
  {
   "cell_type": "code",
   "execution_count": 265,
   "id": "20c06102",
   "metadata": {},
   "outputs": [
    {
     "name": "stdout",
     "output_type": "stream",
     "text": [
      "{'cargas_trabajo_contratista_corregido': {'MR101': 0.99,\n",
      "                                          'MR102': 322.9,\n",
      "                                          'MR103': 5.01,\n",
      "                                          'MR104': 10.17,\n",
      "                                          'MR203': 44.45,\n",
      "                                          'MR206': 33.91,\n",
      "                                          'MR301': 3903.83,\n",
      "                                          'MR701': 3.43},\n",
      " 'cargas_trabajo_contratista_inicial': {'MR101': 0.99,\n",
      "                                        'MR102': 328.0,\n",
      "                                        'MR103': 5.01,\n",
      "                                        'MR104': 10.17,\n",
      "                                        'MR203': 44.45,\n",
      "                                        'MR206': 33.91,\n",
      "                                        'MR301': 3903.83,\n",
      "                                        'MR701': 3.43}}\n"
     ]
    }
   ],
   "source": [
    "cargas_trabajo_contratista=db.collection(\"rutinarios\").document(proyecto).collection(\"valorizaciones\").document(str(mes_en_analisis)).get().to_dict()\n",
    "\n",
    "pprint.pprint(cargas_trabajo_contratista)"
   ]
  },
  {
   "cell_type": "code",
   "execution_count": 266,
   "id": "faeaada2",
   "metadata": {},
   "outputs": [],
   "source": [
    "cargas_trabajo_contratista_corregido=cargas_trabajo_contratista['cargas_trabajo_contratista_corregido']"
   ]
  },
  {
   "cell_type": "markdown",
   "id": "341a7ea4",
   "metadata": {},
   "source": [
    "#### Expediente técnico"
   ]
  },
  {
   "cell_type": "code",
   "execution_count": 267,
   "id": "2b917a97",
   "metadata": {},
   "outputs": [
    {
     "name": "stdout",
     "output_type": "stream",
     "text": [
      "{'cargas_trabajo': {'MR101': 7.95,\n",
      "                    'MR102': 2558.43,\n",
      "                    'MR103': 20.03,\n",
      "                    'MR104': 71.2,\n",
      "                    'MR203': 333.36,\n",
      "                    'MR206': 237.37,\n",
      "                    'MR301': 31230.64,\n",
      "                    'MR401': 15.97,\n",
      "                    'MR601': 39.73,\n",
      "                    'MR701': 17.16},\n",
      " 'codigo_ruta': 'AR-692',\n",
      " 'coordenadas': {'fin': {'altitud': 4362,\n",
      "                         'datum': 'WGS84',\n",
      "                         'hemisferio': 'S',\n",
      "                         'progresiva': 11920,\n",
      "                         'x': 254510.31,\n",
      "                         'y': 8277504.58,\n",
      "                         'zona': None,\n",
      "                         'zona_letra': None},\n",
      "                 'inicio': {'altitud': 3980,\n",
      "                            'datum': 'WGS84',\n",
      "                            'hemisferio': 'S',\n",
      "                            'progresiva': 0,\n",
      "                            'x': 246384.65,\n",
      "                            'y': 8280099.96,\n",
      "                            'zona': None,\n",
      "                            'zona_letra': None}},\n",
      " 'longitud': 11920.0,\n",
      " 'monto_total': 74381.0,\n",
      " 'nombre': 'MANTENIMIENTO VIAL RUTINARIO DEL CAMINO VECINAL EMP. AR-691 - '\n",
      "           'CALLA CALLA - YURACCANCHA - CUCHUHURI - PALLALLMAYO, DISTRITO DE '\n",
      "           'CALLALLI, PROVINCIA DE CAYLLOMA, REGIÓN AREQUIPA',\n",
      " 'precios_unitarios': {'MR101': 265.3,\n",
      "                       'MR102': 10.27,\n",
      "                       'MR103': 21.0,\n",
      "                       'MR104': 17.5,\n",
      "                       'MR201': 0.44,\n",
      "                       'MR202': 78.5,\n",
      "                       'MR203': 5.25,\n",
      "                       'MR204': 0.44,\n",
      "                       'MR205': 105,\n",
      "                       'MR206': 3.6,\n",
      "                       'MR301': 0.14,\n",
      "                       'MR401': 11.42,\n",
      "                       'MR501': 0.53,\n",
      "                       'MR601': 2.1,\n",
      "                       'MR701': 43.75,\n",
      "                       'MR702': 210},\n",
      " 'tarifa_km_mes': 780}\n"
     ]
    }
   ],
   "source": [
    "doc_proyecto_firebase = db.collection(\"rutinarios\").document(proyecto).get().to_dict()\n",
    "expediente_tecnico_firebase = doc_proyecto_firebase[\"expediente\"]\n",
    "\n",
    "pprint.pprint(expediente_tecnico_firebase)"
   ]
  },
  {
   "cell_type": "code",
   "execution_count": 268,
   "id": "41110b84",
   "metadata": {},
   "outputs": [
    {
     "name": "stdout",
     "output_type": "stream",
     "text": [
      "0\n",
      "11920\n"
     ]
    }
   ],
   "source": [
    "progresiva_inicio = expediente_tecnico_firebase[\"coordenadas\"][\n",
    "    \"inicio\"\n",
    "][\"progresiva\"]\n",
    "progresiva_fin = expediente_tecnico_firebase[\"coordenadas\"][\n",
    "    \"fin\"\n",
    "][\"progresiva\"]\n",
    "\n",
    "print(progresiva_inicio)\n",
    "print(progresiva_fin)"
   ]
  },
  {
   "cell_type": "markdown",
   "id": "50f6677b",
   "metadata": {},
   "source": [
    "#### Precios unitarios"
   ]
  },
  {
   "cell_type": "code",
   "execution_count": 269,
   "id": "bc5d2893",
   "metadata": {},
   "outputs": [
    {
     "name": "stdout",
     "output_type": "stream",
     "text": [
      "{'MR101': 265.3,\n",
      " 'MR102': 10.27,\n",
      " 'MR103': 21.0,\n",
      " 'MR104': 17.5,\n",
      " 'MR201': 0.44,\n",
      " 'MR202': 78.5,\n",
      " 'MR203': 5.25,\n",
      " 'MR204': 0.44,\n",
      " 'MR205': 105,\n",
      " 'MR206': 3.6,\n",
      " 'MR301': 0.14,\n",
      " 'MR401': 11.42,\n",
      " 'MR501': 0.53,\n",
      " 'MR601': 2.1,\n",
      " 'MR701': 43.75,\n",
      " 'MR702': 210}\n"
     ]
    }
   ],
   "source": [
    "precios_unitarios_expediente=expediente_tecnico_firebase[\"precios_unitarios\"]\n",
    "pprint.pprint(precios_unitarios_expediente)"
   ]
  },
  {
   "cell_type": "code",
   "execution_count": 270,
   "id": "08c6e489",
   "metadata": {},
   "outputs": [],
   "source": [
    "cargas_trabajo_expediente=expediente_tecnico_firebase[\"cargas_trabajo\"]"
   ]
  },
  {
   "cell_type": "code",
   "execution_count": 271,
   "id": "74b0defe",
   "metadata": {},
   "outputs": [
    {
     "name": "stdout",
     "output_type": "stream",
     "text": [
      "{'MR101': {'carga_trabajo': 7.95, 'precio_unitario': 265.3},\n",
      " 'MR102': {'carga_trabajo': 2558.43, 'precio_unitario': 10.27},\n",
      " 'MR103': {'carga_trabajo': 20.03, 'precio_unitario': 21.0},\n",
      " 'MR104': {'carga_trabajo': 71.2, 'precio_unitario': 17.5},\n",
      " 'MR203': {'carga_trabajo': 333.36, 'precio_unitario': 5.25},\n",
      " 'MR206': {'carga_trabajo': 237.37, 'precio_unitario': 3.6},\n",
      " 'MR301': {'carga_trabajo': 31230.64, 'precio_unitario': 0.14},\n",
      " 'MR401': {'carga_trabajo': 15.97, 'precio_unitario': 11.42},\n",
      " 'MR601': {'carga_trabajo': 39.73, 'precio_unitario': 2.1},\n",
      " 'MR701': {'carga_trabajo': 17.16, 'precio_unitario': 43.75}}\n"
     ]
    }
   ],
   "source": [
    "costos_expediente=fusionar_diccionarios({\n",
    "    'carga_trabajo':cargas_trabajo_expediente,\n",
    "    'precio_unitario':precios_unitarios_expediente\n",
    "})\n",
    "\n",
    "pprint.pprint(costos_expediente)"
   ]
  },
  {
   "cell_type": "markdown",
   "id": "9bba3506",
   "metadata": {},
   "source": [
    "#### Contrato"
   ]
  },
  {
   "cell_type": "code",
   "execution_count": 272,
   "id": "bdb3d7bf",
   "metadata": {},
   "outputs": [
    {
     "name": "stdout",
     "output_type": "stream",
     "text": [
      "{'contratista': {'razon_social': 'Grupo ARICOL E.I.R.L', 'ruc': 20606988398},\n",
      " 'denominacion_tramo_convenio': 'EMP. AR-691 CALLA CALLA - YURACCANCHA - '\n",
      "                                'CUCHUHURI - PALLALLMAYO (KM 11+920)',\n",
      " 'fecha_inicio': {'anio': 2025, 'dia': 16, 'mes': 4},\n",
      " 'id_contrato': '006-2025',\n",
      " 'jefe_mantenimiento': {'apellido': 'Tinta Cáceres',\n",
      "                        'dni': 0,\n",
      "                        'nombre': 'Genaro',\n",
      "                        'titulo': 'Ingeniero'},\n",
      " 'monto_contrato': 59504.8,\n",
      " 'numero_cuadrillas': 1,\n",
      " 'numero_trabajadores': 3,\n",
      " 'tiempo_ejecucion_dias': 240,\n",
      " 'tipo_servicio': 'mantenimiento rutinario'}\n"
     ]
    }
   ],
   "source": [
    "contrato = doc_proyecto_firebase[\"contrato\"]\n",
    "pprint.pprint(contrato)"
   ]
  },
  {
   "cell_type": "code",
   "execution_count": 273,
   "id": "fcd762c3",
   "metadata": {},
   "outputs": [
    {
     "name": "stdout",
     "output_type": "stream",
     "text": [
      "59504.8\n"
     ]
    }
   ],
   "source": [
    "monto_contrato = contrato[\"monto_contrato\"]\n",
    "print(monto_contrato)"
   ]
  },
  {
   "cell_type": "markdown",
   "id": "3defbc67",
   "metadata": {},
   "source": [
    "#### Valorizaciones"
   ]
  },
  {
   "cell_type": "code",
   "execution_count": 274,
   "id": "c9928821",
   "metadata": {},
   "outputs": [
    {
     "name": "stdout",
     "output_type": "stream",
     "text": [
      "<google.cloud.firestore_v1.collection.CollectionReference object at 0x000001907958CFE0>\n"
     ]
    }
   ],
   "source": [
    "valorizaciones_ref = db.collection(\"rutinarios\").document(proyecto).collection('valorizaciones')\n",
    "\n",
    "pprint.pprint(valorizaciones_ref)"
   ]
  },
  {
   "cell_type": "code",
   "execution_count": 275,
   "id": "5f199af0",
   "metadata": {},
   "outputs": [
    {
     "name": "stdout",
     "output_type": "stream",
     "text": [
      "ID del documento: 4\n",
      "Datos del documento: {'cargas_trabajo_contratista_corregido': {'MR104': 5.09, 'MR203': 22.22, 'MR102': 153.07, 'MR301': 1951.52, 'MR101': 0.66, 'MR401': 5.32}, 'cargas_trabajo_contratista': {'MR104': 5.09, 'MR203': 22.22, 'MR102': 153.07, 'MR301': 1951.52, 'MR101': 0.66, 'MR401': 5.32}, 'avance': {'porcentaje_ejecutado_acumulado_vigente_mes': 0.06246646927783319, 'porcentaje_programado_vigente_mes': 0.0625, 'porcentaje_programado_acumulado_vigente_mes': 0.0625, 'porcentaje_ejecutado_vigente_mes': 0.06246646927783319}}\n",
      "------------------------------\n",
      "ID del documento: 5\n",
      "Datos del documento: {'cargas_trabajo_contratista_inicial': {'MR206': 33.91, 'MR203': 44.45, 'MR301': 3903.83, 'MR101': 0.99, 'MR104': 10.17, 'MR103': 5.01, 'MR102': 328.0, 'MR701': 3.43}, 'cargas_trabajo_contratista_corregido': {'MR206': 33.91, 'MR203': 44.45, 'MR301': 3903.83, 'MR101': 0.99, 'MR104': 10.17, 'MR103': 5.01, 'MR102': 322.9, 'MR701': 3.43}}\n",
      "------------------------------\n",
      "{'4': {'avance': {'porcentaje_ejecutado_acumulado_vigente_mes': 0.06246646927783319,\n",
      "                  'porcentaje_ejecutado_vigente_mes': 0.06246646927783319,\n",
      "                  'porcentaje_programado_acumulado_vigente_mes': 0.0625,\n",
      "                  'porcentaje_programado_vigente_mes': 0.0625},\n",
      "       'cargas_trabajo_contratista': {'MR101': 0.66,\n",
      "                                      'MR102': 153.07,\n",
      "                                      'MR104': 5.09,\n",
      "                                      'MR203': 22.22,\n",
      "                                      'MR301': 1951.52,\n",
      "                                      'MR401': 5.32},\n",
      "       'cargas_trabajo_contratista_corregido': {'MR101': 0.66,\n",
      "                                                'MR102': 153.07,\n",
      "                                                'MR104': 5.09,\n",
      "                                                'MR203': 22.22,\n",
      "                                                'MR301': 1951.52,\n",
      "                                                'MR401': 5.32}},\n",
      " '5': {'cargas_trabajo_contratista_corregido': {'MR101': 0.99,\n",
      "                                                'MR102': 322.9,\n",
      "                                                'MR103': 5.01,\n",
      "                                                'MR104': 10.17,\n",
      "                                                'MR203': 44.45,\n",
      "                                                'MR206': 33.91,\n",
      "                                                'MR301': 3903.83,\n",
      "                                                'MR701': 3.43},\n",
      "       'cargas_trabajo_contratista_inicial': {'MR101': 0.99,\n",
      "                                              'MR102': 328.0,\n",
      "                                              'MR103': 5.01,\n",
      "                                              'MR104': 10.17,\n",
      "                                              'MR203': 44.45,\n",
      "                                              'MR206': 33.91,\n",
      "                                              'MR301': 3903.83,\n",
      "                                              'MR701': 3.43}}}\n"
     ]
    }
   ],
   "source": [
    "docs = valorizaciones_ref.stream()\n",
    "\n",
    "# Iterar sobre los documentos y acceder a sus datos\n",
    "\n",
    "valorizaciones={}\n",
    "for doc in docs:\n",
    "    print(f'ID del documento: {doc.id}')\n",
    "    print(f'Datos del documento: {doc.to_dict()}')\n",
    "    print(\"-\" * 30)\n",
    "\n",
    "    valorizaciones[doc.id]=doc.to_dict()\n",
    "\n",
    "pprint.pprint(valorizaciones)"
   ]
  },
  {
   "cell_type": "markdown",
   "id": "12aaad88",
   "metadata": {},
   "source": [
    "## Cálculos"
   ]
  },
  {
   "cell_type": "markdown",
   "id": "ec2bf5a8",
   "metadata": {},
   "source": [
    "### Recalculo de precios unitarios"
   ]
  },
  {
   "cell_type": "code",
   "execution_count": 276,
   "id": "7d15560e",
   "metadata": {},
   "outputs": [],
   "source": [
    "# Crear DataFrame usando pd.DataFrame.from_dict() con orient='index'\n",
    "df_costos_expediente = pd.DataFrame.from_dict(\n",
    "    costos_expediente, orient=\"index\"\n",
    ")\n",
    "\n",
    "# Resetear el índice para convertir las claves MR en una columna\n",
    "df_costos_expediente = df_costos_expediente.reset_index().rename(\n",
    "    columns={\"index\": \"codigo_MR\"}\n",
    ")"
   ]
  },
  {
   "cell_type": "code",
   "execution_count": 277,
   "id": "3bd39287",
   "metadata": {},
   "outputs": [
    {
     "data": {
      "text/html": [
       "<div>\n",
       "<style scoped>\n",
       "    .dataframe tbody tr th:only-of-type {\n",
       "        vertical-align: middle;\n",
       "    }\n",
       "\n",
       "    .dataframe tbody tr th {\n",
       "        vertical-align: top;\n",
       "    }\n",
       "\n",
       "    .dataframe thead th {\n",
       "        text-align: right;\n",
       "    }\n",
       "</style>\n",
       "<table border=\"1\" class=\"dataframe\">\n",
       "  <thead>\n",
       "    <tr style=\"text-align: right;\">\n",
       "      <th></th>\n",
       "      <th>codigo_MR</th>\n",
       "      <th>carga_trabajo</th>\n",
       "      <th>precio_unitario</th>\n",
       "      <th>parcial</th>\n",
       "    </tr>\n",
       "  </thead>\n",
       "  <tbody>\n",
       "    <tr>\n",
       "      <th>0</th>\n",
       "      <td>MR206</td>\n",
       "      <td>237.37</td>\n",
       "      <td>3.60</td>\n",
       "      <td>854.5320</td>\n",
       "    </tr>\n",
       "    <tr>\n",
       "      <th>1</th>\n",
       "      <td>MR104</td>\n",
       "      <td>71.20</td>\n",
       "      <td>17.50</td>\n",
       "      <td>1246.0000</td>\n",
       "    </tr>\n",
       "    <tr>\n",
       "      <th>2</th>\n",
       "      <td>MR701</td>\n",
       "      <td>17.16</td>\n",
       "      <td>43.75</td>\n",
       "      <td>750.7500</td>\n",
       "    </tr>\n",
       "    <tr>\n",
       "      <th>3</th>\n",
       "      <td>MR301</td>\n",
       "      <td>31230.64</td>\n",
       "      <td>0.14</td>\n",
       "      <td>4372.2896</td>\n",
       "    </tr>\n",
       "    <tr>\n",
       "      <th>4</th>\n",
       "      <td>MR401</td>\n",
       "      <td>15.97</td>\n",
       "      <td>11.42</td>\n",
       "      <td>182.3774</td>\n",
       "    </tr>\n",
       "  </tbody>\n",
       "</table>\n",
       "</div>"
      ],
      "text/plain": [
       "  codigo_MR  carga_trabajo  precio_unitario    parcial\n",
       "0     MR206         237.37             3.60   854.5320\n",
       "1     MR104          71.20            17.50  1246.0000\n",
       "2     MR701          17.16            43.75   750.7500\n",
       "3     MR301       31230.64             0.14  4372.2896\n",
       "4     MR401          15.97            11.42   182.3774"
      ]
     },
     "execution_count": 277,
     "metadata": {},
     "output_type": "execute_result"
    }
   ],
   "source": [
    "# Agregar columna parcial\n",
    "df_costos_expediente[\"parcial\"] = (\n",
    "    df_costos_expediente[\"precio_unitario\"]\n",
    "    * df_costos_expediente[\"carga_trabajo\"]\n",
    ")\n",
    "df_costos_expediente.head()"
   ]
  },
  {
   "cell_type": "code",
   "execution_count": 278,
   "id": "b47d5383",
   "metadata": {},
   "outputs": [
    {
     "name": "stdout",
     "output_type": "stream",
     "text": [
      "costo_directo 38044.3631\n"
     ]
    }
   ],
   "source": [
    "costo_directo = df_costos_expediente[\"parcial\"].sum()\n",
    "print(\"costo_directo\", costo_directo)"
   ]
  },
  {
   "cell_type": "code",
   "execution_count": 279,
   "id": "0f5479af",
   "metadata": {},
   "outputs": [
    {
     "name": "stdout",
     "output_type": "stream",
     "text": [
      "51626.2\n"
     ]
    }
   ],
   "source": [
    "costo_total_expediente = calculadora_costo_total(costo_directo)\n",
    "print(costo_total_expediente[\"total\"])"
   ]
  },
  {
   "cell_type": "code",
   "execution_count": 280,
   "id": "6c1f8f3e",
   "metadata": {},
   "outputs": [
    {
     "name": "stdout",
     "output_type": "stream",
     "text": [
      "El costo directo es: 43850.25853913091\n"
     ]
    }
   ],
   "source": [
    "df_costos_expediente[\"precio_unitario_actualizado\"] = (\n",
    "    df_costos_expediente[\"precio_unitario\"]\n",
    "    * (monto_contrato / costo_total_expediente[\"total\"])\n",
    ")\n",
    "\n",
    "df_costos_expediente[\"parcial_actualizado\"] = (\n",
    "    df_costos_expediente[\"precio_unitario_actualizado\"]\n",
    "    * df_costos_expediente[\"carga_trabajo\"]\n",
    ")\n",
    "\n",
    "# Calcular el total\n",
    "costo_directo_actualizado = df_costos_expediente[\"parcial_actualizado\"].sum()\n",
    "\n",
    "print(f\"El costo directo es: {costo_directo_actualizado}\")"
   ]
  },
  {
   "cell_type": "code",
   "execution_count": 281,
   "id": "6468ea72",
   "metadata": {},
   "outputs": [
    {
     "data": {
      "text/html": [
       "<div>\n",
       "<style scoped>\n",
       "    .dataframe tbody tr th:only-of-type {\n",
       "        vertical-align: middle;\n",
       "    }\n",
       "\n",
       "    .dataframe tbody tr th {\n",
       "        vertical-align: top;\n",
       "    }\n",
       "\n",
       "    .dataframe thead th {\n",
       "        text-align: right;\n",
       "    }\n",
       "</style>\n",
       "<table border=\"1\" class=\"dataframe\">\n",
       "  <thead>\n",
       "    <tr style=\"text-align: right;\">\n",
       "      <th></th>\n",
       "      <th>codigo_MR</th>\n",
       "      <th>carga_trabajo</th>\n",
       "      <th>precio_unitario</th>\n",
       "      <th>parcial</th>\n",
       "      <th>precio_unitario_actualizado</th>\n",
       "      <th>parcial_actualizado</th>\n",
       "    </tr>\n",
       "  </thead>\n",
       "  <tbody>\n",
       "    <tr>\n",
       "      <th>0</th>\n",
       "      <td>MR206</td>\n",
       "      <td>237.37</td>\n",
       "      <td>3.60</td>\n",
       "      <td>854.5320</td>\n",
       "      <td>4.149391</td>\n",
       "      <td>984.940897</td>\n",
       "    </tr>\n",
       "    <tr>\n",
       "      <th>1</th>\n",
       "      <td>MR104</td>\n",
       "      <td>71.20</td>\n",
       "      <td>17.50</td>\n",
       "      <td>1246.0000</td>\n",
       "      <td>20.170650</td>\n",
       "      <td>1436.150265</td>\n",
       "    </tr>\n",
       "    <tr>\n",
       "      <th>2</th>\n",
       "      <td>MR701</td>\n",
       "      <td>17.16</td>\n",
       "      <td>43.75</td>\n",
       "      <td>750.7500</td>\n",
       "      <td>50.426624</td>\n",
       "      <td>865.320876</td>\n",
       "    </tr>\n",
       "    <tr>\n",
       "      <th>3</th>\n",
       "      <td>MR301</td>\n",
       "      <td>31230.64</td>\n",
       "      <td>0.14</td>\n",
       "      <td>4372.2896</td>\n",
       "      <td>0.161365</td>\n",
       "      <td>5039.538416</td>\n",
       "    </tr>\n",
       "    <tr>\n",
       "      <th>4</th>\n",
       "      <td>MR401</td>\n",
       "      <td>15.97</td>\n",
       "      <td>11.42</td>\n",
       "      <td>182.3774</td>\n",
       "      <td>13.162790</td>\n",
       "      <td>210.209752</td>\n",
       "    </tr>\n",
       "    <tr>\n",
       "      <th>5</th>\n",
       "      <td>MR102</td>\n",
       "      <td>2558.43</td>\n",
       "      <td>10.27</td>\n",
       "      <td>26275.0761</td>\n",
       "      <td>11.837290</td>\n",
       "      <td>30284.877607</td>\n",
       "    </tr>\n",
       "    <tr>\n",
       "      <th>6</th>\n",
       "      <td>MR103</td>\n",
       "      <td>20.03</td>\n",
       "      <td>21.00</td>\n",
       "      <td>420.6300</td>\n",
       "      <td>24.204780</td>\n",
       "      <td>484.821738</td>\n",
       "    </tr>\n",
       "    <tr>\n",
       "      <th>7</th>\n",
       "      <td>MR601</td>\n",
       "      <td>39.73</td>\n",
       "      <td>2.10</td>\n",
       "      <td>83.4330</td>\n",
       "      <td>2.420478</td>\n",
       "      <td>96.165590</td>\n",
       "    </tr>\n",
       "    <tr>\n",
       "      <th>8</th>\n",
       "      <td>MR101</td>\n",
       "      <td>7.95</td>\n",
       "      <td>265.30</td>\n",
       "      <td>2109.1350</td>\n",
       "      <td>305.787051</td>\n",
       "      <td>2431.007054</td>\n",
       "    </tr>\n",
       "    <tr>\n",
       "      <th>9</th>\n",
       "      <td>MR203</td>\n",
       "      <td>333.36</td>\n",
       "      <td>5.25</td>\n",
       "      <td>1750.1400</td>\n",
       "      <td>6.051195</td>\n",
       "      <td>2017.226344</td>\n",
       "    </tr>\n",
       "  </tbody>\n",
       "</table>\n",
       "</div>"
      ],
      "text/plain": [
       "  codigo_MR  carga_trabajo  precio_unitario     parcial  \\\n",
       "0     MR206         237.37             3.60    854.5320   \n",
       "1     MR104          71.20            17.50   1246.0000   \n",
       "2     MR701          17.16            43.75    750.7500   \n",
       "3     MR301       31230.64             0.14   4372.2896   \n",
       "4     MR401          15.97            11.42    182.3774   \n",
       "5     MR102        2558.43            10.27  26275.0761   \n",
       "6     MR103          20.03            21.00    420.6300   \n",
       "7     MR601          39.73             2.10     83.4330   \n",
       "8     MR101           7.95           265.30   2109.1350   \n",
       "9     MR203         333.36             5.25   1750.1400   \n",
       "\n",
       "   precio_unitario_actualizado  parcial_actualizado  \n",
       "0                     4.149391           984.940897  \n",
       "1                    20.170650          1436.150265  \n",
       "2                    50.426624           865.320876  \n",
       "3                     0.161365          5039.538416  \n",
       "4                    13.162790           210.209752  \n",
       "5                    11.837290         30284.877607  \n",
       "6                    24.204780           484.821738  \n",
       "7                     2.420478            96.165590  \n",
       "8                   305.787051          2431.007054  \n",
       "9                     6.051195          2017.226344  "
      ]
     },
     "execution_count": 281,
     "metadata": {},
     "output_type": "execute_result"
    }
   ],
   "source": [
    "df_costos_expediente.head(10)"
   ]
  },
  {
   "cell_type": "code",
   "execution_count": 282,
   "id": "ea27baa1",
   "metadata": {},
   "outputs": [
    {
     "name": "stdout",
     "output_type": "stream",
     "text": [
      "{'MR101': 305.78705076104774,\n",
      " 'MR102': 11.837289903188692,\n",
      " 'MR103': 24.204779743618552,\n",
      " 'MR104': 20.170649786348793,\n",
      " 'MR203': 6.051194935904638,\n",
      " 'MR206': 4.1493908131917525,\n",
      " 'MR301': 0.16136519829079038,\n",
      " 'MR401': 13.162789746291613,\n",
      " 'MR601': 2.4204779743618556,\n",
      " 'MR701': 50.42662446587199}\n"
     ]
    }
   ],
   "source": [
    "dict_precios_unitarios_actualizados = dict(\n",
    "    zip(\n",
    "        df_costos_expediente[\"codigo_MR\"],\n",
    "        df_costos_expediente[\"precio_unitario_actualizado\"],\n",
    "    )\n",
    ")\n",
    "\n",
    "pprint.pprint(dict_precios_unitarios_actualizados)"
   ]
  },
  {
   "cell_type": "markdown",
   "id": "3afebcad",
   "metadata": {},
   "source": [
    "#### Cálculo de pago de acuerdo a cargas de trabajo"
   ]
  },
  {
   "cell_type": "code",
   "execution_count": 283,
   "id": "53cec22f",
   "metadata": {},
   "outputs": [
    {
     "name": "stdout",
     "output_type": "stream",
     "text": [
      "{'MR101': 2431.0070535503296,\n",
      " 'MR102': 30284.87760701504,\n",
      " 'MR103': 484.8217382646796,\n",
      " 'MR104': 1436.150264788034,\n",
      " 'MR203': 2017.2263438331702,\n",
      " 'MR206': 984.9408973273263,\n",
      " 'MR301': 5039.5384163482895,\n",
      " 'MR401': 210.20975224827708,\n",
      " 'MR601': 96.16558992139652,\n",
      " 'MR701': 865.3208758343633}\n"
     ]
    }
   ],
   "source": [
    "pago_costo_directo_parciales_contratista = calcular_costos_unitarios(\n",
    "    dict_precios_unitarios_actualizados, cargas_trabajo_expediente\n",
    ")\n",
    "pprint.pprint(pago_costo_directo_parciales_contratista)"
   ]
  },
  {
   "cell_type": "code",
   "execution_count": 284,
   "id": "94f0dddb",
   "metadata": {},
   "outputs": [
    {
     "data": {
      "text/html": [
       "<div>\n",
       "<style scoped>\n",
       "    .dataframe tbody tr th:only-of-type {\n",
       "        vertical-align: middle;\n",
       "    }\n",
       "\n",
       "    .dataframe tbody tr th {\n",
       "        vertical-align: top;\n",
       "    }\n",
       "\n",
       "    .dataframe thead th {\n",
       "        text-align: right;\n",
       "    }\n",
       "</style>\n",
       "<table border=\"1\" class=\"dataframe\">\n",
       "  <thead>\n",
       "    <tr style=\"text-align: right;\">\n",
       "      <th></th>\n",
       "      <th>codigo_MR</th>\n",
       "      <th>monto_pago</th>\n",
       "    </tr>\n",
       "  </thead>\n",
       "  <tbody>\n",
       "    <tr>\n",
       "      <th>0</th>\n",
       "      <td>MR206</td>\n",
       "      <td>984.940897</td>\n",
       "    </tr>\n",
       "    <tr>\n",
       "      <th>1</th>\n",
       "      <td>MR203</td>\n",
       "      <td>2017.226344</td>\n",
       "    </tr>\n",
       "    <tr>\n",
       "      <th>2</th>\n",
       "      <td>MR301</td>\n",
       "      <td>5039.538416</td>\n",
       "    </tr>\n",
       "    <tr>\n",
       "      <th>3</th>\n",
       "      <td>MR101</td>\n",
       "      <td>2431.007054</td>\n",
       "    </tr>\n",
       "    <tr>\n",
       "      <th>4</th>\n",
       "      <td>MR104</td>\n",
       "      <td>1436.150265</td>\n",
       "    </tr>\n",
       "    <tr>\n",
       "      <th>5</th>\n",
       "      <td>MR103</td>\n",
       "      <td>484.821738</td>\n",
       "    </tr>\n",
       "    <tr>\n",
       "      <th>6</th>\n",
       "      <td>MR102</td>\n",
       "      <td>30284.877607</td>\n",
       "    </tr>\n",
       "    <tr>\n",
       "      <th>7</th>\n",
       "      <td>MR701</td>\n",
       "      <td>865.320876</td>\n",
       "    </tr>\n",
       "    <tr>\n",
       "      <th>8</th>\n",
       "      <td>MR601</td>\n",
       "      <td>96.165590</td>\n",
       "    </tr>\n",
       "    <tr>\n",
       "      <th>9</th>\n",
       "      <td>MR401</td>\n",
       "      <td>210.209752</td>\n",
       "    </tr>\n",
       "  </tbody>\n",
       "</table>\n",
       "</div>"
      ],
      "text/plain": [
       "  codigo_MR    monto_pago\n",
       "0     MR206    984.940897\n",
       "1     MR203   2017.226344\n",
       "2     MR301   5039.538416\n",
       "3     MR101   2431.007054\n",
       "4     MR104   1436.150265\n",
       "5     MR103    484.821738\n",
       "6     MR102  30284.877607\n",
       "7     MR701    865.320876\n",
       "8     MR601     96.165590\n",
       "9     MR401    210.209752"
      ]
     },
     "execution_count": 284,
     "metadata": {},
     "output_type": "execute_result"
    }
   ],
   "source": [
    "df_pago_costo_directo_parciales_contratista = pd.DataFrame.from_dict(\n",
    "    pago_costo_directo_parciales_contratista, orient=\"index\"\n",
    ")\n",
    "\n",
    "df_pago_costo_directo_parciales_contratista = (\n",
    "    df_pago_costo_directo_parciales_contratista.reset_index().rename(\n",
    "        columns={\"index\": \"codigo_MR\"}\n",
    "    )\n",
    ")\n",
    "\n",
    "df_pago_costo_directo_parciales_contratista = (\n",
    "    df_pago_costo_directo_parciales_contratista.rename(columns={0: \"monto_pago\"})\n",
    ")\n",
    "\n",
    "df_pago_costo_directo_parciales_contratista"
   ]
  },
  {
   "cell_type": "code",
   "execution_count": 285,
   "id": "54e4b2df",
   "metadata": {},
   "outputs": [],
   "source": [
    "sumar_valores = lambda d: sum(d.values())"
   ]
  },
  {
   "cell_type": "code",
   "execution_count": 286,
   "id": "f0e9e62c",
   "metadata": {},
   "outputs": [
    {
     "name": "stdout",
     "output_type": "stream",
     "text": [
      "43850.25853913091\n"
     ]
    }
   ],
   "source": [
    "pago_costo_directo_contratista = sumar_valores(pago_costo_directo_parciales_contratista)\n",
    "print(pago_costo_directo_contratista)"
   ]
  },
  {
   "cell_type": "code",
   "execution_count": 287,
   "id": "bb8bfdc3",
   "metadata": {},
   "outputs": [
    {
     "name": "stdout",
     "output_type": "stream",
     "text": [
      "59504.8\n"
     ]
    }
   ],
   "source": [
    "pago_costo_total_contratista = calculadora_costo_total(pago_costo_directo_contratista)\n",
    "print(pago_costo_total_contratista[\"total\"])"
   ]
  },
  {
   "cell_type": "markdown",
   "id": "e03e46f3",
   "metadata": {},
   "source": [
    "#### Validación"
   ]
  },
  {
   "cell_type": "code",
   "execution_count": 288,
   "id": "05b2d4af",
   "metadata": {},
   "outputs": [
    {
     "name": "stdout",
     "output_type": "stream",
     "text": [
      "{'contrato': 59504.8, 'costos_unitarios': 59504.8, 'diferencia_costos': 0.0}\n"
     ]
    }
   ],
   "source": [
    "diferencia_costos = abs(\n",
    "    pago_costo_total_contratista[\"total\"]\n",
    "    - monto_contrato\n",
    ")\n",
    "\n",
    "pprint.pprint(\n",
    "    {\n",
    "        \"diferencia_costos\": diferencia_costos,\n",
    "        \"contrato\": monto_contrato,\n",
    "        \"costos_unitarios\": pago_costo_total_contratista[\"total\"],\n",
    "    }\n",
    ")\n",
    "\n",
    "if diferencia_costos > 1:\n",
    "    raise ValueError(\n",
    "        \"La valorizacion de las actividades presentadas por el contratista no es coherente con lo programado\"\n",
    "    )"
   ]
  },
  {
   "cell_type": "markdown",
   "id": "a7e8ce98",
   "metadata": {},
   "source": [
    "#### Cálculo de cargas de trabajo ejecutadas del contratista"
   ]
  },
  {
   "cell_type": "markdown",
   "id": "8110317f",
   "metadata": {},
   "source": [
    "##### Mes en curso"
   ]
  },
  {
   "cell_type": "code",
   "execution_count": 289,
   "id": "eb258983",
   "metadata": {},
   "outputs": [
    {
     "name": "stdout",
     "output_type": "stream",
     "text": [
      "{'MR101': 0.99,\n",
      " 'MR102': 322.9,\n",
      " 'MR103': 5.01,\n",
      " 'MR104': 10.17,\n",
      " 'MR203': 44.45,\n",
      " 'MR206': 33.91,\n",
      " 'MR301': 3903.83,\n",
      " 'MR701': 3.43}\n"
     ]
    }
   ],
   "source": [
    "cargas_trabajo_contratista_current_month=valorizaciones[str(mes_en_analisis)]['cargas_trabajo_contratista_corregido']\n",
    "pprint.pprint(cargas_trabajo_contratista_current_month)"
   ]
  },
  {
   "cell_type": "markdown",
   "id": "7c13bd42",
   "metadata": {},
   "source": [
    "##### Acumulado"
   ]
  },
  {
   "cell_type": "code",
   "execution_count": 290,
   "id": "941bf599",
   "metadata": {},
   "outputs": [
    {
     "name": "stdout",
     "output_type": "stream",
     "text": [
      "{'MR101': 1.65,\n",
      " 'MR102': 475.96999999999997,\n",
      " 'MR103': 5.01,\n",
      " 'MR104': 15.26,\n",
      " 'MR203': 66.67,\n",
      " 'MR206': 33.91,\n",
      " 'MR301': 5855.35,\n",
      " 'MR401': 5.32,\n",
      " 'MR701': 3.43}\n"
     ]
    }
   ],
   "source": [
    "cargas_trabajo_ejecutadas_acumuladas={}\n",
    "for v in valorizaciones:\n",
    "    if(int(v)<=mes_en_analisis):\n",
    "        cargas_trabajo_ejecutadas_acumuladas=sumar_dicts(cargas_trabajo_ejecutadas_acumuladas,valorizaciones[v]['cargas_trabajo_contratista_corregido'])\n",
    "\n",
    "pprint.pprint(cargas_trabajo_ejecutadas_acumuladas)"
   ]
  },
  {
   "cell_type": "markdown",
   "id": "60864baa",
   "metadata": {},
   "source": [
    "#### Cálculo de cargas de trabajo programadas"
   ]
  },
  {
   "cell_type": "markdown",
   "id": "ad1e9ad6",
   "metadata": {},
   "source": [
    "##### Mes en curso"
   ]
  },
  {
   "cell_type": "code",
   "execution_count": 291,
   "id": "76718d75",
   "metadata": {},
   "outputs": [
    {
     "name": "stdout",
     "output_type": "stream",
     "text": [
      "{'MR101': 0.99375,\n",
      " 'MR102': 328.0038461538461,\n",
      " 'MR103': 5.0075,\n",
      " 'MR104': 10.17142857142857,\n",
      " 'MR201': 0.0,\n",
      " 'MR202': 0.0,\n",
      " 'MR203': 44.448,\n",
      " 'MR204': 0.0,\n",
      " 'MR205': 0.0,\n",
      " 'MR206': 33.91,\n",
      " 'MR301': 3903.83,\n",
      " 'MR401': 0.0,\n",
      " 'MR501': 0.0,\n",
      " 'MR601': 0.0,\n",
      " 'MR701': 3.4320000000000004,\n",
      " 'MR702': 0.0}\n"
     ]
    }
   ],
   "source": [
    "cargas_trabajo_programadas_current_month = cargas_trabajo_programadas_anualmente[f\"2025-{mes_en_analisis:02d}\"].to_dict()\n",
    "pprint.pprint(cargas_trabajo_programadas_current_month)"
   ]
  },
  {
   "cell_type": "markdown",
   "id": "bb649bc5",
   "metadata": {},
   "source": [
    "##### Acumulado"
   ]
  },
  {
   "cell_type": "code",
   "execution_count": 292,
   "id": "7ae33cf7",
   "metadata": {},
   "outputs": [],
   "source": [
    "cargas_trabajo_programadas_anualmente.drop(columns=['TOTAL'], inplace=True)"
   ]
  },
  {
   "cell_type": "code",
   "execution_count": 293,
   "id": "d6a4632b",
   "metadata": {},
   "outputs": [
    {
     "name": "stdout",
     "output_type": "stream",
     "text": [
      "{4: {'MR101': 0.6625,\n",
      "     'MR102': 153.06846153846155,\n",
      "     'MR103': 0.0,\n",
      "     'MR104': 5.085714285714285,\n",
      "     'MR201': 0.0,\n",
      "     'MR202': 0.0,\n",
      "     'MR203': 22.224,\n",
      "     'MR204': 0.0,\n",
      "     'MR205': 0.0,\n",
      "     'MR206': 0.0,\n",
      "     'MR301': 1951.915,\n",
      "     'MR401': 5.323333333333333,\n",
      "     'MR501': 0.0,\n",
      "     'MR601': 0.0,\n",
      "     'MR701': 0.0,\n",
      "     'MR702': 0.0},\n",
      " 5: {'MR101': 0.99375,\n",
      "     'MR102': 328.0038461538461,\n",
      "     'MR103': 5.0075,\n",
      "     'MR104': 10.17142857142857,\n",
      "     'MR201': 0.0,\n",
      "     'MR202': 0.0,\n",
      "     'MR203': 44.448,\n",
      "     'MR204': 0.0,\n",
      "     'MR205': 0.0,\n",
      "     'MR206': 33.91,\n",
      "     'MR301': 3903.83,\n",
      "     'MR401': 0.0,\n",
      "     'MR501': 0.0,\n",
      "     'MR601': 0.0,\n",
      "     'MR701': 3.4320000000000004,\n",
      "     'MR702': 0.0},\n",
      " 6: {'MR101': 0.99375,\n",
      "     'MR102': 328.0038461538461,\n",
      "     'MR103': 0.0,\n",
      "     'MR104': 5.085714285714285,\n",
      "     'MR201': 0.0,\n",
      "     'MR202': 0.0,\n",
      "     'MR203': 22.224,\n",
      "     'MR204': 0.0,\n",
      "     'MR205': 0.0,\n",
      "     'MR206': 33.91,\n",
      "     'MR301': 3903.83,\n",
      "     'MR401': 5.323333333333333,\n",
      "     'MR501': 0.0,\n",
      "     'MR601': 13.243333333333332,\n",
      "     'MR701': 3.4320000000000004,\n",
      "     'MR702': 0.0},\n",
      " 7: {'MR101': 0.99375,\n",
      "     'MR102': 328.0038461538461,\n",
      "     'MR103': 5.0075,\n",
      "     'MR104': 10.17142857142857,\n",
      "     'MR201': 0.0,\n",
      "     'MR202': 0.0,\n",
      "     'MR203': 44.448,\n",
      "     'MR204': 0.0,\n",
      "     'MR205': 0.0,\n",
      "     'MR206': 33.91,\n",
      "     'MR301': 3903.83,\n",
      "     'MR401': 0.0,\n",
      "     'MR501': 0.0,\n",
      "     'MR601': 0.0,\n",
      "     'MR701': 3.4320000000000004,\n",
      "     'MR702': 0.0},\n",
      " 8: {'MR101': 0.99375,\n",
      "     'MR102': 328.0038461538461,\n",
      "     'MR103': 5.0075,\n",
      "     'MR104': 10.17142857142857,\n",
      "     'MR201': 0.0,\n",
      "     'MR202': 0.0,\n",
      "     'MR203': 44.448,\n",
      "     'MR204': 0.0,\n",
      "     'MR205': 0.0,\n",
      "     'MR206': 33.91,\n",
      "     'MR301': 3903.83,\n",
      "     'MR401': 0.0,\n",
      "     'MR501': 0.0,\n",
      "     'MR601': 0.0,\n",
      "     'MR701': 3.4320000000000004,\n",
      "     'MR702': 0.0},\n",
      " 9: {'MR101': 0.99375,\n",
      "     'MR102': 328.0038461538461,\n",
      "     'MR103': 0.0,\n",
      "     'MR104': 5.085714285714285,\n",
      "     'MR201': 0.0,\n",
      "     'MR202': 0.0,\n",
      "     'MR203': 44.448,\n",
      "     'MR204': 0.0,\n",
      "     'MR205': 0.0,\n",
      "     'MR206': 33.91,\n",
      "     'MR301': 3903.83,\n",
      "     'MR401': 5.323333333333333,\n",
      "     'MR501': 0.0,\n",
      "     'MR601': 13.243333333333332,\n",
      "     'MR701': 0.0,\n",
      "     'MR702': 0.0},\n",
      " 10: {'MR101': 0.99375,\n",
      "      'MR102': 328.0038461538461,\n",
      "      'MR103': 5.0075,\n",
      "      'MR104': 10.17142857142857,\n",
      "      'MR201': 0.0,\n",
      "      'MR202': 0.0,\n",
      "      'MR203': 44.448,\n",
      "      'MR204': 0.0,\n",
      "      'MR205': 0.0,\n",
      "      'MR206': 33.91,\n",
      "      'MR301': 3903.83,\n",
      "      'MR401': 0.0,\n",
      "      'MR501': 0.0,\n",
      "      'MR601': 0.0,\n",
      "      'MR701': 3.4320000000000004,\n",
      "      'MR702': 0.0},\n",
      " 11: {'MR101': 0.99375,\n",
      "      'MR102': 328.0038461538461,\n",
      "      'MR103': 0.0,\n",
      "      'MR104': 10.17142857142857,\n",
      "      'MR201': 0.0,\n",
      "      'MR202': 0.0,\n",
      "      'MR203': 44.448,\n",
      "      'MR204': 0.0,\n",
      "      'MR205': 0.0,\n",
      "      'MR206': 33.91,\n",
      "      'MR301': 3903.83,\n",
      "      'MR401': 0.0,\n",
      "      'MR501': 0.0,\n",
      "      'MR601': 13.243333333333332,\n",
      "      'MR701': 0.0,\n",
      "      'MR702': 0.0},\n",
      " 12: {'MR101': 0.33125,\n",
      "      'MR102': 109.33461538461538,\n",
      "      'MR103': 0.0,\n",
      "      'MR104': 5.085714285714285,\n",
      "      'MR201': 0.0,\n",
      "      'MR202': 0.0,\n",
      "      'MR203': 22.224,\n",
      "      'MR204': 0.0,\n",
      "      'MR205': 0.0,\n",
      "      'MR206': 0.0,\n",
      "      'MR301': 1951.915,\n",
      "      'MR401': 0.0,\n",
      "      'MR501': 0.0,\n",
      "      'MR601': 0.0,\n",
      "      'MR701': 0.0,\n",
      "      'MR702': 0.0}}\n"
     ]
    }
   ],
   "source": [
    "# Asumiendo que tu dataframe se llama 'df'\n",
    "cargas_trabajo_programadas_anualmente_dict = {}\n",
    "\n",
    "# Iterar por las columnas del dataframe (excluyendo la columna 'codigo' si existe)\n",
    "for columna in cargas_trabajo_programadas_anualmente.columns:\n",
    "    if columna != 'codigo':  # Excluir la columna de códigos\n",
    "        # Extraer el mes de la columna (formato \"2025-MM\")\n",
    "        mes = int(columna.split('-')[1])  # Esto convierte \"04\" a 4, \"12\" a 12\n",
    "        \n",
    "        # Crear el diccionario interno para este mes\n",
    "        cargas_trabajo_programadas_anualmente_dict[mes] = {}\n",
    "        \n",
    "        # Llenar el diccionario con los códigos y valores\n",
    "        for codigo in cargas_trabajo_programadas_anualmente.index:  # Asumiendo que 'codigo' es el índice\n",
    "            cargas_trabajo_programadas_anualmente_dict[mes][codigo] = float(cargas_trabajo_programadas_anualmente.loc[codigo, columna])\n",
    "\n",
    "pprint.pprint(cargas_trabajo_programadas_anualmente_dict)"
   ]
  },
  {
   "cell_type": "code",
   "execution_count": null,
   "id": "fa397e5b",
   "metadata": {},
   "outputs": [
    {
     "name": "stdout",
     "output_type": "stream",
     "text": [
      "4\n",
      "12\n",
      "5\n",
      "12\n",
      "{'MR101': 1.65625,\n",
      " 'MR102': 481.0723076923076,\n",
      " 'MR103': 5.0075,\n",
      " 'MR104': 15.257142857142856,\n",
      " 'MR201': 0.0,\n",
      " 'MR202': 0.0,\n",
      " 'MR203': 66.672,\n",
      " 'MR204': 0.0,\n",
      " 'MR205': 0.0,\n",
      " 'MR206': 33.91,\n",
      " 'MR301': 5855.745,\n",
      " 'MR401': 5.323333333333333,\n",
      " 'MR501': 0.0,\n",
      " 'MR601': 0.0,\n",
      " 'MR701': 3.4320000000000004,\n",
      " 'MR702': 0.0}\n"
     ]
    }
   ],
   "source": [
    "cargas_trabajo_programadas_acumuladas={}\n",
    "\n",
    "for v in cargas_trabajo_programadas_anualmente_dict:\n",
    "    if(int(v)<=mes_en_analisis):\n",
    "        cargas_trabajo_programadas_acumuladas=sumar_dicts(cargas_trabajo_programadas_acumuladas,cargas_trabajo_programadas_anualmente_dict[v])\n",
    "\n",
    "pprint.pprint(cargas_trabajo_programadas_acumuladas)"
   ]
  },
  {
   "cell_type": "markdown",
   "id": "9770fe29",
   "metadata": {},
   "source": [
    "#### Avance valorizado ejecutado"
   ]
  },
  {
   "cell_type": "markdown",
   "id": "8ee89f69",
   "metadata": {},
   "source": [
    "##### Mensual"
   ]
  },
  {
   "cell_type": "code",
   "execution_count": 308,
   "id": "0027d29d",
   "metadata": {},
   "outputs": [
    {
     "name": "stdout",
     "output_type": "stream",
     "text": [
      "{'MR101': 302.7291802534373,\n",
      " 'MR102': 3822.2609097396285,\n",
      " 'MR103': 121.26594651552894,\n",
      " 'MR104': 205.13550832716723,\n",
      " 'MR203': 268.97561490096115,\n",
      " 'MR206': 140.7058424753323,\n",
      " 'MR301': 629.9423020435362,\n",
      " 'MR401': 0.0,\n",
      " 'MR601': 0.0,\n",
      " 'MR701': 172.96332191794093}\n"
     ]
    }
   ],
   "source": [
    "avance_valorizado_ejecutado=calcular_costos_unitarios_v2(dict_precios_unitarios_actualizados=dict_precios_unitarios_actualizados,cargas_trabajo=cargas_trabajo_contratista_current_month)\n",
    "\n",
    "pprint.pprint(avance_valorizado_ejecutado)"
   ]
  },
  {
   "cell_type": "code",
   "execution_count": 309,
   "id": "b7c87464",
   "metadata": {},
   "outputs": [
    {
     "name": "stdout",
     "output_type": "stream",
     "text": [
      "5663.978626173533\n"
     ]
    }
   ],
   "source": [
    "sumar_valores = lambda d: sum(d.values())\n",
    "costo_directo_avance_valorizado_ejecutado=sumar_valores(avance_valorizado_ejecutado)\n",
    "print(costo_directo_avance_valorizado_ejecutado)"
   ]
  },
  {
   "cell_type": "code",
   "execution_count": 310,
   "id": "b35674fa",
   "metadata": {},
   "outputs": [
    {
     "name": "stdout",
     "output_type": "stream",
     "text": [
      "7686.02\n"
     ]
    }
   ],
   "source": [
    "costo_total_avance_valorizado_ejecutado = calculadora_costo_total(costo_directo_avance_valorizado_ejecutado)\n",
    "print(costo_total_avance_valorizado_ejecutado[\"total\"])"
   ]
  },
  {
   "cell_type": "markdown",
   "id": "aba144f9",
   "metadata": {},
   "source": [
    "##### Acumulado"
   ]
  },
  {
   "cell_type": "code",
   "execution_count": 311,
   "id": "13ffdb09",
   "metadata": {},
   "outputs": [
    {
     "name": "stdout",
     "output_type": "stream",
     "text": [
      "{'MR101': 504.54863375572876,\n",
      " 'MR102': 5634.194875220722,\n",
      " 'MR103': 121.26594651552894,\n",
      " 'MR104': 307.8041157396826,\n",
      " 'MR203': 403.43316637676224,\n",
      " 'MR206': 140.7058424753323,\n",
      " 'MR301': 944.8497138119795,\n",
      " 'MR401': 70.02604145027139,\n",
      " 'MR601': 0.0,\n",
      " 'MR701': 172.96332191794093}\n"
     ]
    }
   ],
   "source": [
    "avance_valorizado_ejecutado_acumulado=calcular_costos_unitarios_v2(dict_precios_unitarios_actualizados=dict_precios_unitarios_actualizados,cargas_trabajo=cargas_trabajo_ejecutadas_acumuladas)\n",
    "\n",
    "pprint.pprint(avance_valorizado_ejecutado_acumulado)"
   ]
  },
  {
   "cell_type": "code",
   "execution_count": 312,
   "id": "48fd9594",
   "metadata": {},
   "outputs": [
    {
     "name": "stdout",
     "output_type": "stream",
     "text": [
      "8299.791657263948\n"
     ]
    }
   ],
   "source": [
    "sumar_valores = lambda d: sum(d.values())\n",
    "costo_directo_avance_valorizado_ejecutado_acumulado=sumar_valores(avance_valorizado_ejecutado_acumulado)\n",
    "print(costo_directo_avance_valorizado_ejecutado_acumulado)"
   ]
  },
  {
   "cell_type": "code",
   "execution_count": null,
   "id": "b136d445",
   "metadata": {},
   "outputs": [
    {
     "name": "stdout",
     "output_type": "stream",
     "text": [
      "11262.82\n"
     ]
    }
   ],
   "source": [
    "costo_total_avance_valorizado_ejecutado_acumulado = calculadora_costo_total(costo_directo_avance_valorizado_ejecutado_acumulado)\n",
    "print(costo_total_avance_valorizado_ejecutado_acumulado[\"total\"])"
   ]
  },
  {
   "cell_type": "markdown",
   "id": "38369abe",
   "metadata": {},
   "source": [
    "### Avance valorizado programado"
   ]
  },
  {
   "cell_type": "markdown",
   "id": "aa37f446",
   "metadata": {},
   "source": [
    "#### Mensual"
   ]
  },
  {
   "cell_type": "code",
   "execution_count": 314,
   "id": "f6f52f85",
   "metadata": {},
   "outputs": [
    {
     "name": "stdout",
     "output_type": "stream",
     "text": [
      "{'MR101': 302.7291802534373,\n",
      " 'MR102': 3822.2609097396285,\n",
      " 'MR103': 121.26594651552894,\n",
      " 'MR104': 205.13550832716723,\n",
      " 'MR203': 268.97561490096115,\n",
      " 'MR206': 140.7058424753323,\n",
      " 'MR301': 629.9423020435362,\n",
      " 'MR401': 0.0,\n",
      " 'MR601': 0.0,\n",
      " 'MR701': 172.96332191794093}\n"
     ]
    }
   ],
   "source": [
    "avance_valorizado_programado=calcular_costos_unitarios_v2(dict_precios_unitarios_actualizados=dict_precios_unitarios_actualizados,cargas_trabajo=cargas_trabajo_programadas_current_month)\n",
    "\n",
    "pprint.pprint(avance_valorizado_ejecutado)"
   ]
  },
  {
   "cell_type": "code",
   "execution_count": 315,
   "id": "181f5760",
   "metadata": {},
   "outputs": [
    {
     "name": "stdout",
     "output_type": "stream",
     "text": [
      "5725.5980882819185\n"
     ]
    }
   ],
   "source": [
    "sumar_valores = lambda d: sum(d.values())\n",
    "costo_directo_avance_valorizado_programado=sumar_valores(avance_valorizado_programado)\n",
    "print(costo_directo_avance_valorizado_programado)"
   ]
  },
  {
   "cell_type": "code",
   "execution_count": 316,
   "id": "491b0192",
   "metadata": {},
   "outputs": [
    {
     "name": "stdout",
     "output_type": "stream",
     "text": [
      "7769.64\n"
     ]
    }
   ],
   "source": [
    "costo_total_avance_valorizado_programado = calculadora_costo_total(costo_directo_avance_valorizado_programado)\n",
    "print(costo_total_avance_valorizado_programado[\"total\"])"
   ]
  },
  {
   "cell_type": "markdown",
   "id": "7a0474be",
   "metadata": {},
   "source": [
    "#### Acumulado"
   ]
  },
  {
   "cell_type": "code",
   "execution_count": 317,
   "id": "ffc1c35b",
   "metadata": {},
   "outputs": [
    {
     "name": "stdout",
     "output_type": "stream",
     "text": [
      "{'MR101': 506.4598028229853,\n",
      " 'MR102': 5694.592370549837,\n",
      " 'MR103': 121.2054345661699,\n",
      " 'MR104': 307.7464853117216,\n",
      " 'MR203': 403.445268766634,\n",
      " 'MR206': 140.7058424753323,\n",
      " 'MR301': 944.9134530653043,\n",
      " 'MR401': 70.06991741609235,\n",
      " 'MR601': 0.0,\n",
      " 'MR701': 173.06417516687267}\n"
     ]
    }
   ],
   "source": [
    "avance_valorizado_programado_acumulado=calcular_costos_unitarios_v2(dict_precios_unitarios_actualizados=dict_precios_unitarios_actualizados,cargas_trabajo=cargas_trabajo_programadas_acumuladas)\n",
    "\n",
    "pprint.pprint(avance_valorizado_programado_acumulado)"
   ]
  },
  {
   "cell_type": "code",
   "execution_count": 318,
   "id": "56cbc637",
   "metadata": {},
   "outputs": [
    {
     "name": "stdout",
     "output_type": "stream",
     "text": [
      "8362.20275014095\n"
     ]
    }
   ],
   "source": [
    "sumar_valores = lambda d: sum(d.values())\n",
    "costo_directo_avance_valorizado_programado_acumulado=sumar_valores(avance_valorizado_programado_acumulado)\n",
    "print(costo_directo_avance_valorizado_programado_acumulado)"
   ]
  },
  {
   "cell_type": "code",
   "execution_count": 319,
   "id": "13e73689",
   "metadata": {},
   "outputs": [
    {
     "name": "stdout",
     "output_type": "stream",
     "text": [
      "11347.51\n"
     ]
    }
   ],
   "source": [
    "costo_total_avance_valorizado_programado_acumulado = calculadora_costo_total(costo_directo_avance_valorizado_programado_acumulado)\n",
    "print(costo_total_avance_valorizado_programado_acumulado[\"total\"])"
   ]
  },
  {
   "cell_type": "markdown",
   "id": "0131ffe6",
   "metadata": {},
   "source": [
    "### Resultados"
   ]
  },
  {
   "cell_type": "code",
   "execution_count": 323,
   "id": "d609a448",
   "metadata": {},
   "outputs": [
    {
     "name": "stdout",
     "output_type": "stream",
     "text": [
      "porcentaje_avance_ejecutado=0.1291663865772173\n",
      "porcentaje_avance_ejecutado_acumulado=0.18927582312687377\n",
      "porcentaje_avance_programado=0.13057165136257914\n",
      "porcentaje_avance_programado_acumulado=0.19069906965488498\n"
     ]
    }
   ],
   "source": [
    "porcentaje_avance_ejecutado = (\n",
    "    costo_total_avance_valorizado_ejecutado[\"total\"] / monto_contrato\n",
    ")\n",
    "porcentaje_avance_ejecutado_acumulado = (\n",
    "    costo_total_avance_valorizado_ejecutado_acumulado[\"total\"] / monto_contrato\n",
    ")\n",
    "porcentaje_avance_programado = (\n",
    "    costo_total_avance_valorizado_programado[\"total\"] / monto_contrato\n",
    ")\n",
    "porcentaje_avance_programado_acumulado = (\n",
    "    costo_total_avance_valorizado_programado_acumulado[\"total\"] / monto_contrato\n",
    ")\n",
    "\n",
    "print(\n",
    "    f\"{porcentaje_avance_ejecutado=}\\n{porcentaje_avance_ejecutado_acumulado=}\\n{porcentaje_avance_programado=}\\n{porcentaje_avance_programado_acumulado=}\"\n",
    ")"
   ]
  }
 ],
 "metadata": {
  "kernelspec": {
   "display_name": "asignaciones-financieras-v2",
   "language": "python",
   "name": "python3"
  },
  "language_info": {
   "codemirror_mode": {
    "name": "ipython",
    "version": 3
   },
   "file_extension": ".py",
   "mimetype": "text/x-python",
   "name": "python",
   "nbconvert_exporter": "python",
   "pygments_lexer": "ipython3",
   "version": "3.12.4"
  }
 },
 "nbformat": 4,
 "nbformat_minor": 5
}
