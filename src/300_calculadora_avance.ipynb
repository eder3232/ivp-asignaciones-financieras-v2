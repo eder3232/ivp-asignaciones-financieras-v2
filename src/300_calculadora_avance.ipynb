{
 "cells": [
  {
   "cell_type": "markdown",
   "id": "dd10fc4e",
   "metadata": {},
   "source": [
    "# Calculadora de avance"
   ]
  },
  {
   "cell_type": "markdown",
   "id": "dd99c969",
   "metadata": {},
   "source": [
    "## Datos del proyecto"
   ]
  },
  {
   "cell_type": "code",
   "execution_count": 2,
   "id": "dc4a54ec",
   "metadata": {},
   "outputs": [],
   "source": [
    "proyecto = \"misanayoc\"\n",
    "mes_en_analisis = 5\n",
    "anio = 2025"
   ]
  },
  {
   "cell_type": "markdown",
   "id": "bd7c5abb",
   "metadata": {},
   "source": [
    "## Librerias necesarias"
   ]
  },
  {
   "cell_type": "code",
   "execution_count": 3,
   "id": "ee6826df",
   "metadata": {},
   "outputs": [],
   "source": [
    "from dotenv import load_dotenv, find_dotenv\n",
    "from dotenv import load_dotenv, find_dotenv\n",
    "from functools import reduce\n",
    "from google.cloud import firestore\n",
    "from google.oauth2 import service_account\n",
    "from openpyxl import load_workbook\n",
    "from openpyxl.utils import get_column_letter\n",
    "from pathlib import Path\n",
    "from typing import Dict, List, Any\n",
    "from xlsxwriter.utility import xl_range, xl_rowcol_to_cell\n",
    "import excel2img\n",
    "import itertools\n",
    "import json\n",
    "import os\n",
    "import pandas as pd\n",
    "import pickle\n",
    "import pprint\n",
    "import re\n",
    "import win32com.client as win32\n",
    "import xlsxwriter"
   ]
  },
  {
   "cell_type": "markdown",
   "id": "c79ba77f",
   "metadata": {},
   "source": [
    "## Funciones utiles"
   ]
  },
  {
   "cell_type": "markdown",
   "id": "cff1f927",
   "metadata": {},
   "source": [
    "### Fusionar diccionarios"
   ]
  },
  {
   "cell_type": "code",
   "execution_count": 4,
   "id": "d58fe42a",
   "metadata": {},
   "outputs": [],
   "source": [
    "def fusionar_diccionarios(diccionario_de_diccionarios):\n",
    "    \"\"\"\n",
    "    Fusiona diccionarios separados en un diccionario unificado.\n",
    "    Solo incluye claves donde ambos valores sean diferentes de cero.\n",
    "    Usa dinámicamente las claves del diccionario de entrada.\n",
    "    \n",
    "    Args:\n",
    "        diccionario_de_diccionarios (dict): Diccionario con estructura:\n",
    "            {\n",
    "                \"nombre_campo1\": {clave: valor, ...},\n",
    "                \"nombre_campo2\": {clave: valor, ...}\n",
    "            }\n",
    "    \n",
    "    Returns:\n",
    "        dict: Diccionario fusionado con estructura {clave: {nombre_campo1: valor, nombre_campo2: valor}}\n",
    "    \"\"\"\n",
    "    # Obtener las claves (nombres de los campos) del diccionario principal\n",
    "    nombres_campos = list(diccionario_de_diccionarios.keys())\n",
    "    \n",
    "    if len(nombres_campos) != 2:\n",
    "        raise ValueError(\"El diccionario debe contener exactamente 2 campos\")\n",
    "    \n",
    "    campo1_nombre = nombres_campos[0]\n",
    "    campo2_nombre = nombres_campos[1]\n",
    "    \n",
    "    campo1_datos = diccionario_de_diccionarios[campo1_nombre]\n",
    "    campo2_datos = diccionario_de_diccionarios[campo2_nombre]\n",
    "    \n",
    "    fusionado = {}\n",
    "    \n",
    "    # Obtener todas las claves únicas de ambos diccionarios\n",
    "    todas_las_claves = set(campo1_datos.keys()) | set(campo2_datos.keys())\n",
    "    \n",
    "    for clave in todas_las_claves:\n",
    "        valor1 = campo1_datos.get(clave, 0)\n",
    "        valor2 = campo2_datos.get(clave, 0)\n",
    "        \n",
    "        # Solo agregar si ambos valores son diferentes de cero\n",
    "        if valor1 != 0 and valor2 != 0:\n",
    "            fusionado[clave] = {\n",
    "                campo1_nombre: valor1,\n",
    "                campo2_nombre: valor2\n",
    "            }\n",
    "    \n",
    "    return fusionado"
   ]
  },
  {
   "cell_type": "markdown",
   "id": "4332ed13",
   "metadata": {},
   "source": [
    "### Calculadora de costo total"
   ]
  },
  {
   "cell_type": "code",
   "execution_count": 5,
   "id": "49bf089c",
   "metadata": {},
   "outputs": [],
   "source": [
    "from typing import TypedDict\n",
    "\n",
    "\n",
    "class CostoIngenieriaResult(TypedDict):\n",
    "    costo_directo: float\n",
    "    gastos_generales: float\n",
    "    utilidad: float\n",
    "    subtotal: float\n",
    "    igv: float\n",
    "    total: float\n",
    "\n",
    "\n",
    "def calculadora_costo_total(costo_directo: float, gastos_generales: float) -> CostoIngenieriaResult:\n",
    "    \"\"\"\n",
    "    Calcula el costo total de un proyecto de ingeniería civil en soles peruanos.\n",
    "\n",
    "    Args:\n",
    "        costo_directo (float): Costo directo del proyecto\n",
    "\n",
    "    Returns:\n",
    "        CostoIngenieriaResult: Diccionario con todos los valores calculados\n",
    "    \"\"\"\n",
    "    # Calcular gastos generales (10% del costo directo)\n",
    "    gastos_generales = round(costo_directo * gastos_generales, 2)\n",
    "\n",
    "    # Calcular utilidad (5% del costo directo)\n",
    "    utilidad = round(costo_directo * 0.05, 2)\n",
    "\n",
    "    # Calcular subtotal\n",
    "    subtotal = round(costo_directo + gastos_generales + utilidad, 2)\n",
    "\n",
    "    # Calcular IGV (18% del subtotal)\n",
    "    igv = round(subtotal * 0.18, 2)\n",
    "\n",
    "    # Calcular total\n",
    "    total = round(subtotal + igv, 2)\n",
    "\n",
    "    return {\n",
    "        \"costo_directo\": round(costo_directo, 2),\n",
    "        \"gastos_generales\": gastos_generales,\n",
    "        \"utilidad\": utilidad,\n",
    "        \"subtotal\": subtotal,\n",
    "        \"igv\": igv,\n",
    "        \"total\": total,\n",
    "    }"
   ]
  },
  {
   "cell_type": "markdown",
   "id": "705674bf",
   "metadata": {},
   "source": [
    "### Multiplicador de precio unitario actualizado por cargas de trabajo"
   ]
  },
  {
   "cell_type": "code",
   "execution_count": 6,
   "id": "fcdfdcc1",
   "metadata": {},
   "outputs": [],
   "source": [
    "def calcular_costos_unitarios(\n",
    "    dict_precios_unitarios_actualizados, cargas_trabajo\n",
    "):\n",
    "    \"\"\"\n",
    "    Multiplica cada carga de trabajo del contratista por su precio unitario\n",
    "    correspondiente.\n",
    "\n",
    "    Si alguna clave en cargas_trabajo tiene carga > 0 y no existe\n",
    "    en dict_precios_unitarios_actualizados, levanta KeyError.\n",
    "    Claves con carga = 0 se ignoran (no dan error), y claves en precios que noprecios_uninatrios_expediente\n",
    "    están en cargas se tratan con carga = 0.\n",
    "\n",
    "    Args:\n",
    "        dict_precios_unitarios_actualizados (dict): código → precio unitario.\n",
    "        cargas_trabajo (dict): código → carga de trabajo.\n",
    "\n",
    "    Returns:\n",
    "        dict: código → precio total (precio_unitario * carga).\n",
    "\n",
    "    Raises:\n",
    "        KeyError: si alguna clave con carga > 0 en cargas_trabajo\n",
    "                  no existe en dict_precios_unitarios_actualizados.\n",
    "    \"\"\"\n",
    "    # Detectar faltantes solo para cargas > 0\n",
    "    faltantes = {\n",
    "        codigo\n",
    "        for codigo, carga in cargas_trabajo.items()\n",
    "        if carga != 0 and codigo not in dict_precios_unitarios_actualizados\n",
    "    }\n",
    "    if faltantes:\n",
    "        raise KeyError(f\"Faltan precios unitarios para las claves: {faltantes}\")\n",
    "\n",
    "    # Construir resultado: para cada precio, multiplicar por carga (0 si no hay)\n",
    "    resultado = {}\n",
    "    for codigo, precio_unitario in dict_precios_unitarios_actualizados.items():\n",
    "        carga = cargas_trabajo.get(codigo, 0)\n",
    "        resultado[codigo] = precio_unitario * carga\n",
    "\n",
    "    return resultado"
   ]
  },
  {
   "cell_type": "markdown",
   "id": "8744f61c",
   "metadata": {},
   "source": [
    "### Multiplicador de precio unitario por carga de trabajo v2"
   ]
  },
  {
   "cell_type": "code",
   "execution_count": 7,
   "id": "ba697ed1",
   "metadata": {},
   "outputs": [],
   "source": [
    "def calcular_costos_unitarios_v2(\n",
    "    dict_precios_unitarios_actualizados, cargas_trabajo\n",
    "):\n",
    "    \"\"\"\n",
    "    Multiplica cada carga de trabajo del contratista por su precio unitario\n",
    "    correspondiente.\n",
    "\n",
    "    Si alguna clave en cargas_trabajo tiene carga > 0 y no existe\n",
    "    en dict_precios_unitarios_actualizados, levanta KeyError.\n",
    "    Claves con carga = 0 se ignoran (no dan error), y claves en precios que no\n",
    "    están en cargas se tratan con carga = 0.\n",
    "\n",
    "    Args:\n",
    "        dict_precios_unitarios_actualizados (dict): código → precio unitario.\n",
    "        cargas_trabajo (dict): código → carga de trabajo.\n",
    "\n",
    "    Returns:\n",
    "        dict: código → precio total (precio_unitario * carga).\n",
    "\n",
    "    Raises:\n",
    "        KeyError: si alguna clave con carga > 0 en cargas_trabajo\n",
    "                  no existe en dict_precios_unitarios_actualizados.\n",
    "    \"\"\"\n",
    "    # Detectar faltantes solo para cargas > 0\n",
    "    faltantes = {\n",
    "        codigo\n",
    "        for codigo, carga in cargas_trabajo.items()\n",
    "        if carga != 0 and codigo not in dict_precios_unitarios_actualizados\n",
    "    }\n",
    "    if faltantes:\n",
    "        raise KeyError(f\"Faltan precios unitarios para las claves: {faltantes}\")\n",
    "\n",
    "    # Construir resultado: para cada precio, multiplicar por carga (0 si no hay)\n",
    "    resultado = {}\n",
    "    for codigo, precio_unitario in dict_precios_unitarios_actualizados.items():\n",
    "        carga = cargas_trabajo.get(codigo, 0)\n",
    "        resultado[codigo] = precio_unitario * carga\n",
    "\n",
    "    return resultado"
   ]
  },
  {
   "cell_type": "markdown",
   "id": "3440375f",
   "metadata": {},
   "source": [
    "### Sumador de diccionarios"
   ]
  },
  {
   "cell_type": "code",
   "execution_count": 8,
   "id": "fa26e993",
   "metadata": {},
   "outputs": [],
   "source": [
    "from typing import Any, Dict, Union\n",
    "\n",
    "def sumar_dicts(*dicts: Dict[Any, Any]) -> Dict[Any, Union[int, float]]:\n",
    "    \"\"\"\n",
    "    Suma múltiples diccionarios numéricos.\n",
    "\n",
    "    Args:\n",
    "        *dicts: Diccionarios con valores numéricos (int o float).\n",
    "\n",
    "    Returns:\n",
    "        Un nuevo diccionario con la suma de valores por clave.\n",
    "\n",
    "    Raises:\n",
    "        TypeError: si algún valor no es int ni float o un argumento no es dict.\n",
    "    \"\"\"\n",
    "    result: Dict[Any, Union[int, float]] = {}\n",
    "\n",
    "    for idx, d in enumerate(dicts, start=1):\n",
    "        if not isinstance(d, dict):\n",
    "            raise TypeError(f\"El argumento en posición {idx} no es un dict.\")\n",
    "        for key, value in d.items():\n",
    "            if not isinstance(value, (int, float)):\n",
    "                raise TypeError(\n",
    "                    f\"El valor para clave '{key}' en el dict {idx} \"\n",
    "                    \"no es numérico (int o float).\"\n",
    "                )\n",
    "            result[key] = result.get(key, 0) + value\n",
    "\n",
    "    return result"
   ]
  },
  {
   "cell_type": "markdown",
   "id": "516f90f1",
   "metadata": {},
   "source": [
    "## Carga de datos"
   ]
  },
  {
   "cell_type": "markdown",
   "id": "d53267ec",
   "metadata": {},
   "source": [
    "### Pickle"
   ]
  },
  {
   "cell_type": "code",
   "execution_count": 9,
   "id": "e000c967",
   "metadata": {},
   "outputs": [],
   "source": [
    "# Concatenar la ruta completa al archivo .pkl\n",
    "ruta_archivo = os.path.join(\"data\",proyecto, f\"{proyecto}_cargas_trabajo.pkl\")\n",
    "\n",
    "# Leer el archivo pickle\n",
    "with open(ruta_archivo, \"rb\") as f:\n",
    "    cargas_trabajo_programadas_anualmente = pickle.load(f)\n"
   ]
  },
  {
   "cell_type": "code",
   "execution_count": 10,
   "id": "a5233295",
   "metadata": {},
   "outputs": [
    {
     "data": {
      "text/html": [
       "<div>\n",
       "<style scoped>\n",
       "    .dataframe tbody tr th:only-of-type {\n",
       "        vertical-align: middle;\n",
       "    }\n",
       "\n",
       "    .dataframe tbody tr th {\n",
       "        vertical-align: top;\n",
       "    }\n",
       "\n",
       "    .dataframe thead th {\n",
       "        text-align: right;\n",
       "    }\n",
       "</style>\n",
       "<table border=\"1\" class=\"dataframe\">\n",
       "  <thead>\n",
       "    <tr style=\"text-align: right;\">\n",
       "      <th></th>\n",
       "      <th>2025-04</th>\n",
       "      <th>2025-05</th>\n",
       "      <th>2025-06</th>\n",
       "      <th>2025-07</th>\n",
       "      <th>2025-08</th>\n",
       "      <th>2025-09</th>\n",
       "      <th>2025-10</th>\n",
       "      <th>2025-11</th>\n",
       "      <th>2025-12</th>\n",
       "      <th>TOTAL</th>\n",
       "    </tr>\n",
       "    <tr>\n",
       "      <th>codigo</th>\n",
       "      <th></th>\n",
       "      <th></th>\n",
       "      <th></th>\n",
       "      <th></th>\n",
       "      <th></th>\n",
       "      <th></th>\n",
       "      <th></th>\n",
       "      <th></th>\n",
       "      <th></th>\n",
       "      <th></th>\n",
       "    </tr>\n",
       "  </thead>\n",
       "  <tbody>\n",
       "    <tr>\n",
       "      <th>MR102</th>\n",
       "      <td>116.009174</td>\n",
       "      <td>180.458716</td>\n",
       "      <td>180.458716</td>\n",
       "      <td>180.458716</td>\n",
       "      <td>180.458716</td>\n",
       "      <td>167.568807</td>\n",
       "      <td>180.458716</td>\n",
       "      <td>180.458716</td>\n",
       "      <td>38.669725</td>\n",
       "      <td>1405.00</td>\n",
       "    </tr>\n",
       "    <tr>\n",
       "      <th>MR103</th>\n",
       "      <td>0.000000</td>\n",
       "      <td>0.000000</td>\n",
       "      <td>2.890000</td>\n",
       "      <td>0.000000</td>\n",
       "      <td>0.000000</td>\n",
       "      <td>2.890000</td>\n",
       "      <td>0.000000</td>\n",
       "      <td>2.890000</td>\n",
       "      <td>0.000000</td>\n",
       "      <td>8.67</td>\n",
       "    </tr>\n",
       "    <tr>\n",
       "      <th>MR104</th>\n",
       "      <td>3.333750</td>\n",
       "      <td>3.333750</td>\n",
       "      <td>3.333750</td>\n",
       "      <td>3.333750</td>\n",
       "      <td>3.333750</td>\n",
       "      <td>3.333750</td>\n",
       "      <td>3.333750</td>\n",
       "      <td>3.333750</td>\n",
       "      <td>0.000000</td>\n",
       "      <td>26.67</td>\n",
       "    </tr>\n",
       "    <tr>\n",
       "      <th>MR201</th>\n",
       "      <td>461.538462</td>\n",
       "      <td>769.230769</td>\n",
       "      <td>769.230769</td>\n",
       "      <td>769.230769</td>\n",
       "      <td>769.230769</td>\n",
       "      <td>769.230769</td>\n",
       "      <td>769.230769</td>\n",
       "      <td>769.230769</td>\n",
       "      <td>153.846154</td>\n",
       "      <td>6000.00</td>\n",
       "    </tr>\n",
       "    <tr>\n",
       "      <th>MR202</th>\n",
       "      <td>0.000000</td>\n",
       "      <td>0.000000</td>\n",
       "      <td>0.000000</td>\n",
       "      <td>0.000000</td>\n",
       "      <td>0.000000</td>\n",
       "      <td>0.000000</td>\n",
       "      <td>0.000000</td>\n",
       "      <td>0.000000</td>\n",
       "      <td>0.000000</td>\n",
       "      <td>0.00</td>\n",
       "    </tr>\n",
       "    <tr>\n",
       "      <th>MR203</th>\n",
       "      <td>38.181818</td>\n",
       "      <td>63.636364</td>\n",
       "      <td>50.909091</td>\n",
       "      <td>50.909091</td>\n",
       "      <td>50.909091</td>\n",
       "      <td>50.909091</td>\n",
       "      <td>50.909091</td>\n",
       "      <td>50.909091</td>\n",
       "      <td>12.727273</td>\n",
       "      <td>420.00</td>\n",
       "    </tr>\n",
       "    <tr>\n",
       "      <th>MR204</th>\n",
       "      <td>0.000000</td>\n",
       "      <td>0.000000</td>\n",
       "      <td>0.000000</td>\n",
       "      <td>0.000000</td>\n",
       "      <td>0.000000</td>\n",
       "      <td>0.000000</td>\n",
       "      <td>0.000000</td>\n",
       "      <td>0.000000</td>\n",
       "      <td>0.000000</td>\n",
       "      <td>0.00</td>\n",
       "    </tr>\n",
       "    <tr>\n",
       "      <th>MR205</th>\n",
       "      <td>0.000000</td>\n",
       "      <td>0.000000</td>\n",
       "      <td>0.000000</td>\n",
       "      <td>0.000000</td>\n",
       "      <td>0.000000</td>\n",
       "      <td>0.000000</td>\n",
       "      <td>0.000000</td>\n",
       "      <td>0.000000</td>\n",
       "      <td>0.000000</td>\n",
       "      <td>0.00</td>\n",
       "    </tr>\n",
       "    <tr>\n",
       "      <th>MR206</th>\n",
       "      <td>0.000000</td>\n",
       "      <td>0.000000</td>\n",
       "      <td>0.000000</td>\n",
       "      <td>0.000000</td>\n",
       "      <td>0.000000</td>\n",
       "      <td>0.000000</td>\n",
       "      <td>0.000000</td>\n",
       "      <td>0.000000</td>\n",
       "      <td>0.000000</td>\n",
       "      <td>0.00</td>\n",
       "    </tr>\n",
       "    <tr>\n",
       "      <th>MR301</th>\n",
       "      <td>385.185556</td>\n",
       "      <td>385.185556</td>\n",
       "      <td>385.185556</td>\n",
       "      <td>385.185556</td>\n",
       "      <td>385.185556</td>\n",
       "      <td>385.185556</td>\n",
       "      <td>385.185556</td>\n",
       "      <td>385.185556</td>\n",
       "      <td>385.185556</td>\n",
       "      <td>3466.67</td>\n",
       "    </tr>\n",
       "    <tr>\n",
       "      <th>MR401</th>\n",
       "      <td>0.000000</td>\n",
       "      <td>3.332500</td>\n",
       "      <td>0.000000</td>\n",
       "      <td>3.332500</td>\n",
       "      <td>3.332500</td>\n",
       "      <td>0.000000</td>\n",
       "      <td>3.332500</td>\n",
       "      <td>0.000000</td>\n",
       "      <td>0.000000</td>\n",
       "      <td>13.33</td>\n",
       "    </tr>\n",
       "    <tr>\n",
       "      <th>MR501</th>\n",
       "      <td>0.000000</td>\n",
       "      <td>0.000000</td>\n",
       "      <td>0.000000</td>\n",
       "      <td>0.000000</td>\n",
       "      <td>0.000000</td>\n",
       "      <td>0.000000</td>\n",
       "      <td>0.000000</td>\n",
       "      <td>0.000000</td>\n",
       "      <td>0.000000</td>\n",
       "      <td>0.00</td>\n",
       "    </tr>\n",
       "    <tr>\n",
       "      <th>MR601</th>\n",
       "      <td>0.000000</td>\n",
       "      <td>0.000000</td>\n",
       "      <td>0.000000</td>\n",
       "      <td>7.260000</td>\n",
       "      <td>7.260000</td>\n",
       "      <td>7.260000</td>\n",
       "      <td>7.260000</td>\n",
       "      <td>0.000000</td>\n",
       "      <td>0.000000</td>\n",
       "      <td>29.04</td>\n",
       "    </tr>\n",
       "    <tr>\n",
       "      <th>MR701</th>\n",
       "      <td>2.000000</td>\n",
       "      <td>2.000000</td>\n",
       "      <td>2.000000</td>\n",
       "      <td>2.000000</td>\n",
       "      <td>2.000000</td>\n",
       "      <td>2.000000</td>\n",
       "      <td>2.000000</td>\n",
       "      <td>2.000000</td>\n",
       "      <td>0.000000</td>\n",
       "      <td>16.00</td>\n",
       "    </tr>\n",
       "    <tr>\n",
       "      <th>MR702</th>\n",
       "      <td>0.000000</td>\n",
       "      <td>0.000000</td>\n",
       "      <td>0.000000</td>\n",
       "      <td>0.000000</td>\n",
       "      <td>0.000000</td>\n",
       "      <td>0.000000</td>\n",
       "      <td>0.000000</td>\n",
       "      <td>0.000000</td>\n",
       "      <td>0.000000</td>\n",
       "      <td>0.00</td>\n",
       "    </tr>\n",
       "  </tbody>\n",
       "</table>\n",
       "</div>"
      ],
      "text/plain": [
       "           2025-04     2025-05     2025-06     2025-07     2025-08  \\\n",
       "codigo                                                               \n",
       "MR102   116.009174  180.458716  180.458716  180.458716  180.458716   \n",
       "MR103     0.000000    0.000000    2.890000    0.000000    0.000000   \n",
       "MR104     3.333750    3.333750    3.333750    3.333750    3.333750   \n",
       "MR201   461.538462  769.230769  769.230769  769.230769  769.230769   \n",
       "MR202     0.000000    0.000000    0.000000    0.000000    0.000000   \n",
       "MR203    38.181818   63.636364   50.909091   50.909091   50.909091   \n",
       "MR204     0.000000    0.000000    0.000000    0.000000    0.000000   \n",
       "MR205     0.000000    0.000000    0.000000    0.000000    0.000000   \n",
       "MR206     0.000000    0.000000    0.000000    0.000000    0.000000   \n",
       "MR301   385.185556  385.185556  385.185556  385.185556  385.185556   \n",
       "MR401     0.000000    3.332500    0.000000    3.332500    3.332500   \n",
       "MR501     0.000000    0.000000    0.000000    0.000000    0.000000   \n",
       "MR601     0.000000    0.000000    0.000000    7.260000    7.260000   \n",
       "MR701     2.000000    2.000000    2.000000    2.000000    2.000000   \n",
       "MR702     0.000000    0.000000    0.000000    0.000000    0.000000   \n",
       "\n",
       "           2025-09     2025-10     2025-11     2025-12    TOTAL  \n",
       "codigo                                                           \n",
       "MR102   167.568807  180.458716  180.458716   38.669725  1405.00  \n",
       "MR103     2.890000    0.000000    2.890000    0.000000     8.67  \n",
       "MR104     3.333750    3.333750    3.333750    0.000000    26.67  \n",
       "MR201   769.230769  769.230769  769.230769  153.846154  6000.00  \n",
       "MR202     0.000000    0.000000    0.000000    0.000000     0.00  \n",
       "MR203    50.909091   50.909091   50.909091   12.727273   420.00  \n",
       "MR204     0.000000    0.000000    0.000000    0.000000     0.00  \n",
       "MR205     0.000000    0.000000    0.000000    0.000000     0.00  \n",
       "MR206     0.000000    0.000000    0.000000    0.000000     0.00  \n",
       "MR301   385.185556  385.185556  385.185556  385.185556  3466.67  \n",
       "MR401     0.000000    3.332500    0.000000    0.000000    13.33  \n",
       "MR501     0.000000    0.000000    0.000000    0.000000     0.00  \n",
       "MR601     7.260000    7.260000    0.000000    0.000000    29.04  \n",
       "MR701     2.000000    2.000000    2.000000    0.000000    16.00  \n",
       "MR702     0.000000    0.000000    0.000000    0.000000     0.00  "
      ]
     },
     "execution_count": 10,
     "metadata": {},
     "output_type": "execute_result"
    }
   ],
   "source": [
    "#eliminando el total\n",
    "cargas_trabajo_programadas_anualmente = cargas_trabajo_programadas_anualmente.iloc[:-1]\n",
    "\n",
    "cargas_trabajo_programadas_anualmente.tail(15)"
   ]
  },
  {
   "cell_type": "markdown",
   "id": "3c86fce0",
   "metadata": {},
   "source": [
    "### Firebase"
   ]
  },
  {
   "cell_type": "code",
   "execution_count": 11,
   "id": "779be10e",
   "metadata": {},
   "outputs": [
    {
     "name": "stdout",
     "output_type": "stream",
     "text": [
      "Colecciones disponibles: ['rutinarios']\n"
     ]
    }
   ],
   "source": [
    "## Datos de # 1. Busca el .env en el directorio actual o en cualquiera de los padres\n",
    "dotenv_path = find_dotenv()\n",
    "if not dotenv_path:\n",
    "    raise FileNotFoundError(\"No se encontró ningún archivo .env en este directorio ni en sus padres.\")\n",
    "load_dotenv(dotenv_path)\n",
    "\n",
    "# 2. Define el root del proyecto como la carpeta que contiene el .env\n",
    "project_root = Path(dotenv_path).parent\n",
    "\n",
    "# 3. Obtén la ruta relativa de las credenciales desde la variable de entorno\n",
    "rel_cred_path = os.getenv(\"FIRESTORE_CREDENTIALS\")\n",
    "if not rel_cred_path:\n",
    "    raise RuntimeError(\"No existe la variable FIRESTORE_CREDENTIALS en el .env\")\n",
    "\n",
    "# 4. Construye la ruta absoluta al JSON\n",
    "cred_path = Path(rel_cred_path)\n",
    "if not cred_path.is_absolute():\n",
    "    cred_path = (project_root / cred_path).resolve()\n",
    "\n",
    "if not cred_path.exists():\n",
    "    raise FileNotFoundError(f\"No existe el archivo de credenciales en: {cred_path}\")\n",
    "\n",
    "# 5. Carga las credenciales y crea el cliente de Firestore\n",
    "credentials = service_account.Credentials.from_service_account_file(str(cred_path))\n",
    "client = firestore.Client(credentials=credentials, project=credentials.project_id)\n",
    "\n",
    "# 6. Prueba que funcione\n",
    "print(\"Colecciones disponibles:\", [c.id for c in client.collections()])"
   ]
  },
  {
   "cell_type": "code",
   "execution_count": 12,
   "id": "32b85937",
   "metadata": {},
   "outputs": [],
   "source": [
    "db=firestore.Client(credentials=credentials, project=credentials.project_id)"
   ]
  },
  {
   "cell_type": "markdown",
   "id": "456d4b46",
   "metadata": {},
   "source": [
    "#### Cargas de trabajo"
   ]
  },
  {
   "cell_type": "code",
   "execution_count": 13,
   "id": "20c06102",
   "metadata": {},
   "outputs": [
    {
     "name": "stdout",
     "output_type": "stream",
     "text": [
      "{'cargas_trabajo_contratista_corregido': {'MR101': 0.57,\n",
      "                                          'MR102': 180.46,\n",
      "                                          'MR104': 3.33,\n",
      "                                          'MR201': 813.08,\n",
      "                                          'MR203': 63.64,\n",
      "                                          'MR301': 385.19,\n",
      "                                          'MR601': 4.15,\n",
      "                                          'MR701': 2},\n",
      " 'cargas_trabajo_contratista_inicial': {'MR101': 0.57,\n",
      "                                        'MR102': 180.46,\n",
      "                                        'MR104': 3.33,\n",
      "                                        'MR201': 769.23,\n",
      "                                        'MR203': 63.64,\n",
      "                                        'MR301': 385.19,\n",
      "                                        'MR601': 4.15,\n",
      "                                        'MR701': 2}}\n"
     ]
    }
   ],
   "source": [
    "cargas_trabajo_contratista=db.collection(\"rutinarios\").document(proyecto).collection(\"valorizaciones\").document(str(mes_en_analisis)).get().to_dict()\n",
    "\n",
    "pprint.pprint(cargas_trabajo_contratista)"
   ]
  },
  {
   "cell_type": "code",
   "execution_count": 14,
   "id": "faeaada2",
   "metadata": {},
   "outputs": [],
   "source": [
    "cargas_trabajo_contratista_corregido=cargas_trabajo_contratista['cargas_trabajo_contratista_corregido']"
   ]
  },
  {
   "cell_type": "markdown",
   "id": "341a7ea4",
   "metadata": {},
   "source": [
    "#### Expediente técnico"
   ]
  },
  {
   "cell_type": "code",
   "execution_count": 15,
   "id": "2b917a97",
   "metadata": {},
   "outputs": [
    {
     "name": "stdout",
     "output_type": "stream",
     "text": [
      "{'cargas_trabajo': {'MR101': 4.4,\n",
      "                    'MR102': 1405,\n",
      "                    'MR103': 8.67,\n",
      "                    'MR104': 26.67,\n",
      "                    'MR201': 6000,\n",
      "                    'MR203': 420,\n",
      "                    'MR301': 3466.67,\n",
      "                    'MR401': 13.33,\n",
      "                    'MR601': 29.04,\n",
      "                    'MR701': 16},\n",
      " 'codigo_ruta': 'R0405148',\n",
      " 'coordenadas': {'fin': {'altitud': 3728,\n",
      "                         'datum': 'WGS84',\n",
      "                         'hemisferio': 'S',\n",
      "                         'progresiva': 6600,\n",
      "                         'x': 189675.12,\n",
      "                         'y': 8229710.1,\n",
      "                         'zona': None,\n",
      "                         'zona_letra': None},\n",
      "                 'inicio': {'altitud': 3130,\n",
      "                            'datum': 'WGS84',\n",
      "                            'hemisferio': 'S',\n",
      "                            'progresiva': 0,\n",
      "                            'x': 191509.1,\n",
      "                            'y': 8225824.5,\n",
      "                            'zona': None,\n",
      "                            'zona_letra': None}},\n",
      " 'gastos_generales': 0.15,\n",
      " 'longitud': 6600.0,\n",
      " 'monto_total': 41184.0,\n",
      " 'nombre': 'MANTENIMIENTO VIAL RUTINARIO DEL CAMINO VECINAL EMP. AR-706 - '\n",
      "           'MISANAYOC, DISTRITO DE HUANCA, PROVINCIA DE CAYLLOMA, REGIÓN '\n",
      "           'AREQUIPA',\n",
      " 'precios_unitarios': {'MR101': 265.3,\n",
      "                       'MR102': 10.27,\n",
      "                       'MR103': 21.0,\n",
      "                       'MR104': 17.5,\n",
      "                       'MR201': 0.44,\n",
      "                       'MR202': 78.5,\n",
      "                       'MR203': 5.25,\n",
      "                       'MR204': 0.44,\n",
      "                       'MR205': 105,\n",
      "                       'MR206': 3.6,\n",
      "                       'MR301': 0.14,\n",
      "                       'MR401': 11.42,\n",
      "                       'MR501': 0.53,\n",
      "                       'MR601': 2.1,\n",
      "                       'MR701': 43.75,\n",
      "                       'MR702': 210},\n",
      " 'tarifa_km_mes': 780}\n"
     ]
    }
   ],
   "source": [
    "doc_proyecto_firebase = db.collection(\"rutinarios\").document(proyecto).get().to_dict()\n",
    "expediente_tecnico_firebase = doc_proyecto_firebase[\"expediente\"]\n",
    "\n",
    "pprint.pprint(expediente_tecnico_firebase)"
   ]
  },
  {
   "cell_type": "code",
   "execution_count": 16,
   "id": "41110b84",
   "metadata": {},
   "outputs": [
    {
     "name": "stdout",
     "output_type": "stream",
     "text": [
      "0\n",
      "6600\n"
     ]
    }
   ],
   "source": [
    "progresiva_inicio = expediente_tecnico_firebase[\"coordenadas\"][\n",
    "    \"inicio\"\n",
    "][\"progresiva\"]\n",
    "progresiva_fin = expediente_tecnico_firebase[\"coordenadas\"][\n",
    "    \"fin\"\n",
    "][\"progresiva\"]\n",
    "\n",
    "print(progresiva_inicio)\n",
    "print(progresiva_fin)"
   ]
  },
  {
   "cell_type": "code",
   "execution_count": 17,
   "id": "edc34512",
   "metadata": {},
   "outputs": [
    {
     "name": "stdout",
     "output_type": "stream",
     "text": [
      "0.15\n"
     ]
    }
   ],
   "source": [
    "gastos_generales_expediente=expediente_tecnico_firebase['gastos_generales']\n",
    "print(gastos_generales_expediente)"
   ]
  },
  {
   "cell_type": "markdown",
   "id": "50f6677b",
   "metadata": {},
   "source": [
    "#### Precios unitarios"
   ]
  },
  {
   "cell_type": "code",
   "execution_count": 18,
   "id": "bc5d2893",
   "metadata": {},
   "outputs": [
    {
     "name": "stdout",
     "output_type": "stream",
     "text": [
      "{'MR101': 265.3,\n",
      " 'MR102': 10.27,\n",
      " 'MR103': 21.0,\n",
      " 'MR104': 17.5,\n",
      " 'MR201': 0.44,\n",
      " 'MR202': 78.5,\n",
      " 'MR203': 5.25,\n",
      " 'MR204': 0.44,\n",
      " 'MR205': 105,\n",
      " 'MR206': 3.6,\n",
      " 'MR301': 0.14,\n",
      " 'MR401': 11.42,\n",
      " 'MR501': 0.53,\n",
      " 'MR601': 2.1,\n",
      " 'MR701': 43.75,\n",
      " 'MR702': 210}\n"
     ]
    }
   ],
   "source": [
    "precios_unitarios_expediente=expediente_tecnico_firebase[\"precios_unitarios\"]\n",
    "pprint.pprint(precios_unitarios_expediente)"
   ]
  },
  {
   "cell_type": "code",
   "execution_count": 19,
   "id": "08c6e489",
   "metadata": {},
   "outputs": [],
   "source": [
    "cargas_trabajo_expediente=expediente_tecnico_firebase[\"cargas_trabajo\"]"
   ]
  },
  {
   "cell_type": "code",
   "execution_count": 20,
   "id": "74b0defe",
   "metadata": {},
   "outputs": [
    {
     "name": "stdout",
     "output_type": "stream",
     "text": [
      "{'MR101': {'carga_trabajo': 4.4, 'precio_unitario': 265.3},\n",
      " 'MR102': {'carga_trabajo': 1405, 'precio_unitario': 10.27},\n",
      " 'MR103': {'carga_trabajo': 8.67, 'precio_unitario': 21.0},\n",
      " 'MR104': {'carga_trabajo': 26.67, 'precio_unitario': 17.5},\n",
      " 'MR201': {'carga_trabajo': 6000, 'precio_unitario': 0.44},\n",
      " 'MR203': {'carga_trabajo': 420, 'precio_unitario': 5.25},\n",
      " 'MR301': {'carga_trabajo': 3466.67, 'precio_unitario': 0.14},\n",
      " 'MR401': {'carga_trabajo': 13.33, 'precio_unitario': 11.42},\n",
      " 'MR601': {'carga_trabajo': 29.04, 'precio_unitario': 2.1},\n",
      " 'MR701': {'carga_trabajo': 16, 'precio_unitario': 43.75}}\n"
     ]
    }
   ],
   "source": [
    "costos_expediente=fusionar_diccionarios({\n",
    "    'carga_trabajo':cargas_trabajo_expediente,\n",
    "    'precio_unitario':precios_unitarios_expediente\n",
    "})\n",
    "\n",
    "pprint.pprint(costos_expediente)"
   ]
  },
  {
   "cell_type": "markdown",
   "id": "9bba3506",
   "metadata": {},
   "source": [
    "#### Contrato"
   ]
  },
  {
   "cell_type": "code",
   "execution_count": 21,
   "id": "bdb3d7bf",
   "metadata": {},
   "outputs": [
    {
     "name": "stdout",
     "output_type": "stream",
     "text": [
      "{'contratista': {'razon_social': 'BUILDIA S.A.C.', 'ruc': ''},\n",
      " 'denominacion_tramo_convenio': 'EMP. AR-127 - MISANAYOC (KM 6+000)',\n",
      " 'fecha_inicio': {'anio': 2025, 'dia': 12, 'mes': 4},\n",
      " 'id_contrato': '002-2025',\n",
      " 'jefe_mantenimiento': {'apellido': 'Tinta Cáceres',\n",
      "                        'dni': 0,\n",
      "                        'nombre': 'Genaro',\n",
      "                        'titulo': 'Ingeniero'},\n",
      " 'monto_contrato': 40800.0,\n",
      " 'numero_cuadrillas': 1,\n",
      " 'numero_trabajadores': 2,\n",
      " 'tiempo_ejecucion_dias': 240,\n",
      " 'tipo_servicio': 'mantenimiento rutinario'}\n"
     ]
    }
   ],
   "source": [
    "contrato = doc_proyecto_firebase[\"contrato\"]\n",
    "pprint.pprint(contrato)"
   ]
  },
  {
   "cell_type": "code",
   "execution_count": 22,
   "id": "fcd762c3",
   "metadata": {},
   "outputs": [
    {
     "name": "stdout",
     "output_type": "stream",
     "text": [
      "40800.0\n"
     ]
    }
   ],
   "source": [
    "monto_contrato = contrato[\"monto_contrato\"]\n",
    "print(monto_contrato)"
   ]
  },
  {
   "cell_type": "markdown",
   "id": "3defbc67",
   "metadata": {},
   "source": [
    "#### Valorizaciones"
   ]
  },
  {
   "cell_type": "code",
   "execution_count": 23,
   "id": "c9928821",
   "metadata": {},
   "outputs": [
    {
     "name": "stdout",
     "output_type": "stream",
     "text": [
      "<google.cloud.firestore_v1.collection.CollectionReference object at 0x0000026B50EA3B30>\n"
     ]
    }
   ],
   "source": [
    "valorizaciones_ref = db.collection(\"rutinarios\").document(proyecto).collection('valorizaciones')\n",
    "\n",
    "pprint.pprint(valorizaciones_ref)"
   ]
  },
  {
   "cell_type": "code",
   "execution_count": 24,
   "id": "5f199af0",
   "metadata": {},
   "outputs": [
    {
     "name": "stdout",
     "output_type": "stream",
     "text": [
      "ID del documento: 4\n",
      "Datos del documento: {'cargas_trabajo_contratista_corregido': {'MR102': 390, 'MR301': 650, 'MR701': 2.6, 'MR101': 0.65}, 'cargas_trabajo_contratista': {'MR102': 390, 'MR301': 650, 'MR701': 2.6, 'MR101': 0.65}, 'avance': {'porcentaje_ejecutado_acumulado_vigente_mes': 0.15267272253391578, 'porcentaje_programado_vigente_mes': 0.07916666666666666, 'porcentaje_programado_acumulado_vigente_mes': 0.07916666666666666, 'porcentaje_ejecutado_vigente_mes': 0.15267272253391578}}\n",
      "------------------------------\n",
      "ID del documento: 5\n",
      "Datos del documento: {'cargas_trabajo_contratista_inicial': {'MR301': 385.19, 'MR203': 63.64, 'MR201': 769.23, 'MR101': 0.57, 'MR102': 180.46, 'MR104': 3.33, 'MR701': 2, 'MR601': 4.15}, 'cargas_trabajo_contratista_corregido': {'MR301': 385.19, 'MR203': 63.64, 'MR201': 813.08, 'MR101': 0.57, 'MR102': 180.46, 'MR104': 3.33, 'MR701': 2, 'MR601': 4.15}}\n",
      "------------------------------\n",
      "{'4': {'avance': {'porcentaje_ejecutado_acumulado_vigente_mes': 0.15267272253391578,\n",
      "                  'porcentaje_ejecutado_vigente_mes': 0.15267272253391578,\n",
      "                  'porcentaje_programado_acumulado_vigente_mes': 0.07916666666666666,\n",
      "                  'porcentaje_programado_vigente_mes': 0.07916666666666666},\n",
      "       'cargas_trabajo_contratista': {'MR101': 0.65,\n",
      "                                      'MR102': 390,\n",
      "                                      'MR301': 650,\n",
      "                                      'MR701': 2.6},\n",
      "       'cargas_trabajo_contratista_corregido': {'MR101': 0.65,\n",
      "                                                'MR102': 390,\n",
      "                                                'MR301': 650,\n",
      "                                                'MR701': 2.6}},\n",
      " '5': {'cargas_trabajo_contratista_corregido': {'MR101': 0.57,\n",
      "                                                'MR102': 180.46,\n",
      "                                                'MR104': 3.33,\n",
      "                                                'MR201': 813.08,\n",
      "                                                'MR203': 63.64,\n",
      "                                                'MR301': 385.19,\n",
      "                                                'MR601': 4.15,\n",
      "                                                'MR701': 2},\n",
      "       'cargas_trabajo_contratista_inicial': {'MR101': 0.57,\n",
      "                                              'MR102': 180.46,\n",
      "                                              'MR104': 3.33,\n",
      "                                              'MR201': 769.23,\n",
      "                                              'MR203': 63.64,\n",
      "                                              'MR301': 385.19,\n",
      "                                              'MR601': 4.15,\n",
      "                                              'MR701': 2}}}\n"
     ]
    }
   ],
   "source": [
    "docs = valorizaciones_ref.stream()\n",
    "\n",
    "# Iterar sobre los documentos y acceder a sus datos\n",
    "\n",
    "valorizaciones={}\n",
    "for doc in docs:\n",
    "    print(f'ID del documento: {doc.id}')\n",
    "    print(f'Datos del documento: {doc.to_dict()}')\n",
    "    print(\"-\" * 30)\n",
    "\n",
    "    valorizaciones[doc.id]=doc.to_dict()\n",
    "\n",
    "pprint.pprint(valorizaciones)"
   ]
  },
  {
   "cell_type": "markdown",
   "id": "12aaad88",
   "metadata": {},
   "source": [
    "## Cálculos"
   ]
  },
  {
   "cell_type": "markdown",
   "id": "ec2bf5a8",
   "metadata": {},
   "source": [
    "### Recalculo de precios unitarios"
   ]
  },
  {
   "cell_type": "code",
   "execution_count": 25,
   "id": "7d15560e",
   "metadata": {},
   "outputs": [],
   "source": [
    "# Crear DataFrame usando pd.DataFrame.from_dict() con orient='index'\n",
    "df_costos_expediente = pd.DataFrame.from_dict(\n",
    "    costos_expediente, orient=\"index\"\n",
    ")\n",
    "\n",
    "# Resetear el índice para convertir las claves MR en una columna\n",
    "df_costos_expediente = df_costos_expediente.reset_index().rename(\n",
    "    columns={\"index\": \"codigo_MR\"}\n",
    ")"
   ]
  },
  {
   "cell_type": "code",
   "execution_count": 26,
   "id": "3bd39287",
   "metadata": {},
   "outputs": [
    {
     "data": {
      "text/html": [
       "<div>\n",
       "<style scoped>\n",
       "    .dataframe tbody tr th:only-of-type {\n",
       "        vertical-align: middle;\n",
       "    }\n",
       "\n",
       "    .dataframe tbody tr th {\n",
       "        vertical-align: top;\n",
       "    }\n",
       "\n",
       "    .dataframe thead th {\n",
       "        text-align: right;\n",
       "    }\n",
       "</style>\n",
       "<table border=\"1\" class=\"dataframe\">\n",
       "  <thead>\n",
       "    <tr style=\"text-align: right;\">\n",
       "      <th></th>\n",
       "      <th>codigo_MR</th>\n",
       "      <th>carga_trabajo</th>\n",
       "      <th>precio_unitario</th>\n",
       "      <th>parcial</th>\n",
       "    </tr>\n",
       "  </thead>\n",
       "  <tbody>\n",
       "    <tr>\n",
       "      <th>0</th>\n",
       "      <td>MR301</td>\n",
       "      <td>3466.67</td>\n",
       "      <td>0.14</td>\n",
       "      <td>485.3338</td>\n",
       "    </tr>\n",
       "    <tr>\n",
       "      <th>1</th>\n",
       "      <td>MR102</td>\n",
       "      <td>1405.00</td>\n",
       "      <td>10.27</td>\n",
       "      <td>14429.3500</td>\n",
       "    </tr>\n",
       "    <tr>\n",
       "      <th>2</th>\n",
       "      <td>MR203</td>\n",
       "      <td>420.00</td>\n",
       "      <td>5.25</td>\n",
       "      <td>2205.0000</td>\n",
       "    </tr>\n",
       "    <tr>\n",
       "      <th>3</th>\n",
       "      <td>MR201</td>\n",
       "      <td>6000.00</td>\n",
       "      <td>0.44</td>\n",
       "      <td>2640.0000</td>\n",
       "    </tr>\n",
       "    <tr>\n",
       "      <th>4</th>\n",
       "      <td>MR103</td>\n",
       "      <td>8.67</td>\n",
       "      <td>21.00</td>\n",
       "      <td>182.0700</td>\n",
       "    </tr>\n",
       "  </tbody>\n",
       "</table>\n",
       "</div>"
      ],
      "text/plain": [
       "  codigo_MR  carga_trabajo  precio_unitario     parcial\n",
       "0     MR301        3466.67             0.14    485.3338\n",
       "1     MR102        1405.00            10.27  14429.3500\n",
       "2     MR203         420.00             5.25   2205.0000\n",
       "3     MR201        6000.00             0.44   2640.0000\n",
       "4     MR103           8.67            21.00    182.0700"
      ]
     },
     "execution_count": 26,
     "metadata": {},
     "output_type": "execute_result"
    }
   ],
   "source": [
    "# Agregar columna parcial\n",
    "df_costos_expediente[\"parcial\"] = (\n",
    "    df_costos_expediente[\"precio_unitario\"]\n",
    "    * df_costos_expediente[\"carga_trabajo\"]\n",
    ")\n",
    "df_costos_expediente.head()"
   ]
  },
  {
   "cell_type": "code",
   "execution_count": 27,
   "id": "b47d5383",
   "metadata": {},
   "outputs": [
    {
     "name": "stdout",
     "output_type": "stream",
     "text": [
      "costo_directo 22489.011399999996\n"
     ]
    }
   ],
   "source": [
    "costo_directo = df_costos_expediente[\"parcial\"].sum()\n",
    "print(\"costo_directo\", costo_directo)"
   ]
  },
  {
   "cell_type": "code",
   "execution_count": 28,
   "id": "0f5479af",
   "metadata": {},
   "outputs": [
    {
     "name": "stdout",
     "output_type": "stream",
     "text": [
      "31844.44\n"
     ]
    }
   ],
   "source": [
    "costo_total_expediente = calculadora_costo_total(costo_directo,gastos_generales_expediente)\n",
    "print(costo_total_expediente[\"total\"])"
   ]
  },
  {
   "cell_type": "code",
   "execution_count": 29,
   "id": "6c1f8f3e",
   "metadata": {},
   "outputs": [
    {
     "name": "stdout",
     "output_type": "stream",
     "text": [
      "El costo directo es: 28813.559450880595\n"
     ]
    }
   ],
   "source": [
    "df_costos_expediente[\"precio_unitario_actualizado\"] = (\n",
    "    df_costos_expediente[\"precio_unitario\"]\n",
    "    * (monto_contrato / costo_total_expediente[\"total\"])\n",
    ")\n",
    "\n",
    "df_costos_expediente[\"parcial_actualizado\"] = (\n",
    "    df_costos_expediente[\"precio_unitario_actualizado\"]\n",
    "    * df_costos_expediente[\"carga_trabajo\"]\n",
    ")\n",
    "\n",
    "# Calcular el total\n",
    "costo_directo_actualizado = df_costos_expediente[\"parcial_actualizado\"].sum()\n",
    "\n",
    "print(f\"El costo directo es: {costo_directo_actualizado}\")"
   ]
  },
  {
   "cell_type": "code",
   "execution_count": 30,
   "id": "6468ea72",
   "metadata": {},
   "outputs": [
    {
     "data": {
      "text/html": [
       "<div>\n",
       "<style scoped>\n",
       "    .dataframe tbody tr th:only-of-type {\n",
       "        vertical-align: middle;\n",
       "    }\n",
       "\n",
       "    .dataframe tbody tr th {\n",
       "        vertical-align: top;\n",
       "    }\n",
       "\n",
       "    .dataframe thead th {\n",
       "        text-align: right;\n",
       "    }\n",
       "</style>\n",
       "<table border=\"1\" class=\"dataframe\">\n",
       "  <thead>\n",
       "    <tr style=\"text-align: right;\">\n",
       "      <th></th>\n",
       "      <th>codigo_MR</th>\n",
       "      <th>carga_trabajo</th>\n",
       "      <th>precio_unitario</th>\n",
       "      <th>parcial</th>\n",
       "      <th>precio_unitario_actualizado</th>\n",
       "      <th>parcial_actualizado</th>\n",
       "    </tr>\n",
       "  </thead>\n",
       "  <tbody>\n",
       "    <tr>\n",
       "      <th>0</th>\n",
       "      <td>MR301</td>\n",
       "      <td>3466.67</td>\n",
       "      <td>0.14</td>\n",
       "      <td>485.3338</td>\n",
       "      <td>0.179372</td>\n",
       "      <td>621.823434</td>\n",
       "    </tr>\n",
       "    <tr>\n",
       "      <th>1</th>\n",
       "      <td>MR102</td>\n",
       "      <td>1405.00</td>\n",
       "      <td>10.27</td>\n",
       "      <td>14429.3500</td>\n",
       "      <td>13.158215</td>\n",
       "      <td>18487.292601</td>\n",
       "    </tr>\n",
       "    <tr>\n",
       "      <th>2</th>\n",
       "      <td>MR203</td>\n",
       "      <td>420.00</td>\n",
       "      <td>5.25</td>\n",
       "      <td>2205.0000</td>\n",
       "      <td>6.726449</td>\n",
       "      <td>2825.108559</td>\n",
       "    </tr>\n",
       "    <tr>\n",
       "      <th>3</th>\n",
       "      <td>MR201</td>\n",
       "      <td>6000.00</td>\n",
       "      <td>0.44</td>\n",
       "      <td>2640.0000</td>\n",
       "      <td>0.563740</td>\n",
       "      <td>3382.442901</td>\n",
       "    </tr>\n",
       "    <tr>\n",
       "      <th>4</th>\n",
       "      <td>MR103</td>\n",
       "      <td>8.67</td>\n",
       "      <td>21.00</td>\n",
       "      <td>182.0700</td>\n",
       "      <td>26.905796</td>\n",
       "      <td>233.273250</td>\n",
       "    </tr>\n",
       "    <tr>\n",
       "      <th>5</th>\n",
       "      <td>MR701</td>\n",
       "      <td>16.00</td>\n",
       "      <td>43.75</td>\n",
       "      <td>700.0000</td>\n",
       "      <td>56.053741</td>\n",
       "      <td>896.859860</td>\n",
       "    </tr>\n",
       "    <tr>\n",
       "      <th>6</th>\n",
       "      <td>MR101</td>\n",
       "      <td>4.40</td>\n",
       "      <td>265.30</td>\n",
       "      <td>1167.3200</td>\n",
       "      <td>339.909887</td>\n",
       "      <td>1495.603503</td>\n",
       "    </tr>\n",
       "    <tr>\n",
       "      <th>7</th>\n",
       "      <td>MR104</td>\n",
       "      <td>26.67</td>\n",
       "      <td>17.50</td>\n",
       "      <td>466.7250</td>\n",
       "      <td>22.421496</td>\n",
       "      <td>597.981312</td>\n",
       "    </tr>\n",
       "    <tr>\n",
       "      <th>8</th>\n",
       "      <td>MR401</td>\n",
       "      <td>13.33</td>\n",
       "      <td>11.42</td>\n",
       "      <td>152.2286</td>\n",
       "      <td>14.631628</td>\n",
       "      <td>195.039601</td>\n",
       "    </tr>\n",
       "    <tr>\n",
       "      <th>9</th>\n",
       "      <td>MR601</td>\n",
       "      <td>29.04</td>\n",
       "      <td>2.10</td>\n",
       "      <td>60.9840</td>\n",
       "      <td>2.690580</td>\n",
       "      <td>78.134431</td>\n",
       "    </tr>\n",
       "  </tbody>\n",
       "</table>\n",
       "</div>"
      ],
      "text/plain": [
       "  codigo_MR  carga_trabajo  precio_unitario     parcial  \\\n",
       "0     MR301        3466.67             0.14    485.3338   \n",
       "1     MR102        1405.00            10.27  14429.3500   \n",
       "2     MR203         420.00             5.25   2205.0000   \n",
       "3     MR201        6000.00             0.44   2640.0000   \n",
       "4     MR103           8.67            21.00    182.0700   \n",
       "5     MR701          16.00            43.75    700.0000   \n",
       "6     MR101           4.40           265.30   1167.3200   \n",
       "7     MR104          26.67            17.50    466.7250   \n",
       "8     MR401          13.33            11.42    152.2286   \n",
       "9     MR601          29.04             2.10     60.9840   \n",
       "\n",
       "   precio_unitario_actualizado  parcial_actualizado  \n",
       "0                     0.179372           621.823434  \n",
       "1                    13.158215         18487.292601  \n",
       "2                     6.726449          2825.108559  \n",
       "3                     0.563740          3382.442901  \n",
       "4                    26.905796           233.273250  \n",
       "5                    56.053741           896.859860  \n",
       "6                   339.909887          1495.603503  \n",
       "7                    22.421496           597.981312  \n",
       "8                    14.631628           195.039601  \n",
       "9                     2.690580            78.134431  "
      ]
     },
     "execution_count": 30,
     "metadata": {},
     "output_type": "execute_result"
    }
   ],
   "source": [
    "df_costos_expediente.head(10)"
   ]
  },
  {
   "cell_type": "code",
   "execution_count": 31,
   "id": "ea27baa1",
   "metadata": {},
   "outputs": [
    {
     "name": "stdout",
     "output_type": "stream",
     "text": [
      "{'MR101': 339.9098869378768,\n",
      " 'MR102': 13.158215374489236,\n",
      " 'MR103': 26.905795799831935,\n",
      " 'MR104': 22.421496499859945,\n",
      " 'MR201': 0.5637404834250501,\n",
      " 'MR203': 6.726448949957984,\n",
      " 'MR301': 0.17937197199887958,\n",
      " 'MR401': 14.63162800162289,\n",
      " 'MR601': 2.6905795799831935,\n",
      " 'MR701': 56.05374124964987}\n"
     ]
    }
   ],
   "source": [
    "dict_precios_unitarios_actualizados = dict(\n",
    "    zip(\n",
    "        df_costos_expediente[\"codigo_MR\"],\n",
    "        df_costos_expediente[\"precio_unitario_actualizado\"],\n",
    "    )\n",
    ")\n",
    "\n",
    "pprint.pprint(dict_precios_unitarios_actualizados)"
   ]
  },
  {
   "cell_type": "markdown",
   "id": "3afebcad",
   "metadata": {},
   "source": [
    "#### Cálculo de pago de acuerdo a cargas de trabajo"
   ]
  },
  {
   "cell_type": "code",
   "execution_count": 32,
   "id": "53cec22f",
   "metadata": {},
   "outputs": [
    {
     "name": "stdout",
     "output_type": "stream",
     "text": [
      "{'MR101': 1495.603502526658,\n",
      " 'MR102': 18487.292601157376,\n",
      " 'MR103': 233.27324958454287,\n",
      " 'MR104': 597.9813116512647,\n",
      " 'MR201': 3382.4429005503007,\n",
      " 'MR203': 2825.1085589823533,\n",
      " 'MR301': 621.8234341693559,\n",
      " 'MR401': 195.03960126163312,\n",
      " 'MR601': 78.13443100271193,\n",
      " 'MR701': 896.8598599943979}\n"
     ]
    }
   ],
   "source": [
    "pago_costo_directo_parciales_contratista = calcular_costos_unitarios(\n",
    "    dict_precios_unitarios_actualizados, cargas_trabajo_expediente\n",
    ")\n",
    "pprint.pprint(pago_costo_directo_parciales_contratista)"
   ]
  },
  {
   "cell_type": "code",
   "execution_count": 33,
   "id": "94f0dddb",
   "metadata": {},
   "outputs": [
    {
     "data": {
      "text/html": [
       "<div>\n",
       "<style scoped>\n",
       "    .dataframe tbody tr th:only-of-type {\n",
       "        vertical-align: middle;\n",
       "    }\n",
       "\n",
       "    .dataframe tbody tr th {\n",
       "        vertical-align: top;\n",
       "    }\n",
       "\n",
       "    .dataframe thead th {\n",
       "        text-align: right;\n",
       "    }\n",
       "</style>\n",
       "<table border=\"1\" class=\"dataframe\">\n",
       "  <thead>\n",
       "    <tr style=\"text-align: right;\">\n",
       "      <th></th>\n",
       "      <th>codigo_MR</th>\n",
       "      <th>monto_pago</th>\n",
       "    </tr>\n",
       "  </thead>\n",
       "  <tbody>\n",
       "    <tr>\n",
       "      <th>0</th>\n",
       "      <td>MR301</td>\n",
       "      <td>621.823434</td>\n",
       "    </tr>\n",
       "    <tr>\n",
       "      <th>1</th>\n",
       "      <td>MR102</td>\n",
       "      <td>18487.292601</td>\n",
       "    </tr>\n",
       "    <tr>\n",
       "      <th>2</th>\n",
       "      <td>MR203</td>\n",
       "      <td>2825.108559</td>\n",
       "    </tr>\n",
       "    <tr>\n",
       "      <th>3</th>\n",
       "      <td>MR201</td>\n",
       "      <td>3382.442901</td>\n",
       "    </tr>\n",
       "    <tr>\n",
       "      <th>4</th>\n",
       "      <td>MR103</td>\n",
       "      <td>233.273250</td>\n",
       "    </tr>\n",
       "    <tr>\n",
       "      <th>5</th>\n",
       "      <td>MR701</td>\n",
       "      <td>896.859860</td>\n",
       "    </tr>\n",
       "    <tr>\n",
       "      <th>6</th>\n",
       "      <td>MR101</td>\n",
       "      <td>1495.603503</td>\n",
       "    </tr>\n",
       "    <tr>\n",
       "      <th>7</th>\n",
       "      <td>MR104</td>\n",
       "      <td>597.981312</td>\n",
       "    </tr>\n",
       "    <tr>\n",
       "      <th>8</th>\n",
       "      <td>MR401</td>\n",
       "      <td>195.039601</td>\n",
       "    </tr>\n",
       "    <tr>\n",
       "      <th>9</th>\n",
       "      <td>MR601</td>\n",
       "      <td>78.134431</td>\n",
       "    </tr>\n",
       "  </tbody>\n",
       "</table>\n",
       "</div>"
      ],
      "text/plain": [
       "  codigo_MR    monto_pago\n",
       "0     MR301    621.823434\n",
       "1     MR102  18487.292601\n",
       "2     MR203   2825.108559\n",
       "3     MR201   3382.442901\n",
       "4     MR103    233.273250\n",
       "5     MR701    896.859860\n",
       "6     MR101   1495.603503\n",
       "7     MR104    597.981312\n",
       "8     MR401    195.039601\n",
       "9     MR601     78.134431"
      ]
     },
     "execution_count": 33,
     "metadata": {},
     "output_type": "execute_result"
    }
   ],
   "source": [
    "df_pago_costo_directo_parciales_contratista = pd.DataFrame.from_dict(\n",
    "    pago_costo_directo_parciales_contratista, orient=\"index\"\n",
    ")\n",
    "\n",
    "df_pago_costo_directo_parciales_contratista = (\n",
    "    df_pago_costo_directo_parciales_contratista.reset_index().rename(\n",
    "        columns={\"index\": \"codigo_MR\"}\n",
    "    )\n",
    ")\n",
    "\n",
    "df_pago_costo_directo_parciales_contratista = (\n",
    "    df_pago_costo_directo_parciales_contratista.rename(columns={0: \"monto_pago\"})\n",
    ")\n",
    "\n",
    "df_pago_costo_directo_parciales_contratista"
   ]
  },
  {
   "cell_type": "code",
   "execution_count": 34,
   "id": "54e4b2df",
   "metadata": {},
   "outputs": [],
   "source": [
    "sumar_valores = lambda d: sum(d.values())"
   ]
  },
  {
   "cell_type": "code",
   "execution_count": 35,
   "id": "f0e9e62c",
   "metadata": {},
   "outputs": [
    {
     "name": "stdout",
     "output_type": "stream",
     "text": [
      "28813.559450880595\n"
     ]
    }
   ],
   "source": [
    "pago_costo_directo_contratista = sumar_valores(pago_costo_directo_parciales_contratista)\n",
    "print(pago_costo_directo_contratista)"
   ]
  },
  {
   "cell_type": "code",
   "execution_count": 36,
   "id": "bb8bfdc3",
   "metadata": {},
   "outputs": [
    {
     "name": "stdout",
     "output_type": "stream",
     "text": [
      "40800.0\n"
     ]
    }
   ],
   "source": [
    "pago_costo_total_contratista = calculadora_costo_total(pago_costo_directo_contratista,gastos_generales_expediente)\n",
    "print(pago_costo_total_contratista[\"total\"])"
   ]
  },
  {
   "cell_type": "markdown",
   "id": "e03e46f3",
   "metadata": {},
   "source": [
    "#### Validación"
   ]
  },
  {
   "cell_type": "code",
   "execution_count": 37,
   "id": "05b2d4af",
   "metadata": {},
   "outputs": [
    {
     "name": "stdout",
     "output_type": "stream",
     "text": [
      "{'contrato': 40800.0, 'costos_unitarios': 40800.0, 'diferencia_costos': 0.0}\n"
     ]
    }
   ],
   "source": [
    "diferencia_costos = abs(\n",
    "    pago_costo_total_contratista[\"total\"]\n",
    "    - monto_contrato\n",
    ")\n",
    "\n",
    "pprint.pprint(\n",
    "    {\n",
    "        \"diferencia_costos\": diferencia_costos,\n",
    "        \"contrato\": monto_contrato,\n",
    "        \"costos_unitarios\": pago_costo_total_contratista[\"total\"],\n",
    "    }\n",
    ")\n",
    "\n",
    "if diferencia_costos > 1:\n",
    "    raise ValueError(\n",
    "        \"La valorizacion de las actividades presentadas por el contratista no es coherente con lo programado\"\n",
    "    )"
   ]
  },
  {
   "cell_type": "markdown",
   "id": "a7e8ce98",
   "metadata": {},
   "source": [
    "#### Cálculo de cargas de trabajo ejecutadas del contratista"
   ]
  },
  {
   "cell_type": "markdown",
   "id": "8110317f",
   "metadata": {},
   "source": [
    "##### Mes en curso"
   ]
  },
  {
   "cell_type": "code",
   "execution_count": 38,
   "id": "eb258983",
   "metadata": {},
   "outputs": [
    {
     "name": "stdout",
     "output_type": "stream",
     "text": [
      "{'MR101': 0.57,\n",
      " 'MR102': 180.46,\n",
      " 'MR104': 3.33,\n",
      " 'MR201': 813.08,\n",
      " 'MR203': 63.64,\n",
      " 'MR301': 385.19,\n",
      " 'MR601': 4.15,\n",
      " 'MR701': 2}\n"
     ]
    }
   ],
   "source": [
    "cargas_trabajo_contratista_current_month=valorizaciones[str(mes_en_analisis)]['cargas_trabajo_contratista_corregido']\n",
    "pprint.pprint(cargas_trabajo_contratista_current_month)"
   ]
  },
  {
   "cell_type": "markdown",
   "id": "7c13bd42",
   "metadata": {},
   "source": [
    "##### Acumulado"
   ]
  },
  {
   "cell_type": "code",
   "execution_count": 39,
   "id": "941bf599",
   "metadata": {},
   "outputs": [
    {
     "name": "stdout",
     "output_type": "stream",
     "text": [
      "{'MR101': 1.22,\n",
      " 'MR102': 570.46,\n",
      " 'MR104': 3.33,\n",
      " 'MR201': 813.08,\n",
      " 'MR203': 63.64,\n",
      " 'MR301': 1035.19,\n",
      " 'MR601': 4.15,\n",
      " 'MR701': 4.6}\n"
     ]
    }
   ],
   "source": [
    "cargas_trabajo_ejecutadas_acumuladas={}\n",
    "for v in valorizaciones:\n",
    "    if(int(v)<=mes_en_analisis):\n",
    "        cargas_trabajo_ejecutadas_acumuladas=sumar_dicts(cargas_trabajo_ejecutadas_acumuladas,valorizaciones[v]['cargas_trabajo_contratista_corregido'])\n",
    "\n",
    "pprint.pprint(cargas_trabajo_ejecutadas_acumuladas)"
   ]
  },
  {
   "cell_type": "markdown",
   "id": "60864baa",
   "metadata": {},
   "source": [
    "#### Cálculo de cargas de trabajo programadas"
   ]
  },
  {
   "cell_type": "markdown",
   "id": "ad1e9ad6",
   "metadata": {},
   "source": [
    "##### Mes en curso"
   ]
  },
  {
   "cell_type": "code",
   "execution_count": 40,
   "id": "76718d75",
   "metadata": {},
   "outputs": [
    {
     "name": "stdout",
     "output_type": "stream",
     "text": [
      "{'MR101': 0.5739130434782609,\n",
      " 'MR102': 180.45871559633028,\n",
      " 'MR103': 0.0,\n",
      " 'MR104': 3.33375,\n",
      " 'MR201': 769.2307692307692,\n",
      " 'MR202': 0.0,\n",
      " 'MR203': 63.63636363636364,\n",
      " 'MR204': 0.0,\n",
      " 'MR205': 0.0,\n",
      " 'MR206': 0.0,\n",
      " 'MR301': 385.18555555555554,\n",
      " 'MR401': 3.3325,\n",
      " 'MR501': 0.0,\n",
      " 'MR601': 0.0,\n",
      " 'MR701': 2.0,\n",
      " 'MR702': 0.0}\n"
     ]
    }
   ],
   "source": [
    "cargas_trabajo_programadas_current_month = cargas_trabajo_programadas_anualmente[f\"2025-{mes_en_analisis:02d}\"].to_dict()\n",
    "pprint.pprint(cargas_trabajo_programadas_current_month)"
   ]
  },
  {
   "cell_type": "markdown",
   "id": "bb649bc5",
   "metadata": {},
   "source": [
    "##### Acumulado"
   ]
  },
  {
   "cell_type": "code",
   "execution_count": 41,
   "id": "7ae33cf7",
   "metadata": {},
   "outputs": [],
   "source": [
    "cargas_trabajo_programadas_anualmente.drop(columns=['TOTAL'], inplace=True)"
   ]
  },
  {
   "cell_type": "code",
   "execution_count": 42,
   "id": "d6a4632b",
   "metadata": {},
   "outputs": [
    {
     "name": "stdout",
     "output_type": "stream",
     "text": [
      "{4: {'MR101': 0.19130434782608696,\n",
      "     'MR102': 116.00917431192661,\n",
      "     'MR103': 0.0,\n",
      "     'MR104': 3.33375,\n",
      "     'MR201': 461.53846153846155,\n",
      "     'MR202': 0.0,\n",
      "     'MR203': 38.18181818181818,\n",
      "     'MR204': 0.0,\n",
      "     'MR205': 0.0,\n",
      "     'MR206': 0.0,\n",
      "     'MR301': 385.18555555555554,\n",
      "     'MR401': 0.0,\n",
      "     'MR501': 0.0,\n",
      "     'MR601': 0.0,\n",
      "     'MR701': 2.0,\n",
      "     'MR702': 0.0},\n",
      " 5: {'MR101': 0.5739130434782609,\n",
      "     'MR102': 180.45871559633028,\n",
      "     'MR103': 0.0,\n",
      "     'MR104': 3.33375,\n",
      "     'MR201': 769.2307692307692,\n",
      "     'MR202': 0.0,\n",
      "     'MR203': 63.63636363636364,\n",
      "     'MR204': 0.0,\n",
      "     'MR205': 0.0,\n",
      "     'MR206': 0.0,\n",
      "     'MR301': 385.18555555555554,\n",
      "     'MR401': 3.3325,\n",
      "     'MR501': 0.0,\n",
      "     'MR601': 0.0,\n",
      "     'MR701': 2.0,\n",
      "     'MR702': 0.0},\n",
      " 6: {'MR101': 0.5739130434782609,\n",
      "     'MR102': 180.45871559633028,\n",
      "     'MR103': 2.8899999999999997,\n",
      "     'MR104': 3.33375,\n",
      "     'MR201': 769.2307692307692,\n",
      "     'MR202': 0.0,\n",
      "     'MR203': 50.909090909090914,\n",
      "     'MR204': 0.0,\n",
      "     'MR205': 0.0,\n",
      "     'MR206': 0.0,\n",
      "     'MR301': 385.18555555555554,\n",
      "     'MR401': 0.0,\n",
      "     'MR501': 0.0,\n",
      "     'MR601': 0.0,\n",
      "     'MR701': 2.0,\n",
      "     'MR702': 0.0},\n",
      " 7: {'MR101': 0.5739130434782609,\n",
      "     'MR102': 180.45871559633028,\n",
      "     'MR103': 0.0,\n",
      "     'MR104': 3.33375,\n",
      "     'MR201': 769.2307692307692,\n",
      "     'MR202': 0.0,\n",
      "     'MR203': 50.909090909090914,\n",
      "     'MR204': 0.0,\n",
      "     'MR205': 0.0,\n",
      "     'MR206': 0.0,\n",
      "     'MR301': 385.18555555555554,\n",
      "     'MR401': 3.3325,\n",
      "     'MR501': 0.0,\n",
      "     'MR601': 7.26,\n",
      "     'MR701': 2.0,\n",
      "     'MR702': 0.0},\n",
      " 8: {'MR101': 0.5739130434782609,\n",
      "     'MR102': 180.45871559633028,\n",
      "     'MR103': 0.0,\n",
      "     'MR104': 3.33375,\n",
      "     'MR201': 769.2307692307692,\n",
      "     'MR202': 0.0,\n",
      "     'MR203': 50.909090909090914,\n",
      "     'MR204': 0.0,\n",
      "     'MR205': 0.0,\n",
      "     'MR206': 0.0,\n",
      "     'MR301': 385.18555555555554,\n",
      "     'MR401': 3.3325,\n",
      "     'MR501': 0.0,\n",
      "     'MR601': 7.26,\n",
      "     'MR701': 2.0,\n",
      "     'MR702': 0.0},\n",
      " 9: {'MR101': 0.5739130434782609,\n",
      "     'MR102': 167.56880733944956,\n",
      "     'MR103': 2.8899999999999997,\n",
      "     'MR104': 3.33375,\n",
      "     'MR201': 769.2307692307692,\n",
      "     'MR202': 0.0,\n",
      "     'MR203': 50.909090909090914,\n",
      "     'MR204': 0.0,\n",
      "     'MR205': 0.0,\n",
      "     'MR206': 0.0,\n",
      "     'MR301': 385.18555555555554,\n",
      "     'MR401': 0.0,\n",
      "     'MR501': 0.0,\n",
      "     'MR601': 7.26,\n",
      "     'MR701': 2.0,\n",
      "     'MR702': 0.0},\n",
      " 10: {'MR101': 0.5739130434782609,\n",
      "      'MR102': 180.45871559633028,\n",
      "      'MR103': 0.0,\n",
      "      'MR104': 3.33375,\n",
      "      'MR201': 769.2307692307692,\n",
      "      'MR202': 0.0,\n",
      "      'MR203': 50.909090909090914,\n",
      "      'MR204': 0.0,\n",
      "      'MR205': 0.0,\n",
      "      'MR206': 0.0,\n",
      "      'MR301': 385.18555555555554,\n",
      "      'MR401': 3.3325,\n",
      "      'MR501': 0.0,\n",
      "      'MR601': 7.26,\n",
      "      'MR701': 2.0,\n",
      "      'MR702': 0.0},\n",
      " 11: {'MR101': 0.5739130434782609,\n",
      "      'MR102': 180.45871559633028,\n",
      "      'MR103': 2.8899999999999997,\n",
      "      'MR104': 3.33375,\n",
      "      'MR201': 769.2307692307692,\n",
      "      'MR202': 0.0,\n",
      "      'MR203': 50.909090909090914,\n",
      "      'MR204': 0.0,\n",
      "      'MR205': 0.0,\n",
      "      'MR206': 0.0,\n",
      "      'MR301': 385.18555555555554,\n",
      "      'MR401': 0.0,\n",
      "      'MR501': 0.0,\n",
      "      'MR601': 0.0,\n",
      "      'MR701': 2.0,\n",
      "      'MR702': 0.0},\n",
      " 12: {'MR101': 0.19130434782608696,\n",
      "      'MR102': 38.669724770642205,\n",
      "      'MR103': 0.0,\n",
      "      'MR104': 0.0,\n",
      "      'MR201': 153.84615384615384,\n",
      "      'MR202': 0.0,\n",
      "      'MR203': 12.727272727272728,\n",
      "      'MR204': 0.0,\n",
      "      'MR205': 0.0,\n",
      "      'MR206': 0.0,\n",
      "      'MR301': 385.18555555555554,\n",
      "      'MR401': 0.0,\n",
      "      'MR501': 0.0,\n",
      "      'MR601': 0.0,\n",
      "      'MR701': 0.0,\n",
      "      'MR702': 0.0}}\n"
     ]
    }
   ],
   "source": [
    "# Asumiendo que tu dataframe se llama 'df'\n",
    "cargas_trabajo_programadas_anualmente_dict = {}\n",
    "\n",
    "# Iterar por las columnas del dataframe (excluyendo la columna 'codigo' si existe)\n",
    "for columna in cargas_trabajo_programadas_anualmente.columns:\n",
    "    if columna != 'codigo':  # Excluir la columna de códigos\n",
    "        # Extraer el mes de la columna (formato \"2025-MM\")\n",
    "        mes = int(columna.split('-')[1])  # Esto convierte \"04\" a 4, \"12\" a 12\n",
    "        \n",
    "        # Crear el diccionario interno para este mes\n",
    "        cargas_trabajo_programadas_anualmente_dict[mes] = {}\n",
    "        \n",
    "        # Llenar el diccionario con los códigos y valores\n",
    "        for codigo in cargas_trabajo_programadas_anualmente.index:  # Asumiendo que 'codigo' es el índice\n",
    "            cargas_trabajo_programadas_anualmente_dict[mes][codigo] = float(cargas_trabajo_programadas_anualmente.loc[codigo, columna])\n",
    "\n",
    "pprint.pprint(cargas_trabajo_programadas_anualmente_dict)"
   ]
  },
  {
   "cell_type": "code",
   "execution_count": 43,
   "id": "fa397e5b",
   "metadata": {},
   "outputs": [
    {
     "name": "stdout",
     "output_type": "stream",
     "text": [
      "{'MR101': 0.7652173913043478,\n",
      " 'MR102': 296.4678899082569,\n",
      " 'MR103': 0.0,\n",
      " 'MR104': 6.6675,\n",
      " 'MR201': 1230.7692307692307,\n",
      " 'MR202': 0.0,\n",
      " 'MR203': 101.81818181818181,\n",
      " 'MR204': 0.0,\n",
      " 'MR205': 0.0,\n",
      " 'MR206': 0.0,\n",
      " 'MR301': 770.3711111111111,\n",
      " 'MR401': 3.3325,\n",
      " 'MR501': 0.0,\n",
      " 'MR601': 0.0,\n",
      " 'MR701': 4.0,\n",
      " 'MR702': 0.0}\n"
     ]
    }
   ],
   "source": [
    "cargas_trabajo_programadas_acumuladas={}\n",
    "\n",
    "for v in cargas_trabajo_programadas_anualmente_dict:\n",
    "    if(int(v)<=mes_en_analisis):\n",
    "        cargas_trabajo_programadas_acumuladas=sumar_dicts(cargas_trabajo_programadas_acumuladas,cargas_trabajo_programadas_anualmente_dict[v])\n",
    "\n",
    "pprint.pprint(cargas_trabajo_programadas_acumuladas)"
   ]
  },
  {
   "cell_type": "markdown",
   "id": "9770fe29",
   "metadata": {},
   "source": [
    "#### Avance valorizado ejecutado"
   ]
  },
  {
   "cell_type": "markdown",
   "id": "8ee89f69",
   "metadata": {},
   "source": [
    "##### Mensual"
   ]
  },
  {
   "cell_type": "code",
   "execution_count": 44,
   "id": "0027d29d",
   "metadata": {},
   "outputs": [
    {
     "name": "stdout",
     "output_type": "stream",
     "text": [
      "{'MR101': 193.74863555458978,\n",
      " 'MR102': 2374.5315464803275,\n",
      " 'MR103': 0.0,\n",
      " 'MR104': 74.66358334453362,\n",
      " 'MR201': 458.36611226323976,\n",
      " 'MR203': 428.0712111753261,\n",
      " 'MR301': 69.09228989424842,\n",
      " 'MR401': 0.0,\n",
      " 'MR601': 11.165905256930253,\n",
      " 'MR701': 112.10748249929973}\n"
     ]
    }
   ],
   "source": [
    "avance_valorizado_ejecutado=calcular_costos_unitarios_v2(dict_precios_unitarios_actualizados=dict_precios_unitarios_actualizados,cargas_trabajo=cargas_trabajo_contratista_current_month)\n",
    "\n",
    "pprint.pprint(avance_valorizado_ejecutado)"
   ]
  },
  {
   "cell_type": "code",
   "execution_count": 45,
   "id": "b7c87464",
   "metadata": {},
   "outputs": [
    {
     "name": "stdout",
     "output_type": "stream",
     "text": [
      "3721.746766468495\n"
     ]
    }
   ],
   "source": [
    "sumar_valores = lambda d: sum(d.values())\n",
    "costo_directo_avance_valorizado_ejecutado=sumar_valores(avance_valorizado_ejecutado)\n",
    "print(costo_directo_avance_valorizado_ejecutado)"
   ]
  },
  {
   "cell_type": "code",
   "execution_count": 46,
   "id": "b35674fa",
   "metadata": {},
   "outputs": [
    {
     "name": "stdout",
     "output_type": "stream",
     "text": [
      "5270.0\n"
     ]
    }
   ],
   "source": [
    "costo_total_avance_valorizado_ejecutado = calculadora_costo_total(costo_directo_avance_valorizado_ejecutado,gastos_generales_expediente)\n",
    "print(costo_total_avance_valorizado_ejecutado[\"total\"])"
   ]
  },
  {
   "cell_type": "markdown",
   "id": "aba144f9",
   "metadata": {},
   "source": [
    "##### Acumulado"
   ]
  },
  {
   "cell_type": "code",
   "execution_count": 47,
   "id": "13ffdb09",
   "metadata": {},
   "outputs": [
    {
     "name": "stdout",
     "output_type": "stream",
     "text": [
      "{'MR101': 414.6900620642097,\n",
      " 'MR102': 7506.23554253113,\n",
      " 'MR103': 0.0,\n",
      " 'MR104': 74.66358334453362,\n",
      " 'MR201': 458.36611226323976,\n",
      " 'MR203': 428.0712111753261,\n",
      " 'MR301': 185.68407169352017,\n",
      " 'MR401': 0.0,\n",
      " 'MR601': 11.165905256930253,\n",
      " 'MR701': 257.8472097483894}\n"
     ]
    }
   ],
   "source": [
    "avance_valorizado_ejecutado_acumulado=calcular_costos_unitarios_v2(dict_precios_unitarios_actualizados=dict_precios_unitarios_actualizados,cargas_trabajo=cargas_trabajo_ejecutadas_acumuladas)\n",
    "\n",
    "pprint.pprint(avance_valorizado_ejecutado_acumulado)"
   ]
  },
  {
   "cell_type": "code",
   "execution_count": 48,
   "id": "48fd9594",
   "metadata": {},
   "outputs": [
    {
     "name": "stdout",
     "output_type": "stream",
     "text": [
      "9336.72369807728\n"
     ]
    }
   ],
   "source": [
    "sumar_valores = lambda d: sum(d.values())\n",
    "costo_directo_avance_valorizado_ejecutado_acumulado=sumar_valores(avance_valorizado_ejecutado_acumulado)\n",
    "print(costo_directo_avance_valorizado_ejecutado_acumulado)"
   ]
  },
  {
   "cell_type": "code",
   "execution_count": 49,
   "id": "b136d445",
   "metadata": {},
   "outputs": [
    {
     "name": "stdout",
     "output_type": "stream",
     "text": [
      "13220.8\n"
     ]
    }
   ],
   "source": [
    "costo_total_avance_valorizado_ejecutado_acumulado = calculadora_costo_total(costo_directo_avance_valorizado_ejecutado_acumulado,gastos_generales_expediente)\n",
    "print(costo_total_avance_valorizado_ejecutado_acumulado[\"total\"])"
   ]
  },
  {
   "cell_type": "markdown",
   "id": "38369abe",
   "metadata": {},
   "source": [
    "### Avance valorizado programado"
   ]
  },
  {
   "cell_type": "markdown",
   "id": "aa37f446",
   "metadata": {},
   "source": [
    "#### Mensual"
   ]
  },
  {
   "cell_type": "code",
   "execution_count": 50,
   "id": "f6f52f85",
   "metadata": {},
   "outputs": [
    {
     "name": "stdout",
     "output_type": "stream",
     "text": [
      "{'MR101': 193.74863555458978,\n",
      " 'MR102': 2374.5315464803275,\n",
      " 'MR103': 0.0,\n",
      " 'MR104': 74.66358334453362,\n",
      " 'MR201': 458.36611226323976,\n",
      " 'MR203': 428.0712111753261,\n",
      " 'MR301': 69.09228989424842,\n",
      " 'MR401': 0.0,\n",
      " 'MR601': 11.165905256930253,\n",
      " 'MR701': 112.10748249929973}\n"
     ]
    }
   ],
   "source": [
    "avance_valorizado_programado=calcular_costos_unitarios_v2(dict_precios_unitarios_actualizados=dict_precios_unitarios_actualizados,cargas_trabajo=cargas_trabajo_programadas_current_month)\n",
    "\n",
    "pprint.pprint(avance_valorizado_ejecutado)"
   ]
  },
  {
   "cell_type": "code",
   "execution_count": 51,
   "id": "181f5760",
   "metadata": {},
   "outputs": [
    {
     "name": "stdout",
     "output_type": "stream",
     "text": [
      "3735.9931802702217\n"
     ]
    }
   ],
   "source": [
    "sumar_valores = lambda d: sum(d.values())\n",
    "costo_directo_avance_valorizado_programado=sumar_valores(avance_valorizado_programado)\n",
    "print(costo_directo_avance_valorizado_programado)"
   ]
  },
  {
   "cell_type": "code",
   "execution_count": 52,
   "id": "491b0192",
   "metadata": {},
   "outputs": [
    {
     "name": "stdout",
     "output_type": "stream",
     "text": [
      "5290.16\n"
     ]
    }
   ],
   "source": [
    "costo_total_avance_valorizado_programado = calculadora_costo_total(costo_directo_avance_valorizado_programado,gastos_generales_expediente)\n",
    "print(costo_total_avance_valorizado_programado[\"total\"])"
   ]
  },
  {
   "cell_type": "markdown",
   "id": "7a0474be",
   "metadata": {},
   "source": [
    "#### Acumulado"
   ]
  },
  {
   "cell_type": "code",
   "execution_count": 53,
   "id": "ffc1c35b",
   "metadata": {},
   "outputs": [
    {
     "name": "stdout",
     "output_type": "stream",
     "text": [
      "{'MR101': 260.10495696115794,\n",
      " 'MR102': 3900.9883470332084,\n",
      " 'MR103': 0.0,\n",
      " 'MR104': 149.49532791281618,\n",
      " 'MR201': 693.8344411385232,\n",
      " 'MR203': 684.8748021775401,\n",
      " 'MR301': 138.18298537096797,\n",
      " 'MR401': 48.75990031540828,\n",
      " 'MR601': 0.0,\n",
      " 'MR701': 224.21496499859947}\n"
     ]
    }
   ],
   "source": [
    "avance_valorizado_programado_acumulado=calcular_costos_unitarios_v2(dict_precios_unitarios_actualizados=dict_precios_unitarios_actualizados,cargas_trabajo=cargas_trabajo_programadas_acumuladas)\n",
    "\n",
    "pprint.pprint(avance_valorizado_programado_acumulado)"
   ]
  },
  {
   "cell_type": "code",
   "execution_count": 54,
   "id": "56cbc637",
   "metadata": {},
   "outputs": [
    {
     "name": "stdout",
     "output_type": "stream",
     "text": [
      "6100.455725908221\n"
     ]
    }
   ],
   "source": [
    "sumar_valores = lambda d: sum(d.values())\n",
    "costo_directo_avance_valorizado_programado_acumulado=sumar_valores(avance_valorizado_programado_acumulado)\n",
    "print(costo_directo_avance_valorizado_programado_acumulado)"
   ]
  },
  {
   "cell_type": "code",
   "execution_count": 55,
   "id": "13e73689",
   "metadata": {},
   "outputs": [
    {
     "name": "stdout",
     "output_type": "stream",
     "text": [
      "8638.25\n"
     ]
    }
   ],
   "source": [
    "costo_total_avance_valorizado_programado_acumulado = calculadora_costo_total(costo_directo_avance_valorizado_programado_acumulado,gastos_generales_expediente)\n",
    "print(costo_total_avance_valorizado_programado_acumulado[\"total\"])"
   ]
  },
  {
   "cell_type": "markdown",
   "id": "0131ffe6",
   "metadata": {},
   "source": [
    "### Resultados"
   ]
  },
  {
   "cell_type": "code",
   "execution_count": 56,
   "id": "d609a448",
   "metadata": {},
   "outputs": [
    {
     "name": "stdout",
     "output_type": "stream",
     "text": [
      "porcentaje_avance_ejecutado=0.12916666666666668\n",
      "porcentaje_avance_ejecutado_acumulado=0.3240392156862745\n",
      "porcentaje_avance_programado=0.1296607843137255\n",
      "porcentaje_avance_programado_acumulado=0.2117218137254902\n"
     ]
    }
   ],
   "source": [
    "porcentaje_avance_ejecutado = (\n",
    "    costo_total_avance_valorizado_ejecutado[\"total\"] / monto_contrato\n",
    ")\n",
    "porcentaje_avance_ejecutado_acumulado = (\n",
    "    costo_total_avance_valorizado_ejecutado_acumulado[\"total\"] / monto_contrato\n",
    ")\n",
    "porcentaje_avance_programado = (\n",
    "    costo_total_avance_valorizado_programado[\"total\"] / monto_contrato\n",
    ")\n",
    "porcentaje_avance_programado_acumulado = (\n",
    "    costo_total_avance_valorizado_programado_acumulado[\"total\"] / monto_contrato\n",
    ")\n",
    "\n",
    "print(\n",
    "    f\"{porcentaje_avance_ejecutado=}\\n{porcentaje_avance_ejecutado_acumulado=}\\n{porcentaje_avance_programado=}\\n{porcentaje_avance_programado_acumulado=}\"\n",
    ")"
   ]
  },
  {
   "cell_type": "code",
   "execution_count": 57,
   "id": "6b0d200b",
   "metadata": {},
   "outputs": [],
   "source": [
    "data_to_print={\n",
    "    \"porcentaje_avance_ejecutado\":porcentaje_avance_ejecutado,\n",
    "    \"porcentaje_avance_ejecutado_acumulado\":porcentaje_avance_ejecutado_acumulado,\n",
    "    \"porcentaje_avance_programado\":porcentaje_avance_programado,\n",
    "    \"porcentaje_avance_programado_acumulado\":porcentaje_avance_programado_acumulado\n",
    "}"
   ]
  },
  {
   "cell_type": "code",
   "execution_count": 58,
   "id": "5a3caff0",
   "metadata": {},
   "outputs": [],
   "source": [
    "ruta_directorio = os.path.join(\"output\", proyecto, str(mes_en_analisis))\n",
    "ruta_archivo = os.path.join(ruta_directorio, \"cargas_trabajo.json\")\n",
    "\n",
    "# Crear el directorio si no existe\n",
    "os.makedirs(ruta_directorio, exist_ok=True)\n",
    "# Guardar el diccionario en un archivo JSON\n",
    "\n",
    "with open(ruta_archivo, \"w\", encoding=\"utf-8\") as archivo_json:\n",
    "    json.dump(data_to_print, archivo_json, ensure_ascii=False, indent=4)"
   ]
  }
 ],
 "metadata": {
  "kernelspec": {
   "display_name": ".venv",
   "language": "python",
   "name": "python3"
  },
  "language_info": {
   "codemirror_mode": {
    "name": "ipython",
    "version": 3
   },
   "file_extension": ".py",
   "mimetype": "text/x-python",
   "name": "python",
   "nbconvert_exporter": "python",
   "pygments_lexer": "ipython3",
   "version": "3.12.4"
  }
 },
 "nbformat": 4,
 "nbformat_minor": 5
}
